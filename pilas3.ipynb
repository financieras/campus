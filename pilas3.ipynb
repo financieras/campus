{
  "nbformat": 4,
  "nbformat_minor": 0,
  "metadata": {
    "colab": {
      "provenance": [],
      "authorship_tag": "ABX9TyMcT4HXWlqMhnrnAKhIByFk",
      "include_colab_link": true
    },
    "kernelspec": {
      "name": "python3",
      "display_name": "Python 3"
    },
    "language_info": {
      "name": "python"
    }
  },
  "cells": [
    {
      "cell_type": "markdown",
      "metadata": {
        "id": "view-in-github",
        "colab_type": "text"
      },
      "source": [
        "<a href=\"https://colab.research.google.com/github/financieras/test/blob/main/pilas3.ipynb\" target=\"_parent\"><img src=\"https://colab.research.google.com/assets/colab-badge.svg\" alt=\"Open In Colab\"/></a>"
      ]
    },
    {
      "cell_type": "markdown",
      "source": [
        "# Ordenar pilas: ordenes aleatorias"
      ],
      "metadata": {
        "id": "PZ_tbQIjjmyh"
      }
    },
    {
      "cell_type": "code",
      "execution_count": null,
      "metadata": {
        "id": "m3EK6UrejkuO"
      },
      "outputs": [],
      "source": [
        "from random import seed, choice\n",
        "seed()\n",
        "def sa(a,b):\n",
        "    if len(a) > 1: a[0],a[1] = a[1],a[0]\n",
        "    return a,b\n",
        "def sb(a,b):\n",
        "    if len(b) > 1: b[0],b[1] = b[1],b[0]\n",
        "    return a,b\n",
        "def ss(a,b):\n",
        "    sa(a,b)\n",
        "    sb(a,b)\n",
        "    return a,b\n",
        "def pa(a,b):\n",
        "    if len(b) > 0:\n",
        "        a.insert(0, b[0])\n",
        "        b.pop(0)\n",
        "    return a,b\n",
        "def pb(a,b):\n",
        "    if len(a) > 0:\n",
        "        b.insert(0, a[0])\n",
        "        a.pop(0)\n",
        "    return a,b\n",
        "def ra(a,b):\n",
        "    if len(a) > 1: a.append(a.pop(0))\n",
        "    return a,b\n",
        "def rb(a,b):\n",
        "    if len(b) > 1: b.append(b.pop(0))\n",
        "    return a,b\n",
        "def rr(a,b):\n",
        "    ra(a,b)\n",
        "    rb(a,b)\n",
        "    return a,b\n",
        "def rra(a,b):\n",
        "    if len(a) > 1: a.insert(0, a.pop())\n",
        "    return a,b\n",
        "def rrb(a,b):\n",
        "    if len(b) > 1: b.insert(0, b.pop())\n",
        "    return a,b\n",
        "def rrr(a,b):\n",
        "    rra(a,b)\n",
        "    rrb(a,b)\n",
        "    return a,b\n",
        "\n",
        "if __name__ == \"__main__\":\n",
        "    a_original = [5, 10, 7, 2, 9, 4, 3, 6, 1, 8]\n",
        "    b_original = []\n",
        "    a_ordenada = sorted(a_original)\n",
        "    catalogo = [\"sa\",\"sb\",\"pa\",\"pb\",\"ra\",\"rb\",\"rra\",\"rrb\"]  # \"ss\",\"rr\",\"rrr\"\n",
        "    print('\\ta: ', a_original)\n",
        "    print('\\tb: ', b_original)\n",
        "    #mejor_respuesta = [None]*(100+len(a_original)**3)\n",
        "    mejor_respuesta = ['rra', 'rra', 'pb', 'ra', 'ra', 'ra', 'ra', 'pb', 'ra', 'ra', 'pb', 'rra', 'pb', 'sa', 'ra', 'sa', 'pb', 'pb', 'sa', 'pb', 'rra', 'pb', 'sa', 'pa', 'pa', 'pa', 'pa', 'pa', 'pa', 'pa', 'pa']\n",
        "    len_mejor = len(mejor_respuesta)\n",
        "    las_mejores = []\n",
        "    while True:\n",
        "        instrucciones = []\n",
        "        a = a_original[:]\n",
        "        b = b_original[:]\n",
        "        buscando = True\n",
        "        while a != a_ordenada and buscando:\n",
        "            instruccion = choice(catalogo)\n",
        "            instrucciones.append(instruccion)\n",
        "            if len(instrucciones) > len_mejor: buscando = False\n",
        "            if instruccion==\"sa\": sa(a,b)\n",
        "            elif instruccion==\"sb\": sb(a,b)\n",
        "            elif instruccion==\"ss\": ss(a,b)\n",
        "            elif instruccion==\"pa\": pa(a,b)\n",
        "            elif instruccion==\"pb\": pb(a,b)\n",
        "            elif instruccion==\"ra\": ra(a,b)\n",
        "            elif instruccion==\"rb\": rb(a,b)\n",
        "            elif instruccion==\"rr\": rr(a,b)\n",
        "            elif instruccion==\"rra\": rra(a,b)\n",
        "            elif instruccion==\"rrb\": rrb(a,b)\n",
        "            elif instruccion==\"rrr\": rrr(a,b)\n",
        "        #print(\"Las instrucciones:\", instrucciones)\n",
        "        len_mejor = len(mejor_respuesta)\n",
        "        if len(instrucciones) <= len_mejor:\n",
        "            if instrucciones not in las_mejores:\n",
        "                mejor_respuesta = instrucciones\n",
        "                las_mejores.append(mejor_respuesta)\n",
        "                print(\"*\", mejor_respuesta)"
      ]
    }
  ]
}