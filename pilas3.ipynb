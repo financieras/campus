{
  "nbformat": 4,
  "nbformat_minor": 0,
  "metadata": {
    "colab": {
      "provenance": [],
      "authorship_tag": "ABX9TyN6b9VlX6VvPGpOHU6YKwYS",
      "include_colab_link": true
    },
    "kernelspec": {
      "name": "python3",
      "display_name": "Python 3"
    },
    "language_info": {
      "name": "python"
    }
  },
  "cells": [
    {
      "cell_type": "markdown",
      "metadata": {
        "id": "view-in-github",
        "colab_type": "text"
      },
      "source": [
        "<a href=\"https://colab.research.google.com/github/financieras/test/blob/main/pilas3.ipynb\" target=\"_parent\"><img src=\"https://colab.research.google.com/assets/colab-badge.svg\" alt=\"Open In Colab\"/></a>"
      ]
    },
    {
      "cell_type": "markdown",
      "source": [
        "# Ordenar pilas: ordenes aleatorias"
      ],
      "metadata": {
        "id": "PZ_tbQIjjmyh"
      }
    },
    {
      "cell_type": "code",
      "execution_count": 23,
      "metadata": {
        "colab": {
          "base_uri": "https://localhost:8080/"
        },
        "id": "m3EK6UrejkuO",
        "outputId": "23b18b03-3f12-4735-a854-ef4382d115c0"
      },
      "outputs": [
        {
          "output_type": "stream",
          "name": "stdout",
          "text": [
            "\ta:  [3, 2, 1]\n",
            "\tb:  []\n",
            "\ta:  [1, 2, 3]\n",
            "\tb:  []\n",
            "['sb', 'sb', 'sb', 'rra', 'rra', 'rb']\n"
          ]
        }
      ],
      "source": [
        "from random import seed, choice\n",
        "seed()\n",
        "def sa(a,b):\n",
        "    if len(a) > 1: a[0],a[1] = a[1],a[0]\n",
        "    return a,b\n",
        "def sb(a,b):\n",
        "    if len(b) > 1: b[0],b[1] = b[1],b[0]\n",
        "    return a,b\n",
        "def ss(a,b):\n",
        "    sa(a,b)\n",
        "    sb(a,b)\n",
        "    return a,b\n",
        "def pa(a,b):\n",
        "    if len(b) > 0:\n",
        "        a.insert(0, b[0])\n",
        "        b.pop(0)\n",
        "    return a,b\n",
        "def pb(a,b):\n",
        "    if len(a) > 0:\n",
        "        b.insert(0, a[0])\n",
        "        a.pop(0)\n",
        "    return a,b\n",
        "def ra(a,b):\n",
        "    if len(a) > 1: a.append(a.pop(0))\n",
        "    return a,b\n",
        "def rb(a,b):\n",
        "    if len(b) > 1: b.append(b.pop(0))\n",
        "    return a,b\n",
        "def rr(a,b):\n",
        "    ra(a,b)\n",
        "    rb(a,b)\n",
        "    return a,b\n",
        "def rra(a,b):\n",
        "    if len(a) > 1: a.insert(0, a.pop())\n",
        "    return a,b\n",
        "def rrb(a,b):\n",
        "    if len(b) > 1: b.insert(0, b.pop())\n",
        "    return a,b\n",
        "def rrr(a,b):\n",
        "    rra(a,b)\n",
        "    rrb(a,b)\n",
        "    return a,b\n",
        "\n",
        "if __name__ == \"__main__\":\n",
        "    a = [3,2,1]\n",
        "    b = []\n",
        "    a_ordenada = sorted(a)\n",
        "    catalogo = [\"sa\",\"sb\",\"ss\",\"pa\",\"pb\",\"ra\",\"rb\",\"rra\",\"rrb\"]  # \"rr\",\"rrr\"\n",
        "    print('\\ta: ', a)\n",
        "    print('\\tb: ', b)\n",
        "    mejor_respuesta = [None]*len(a)**2\n",
        "    while True:\n",
        "        instrucciones = []\n",
        "        while a != a_ordenada:\n",
        "            instruccion = choice(catalogo)\n",
        "            instrucciones.append(instruccion)\n",
        "            if instruccion==\"sa\": sa(a,b)\n",
        "            elif instruccion==\"sb\": sb(a,b)\n",
        "            elif instruccion==\"ss\": ss(a,b)\n",
        "            elif instruccion==\"pa\": pa(a,b)\n",
        "            elif instruccion==\"pb\": pb(a,b)\n",
        "            elif instruccion==\"ra\": sa(a,b)\n",
        "            elif instruccion==\"rb\": sa(a,b)\n",
        "            elif instruccion==\"rr\": rr(a,b)\n",
        "            elif instruccion==\"rra\": rra(a,b)\n",
        "            elif instruccion==\"rrb\": rrb(a,b)\n",
        "            elif instruccion==\"rrr\": rrr(a,b)\n",
        "        if len(instrucciones) < len(mejor_respuesta):\n",
        "            mejor_respuesta = instrucciones\n",
        "            print(instrucciones)"
      ]
    }
  ]
}