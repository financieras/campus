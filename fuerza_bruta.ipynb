{
  "nbformat": 4,
  "nbformat_minor": 0,
  "metadata": {
    "colab": {
      "name": "fuerza_bruta.ipynb",
      "provenance": [],
      "authorship_tag": "ABX9TyObYqmciMSE2SZTznHfW+z4",
      "include_colab_link": true
    },
    "kernelspec": {
      "name": "python3",
      "display_name": "Python 3"
    },
    "language_info": {
      "name": "python"
    }
  },
  "cells": [
    {
      "cell_type": "markdown",
      "metadata": {
        "id": "view-in-github",
        "colab_type": "text"
      },
      "source": [
        "<a href=\"https://colab.research.google.com/github/financieras/test/blob/main/fuerza_bruta.ipynb\" target=\"_parent\"><img src=\"https://colab.research.google.com/assets/colab-badge.svg\" alt=\"Open In Colab\"/></a>"
      ]
    },
    {
      "cell_type": "markdown",
      "source": [
        "# Generación por fuerza bruta de todas las posibles matrices\n",
        "* Todas las posibles matrices de 4x4 cumplen que:\n",
        " - ningún elemento se puede repetir en su fila\n",
        " - ningún elemento se puede repetir en su columna\n",
        "\n",
        "Algoritmo de fuerza bruta, genera todas las posibles combinaciones aleatoriamente hasta completar todos los casos posibles."
      ],
      "metadata": {
        "id": "BW0zsRhezA_b"
      }
    },
    {
      "cell_type": "code",
      "source": [
        "from random import seed, sample\n",
        "seed()\n",
        "lista = [1,2,3,4]\n",
        "m = []\n",
        "\n",
        "for j in range(4):\n",
        "    candidata = sample(lista, 4)\n",
        "    m.append(candidata)\n",
        "    #if candidata not in\n",
        "\n",
        "print(m)\n",
        "for i in range(4):\n",
        "    print(*m[i])"
      ],
      "metadata": {
        "colab": {
          "base_uri": "https://localhost:8080/"
        },
        "id": "1RT9shKXzhh4",
        "outputId": "a9d90761-3d33-4ed2-cc5c-bb54de4c77d0"
      },
      "execution_count": null,
      "outputs": [
        {
          "output_type": "stream",
          "name": "stdout",
          "text": [
            "[[4, 1, 2, 3], [4, 3, 1, 2], [4, 3, 2, 1], [2, 4, 1, 3]]\n",
            "4 1 2 3\n",
            "4 3 1 2\n",
            "4 3 2 1\n",
            "2 4 1 3\n"
          ]
        }
      ]
    },
    {
      "cell_type": "code",
      "source": [
        "from random import seed, sample\n",
        "seed()\n",
        "lista = [1,2,3,4]\n",
        "m = []\n",
        "filas = 0\n",
        "for j in range(4):\n",
        "    candidata = sample(lista, 4)\n",
        "    if filas == 0:\n",
        "        m.append(candidata)\n",
        "        filas += 1\n",
        "    else:\n",
        "        cumple = True\n",
        "        for k in range(filas):\n",
        "            if not(candidata[0] != m[k][0] and candidata[1] != m[k][1] and candidata[2] != m[k][2] and candidata[3] != m[k][3]):\n",
        "                cumple = False\n",
        "        if cumple:\n",
        "            m.append(candidata)\n",
        "            filas += 1\n",
        "\n",
        "\n",
        "    #if candidata not in\n",
        "\n",
        "print(m)\n",
        "for i in range(4):\n",
        "    print(*m[i])\n"
      ],
      "metadata": {
        "id": "DCYU4Oe-5WZr",
        "outputId": "55f3ae79-b8c9-4543-8135-9ec16bc88ebf",
        "colab": {
          "base_uri": "https://localhost:8080/",
          "height": 257
        }
      },
      "execution_count": null,
      "outputs": [
        {
          "output_type": "stream",
          "name": "stdout",
          "text": [
            "[[3, 4, 1, 2], [4, 1, 2, 3]]\n",
            "3 4 1 2\n",
            "4 1 2 3\n"
          ]
        },
        {
          "output_type": "error",
          "ename": "IndexError",
          "evalue": "ignored",
          "traceback": [
            "\u001b[0;31m---------------------------------------------------------------------------\u001b[0m",
            "\u001b[0;31mIndexError\u001b[0m                                Traceback (most recent call last)",
            "\u001b[0;32m<ipython-input-2-d0db8f6b4ca8>\u001b[0m in \u001b[0;36m<module>\u001b[0;34m()\u001b[0m\n\u001b[1;32m     23\u001b[0m \u001b[0mprint\u001b[0m\u001b[0;34m(\u001b[0m\u001b[0mm\u001b[0m\u001b[0;34m)\u001b[0m\u001b[0;34m\u001b[0m\u001b[0;34m\u001b[0m\u001b[0m\n\u001b[1;32m     24\u001b[0m \u001b[0;32mfor\u001b[0m \u001b[0mi\u001b[0m \u001b[0;32min\u001b[0m \u001b[0mrange\u001b[0m\u001b[0;34m(\u001b[0m\u001b[0;36m4\u001b[0m\u001b[0;34m)\u001b[0m\u001b[0;34m:\u001b[0m\u001b[0;34m\u001b[0m\u001b[0;34m\u001b[0m\u001b[0m\n\u001b[0;32m---> 25\u001b[0;31m     \u001b[0mprint\u001b[0m\u001b[0;34m(\u001b[0m\u001b[0;34m*\u001b[0m\u001b[0mm\u001b[0m\u001b[0;34m[\u001b[0m\u001b[0mi\u001b[0m\u001b[0;34m]\u001b[0m\u001b[0;34m)\u001b[0m\u001b[0;34m\u001b[0m\u001b[0;34m\u001b[0m\u001b[0m\n\u001b[0m",
            "\u001b[0;31mIndexError\u001b[0m: list index out of range"
          ]
        }
      ]
    },
    {
      "cell_type": "code",
      "source": [
        "# Generamos aleatoriamente cada uno de los 16 valores de la matriz 4x4 y evitamos repeticiones de fila y columna\n",
        "from random import seed, randint\n",
        "seed()\n",
        "#m = [[0*4] for _ in range(4)]\n",
        "m16 = []\n",
        "\n",
        "for j in range(16):\n",
        "    rnd = randint(1,4)\n"
      ],
      "metadata": {
        "id": "n7Brx1XQ3usN"
      },
      "execution_count": null,
      "outputs": []
    },
    {
      "cell_type": "markdown",
      "source": [
        "## Siguieno el procedimiento manual"
      ],
      "metadata": {
        "id": "lhGMG7GAwBA-"
      }
    },
    {
      "cell_type": "code",
      "source": [
        "from random import seed, randint\n",
        "seed()\n",
        "\n",
        "def t(m):   # transpuesta de m de dimensión filas x columnas = len(m) x len(m[0])\n",
        "    t = [[None]*len(m) for _ in range(len(m[0]))]\n",
        "    for i in range(len(m)):          # columnas\n",
        "        for j in range(len(m[0])):   # filas\n",
        "            t[j][i] =  m[i][j]\n",
        "    return t\n",
        "\n",
        "def matrizunica():\n",
        "    m = [[0]*4 for _ in range(4)]   # inicializamos m con ceros, dimensión 4x4 \n",
        "    for c in range(4):       # columnas\n",
        "        for f in range(4):   # filas\n",
        "            if c==0 and f==0:\n",
        "                m[0][0] = randint(1,4)   # el 1º nunca se repite por ser el 1º\n",
        "            else:\n",
        "                trabajando = True\n",
        "                while trabajando:\n",
        "                    r = randint(1,4)\n",
        "                    if r not in m[0] and r not in t(m)[0]:\n",
        "                        m[0][1] = r\n",
        "                        trabajando = False\n",
        "    return m\n",
        "\n",
        "#for i in range(4):\n",
        "#    print(*m[i])\n",
        "\n",
        "if __name__ == \"__main__\":\n",
        "    for i in range(100000):\n",
        "        m=matrizunica()\n",
        "        if m[0][1]==0:\n",
        "            print(m)"
      ],
      "metadata": {
        "id": "ZGI14voWwGIf"
      },
      "execution_count": 31,
      "outputs": []
    },
    {
      "cell_type": "code",
      "source": [
        "from random import seed, randint\n",
        "seed()\n",
        "\n",
        "def t(m):   # transpuesta de m de dimensión filas x columnas = len(m) x len(m[0])\n",
        "    t = [[None]*len(m) for _ in range(len(m[0]))]\n",
        "    for i in range(len(m)):          # columnas\n",
        "        for j in range(len(m[0])):   # filas\n",
        "            t[j][i] =  m[i][j]\n",
        "    return t\n",
        "\n",
        "def matriz_unica():\n",
        "    m = [[0]*4 for _ in range(4)]   # inicializamos m con ceros, dimensión 4x4 \n",
        "    for c in range(4):       # columnas\n",
        "        for f in range(4):   # filas\n",
        "            if c==0 and f==0:\n",
        "                m[0][0] = randint(1,4)   # el 1º nunca se repite por ser el 1º\n",
        "            else:\n",
        "                trabajando = True\n",
        "                while trabajando:\n",
        "                    r = randint(1,4)\n",
        "                    if r not in m[f] and r not in t(m)[c]:\n",
        "                        m[f][c] = r\n",
        "                        trabajando = False\n",
        "    return m\n",
        "\n",
        "def comprueba(m):\n",
        "    for i in range(len(m)):          # columnas\n",
        "        for j in range(len(m[0])):   # filas\n",
        "            if m[i].count(m[i][j]) != 1: return False\n",
        "            elif t(m)[j].count(m[i][j]) != 1: return False\n",
        "    return True\n",
        "\n",
        "\n",
        "if __name__ == \"__main__\":\n",
        "    m = matriz_unica()\n",
        "    print(m,\"\\n\")\n",
        "    for i in range(4):\n",
        "        print(*m[i])"
      ],
      "metadata": {
        "id": "87ddA9x2DePL",
        "outputId": "d1076ec3-550e-4d60-a5c2-2d9ddcf6122d",
        "colab": {
          "base_uri": "https://localhost:8080/"
        }
      },
      "execution_count": 62,
      "outputs": [
        {
          "output_type": "stream",
          "name": "stdout",
          "text": [
            "[[4, 3, 2, 1], [2, 1, 4, 3], [1, 4, 3, 2], [3, 2, 1, 4]] \n",
            "\n",
            "4 3 2 1\n",
            "2 1 4 3\n",
            "1 4 3 2\n",
            "3 2 1 4\n"
          ]
        }
      ]
    },
    {
      "cell_type": "code",
      "source": [
        ""
      ],
      "metadata": {
        "id": "---7XLhGK6jk"
      },
      "execution_count": null,
      "outputs": []
    }
  ]
}