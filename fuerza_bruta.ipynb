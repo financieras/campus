{
  "nbformat": 4,
  "nbformat_minor": 0,
  "metadata": {
    "colab": {
      "name": "fuerza_bruta.ipynb",
      "provenance": [],
      "authorship_tag": "ABX9TyMdp0eMxekZ7u4zrHHnXAMv",
      "include_colab_link": true
    },
    "kernelspec": {
      "name": "python3",
      "display_name": "Python 3"
    },
    "language_info": {
      "name": "python"
    }
  },
  "cells": [
    {
      "cell_type": "markdown",
      "metadata": {
        "id": "view-in-github",
        "colab_type": "text"
      },
      "source": [
        "<a href=\"https://colab.research.google.com/github/financieras/test/blob/main/fuerza_bruta.ipynb\" target=\"_parent\"><img src=\"https://colab.research.google.com/assets/colab-badge.svg\" alt=\"Open In Colab\"/></a>"
      ]
    },
    {
      "cell_type": "markdown",
      "source": [
        "# Generación por fuerza bruta de todas las posibles matrices\n",
        "* Todas las posibles matrices de 4x4 cumplen que:\n",
        " - ningún elemento se puede repetir en su fila\n",
        " - ningún elemento se puede repetir en su columna\n",
        "\n",
        "Algoritmo de fuerza bruta, genera todas las posibles combinaciones aleatoriamente hasta completar todos los casos posibles."
      ],
      "metadata": {
        "id": "BW0zsRhezA_b"
      }
    },
    {
      "cell_type": "code",
      "source": [
        "from random import seed, sample\n",
        "seed()\n",
        "lista = [1,2,3,4]\n",
        "m = []\n",
        "\n",
        "for j in range(4):\n",
        "    candidata = sample(lista, 4)\n",
        "    m.append(candidata)\n",
        "    #if candidata not in\n",
        "\n",
        "print(m)\n",
        "for i in range(4):\n",
        "    print(*m[i])"
      ],
      "metadata": {
        "colab": {
          "base_uri": "https://localhost:8080/"
        },
        "id": "1RT9shKXzhh4",
        "outputId": "a9d90761-3d33-4ed2-cc5c-bb54de4c77d0"
      },
      "execution_count": null,
      "outputs": [
        {
          "output_type": "stream",
          "name": "stdout",
          "text": [
            "[[4, 1, 2, 3], [4, 3, 1, 2], [4, 3, 2, 1], [2, 4, 1, 3]]\n",
            "4 1 2 3\n",
            "4 3 1 2\n",
            "4 3 2 1\n",
            "2 4 1 3\n"
          ]
        }
      ]
    },
    {
      "cell_type": "code",
      "source": [
        "from random import seed, sample\n",
        "seed()\n",
        "lista = [1,2,3,4]\n",
        "m = []\n",
        "filas = 0\n",
        "for j in range(4):\n",
        "    candidata = sample(lista, 4)\n",
        "    if filas == 0:\n",
        "        m.append(candidata)\n",
        "        filas += 1\n",
        "    else:\n",
        "        cumple = True\n",
        "        for k in range(filas):\n",
        "            if not(candidata[0] != m[k][0] and candidata[1] != m[k][1] and candidata[2] != m[k][2] and candidata[3] != m[k][3]):\n",
        "                cumple = False\n",
        "        if cumple:\n",
        "            m.append(candidata)\n",
        "            filas += 1\n",
        "\n",
        "\n",
        "    #if candidata not in\n",
        "\n",
        "print(m)\n",
        "for i in range(4):\n",
        "    print(*m[i])\n"
      ],
      "metadata": {
        "id": "DCYU4Oe-5WZr",
        "outputId": "55f3ae79-b8c9-4543-8135-9ec16bc88ebf",
        "colab": {
          "base_uri": "https://localhost:8080/",
          "height": 257
        }
      },
      "execution_count": 2,
      "outputs": [
        {
          "output_type": "stream",
          "name": "stdout",
          "text": [
            "[[3, 4, 1, 2], [4, 1, 2, 3]]\n",
            "3 4 1 2\n",
            "4 1 2 3\n"
          ]
        },
        {
          "output_type": "error",
          "ename": "IndexError",
          "evalue": "ignored",
          "traceback": [
            "\u001b[0;31m---------------------------------------------------------------------------\u001b[0m",
            "\u001b[0;31mIndexError\u001b[0m                                Traceback (most recent call last)",
            "\u001b[0;32m<ipython-input-2-d0db8f6b4ca8>\u001b[0m in \u001b[0;36m<module>\u001b[0;34m()\u001b[0m\n\u001b[1;32m     23\u001b[0m \u001b[0mprint\u001b[0m\u001b[0;34m(\u001b[0m\u001b[0mm\u001b[0m\u001b[0;34m)\u001b[0m\u001b[0;34m\u001b[0m\u001b[0;34m\u001b[0m\u001b[0m\n\u001b[1;32m     24\u001b[0m \u001b[0;32mfor\u001b[0m \u001b[0mi\u001b[0m \u001b[0;32min\u001b[0m \u001b[0mrange\u001b[0m\u001b[0;34m(\u001b[0m\u001b[0;36m4\u001b[0m\u001b[0;34m)\u001b[0m\u001b[0;34m:\u001b[0m\u001b[0;34m\u001b[0m\u001b[0;34m\u001b[0m\u001b[0m\n\u001b[0;32m---> 25\u001b[0;31m     \u001b[0mprint\u001b[0m\u001b[0;34m(\u001b[0m\u001b[0;34m*\u001b[0m\u001b[0mm\u001b[0m\u001b[0;34m[\u001b[0m\u001b[0mi\u001b[0m\u001b[0;34m]\u001b[0m\u001b[0;34m)\u001b[0m\u001b[0;34m\u001b[0m\u001b[0;34m\u001b[0m\u001b[0m\n\u001b[0m",
            "\u001b[0;31mIndexError\u001b[0m: list index out of range"
          ]
        }
      ]
    },
    {
      "cell_type": "code",
      "source": [
        "# Generamos aleatoriamente cada uno de los 16 valores de la matriz 4x4 y evitamos repeticiones de fila y columna\n",
        "from random import seed, randint\n",
        "seed()\n",
        "#m = [[0*4] for _ in range(4)]\n",
        "m16 = []\n",
        "\n",
        "for j in range(16):\n",
        "    rnd = randint(1,4)\n"
      ],
      "metadata": {
        "id": "n7Brx1XQ3usN"
      },
      "execution_count": 1,
      "outputs": []
    }
  ]
}