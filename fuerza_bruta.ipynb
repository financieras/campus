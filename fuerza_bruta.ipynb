{
  "nbformat": 4,
  "nbformat_minor": 0,
  "metadata": {
    "colab": {
      "name": "fuerza_bruta.ipynb",
      "provenance": [],
      "authorship_tag": "ABX9TyP/swJV9lcR6/S+CwZbP7Ls",
      "include_colab_link": true
    },
    "kernelspec": {
      "name": "python3",
      "display_name": "Python 3"
    },
    "language_info": {
      "name": "python"
    }
  },
  "cells": [
    {
      "cell_type": "markdown",
      "metadata": {
        "id": "view-in-github",
        "colab_type": "text"
      },
      "source": [
        "<a href=\"https://colab.research.google.com/github/financieras/test/blob/main/fuerza_bruta.ipynb\" target=\"_parent\"><img src=\"https://colab.research.google.com/assets/colab-badge.svg\" alt=\"Open In Colab\"/></a>"
      ]
    },
    {
      "cell_type": "markdown",
      "source": [
        "# Generación por fuerza bruta de todas las posibles matrices\n",
        "* Todas las posibles matrices de 4x4 cumplen que:\n",
        " - ningún elemento se puede repetir en su fila\n",
        " - ningún elemento se puede repetir en su columna\n",
        "\n",
        "Algoritmo de fuerza bruta, genera todas las posibles combinaciones aleatoriamente hasta completar todos los casos posibles."
      ],
      "metadata": {
        "id": "BW0zsRhezA_b"
      }
    },
    {
      "cell_type": "code",
      "source": [
        "from random import seed, sample\n",
        "seed()\n",
        "lista = [1,2,3,4]\n",
        "\n",
        "m = []\n",
        "\n",
        "for j in range(4):\n",
        "    candidata = sample(lista, 4)\n",
        "    m.append(candidata)\n",
        "    #if candidata not in\n",
        "\n",
        "print(m)\n",
        "for i in range(4):\n",
        "    print(*m[i])"
      ],
      "metadata": {
        "colab": {
          "base_uri": "https://localhost:8080/"
        },
        "id": "1RT9shKXzhh4",
        "outputId": "a9d90761-3d33-4ed2-cc5c-bb54de4c77d0"
      },
      "execution_count": 12,
      "outputs": [
        {
          "output_type": "stream",
          "name": "stdout",
          "text": [
            "[[4, 1, 2, 3], [4, 3, 1, 2], [4, 3, 2, 1], [2, 4, 1, 3]]\n",
            "4 1 2 3\n",
            "4 3 1 2\n",
            "4 3 2 1\n",
            "2 4 1 3\n"
          ]
        }
      ]
    }
  ]
}