{
  "nbformat": 4,
  "nbformat_minor": 0,
  "metadata": {
    "colab": {
      "name": "fuerza_bruta.ipynb",
      "provenance": [],
      "authorship_tag": "ABX9TyOvURtTS2mhF341TTjGybWm",
      "include_colab_link": true
    },
    "kernelspec": {
      "name": "python3",
      "display_name": "Python 3"
    },
    "language_info": {
      "name": "python"
    }
  },
  "cells": [
    {
      "cell_type": "markdown",
      "metadata": {
        "id": "view-in-github",
        "colab_type": "text"
      },
      "source": [
        "<a href=\"https://colab.research.google.com/github/financieras/test/blob/main/fuerza_bruta.ipynb\" target=\"_parent\"><img src=\"https://colab.research.google.com/assets/colab-badge.svg\" alt=\"Open In Colab\"/></a>"
      ]
    },
    {
      "cell_type": "markdown",
      "source": [
        "# Generación por fuerza bruta de todas las posibles matrices\n",
        "* Cada matriz generada de dimensión 4x4 cumplen que:\n",
        " - ningún elemento se puede repetir en su fila\n",
        " - ningún elemento se puede repetir en su columna\n",
        "\n",
        "El número de posibles filas (o columnas) diferentes son las permutaciones de 4 elementos [1,2,3,4] que son $4! = 4*3*2*1 = 24$.\n",
        "\n",
        "El número de posibles matrices que cumplen el criterio son 576, valor que se obtiene multiplicando 24 por 24:\n",
        "$$4! * 4! = 24*24 = 576$$"
      ],
      "metadata": {
        "id": "BW0zsRhezA_b"
      }
    },
    {
      "cell_type": "markdown",
      "source": [
        "## Siguieno el procedimiento manual\n",
        "* Inicializamos la matriz m con ceros, de dimensión 4x4\n",
        "* El primer elemento m[0][0] es un número aleatorio cualquiera entre 1 y 4\n",
        "* Por ser el primero, no es necesario comprobar si está ya elegido o no\n",
        "* Para el resto de posiciones de la matriz se ha de comprobar que el número no se repita:\n",
        " - en su fila ni\n",
        " - en su columna (para comprobar la columna ha sido necesario calcular la transpuesta)\n",
        "* Se comprueba la matriz\n",
        "* En algunos casos la aleatoriedad nos lleva a una matriz imposible. Por los números que se han ido eligiendo, se llega a un callejón sin salida y se ha de comenzar de nuevo, eligiendo desde el principio. (bandera: buscando)\n",
        "* Finalmente se retorna la matriz m que cumple la no repetición de números por fila ni por columna."
      ],
      "metadata": {
        "id": "lhGMG7GAwBA-"
      }
    },
    {
      "cell_type": "code",
      "source": [
        "####  CALCULA UNA MATRIZ SIN REPETICIONES NI POR FILA NI POR COLUMNA  ####\n",
        "from random import seed, randint, sample\n",
        "seed()\n",
        "\n",
        "def t(m):   # transpuesta de m de dimensión filas x columnas = len(m) x len(m[0])\n",
        "    t = [[None]*len(m) for _ in range(len(m[0]))]\n",
        "    for i in range(len(m)):          # columnas\n",
        "        for j in range(len(m[0])):   # filas\n",
        "            t[j][i] =  m[i][j]\n",
        "    return t\n",
        "\n",
        "def comprueba(m):\n",
        "    for i in range(len(m)):          # columnas\n",
        "        for j in range(len(m[0])):   # filas\n",
        "            if m[i].count(m[i][j]) != 1: return False\n",
        "            elif t(m)[j].count(m[i][j]) != 1: return False\n",
        "    return True\n",
        "\n",
        "def matriz_unica():\n",
        "    m = [[0]*4 for _ in range(4)]   # inicializamos m con ceros, dimensión 4x4 \n",
        "    buscando = True\n",
        "    while buscando:\n",
        "        for c in range(4):       # columnas\n",
        "            for f in range(4):   # filas\n",
        "                if f==0 and c==0:\n",
        "                    m[0][0] = randint(1,4)   # el 1º nunca se repite por ser el 1º\n",
        "                else:\n",
        "                    posibles = sample([1,2,3,4], 4)\n",
        "                    trabajando = True\n",
        "                    while len(posibles)>0 and trabajando:\n",
        "                        r = posibles[-1]\n",
        "                        posibles.pop()\n",
        "                        if r not in m[f] and r not in t(m)[c]:\n",
        "                            m[f][c] = r\n",
        "                            trabajando = False\n",
        "        buscando = not comprueba(m)\n",
        "    return m\n",
        "\n",
        "if __name__ == \"__main__\":\n",
        "    m = matriz_unica()\n",
        "    print(m,\"\\n\")\n",
        "    for i in range(4):\n",
        "        print(*m[i])"
      ],
      "metadata": {
        "id": "tacs42HAjB_r",
        "outputId": "a9986834-2ceb-4d03-b5fd-8a5c040fd2c1",
        "colab": {
          "base_uri": "https://localhost:8080/"
        }
      },
      "execution_count": 31,
      "outputs": [
        {
          "output_type": "stream",
          "name": "stdout",
          "text": [
            "[[3, 4, 2, 1], [4, 3, 1, 2], [1, 2, 3, 4], [2, 1, 4, 3]] \n",
            "\n",
            "3 4 2 1\n",
            "4 3 1 2\n",
            "1 2 3 4\n",
            "2 1 4 3\n"
          ]
        }
      ]
    }
  ]
}