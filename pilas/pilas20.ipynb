{
  "nbformat": 4,
  "nbformat_minor": 0,
  "metadata": {
    "colab": {
      "provenance": [],
      "authorship_tag": "ABX9TyPNZNUNMQyYfOLav9zWRuNx",
      "include_colab_link": true
    },
    "kernelspec": {
      "name": "python3",
      "display_name": "Python 3"
    },
    "language_info": {
      "name": "python"
    }
  },
  "cells": [
    {
      "cell_type": "markdown",
      "metadata": {
        "id": "view-in-github",
        "colab_type": "text"
      },
      "source": [
        "<a href=\"https://colab.research.google.com/github/financieras/campus/blob/main/pilas/pilas20.ipynb\" target=\"_parent\"><img src=\"https://colab.research.google.com/assets/colab-badge.svg\" alt=\"Open In Colab\"/></a>"
      ]
    },
    {
      "cell_type": "markdown",
      "source": [
        "# Push Swap método \"Modern Times\"\n",
        "En honor a la película de 1936 de Chaplin."
      ],
      "metadata": {
        "id": "5nI3EW6po_Ec"
      }
    },
    {
      "cell_type": "code",
      "source": [
        "# FUNCIONES\n",
        "\n",
        "def lista_ordenada(lis, orden_inverso=False): # la función da True si ponemos lista_ordenada([4,3,2,1], orden_inverso=True)\n",
        "    ordenada = False\n",
        "    aux = lis[:]\n",
        "    aux.sort(reverse=orden_inverso)\n",
        "    if aux == lis:\n",
        "        ordenada = True\n",
        "    return ordenada\n",
        "\n",
        "def sa(a,b):\n",
        "    if len(a) > 1: a[0],a[1] = a[1],a[0]\n",
        "    return a,b\n",
        "def sb(a,b):\n",
        "    if len(b) > 1: b[0],b[1] = b[1],b[0]\n",
        "    return a,b\n",
        "def ss(a,b):\n",
        "    sa(a,b)\n",
        "    sb(a,b)\n",
        "    return a,b\n",
        "def pa(a,b):\n",
        "    if len(b) > 0:\n",
        "        a.insert(0, b[0])\n",
        "        b.pop(0)\n",
        "    return a,b\n",
        "def pb(a,b):\n",
        "    if len(a) > 0:\n",
        "        b.insert(0, a[0])\n",
        "        a.pop(0)\n",
        "    return a,b\n",
        "def ra(a,b):\n",
        "    if len(a) > 1: a.append(a.pop(0))\n",
        "    return a,b\n",
        "def rb(a,b):\n",
        "    if len(b) > 1: b.append(b.pop(0))\n",
        "    return a,b\n",
        "def rr(a,b):\n",
        "    ra(a,b)\n",
        "    rb(a,b)\n",
        "    return a,b\n",
        "def rra(a,b):\n",
        "    if len(a) > 1: a.insert(0, a.pop())\n",
        "    return a,b\n",
        "def rrb(a,b):\n",
        "    if len(b) > 1: b.insert(0, b.pop())\n",
        "    return a,b\n",
        "def rrr(a,b):\n",
        "    rra(a,b)\n",
        "    rrb(a,b)\n",
        "    return a,b"
      ],
      "metadata": {
        "id": "jrleNWxfpoEp"
      },
      "execution_count": 1,
      "outputs": []
    },
    {
      "cell_type": "code",
      "source": [
        "# Generación de la pila a\n",
        "from random import sample, seed\n",
        "seed()\n",
        "n = 100   # número de elementos de la pila\n",
        "#a = sample(range(1, n+1), n)\n",
        "a = [35, 90, 6, 15, 7, 40, 85, 63, 50, 13, 45, 8, 76, 33, 25, 27, 42, 20, 94, 48, 91, 29, 95, 77, 82, 98, 86, 69, 60, 58, 79, 55, 24, 12, 28, 93, 73, 54, 84, 44, 10, 75, 3, 32, 89, 52, 51, 16, 56, 70, 22, 11, 59, 68, 100, 96, 71, 21, 26, 38, 1, 46, 92, 36, 88, 31, 66, 34, 74, 23, 5, 9, 43, 49, 37, 80, 18, 17, 67, 83, 78, 61, 47, 57, 64, 81, 97, 53, 65, 30, 2, 99, 14, 87, 39, 19, 72, 4, 62, 41]\n",
        "print('a:', a)\n",
        "b = []\n",
        "a_original = a[:]\n",
        "n = len(a)"
      ],
      "metadata": {
        "colab": {
          "base_uri": "https://localhost:8080/"
        },
        "id": "NIzTpmwwp9Y1",
        "outputId": "5bfac7c7-adbf-44b9-d1aa-d3306e1f6367"
      },
      "execution_count": 2,
      "outputs": [
        {
          "output_type": "stream",
          "name": "stdout",
          "text": [
            "a: [35, 90, 6, 15, 7, 40, 85, 63, 50, 13, 45, 8, 76, 33, 25, 27, 42, 20, 94, 48, 91, 29, 95, 77, 82, 98, 86, 69, 60, 58, 79, 55, 24, 12, 28, 93, 73, 54, 84, 44, 10, 75, 3, 32, 89, 52, 51, 16, 56, 70, 22, 11, 59, 68, 100, 96, 71, 21, 26, 38, 1, 46, 92, 36, 88, 31, 66, 34, 74, 23, 5, 9, 43, 49, 37, 80, 18, 17, 67, 83, 78, 61, 47, 57, 64, 81, 97, 53, 65, 30, 2, 99, 14, 87, 39, 19, 72, 4, 62, 41]\n"
          ]
        }
      ]
    },
    {
      "cell_type": "code",
      "source": [
        "def algoritmo_LIS(arr):\n",
        "    n = len(arr)\n",
        "    lis = [1]*n\n",
        "    prev = list(range(n))  # una lista con los index\n",
        "    \n",
        "    # Compute optimized LIS values in bottom up manner\n",
        "    for i in range (1, n):\n",
        "        for j in range(i):\n",
        "            if arr[i] > arr[j] and lis[i] < lis[j] + 1:\n",
        "                lis[i] = lis[j]+1\n",
        "                prev[i] = j\n",
        "\n",
        "    # Initialize maximum to 0 to get the maximum of all\n",
        "    # LIS\n",
        "    maximum = 0\n",
        "    idx = 0\n",
        "\n",
        "    # Pick maximum of all LIS values\n",
        "    for i in range(n):\n",
        "        if maximum < lis[i]:\n",
        "            maximum = lis[i]\n",
        "            idx = i\n",
        "\n",
        "    seq = [arr[idx]]\n",
        "    while idx != prev[idx]:\n",
        "        idx = prev[idx]\n",
        "        seq.append(arr[idx])\n",
        "\n",
        "    return (maximum, list(reversed(seq)))\n",
        "\n",
        "(nlis, lis) = algoritmo_LIS(a)   #nlist es el número de elementos de la lista lis"
      ],
      "metadata": {
        "id": "RFeVoxQtqqHk"
      },
      "execution_count": 3,
      "outputs": []
    },
    {
      "cell_type": "code",
      "source": [
        "# Llevamos de la pila A a la B los elementos de la LIS\n",
        "contador = 0\n",
        "for i in range(nlis):\n",
        "    while a_original[contador] != lis[i]:\n",
        "        ra(a,b); contador += 1; \n",
        "    else:\n",
        "        pb(a,b); contador += 1\n",
        "print(a_original)\n",
        "print(lis)\n",
        "print(a)\n",
        "print(b)\n",
        "print(\"contador:\", contador)"
      ],
      "metadata": {
        "colab": {
          "base_uri": "https://localhost:8080/"
        },
        "id": "-101E7u7sGc0",
        "outputId": "161aef21-6f1f-4762-a44c-ec7beacb54bb"
      },
      "execution_count": 4,
      "outputs": [
        {
          "output_type": "stream",
          "name": "stdout",
          "text": [
            "[35, 90, 6, 15, 7, 40, 85, 63, 50, 13, 45, 8, 76, 33, 25, 27, 42, 20, 94, 48, 91, 29, 95, 77, 82, 98, 86, 69, 60, 58, 79, 55, 24, 12, 28, 93, 73, 54, 84, 44, 10, 75, 3, 32, 89, 52, 51, 16, 56, 70, 22, 11, 59, 68, 100, 96, 71, 21, 26, 38, 1, 46, 92, 36, 88, 31, 66, 34, 74, 23, 5, 9, 43, 49, 37, 80, 18, 17, 67, 83, 78, 61, 47, 57, 64, 81, 97, 53, 65, 30, 2, 99, 14, 87, 39, 19, 72, 4, 62, 41]\n",
            "[6, 7, 13, 25, 27, 42, 48, 55, 56, 59, 68, 71, 74, 80, 83, 97, 99]\n",
            "[14, 87, 39, 19, 72, 4, 62, 41, 35, 90, 15, 40, 85, 63, 50, 45, 8, 76, 33, 20, 94, 91, 29, 95, 77, 82, 98, 86, 69, 60, 58, 79, 24, 12, 28, 93, 73, 54, 84, 44, 10, 75, 3, 32, 89, 52, 51, 16, 70, 22, 11, 100, 96, 21, 26, 38, 1, 46, 92, 36, 88, 31, 66, 34, 23, 5, 9, 43, 49, 37, 18, 17, 67, 78, 61, 47, 57, 64, 81, 53, 65, 30, 2]\n",
            "[99, 97, 83, 80, 74, 71, 68, 59, 56, 55, 48, 42, 27, 25, 13, 7, 6]\n",
            "contador: 92\n"
          ]
        }
      ]
    },
    {
      "cell_type": "code",
      "source": [
        "def pasos_estimados(a, b, index_a):\n",
        "    # estima el número de pasos para colocar el elemento de la pila A cuyo index_a nos pasan, en el sitio adecuado de la pila B\n",
        "    # las pilas A y B que recibimos como parámetros no se han de alterar por parte de esta función\n",
        "    \n",
        "\n",
        "\n",
        "    conta2 = 0\n",
        "    while not lista_ordenada(a):   # se repite hasta que A quede ordenada. Si solo queda un elemento en A es que está ordenada\n",
        "        while min(a) != a[0]:   # buscamos el mínimo y vamos haciendo ra o rra hasta que quede el primero\n",
        "            if a.index(min(a)) <= int(len(b)/2):\n",
        "                ra(a,b)\n",
        "            else:\n",
        "                rra(a,b)\n",
        "            conta2 += 1\n",
        "        if not lista_ordenada(a):\n",
        "            pb(a,b); conta2 += 1\n",
        "\n",
        "\n",
        "\n",
        "\n",
        "\n",
        "\n",
        "    \n",
        "\n",
        "\n",
        "\n",
        "\n",
        "    return pasos\n",
        "\n",
        "\n",
        "def busca_candidato(a, b):\n",
        "    candidato = 0         # determinar el elemento de la pila A que menos pasos necesita para ubicarse en su sitio de la pila B\n",
        "    pasos_min = 2**31-1   # inicializamos la variable con infinito o un número de pasos que sabemos que es muy muy grande 2**31-1 == 2147483647\n",
        "\n",
        "    for index_a in range(len(a)):\n",
        "        p = pasos(a, b, index_a)\n",
        "        if p < pasos_min:\n",
        "            pasos_min = p\n",
        "            candidato = a[index_a]   #ahora el nuevo candidato es el elemento de A que requiere, de momento, menos pasos para ir a su sitio en la pila B\n",
        "    return candidato\n",
        "\n",
        "\n"
      ],
      "metadata": {
        "id": "u_u8-Aqy-2CY"
      },
      "execution_count": null,
      "outputs": []
    },
    {
      "cell_type": "code",
      "source": [
        "elemento = 6\n",
        "b = [20, 15, 12, 10, 5, 2]\n",
        "\n",
        "dif = 2**31-1  #inicializamos la diferencia con infinito o casi\n",
        "index_insercion = 0   #inicializamos el index de B donde se realizará la inserción del elemento\n",
        "for i,v in enumerate(b):\n",
        "    if abs(v-elemento) < dif:\n",
        "        dif = abs(v-elemento)\n",
        "        indice_insercion = i\n",
        "\n",
        "print(indice_insercion)\n",
        "\n",
        "# convertirmos el indice_insercion en pasos necesarios para el elemento considerado\n",
        "\n",
        "mitad = int(len(b)/2)\n",
        "\n",
        "print(\"mitad:\", mitad)\n",
        "\n",
        "if elemento < b[mitad]:\n",
        "    print(\"signo negativo\")\n",
        "else:\n",
        "    print(\"signo positivo\")\n",
        "\n",
        "\n",
        "#    if a.index(min(a)) <= int(len(b)/2):\n",
        "\n",
        "\n"
      ],
      "metadata": {
        "colab": {
          "base_uri": "https://localhost:8080/"
        },
        "id": "EdR8B5vgKCKt",
        "outputId": "551c717a-defb-4166-a09a-67be02efb755"
      },
      "execution_count": null,
      "outputs": [
        {
          "output_type": "stream",
          "name": "stdout",
          "text": [
            "4\n",
            "mitad: 3\n",
            "signo negativo\n"
          ]
        }
      ]
    }
  ]
}