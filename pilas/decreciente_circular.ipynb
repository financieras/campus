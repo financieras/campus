{
  "nbformat": 4,
  "nbformat_minor": 0,
  "metadata": {
    "colab": {
      "provenance": [],
      "authorship_tag": "ABX9TyMsQ8mume3F1b4ftYQ8d/ZU",
      "include_colab_link": true
    },
    "kernelspec": {
      "name": "python3",
      "display_name": "Python 3"
    },
    "language_info": {
      "name": "python"
    }
  },
  "cells": [
    {
      "cell_type": "markdown",
      "metadata": {
        "id": "view-in-github",
        "colab_type": "text"
      },
      "source": [
        "<a href=\"https://colab.research.google.com/github/financieras/campus/blob/main/pilas/decreciente_circular.ipynb\" target=\"_parent\"><img src=\"https://colab.research.google.com/assets/colab-badge.svg\" alt=\"Open In Colab\"/></a>"
      ]
    },
    {
      "cell_type": "markdown",
      "source": [
        "# Función que detecta si una lista está ordenada\n",
        "## de forma decreciente circular"
      ],
      "metadata": {
        "id": "8xP09_8ocjxm"
      }
    },
    {
      "cell_type": "code",
      "execution_count": null,
      "metadata": {
        "id": "qPJppg9Gch9Y"
      },
      "outputs": [],
      "source": [
        "def ordenado_circular_decreciente(arr):   # da True si todos los elementos de la pila están ordenados de forma decreciente circular\n",
        "    maximo, minimo = max(arr), min(arr)\n",
        "    flags = [False]*(len(arr)-1)\n",
        "    for i in range(len(arr)-1):\n",
        "        if arr[i]==minimo and arr[i+1]==maximo:\n",
        "            flags[i]= True\n",
        "        elif arr[i] > arr[i+1]:\n",
        "            flags[i] = True\n",
        "    return all(flags)"
      ]
    },
    {
      "cell_type": "markdown",
      "source": [
        "## de forma creciente circular"
      ],
      "metadata": {
        "id": "tmC5PG9hcVWe"
      }
    },
    {
      "cell_type": "code",
      "source": [
        "def ordenado_circular_creciente(arr):   # da True si todos los elementos de la pila están ordenados de forma creciente circular\n",
        "    maximo, minimo = max(arr), min(arr)\n",
        "    flags = [False]*(len(arr)-1)\n",
        "    for i in range(len(arr)-1):\n",
        "        if arr[i]==maximo and arr[i+1]==minimo:\n",
        "            flags[i]= True\n",
        "        elif arr[i] < arr[i+1]:\n",
        "            flags[i] = True\n",
        "    return all(flags)"
      ],
      "metadata": {
        "id": "dhF8CnM2cUtQ"
      },
      "execution_count": 1,
      "outputs": []
    },
    {
      "cell_type": "code",
      "source": [
        "a = [6,7,8,9,1,2,3,5]\n",
        "ordenado_circular_creciente(a)"
      ],
      "metadata": {
        "colab": {
          "base_uri": "https://localhost:8080/"
        },
        "id": "Z0QTdL0fcu3Z",
        "outputId": "3e973277-1c91-42bb-98e4-2000075062e4"
      },
      "execution_count": 2,
      "outputs": [
        {
          "output_type": "execute_result",
          "data": {
            "text/plain": [
              "True"
            ]
          },
          "metadata": {},
          "execution_count": 2
        }
      ]
    },
    {
      "cell_type": "code",
      "source": [
        "def localiza_crecientes(arr):   # busca crecimiento extricto (no circular)\n",
        "    res = [[arr[0]]]\n",
        "    for i in range(1, len(arr)):\n",
        "        if arr[i-1] + 1 == arr[i]:\n",
        "            res[-1].append(arr[i])\n",
        "        else:\n",
        "            res.append([arr[i]])\n",
        "    print(res)"
      ],
      "metadata": {
        "id": "AOOC3yk1eHCC"
      },
      "execution_count": 5,
      "outputs": []
    },
    {
      "cell_type": "code",
      "source": [
        "a = [46,31,5,2,30,32,37,23,38,27,8,25,13,48,15,44,20,45,9,14,16,39,41,43,47,10,1,17,4,6,40,12,21,24,3,42,7,22,33,29,28,26,11,34,35,19,18,36]\n",
        "localiza_crecientes(a)"
      ],
      "metadata": {
        "id": "uNviWM8cdxgZ",
        "outputId": "d128e8af-c18e-40c7-fa08-9a024245991d",
        "colab": {
          "base_uri": "https://localhost:8080/"
        }
      },
      "execution_count": 6,
      "outputs": [
        {
          "output_type": "stream",
          "name": "stdout",
          "text": [
            "[[2], [30], [32], [37], [23], [38], [27], [8], [25], [13], [48], [15], [44], [20], [45], [9], [14], [16], [39], [41], [43], [47], [10], [1], [17], [4], [6], [40], [12], [21], [24], [3], [42], [7], [22], [33], [29], [28], [26], [11], [34, 35], [19], [18], [36]]\n"
          ]
        }
      ]
    },
    {
      "cell_type": "code",
      "source": [
        "def busca(listA):\n",
        "    res = [[listA[0]]]\n",
        "\n",
        "    for i in range(1, len(listA)):\n",
        "        if listA[i - 1] + 1 == listA[i]:\n",
        "            res[-1].append(listA[i])\n",
        "        else:\n",
        "            res.append([listA[i]])\n",
        "    print(res)\n",
        "\n",
        "a = [11, 12, 6, 7, 8, 12, 13,14]\n",
        "busca(a)"
      ],
      "metadata": {
        "id": "xHOoVqJDn8ns",
        "outputId": "d041c955-c6ca-4d3e-f091-7f34ea6f597d",
        "colab": {
          "base_uri": "https://localhost:8080/"
        }
      },
      "execution_count": 1,
      "outputs": [
        {
          "output_type": "stream",
          "name": "stdout",
          "text": [
            "[[11, 12], [6, 7, 8], [12, 13, 14]]\n"
          ]
        }
      ]
    },
    {
      "cell_type": "code",
      "source": [
        "def crecientes(arr):\n",
        "    result_list = []\n",
        "    sublist = []\n",
        "    maxlen = 1\n",
        "    previous_number = None\n",
        "    for current_number in arr:\n",
        "        if previous_number is None or current_number > previous_number:\n",
        "            # still ascending, add to the current sublist\n",
        "            sublist.append(current_number)\n",
        "        else:\n",
        "            # no longer ascending, add the current sublist \n",
        "            if len(sublist)> maxlen:\n",
        "                maxlen = len(sublist)\n",
        "                # add the last sublist, if there's anything there\n",
        "                result_list.append(sublist)\n",
        "            # start a new sublist\n",
        "            sublist = [current_number]\n",
        "        previous_number = current_number\n",
        "    if len(sublist)> maxlen:\n",
        "        maxlen = len(sublist)\n",
        "        # add the last sublist, if there's anything there\n",
        "        result_list.append(sublist)\n",
        "    return result_list\n",
        "\n",
        "a = [46,31,5,2,30,32,37,23,38,27,8,25,13,48,15,44,20,45,9,14,16,39,41,43,47,10,1,17,4,6,40,12,21,24,3,42,7,22,33,29,28,26,11,34,35,19,18,36]\n",
        "print(crecientes(a))\n",
        "#[[46], [31], [5], [2, 30, 32, 37], [23, 38], [27], [8, 25], [13, 48], [15, 44], [20, 45], [9, 14, 16, 39, 41, 43, 47], [10], [1, 17], [4, 6, 40], [12, 21, 24], [3, 42], [7, 22, 33], [29], [28], [26], [11, 34, 35], [19], [18, 36]]\n",
        "print()"
      ],
      "metadata": {
        "id": "OIYhSC_brdRR",
        "outputId": "a1757a67-c717-43b8-f34c-3a383ca42292",
        "colab": {
          "base_uri": "https://localhost:8080/"
        }
      },
      "execution_count": 9,
      "outputs": [
        {
          "output_type": "stream",
          "name": "stdout",
          "text": [
            "[[2, 30, 32, 37], [9, 14, 16, 39, 41, 43, 47]]\n",
            "\n"
          ]
        }
      ]
    }
  ]
}