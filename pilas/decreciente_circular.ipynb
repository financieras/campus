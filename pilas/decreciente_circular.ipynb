{
  "nbformat": 4,
  "nbformat_minor": 0,
  "metadata": {
    "colab": {
      "provenance": [],
      "authorship_tag": "ABX9TyPRqFRp0F5TgAa8ncNC7wl2",
      "include_colab_link": true
    },
    "kernelspec": {
      "name": "python3",
      "display_name": "Python 3"
    },
    "language_info": {
      "name": "python"
    }
  },
  "cells": [
    {
      "cell_type": "markdown",
      "metadata": {
        "id": "view-in-github",
        "colab_type": "text"
      },
      "source": [
        "<a href=\"https://colab.research.google.com/github/financieras/campus/blob/main/pilas/decreciente_circular.ipynb\" target=\"_parent\"><img src=\"https://colab.research.google.com/assets/colab-badge.svg\" alt=\"Open In Colab\"/></a>"
      ]
    },
    {
      "cell_type": "markdown",
      "source": [
        "# Función que detecta si una lista está ordenada\n",
        "## de forma decreciente circular"
      ],
      "metadata": {
        "id": "8xP09_8ocjxm"
      }
    },
    {
      "cell_type": "code",
      "execution_count": null,
      "metadata": {
        "id": "qPJppg9Gch9Y"
      },
      "outputs": [],
      "source": [
        "def ordenado_circular_decreciente(arr):   # da True si todos los elementos de la pila B están ordenados de forma decreciente circular\n",
        "    maximo, minimo = max(arr), min(arr)   # esta función solo se usará con anímo de hacer algún debug, sino no es necesaria\n",
        "    flags = [False]*(len(arr)-1)\n",
        "    for i in range(len(arr)-1):\n",
        "        if arr[i]==minimo and arr[i+1]==maximo:\n",
        "            flags[i]= True\n",
        "        elif arr[i] > arr[i+1]:\n",
        "            flags[i] = True\n",
        "    return all(flags)"
      ]
    }
  ]
}