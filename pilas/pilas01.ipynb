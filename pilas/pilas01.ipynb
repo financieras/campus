{
  "nbformat": 4,
  "nbformat_minor": 0,
  "metadata": {
    "colab": {
      "provenance": [],
      "authorship_tag": "ABX9TyOsjG8FEB14g2RhkUz0u5bJ",
      "include_colab_link": true
    },
    "kernelspec": {
      "name": "python3",
      "display_name": "Python 3"
    },
    "language_info": {
      "name": "python"
    }
  },
  "cells": [
    {
      "cell_type": "markdown",
      "metadata": {
        "id": "view-in-github",
        "colab_type": "text"
      },
      "source": [
        "<a href=\"https://colab.research.google.com/github/financieras/test/blob/main/pilas.ipynb\" target=\"_parent\"><img src=\"https://colab.research.google.com/assets/colab-badge.svg\" alt=\"Open In Colab\"/></a>"
      ]
    },
    {
      "cell_type": "markdown",
      "source": [
        "# Ordenar pilas\n",
        "El juego se compone de dos stacks, llamados a y b.\n",
        "* Para empezar:\n",
        " - En a tendrás números positivos y/o negativos, nunca duplicados.\n",
        " - En b no habrá nada.\n",
        "* El objetivo es ordenar los números del stack a en orden ascendente\n",
        "* Operaciones disponibles:\n",
        " - **sa** : swap a - intercambia los dos primeros elementos encima del stack a. No hace nada si hay uno o menos elementos.\n",
        " - **sb** : swap b - intercambia los dos primeros elementos encima del stack b. No hace nada si hay uno o menos elementos.\n",
        " - **ss** : swap a y swap b a la vez.\n",
        " - **pa** : push a - toma el primer elemento del stack b y lo pone encima del stack a. No hace nada si b está vacío.\n",
        " - **pb** : push b - toma el primer elemento del stack a y lo pone encima del stack b. No hace nada si a está vacío.\n",
        " - **ra** : rotate a - desplaza hacia arriba todos los elementos del stack a una posición, de forma que el primer elemento se convierte en el último.\n",
        " - **rb** : rotate b - desplaza hacia arriba todos los elementos del stack b una posición, de forma que el primer elemento se convierte en el último.\n",
        " - **rr** : rotate a y rotate b - desplaza al mismo tiempo todos los elementos del stack a y del stack b una posición hacia arriba, de forma que el primer elemento se convierte en el último.\n",
        " - **rra** : reverse rotate a - desplaza hacia abajo todos los elementos del stack a una posición, de forma que el último elemento se convierte en el primero.\n",
        " - **rrb** : reverse rotate b - desplaza hacia abajo todos los elementos del stack b una posición, de forma que el último elemento se convierte en el primero.\n",
        " - **rrr** : reverse rotate a y reverse rotate b - desplaza al mismo tiempo todos los elementos del stack a y del stack b una posición hacia abajo, de forma que el último elemento se convierte en el primero."
      ],
      "metadata": {
        "id": "-4NXCJlvqrhQ"
      }
    },
    {
      "cell_type": "code",
      "execution_count": 1,
      "metadata": {
        "colab": {
          "base_uri": "https://localhost:8080/"
        },
        "id": "KpPPQlrZqqbi",
        "outputId": "7cd76a83-dc3f-4bbf-d7af-183bdc37b79b"
      },
      "outputs": [
        {
          "output_type": "stream",
          "name": "stdout",
          "text": [
            "a: [2, 1, 3, 6, 5, 8]\n",
            "b: []\n"
          ]
        }
      ],
      "source": [
        "# Generación de la pila a\n",
        "from random import sample, seed\n",
        "seed()\n",
        "n = 10   # número de elementos de la pila\n",
        "a = sample(range(10, 2*n+11), n)\n",
        "a = [2,1,3,6,5,8]   # valores de ejemplo\n",
        "b = []\n",
        "print('a:', a)\n",
        "print('b:', b)"
      ]
    },
    {
      "cell_type": "code",
      "source": [
        "# sa : swap a - intercambia los dos primeros elementos encima del stack a. No hace nada si hay uno o menos elementos.\n",
        "def sa(a,b):\n",
        "    if len(a) > 1:\n",
        "        a[0],a[1] = a[1],a[0]\n",
        "    return a,b\n",
        "\n",
        "a = [1,2,3,4]\n",
        "b = [7,8,9]\n",
        "a,b = sa(a,b)\n",
        "print(a)\n",
        "print(b)"
      ],
      "metadata": {
        "colab": {
          "base_uri": "https://localhost:8080/"
        },
        "id": "w2hoCQ3C3PWr",
        "outputId": "919eac0f-2c5b-4030-ff63-2d41b043f2ce"
      },
      "execution_count": 11,
      "outputs": [
        {
          "output_type": "stream",
          "name": "stdout",
          "text": [
            "[2, 1, 3, 4]\n",
            "[7, 8, 9]\n"
          ]
        }
      ]
    },
    {
      "cell_type": "code",
      "source": [
        "# sb : swap b - intercambia los dos primeros elementos encima del stack b. No hace nada si hay uno o menos elementos.\n",
        "def sb(a,b):\n",
        "    if len(b) > 1:\n",
        "        b[0],b[1] = b[1],b[0]\n",
        "    return a,b\n",
        "    \n",
        "a = [1,2,3,4]\n",
        "b = [7,8,9]\n",
        "a,b = sb(a,b)\n",
        "print(a)\n",
        "print(b)"
      ],
      "metadata": {
        "colab": {
          "base_uri": "https://localhost:8080/"
        },
        "id": "iSVEfK_N4y9C",
        "outputId": "72e92fb4-5d60-45c1-87c0-22d835253236"
      },
      "execution_count": 12,
      "outputs": [
        {
          "output_type": "stream",
          "name": "stdout",
          "text": [
            "[1, 2, 3, 4]\n",
            "[8, 7, 9]\n"
          ]
        }
      ]
    },
    {
      "cell_type": "code",
      "source": [
        "# ss : swap a y swap b a la vez.\n",
        "def ss(a,b):\n",
        "    sa(a,b)\n",
        "    sb(a,b)\n",
        "    return a,b\n",
        "\n",
        "a = [1,2,3,4]\n",
        "b = [7,8,9]\n",
        "a,b = ss(a,b)\n",
        "print(a)\n",
        "print(b)"
      ],
      "metadata": {
        "id": "T0V6NziL4-Y5",
        "outputId": "00e018bd-9654-4462-eaae-db6f5fd95c50",
        "colab": {
          "base_uri": "https://localhost:8080/"
        }
      },
      "execution_count": 13,
      "outputs": [
        {
          "output_type": "stream",
          "name": "stdout",
          "text": [
            "[2, 1, 3, 4]\n",
            "[8, 7, 9]\n"
          ]
        }
      ]
    },
    {
      "cell_type": "code",
      "source": [
        "# pa : push a - toma el primer elemento del stack b y lo pone encima del stack a. No hace nada si b está vacío.\n",
        "def pa(a,b):\n",
        "    if len(b) > 0:\n",
        "        a.insert(0, b[0])\n",
        "        b.pop(0)\n",
        "    return a,b\n",
        "\n",
        "a = [1,2,3,4]\n",
        "b = [7,8,9]\n",
        "a,b = pa(a,b)\n",
        "print(a)\n",
        "print(b)"
      ],
      "metadata": {
        "colab": {
          "base_uri": "https://localhost:8080/"
        },
        "id": "_zGyZMT15zN9",
        "outputId": "8e1ce170-e78c-4b27-d687-b638de67ca8d"
      },
      "execution_count": 14,
      "outputs": [
        {
          "output_type": "stream",
          "name": "stdout",
          "text": [
            "[7, 1, 2, 3, 4]\n",
            "[8, 9]\n"
          ]
        }
      ]
    },
    {
      "cell_type": "code",
      "source": [
        "# pb : push b - toma el primer elemento del stack a y lo pone encima del stack b. No hace nada si a está vacío.\n",
        "def pb(a,b):\n",
        "    if len(a) > 0:\n",
        "        b.insert(0, a[0])\n",
        "        a.pop(0)\n",
        "    return a,b\n",
        "\n",
        "a = [1,2,3,4]\n",
        "b = [7,8,9]\n",
        "a,b = pb(a,b)\n",
        "print(a)\n",
        "print(b)"
      ],
      "metadata": {
        "colab": {
          "base_uri": "https://localhost:8080/"
        },
        "id": "tx-uEEMx8Rgf",
        "outputId": "1890ec03-4871-4172-90fc-045df5ee3d4a"
      },
      "execution_count": 15,
      "outputs": [
        {
          "output_type": "stream",
          "name": "stdout",
          "text": [
            "[2, 3, 4]\n",
            "[1, 7, 8, 9]\n"
          ]
        }
      ]
    },
    {
      "cell_type": "code",
      "source": [
        "# ra : rotate a - desplaza hacia arriba todos los elementos del stack a una posición, de forma que el primer elemento se convierte en el último.\n",
        "def ra(a,b):\n",
        "    if len(a) > 1:\n",
        "        a.append(a.pop(0))\n",
        "    return a,b\n",
        "\n",
        "a = [1,2,3,4]\n",
        "b = [7,8,9]\n",
        "a,b = ra(a,b)\n",
        "print(a)\n",
        "print(b)"
      ],
      "metadata": {
        "id": "GlAYTLHk4Rjg",
        "outputId": "ec1390d4-dd48-436d-fac1-53386a4c609b",
        "colab": {
          "base_uri": "https://localhost:8080/"
        }
      },
      "execution_count": 20,
      "outputs": [
        {
          "output_type": "stream",
          "name": "stdout",
          "text": [
            "[2, 3, 4, 1]\n",
            "[7, 8, 9]\n"
          ]
        }
      ]
    },
    {
      "cell_type": "code",
      "source": [
        "# rb : rotate b - desplaza hacia arriba todos los elementos del stack b una posición, de forma que el primer elemento se convierte en el último.\n",
        "def rb(a,b):\n",
        "    if len(b) > 1:\n",
        "        b.append(b.pop(0))\n",
        "    return a,b\n",
        "\n",
        "a = [1,2,3,4]\n",
        "b = [7,8,9]\n",
        "a,b = rb(a,b)\n",
        "print(a)\n",
        "print(b)"
      ],
      "metadata": {
        "id": "JLkEsM8u44EO",
        "outputId": "a5d35449-8576-4995-c5eb-4166e6155c55",
        "colab": {
          "base_uri": "https://localhost:8080/"
        }
      },
      "execution_count": 21,
      "outputs": [
        {
          "output_type": "stream",
          "name": "stdout",
          "text": [
            "[1, 2, 3, 4]\n",
            "[8, 9, 7]\n"
          ]
        }
      ]
    },
    {
      "cell_type": "code",
      "source": [
        "# rr : rotate a y rotate b - desplaza al mismo tiempo todos los elementos del stack a y del stack b una posición hacia arriba, de forma que el primer elemento se convierte en el último.\n",
        "def rr(a,b):\n",
        "    ra(a,b)\n",
        "    rb(a,b)\n",
        "    return a,b\n",
        "\n",
        "a = [1,2,3,4]\n",
        "b = [7,8,9]\n",
        "a,b = rr(a,b)\n",
        "print(a)\n",
        "print(b)"
      ],
      "metadata": {
        "id": "BYh3q1zg8eel",
        "outputId": "58f53b5d-90d6-4e11-fd1d-707984ae0c21",
        "colab": {
          "base_uri": "https://localhost:8080/"
        }
      },
      "execution_count": 22,
      "outputs": [
        {
          "output_type": "stream",
          "name": "stdout",
          "text": [
            "[2, 3, 4, 1]\n",
            "[8, 9, 7]\n"
          ]
        }
      ]
    },
    {
      "cell_type": "code",
      "source": [
        "# rra : reverse rotate a - desplaza hacia abajo todos los elementos del stack a una posición, de forma que el último elemento se convierte en el primero.\n",
        "def rra(a,b):\n",
        "    if len(a) > 1:\n",
        "        a.insert(0, a.pop())\n",
        "    return a,b\n",
        "\n",
        "a = [1,2,3,4]\n",
        "b = [7,8,9]\n",
        "a,b = rra(a,b)\n",
        "print(a)\n",
        "print(b)"
      ],
      "metadata": {
        "id": "cU3txpPc9AUu",
        "outputId": "8701000e-565d-4a81-c7bd-88bab39eef2c",
        "colab": {
          "base_uri": "https://localhost:8080/"
        }
      },
      "execution_count": 23,
      "outputs": [
        {
          "output_type": "stream",
          "name": "stdout",
          "text": [
            "[4, 1, 2, 3]\n",
            "[7, 8, 9]\n"
          ]
        }
      ]
    },
    {
      "cell_type": "code",
      "source": [
        "# rrb : reverse rotate b - desplaza hacia abajo todos los elementos del stack b una posición, de forma que el último elemento se convierte en el primero.\n",
        "def rrb(a,b):\n",
        "    if len(b) > 1:\n",
        "        b.insert(0, b.pop())\n",
        "    return a,b\n",
        "\n",
        "a = [1,2,3,4]\n",
        "b = [7,8,9]\n",
        "a,b = rrb(a,b)\n",
        "print(a)\n",
        "print(b)"
      ],
      "metadata": {
        "id": "Qpnygb7K9n5x",
        "outputId": "971ae043-8860-4691-b8c8-592d4fa7e7e7",
        "colab": {
          "base_uri": "https://localhost:8080/"
        }
      },
      "execution_count": 25,
      "outputs": [
        {
          "output_type": "stream",
          "name": "stdout",
          "text": [
            "[1, 2, 3, 4]\n",
            "[9, 7, 8]\n"
          ]
        }
      ]
    },
    {
      "cell_type": "code",
      "source": [
        "# rrr : reverse rotate a y reverse rotate b - desplaza al mismo tiempo todos los elementos del stack a y del stack b una posición hacia abajo, de forma que el último elemento se convierte en el primero.\n",
        "def rrr(a,b):\n",
        "    rra(a,b)\n",
        "    rrb(a,b)\n",
        "    return a,b\n",
        "\n",
        "a = [1,2,3,4]\n",
        "b = [7,8,9]\n",
        "a,b = rrr(a,b)\n",
        "print(a)\n",
        "print(b)"
      ],
      "metadata": {
        "id": "twjtkE9c99ht",
        "outputId": "3a867899-6df7-47ff-be34-455494ed60fb",
        "colab": {
          "base_uri": "https://localhost:8080/"
        }
      },
      "execution_count": 26,
      "outputs": [
        {
          "output_type": "stream",
          "name": "stdout",
          "text": [
            "[4, 1, 2, 3]\n",
            "[9, 7, 8]\n"
          ]
        }
      ]
    }
  ]
}
