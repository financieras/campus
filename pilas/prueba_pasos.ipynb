{
  "nbformat": 4,
  "nbformat_minor": 0,
  "metadata": {
    "colab": {
      "provenance": []
    },
    "kernelspec": {
      "name": "python3",
      "display_name": "Python 3"
    },
    "language_info": {
      "name": "python"
    }
  },
  "cells": [
    {
      "cell_type": "code",
      "source": [
        "# PASOS NECESARIOS PARA COLOCAR CADA ELEMENTO DE A EN SU SITIO EN B      total = pasosA + pasosB\n",
        "\n",
        "def necesariosA(a, b):   # array pasosA calcula los pasos necesarios para colocar cada elemento de A como el primero de su pila\n",
        "    for v in a:\n",
        "        if a.index(v) < len(a)/2:\n",
        "            pasosA.append(a.index(v))\n",
        "        else:\n",
        "            pasosA.append(-(len(a)- a.index(v)))\n",
        "\n",
        "def necesariosB(a,b):   # array pasosB calcula los pasos de B necesarios para colocar cada elemento de A dentro de su sitio en B\n",
        "    for v in a:\n",
        "        try:\n",
        "            objetivo_primero = max([x for x in b if x<v])\n",
        "            print(\"v: \", v, \"objetivo_primero: \", objetivo_primero)\n",
        "        except:\n",
        "            objetivo_primero = max(b)   # objetivo_primero calcula el número que se ha de poner en la primera posición de B\n",
        "\n",
        "        if b.index(objetivo_primero) < len(b)/2:\n",
        "            pasosB.append(b.index(objetivo_primero))\n",
        "        else:\n",
        "            pasosB.append(-(len(b)- b.index(objetivo_primero)))\n",
        "\n",
        "def totaliza(a,b):   # totalizar pasos\n",
        "    global total\n",
        "    for i in range(len(pasosA)):\n",
        "        if pasosA[i] * pasosB[i] < 0:   # si son de distinto signo\n",
        "            total.append(abs(pasosA[i]) + abs(pasosB[i]))   # no hay sinergia\n",
        "        else:                           # si son de igual signo o alguno cero\n",
        "            total.append(max(abs(pasosA[i]), abs(pasosB[i])))  # si son de igual signo hay sinergia\n",
        "\n",
        "def calculaIndexPasosMinimos():\n",
        "    global pasosA\n",
        "    global pasosB\n",
        "    global total\n",
        "    pasosA = []   # [0,1,2, ...,41,-41,... , -2,-1]  vector donde cada index está asociado con el valor del mismo index en A\n",
        "    pasosB = []   # [-3,2,-5, ..., -5,0]   estos dos arrays se han de recalcular cada vez que realmente se mueva algún elemento de A a B\n",
        "    total = []\n",
        "    necesariosA(a, b); print(\"pasosA: \", pasosA)\n",
        "    necesariosB(a, b); print(\"pasosB: \", pasosB)\n",
        "    totaliza(a,b); print(\"total: \", total)\n",
        "    return total.index(min(total))   # retorna el índice del elemento de la pila A que menos pasos totales necesita"
      ],
      "metadata": {
        "id": "EcyWE3LvlUQA"
      },
      "execution_count": 8,
      "outputs": []
    },
    {
      "cell_type": "code",
      "source": [
        "\n",
        "a = [3, 23, 24, 10, 15, 32, 30, 29, 6, 26, 25, 20, 27, 12, 17, 19, 21, 18, 28, 31, 9, 2]\n",
        "b= [13,11,8,7,5,4,1,22,16,14]"
      ],
      "metadata": {
        "id": "yzEohnqVjVsH"
      },
      "execution_count": 9,
      "outputs": []
    },
    {
      "cell_type": "code",
      "source": [
        "if __name__ == \"__main__\":\n",
        "    index_minimosPasos = calculaIndexPasosMinimos()"
      ],
      "metadata": {
        "colab": {
          "base_uri": "https://localhost:8080/"
        },
        "id": "eh_xX5MTk8zv",
        "outputId": "ed186399-c638-4882-b710-b0d78e7857ae"
      },
      "execution_count": 10,
      "outputs": [
        {
          "output_type": "stream",
          "name": "stdout",
          "text": [
            "pasosA:  [0, 1, 2, 3, 4, 5, 6, 7, 8, 9, 10, -11, -10, -9, -8, -7, -6, -5, -4, -3, -2, -1]\n",
            "v:  3 objetivo_primero:  1\n",
            "v:  23 objetivo_primero:  22\n",
            "v:  24 objetivo_primero:  22\n",
            "v:  10 objetivo_primero:  8\n",
            "v:  15 objetivo_primero:  14\n",
            "v:  32 objetivo_primero:  22\n",
            "v:  30 objetivo_primero:  22\n",
            "v:  29 objetivo_primero:  22\n",
            "v:  6 objetivo_primero:  5\n",
            "v:  26 objetivo_primero:  22\n",
            "v:  25 objetivo_primero:  22\n",
            "v:  20 objetivo_primero:  16\n",
            "v:  27 objetivo_primero:  22\n",
            "v:  12 objetivo_primero:  11\n",
            "v:  17 objetivo_primero:  16\n",
            "v:  19 objetivo_primero:  16\n",
            "v:  21 objetivo_primero:  16\n",
            "v:  18 objetivo_primero:  16\n",
            "v:  28 objetivo_primero:  22\n",
            "v:  31 objetivo_primero:  22\n",
            "v:  9 objetivo_primero:  8\n",
            "v:  2 objetivo_primero:  1\n",
            "pasosB:  [-4, -3, -3, 2, -1, -3, -3, -3, 4, -3, -3, -2, -3, 1, -2, -2, -2, -2, -3, -3, 2, -4]\n",
            "total:  [4, 4, 5, 3, 5, 8, 9, 10, 8, 12, 13, 11, 10, 10, 8, 7, 6, 5, 4, 3, 4, 4]\n"
          ]
        }
      ]
    }
  ]
}