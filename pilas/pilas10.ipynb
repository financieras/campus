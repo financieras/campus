{
  "nbformat": 4,
  "nbformat_minor": 0,
  "metadata": {
    "colab": {
      "provenance": [],
      "authorship_tag": "ABX9TyPc2wzv3W2gbpIAz11yJtAl",
      "include_colab_link": true
    },
    "kernelspec": {
      "name": "python3",
      "display_name": "Python 3"
    },
    "language_info": {
      "name": "python"
    }
  },
  "cells": [
    {
      "cell_type": "markdown",
      "metadata": {
        "id": "view-in-github",
        "colab_type": "text"
      },
      "source": [
        "<a href=\"https://colab.research.google.com/github/financieras/campus/blob/main/pilas/pilas10.ipynb\" target=\"_parent\"><img src=\"https://colab.research.google.com/assets/colab-badge.svg\" alt=\"Open In Colab\"/></a>"
      ]
    },
    {
      "cell_type": "markdown",
      "source": [
        "# Procedimiento mejorado primero\n",
        "Tomemos n=100 siendo a\n",
        "\n",
        "a = [82, 14, 53, 81, 34, 40, 25, 52, 22, 91, 93, 80, 79, 5, 8, 17, 99, 96, 16, ......]\n",
        "\n",
        "* El \"procedimiento mejorado primero\" consigue ordenarlo en:\n",
        "contador: 1492"
      ],
      "metadata": {
        "id": "AM89B1DE_-Xn"
      }
    },
    {
      "cell_type": "code",
      "source": [
        "# FUNCIONES\n",
        "from random import sample, seed\n",
        "seed()\n",
        "\n",
        "def lista_ordenada(lis):\n",
        "    ordenada = False\n",
        "    aux = lis[:]\n",
        "    aux.sort()\n",
        "    if aux == lis:\n",
        "        ordenada = True\n",
        "    return ordenada\n",
        "\n",
        "def sa(a,b):\n",
        "    if len(a) > 1: a[0],a[1] = a[1],a[0]\n",
        "    return a,b\n",
        "def sb(a,b):\n",
        "    if len(b) > 1: b[0],b[1] = b[1],b[0]\n",
        "    return a,b\n",
        "def ss(a,b):\n",
        "    sa(a,b)\n",
        "    sb(a,b)\n",
        "    return a,b\n",
        "def pa(a,b):\n",
        "    if len(b) > 0:\n",
        "        a.insert(0, b[0])\n",
        "        b.pop(0)\n",
        "    return a,b\n",
        "def pb(a,b):\n",
        "    if len(a) > 0:\n",
        "        b.insert(0, a[0])\n",
        "        a.pop(0)\n",
        "    return a,b\n",
        "def ra(a,b):\n",
        "    if len(a) > 1: a.append(a.pop(0))\n",
        "    return a,b\n",
        "def rb(a,b):\n",
        "    if len(b) > 1: b.append(b.pop(0))\n",
        "    return a,b\n",
        "def rr(a,b):\n",
        "    ra(a,b)\n",
        "    rb(a,b)\n",
        "    return a,b\n",
        "def rra(a,b):\n",
        "    if len(a) > 1: a.insert(0, a.pop())\n",
        "    return a,b\n",
        "def rrb(a,b):\n",
        "    if len(b) > 1: b.insert(0, b.pop())\n",
        "    return a,b\n",
        "def rrr(a,b):\n",
        "    rra(a,b)\n",
        "    rrb(a,b)\n",
        "    return a,b"
      ],
      "metadata": {
        "id": "aoo1oYYjBzcm"
      },
      "execution_count": null,
      "outputs": []
    },
    {
      "cell_type": "code",
      "execution_count": null,
      "metadata": {
        "colab": {
          "base_uri": "https://localhost:8080/"
        },
        "id": "E235L0_E_69U",
        "outputId": "34b106a7-6ab9-4a3c-cad1-65e5629bbd2c"
      },
      "outputs": [
        {
          "output_type": "stream",
          "name": "stdout",
          "text": [
            "contador: 95\n"
          ]
        }
      ],
      "source": [
        "# PROCEDIMIENTO MEJORADO PRIMERO\n",
        "if __name__ == \"__main__\":\n",
        "    # Generación de la pila a\n",
        "    n = 100   # número de elementos de la pila\n",
        "    #a = sample(range(1, n+1), n)\n",
        "    a = [82, 14, 53, 81, 34, 40, 25, 52, 22, 91, 93, 80, 79, 5, 8, 17, 99, 96, 16, 65, 72, 18, 94, 66, 43, 44, 2, 3, 97, 86, 6, 32, 77, 35, 68, 61, 45, 63, 24, 83, 37, 48, 28, 95, 39, 60, 64, 85, 56, 12, 89, 92, 26, 70, 78, 55, 19, 98, 29, 88, 1, 69, 47, 71, 4, 10, 30, 59, 11, 15, 31, 75, 33, 7, 90, 27, 62, 36, 42, 58, 13, 41, 50, 23, 20, 38, 49, 76, 73, 57, 84, 100, 54, 21, 51, 87, 9, 46, 67, 74]\n",
        "    a = [14,3,15,12,16,13,2,5,11,18,17,4,8,1,6,20,10,7,19,9]\n",
        "    a_original = a[:]\n",
        "    n = len(a)\n",
        "    b = []\n",
        "    ### PROCEDIMIENTO\n",
        "    contador = 0\n",
        "    while not lista_ordenada(a):   # se repite hasta que A quede ordenada. Si solo queda un elemento en A es que está ordenada\n",
        "        # buscamos el mínimo y vamos haciendo ra o rra hasta que el mínimo esté el primero\n",
        "        while min(a) != a[0]:\n",
        "            #print(\"min(a)=\", min(a))\n",
        "            if a.index(min(a)) <= int(len(a)/2):\n",
        "                #print(min(a))\n",
        "                #print(\"index del min y mitad:\", a.index(min(a)), int(len(a)/2))\n",
        "                ra(a,b)\n",
        "            else:\n",
        "                rra(a,b)\n",
        "            contador += 1\n",
        "            ##print(a,b)\n",
        "        if not lista_ordenada(a):\n",
        "            pb(a,b); contador += 1; ##print(a,b) # luego hacemos pb\n",
        "    # luego se hace pa pa pa pa hasta que no quede nadie en la pila b\n",
        "    while len(b) > 0:\n",
        "        pa(a,b); contador += 1; ##print(a,b)\n",
        "    print(\"contador:\", contador)"
      ]
    },
    {
      "cell_type": "markdown",
      "source": [
        "# Procedimiento mejorado segundo\n",
        "* Se basa en dividir los ```n``` números de la pila A inicial en s tramos.  \n",
        "* Por ejemplo, para n=100 dividimos en ```s=5``` tramos.\n",
        "* Posteriormente tendremos que hacer pruebas para determinar el ```s``` óptimo para cada ```n```, y también en función del grado de complejidad de la pila A. \n",
        " - El primer tramo son los números 1 a 20, que se buscan en A y se pasan a B, con la función ```separa```.\n",
        " - Para ordenar esos 20 números en B de forma creciente (del 20 al 1) usamos la pila A como pila auxiliar, con la función ```ordena```.\n",
        " - Cuando ya tengamos el priemer tramo ordenado de forma creciente en B vamos a por el segundo tramo\n",
        " - Esto se hace con todos los tramos salvo el último\n",
        " - En el último tramo, en la pila B, vemos que deben haber quedado ordenados de forma decreciente los números de 80 a 1, así 80,79,78,...,1.\n",
        " - En el úlitmo tramo, en la pila A, quedaran los últimos 20 números desordenados.\n",
        " - Estos 20 últimos números se ordenan en A de forma creciente: 81,82,...,100, para ello se usa la pila B como pila auxiliar.\n",
        " - Finalmente se pasan los números de B a A."
      ],
      "metadata": {
        "id": "cPv9Xr_y_P49"
      }
    },
    {
      "cell_type": "code",
      "source": [
        "# PROCEDIMIENTO MEJORADO SEGUNDO\n",
        "# dividiendo los n=100 valores aleatorios en s=5 grupos de n/s=20 números cada uno\n",
        "# si no es divisible se toma un ancho=int(n/s) y se ajusta el último para que finalice en n\n",
        "def separa(tramo, n, s, a, b):   # se llevan de la pila A a la B los números del tramo que toca\n",
        "    contador = 0\n",
        "    ancho = int(n/s)\n",
        "    fin = tramo * ancho          # fin del tramo\n",
        "    if tramo==s: fin=n           # por si no es divisible, el último tramo se ajusta para que el último nº sea igual a n\n",
        "    inicio = (tramo-1)*ancho+1   # inicio del tramo\n",
        "    print(f\"tramo: {tramo}, n: {n}, s: {s}, \\na: {a}, \\nb: {b}, \\nancho: {ancho}, inicio: {inicio}, fin: {fin}, contador interno: {contador}\")\n",
        "    pasados = 0   # cuenta cuantos números se han pasado de la pila A a la B\n",
        "    print(\"fin:\", fin)\n",
        "    print(\"inicio:\", inicio)\n",
        "    print(\"fin-inicio+1:\", fin-inicio+1)\n",
        "    while pasados < fin-inicio+1: # recorremos los elementos de la plia A hasta que pasemos todos los números de este tramo\n",
        "        if inicio <= a[0] <= fin:\n",
        "            pb(a,b)\n",
        "            contador += 1\n",
        "            pasados += 1\n",
        "            print(\"A:\", a)\n",
        "            print(\"B:\", b)\n",
        "            print()\n",
        "        else:\n",
        "            ra(a,b)\n",
        "            contador += 1\n",
        "    return a, b, contador\n",
        "\n",
        "def ordena(tramo, n, s, a, b):   # Pasamos de B a A los del tramo que toca, comenzando por el nº mayor, que para el tramo 1 es 5.\n",
        "    # ordena los números recientemente separados y llevados a B\n",
        "    # el objetivo es que esos números queden en B ordenados de forma decreciente: 5,4,3,2,1\n",
        "    contador = 0\n",
        "    ancho = int(n/s)\n",
        "    fin = tramo * ancho          # fin del tramo\n",
        "    inicio = (tramo-1)*ancho+1   # inicio del tramo\n",
        "    \n",
        "\n",
        "\n",
        "\n",
        "    return a, b, contador\n",
        "\n",
        "\n",
        "\n",
        "\n",
        "\n",
        "\n",
        "def ordena_ultimo(tramo, n, s, a, b):\n",
        "    pass\n",
        "\n",
        "if __name__ == \"__main__\":\n",
        "    a = a_original[:]\n",
        "    n = len(a)\n",
        "    b = []\n",
        "    s = 4   # número de grupos\n",
        "    ### PROCEDIMIENTO\n",
        "    print(a)\n",
        "    print(b)\n",
        "    contador = 0\n",
        "    for tramo in range(1, s):   # tramo=1,2,...,s-1. El último tramo se trata de forma diferente\n",
        "        a, b, contador_separa = separa(tramo,n,s,a,b)   # lleva de A a B los números correspondientes a ese tramo\n",
        "        contador += contador_separa\n",
        "        if tramo==1: break\n",
        "        '''\n",
        "        a, b, contador_ordena = ordena(tramo,n,s,a,b)   # ordena los números recientemente separados y llevados a B\n",
        "        # la pila de trabajo es \"B\" y el objetivo es que sea decreciente\n",
        "        contador += contador_ordena\n",
        "    # tramo final donde los números de A ya se ordenan en A, ya no se usa la función separa\n",
        "    # la pila de trabajo es \"A\" y el objetivo es que sea creciente\n",
        "    a, b, contador_ordena = ordena(tramo,n,s,a,b,\"A\", True)   # ordena los números del úlitmo tramo que están en \"A\" y el objetivo es que queden crecientes: 19,20\n",
        "    contador += contador_ordena\n",
        "    for v in b:\n",
        "        pa(a,b); contador += 1'''\n",
        "    print(contador)\n",
        "    print(a)\n",
        "    print(b)\n"
      ],
      "metadata": {
        "id": "UmUYfJz4Dlun",
        "outputId": "327cb068-baa9-428d-afc5-3480e5666255",
        "colab": {
          "base_uri": "https://localhost:8080/"
        }
      },
      "execution_count": null,
      "outputs": [
        {
          "output_type": "stream",
          "name": "stdout",
          "text": [
            "[14, 3, 15, 12, 16, 13, 2, 5, 11, 18, 17, 4, 8, 1, 6, 20, 10, 7, 19, 9]\n",
            "[]\n",
            "tramo: 1, n: 20, s: 4, \n",
            "a: [14, 3, 15, 12, 16, 13, 2, 5, 11, 18, 17, 4, 8, 1, 6, 20, 10, 7, 19, 9], \n",
            "b: [], \n",
            "ancho: 5, inicio: 1, fin: 5, contador interno: 0\n",
            "fin: 5\n",
            "inicio: 1\n",
            "fin-inicio+1: 5\n",
            "A: [15, 12, 16, 13, 2, 5, 11, 18, 17, 4, 8, 1, 6, 20, 10, 7, 19, 9, 14]\n",
            "B: [3]\n",
            "\n",
            "A: [5, 11, 18, 17, 4, 8, 1, 6, 20, 10, 7, 19, 9, 14, 15, 12, 16, 13]\n",
            "B: [2, 3]\n",
            "\n",
            "A: [11, 18, 17, 4, 8, 1, 6, 20, 10, 7, 19, 9, 14, 15, 12, 16, 13]\n",
            "B: [5, 2, 3]\n",
            "\n",
            "A: [8, 1, 6, 20, 10, 7, 19, 9, 14, 15, 12, 16, 13, 11, 18, 17]\n",
            "B: [4, 5, 2, 3]\n",
            "\n",
            "A: [6, 20, 10, 7, 19, 9, 14, 15, 12, 16, 13, 11, 18, 17, 8]\n",
            "B: [1, 4, 5, 2, 3]\n",
            "\n",
            "14\n",
            "[6, 20, 10, 7, 19, 9, 14, 15, 12, 16, 13, 11, 18, 17, 8]\n",
            "[1, 4, 5, 2, 3]\n"
          ]
        }
      ]
    }
  ]
}