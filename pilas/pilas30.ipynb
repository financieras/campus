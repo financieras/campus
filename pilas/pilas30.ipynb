{
  "nbformat": 4,
  "nbformat_minor": 0,
  "metadata": {
    "colab": {
      "provenance": [],
      "authorship_tag": "ABX9TyMd8I7m3EvNB6yrq/2VpwO6",
      "include_colab_link": true
    },
    "kernelspec": {
      "name": "python3",
      "display_name": "Python 3"
    },
    "language_info": {
      "name": "python"
    }
  },
  "cells": [
    {
      "cell_type": "markdown",
      "metadata": {
        "id": "view-in-github",
        "colab_type": "text"
      },
      "source": [
        "<a href=\"https://colab.research.google.com/github/financieras/campus/blob/main/pilas/pilas30.ipynb\" target=\"_parent\"><img src=\"https://colab.research.google.com/assets/colab-badge.svg\" alt=\"Open In Colab\"/></a>"
      ]
    },
    {
      "cell_type": "markdown",
      "source": [
        "# Algoritmo Deep Moder Times usando tres parejas"
      ],
      "metadata": {
        "id": "YG97doX9tqWp"
      }
    },
    {
      "cell_type": "code",
      "execution_count": 1,
      "metadata": {
        "id": "7vqmBYUatK3m"
      },
      "outputs": [],
      "source": [
        "# FUNCIONES\n",
        "def sa(a, b, pasos):   # pasos es un array que va acumulando los pasos dados. Ejemplo: pasos = ['pb','ra','sa','rra']\n",
        "    if len(a) > 1: a[0],a[1] = a[1],a[0]; pasos.append('sa')\n",
        "    return a, b, pasos\n",
        "def sb(a, b, pasos):\n",
        "    if len(b) > 1: b[0],b[1] = b[1],b[0]; pasos.append('sb')\n",
        "    return a, b, pasos\n",
        "def ss(a, b, pasos):   # ss no llama a sa y sb ya que en pasos quedarían anotadas las tres funciones: ss, sa y sb\n",
        "    if len(a) > 1 or len(b) > 1:\n",
        "        pasos.append('ss')\n",
        "        if len(a) > 1: a[0],a[1] = a[1],a[0]\n",
        "        if len(b) > 1: b[0],b[1] = b[1],b[0]\n",
        "    return a, b, pasos\n",
        "def pa(a, b, pasos):\n",
        "    if len(b) > 0:\n",
        "        a.insert(0, b[0])\n",
        "        b.pop(0); pasos.append('pa')\n",
        "    return a, b, pasos\n",
        "def pb(a, b, pasos):\n",
        "    if len(a) > 0:\n",
        "        b.insert(0, a[0])\n",
        "        a.pop(0); pasos.append('pb')\n",
        "    return a, b, pasos\n",
        "def ra(a, b, pasos):\n",
        "    if len(a) > 1: a.append(a.pop(0)); pasos.append('ra')\n",
        "    return a, b, pasos\n",
        "def rb(a, b, pasos):\n",
        "    if len(b) > 1: b.append(b.pop(0)); pasos.append('rb')\n",
        "    return a, b, pasos\n",
        "def rr(a, b, pasos):\n",
        "    if len(a) > 1 or len(b) > 1:\n",
        "        pasos.append('rr')\n",
        "    if len(a) > 1: a.append(a.pop(0))\n",
        "    if len(b) > 1: b.append(b.pop(0))\n",
        "    return a, b, pasos\n",
        "def rra(a, b, pasos):\n",
        "    if len(a) > 1: a.insert(0, a.pop()); pasos.append('rra')\n",
        "    return a, b, pasos\n",
        "def rrb(a, b, pasos):\n",
        "    if len(b) > 1: b.insert(0, b.pop()); pasos.append('rrb')\n",
        "    return a, b, pasos\n",
        "def rrr(a, b, pasos):\n",
        "    if len(a) > 1 or len(b) > 1:\n",
        "        pasos.append('rrr')\n",
        "    if len(a) > 1: a.insert(0, a.pop())\n",
        "    if len(b) > 1: b.insert(0, b.pop())\n",
        "    return a, b, pasos"
      ]
    },
    {
      "cell_type": "code",
      "source": [
        "def rotate_tres(a, b, intento, pasos):                            \n",
        "    if intento == 1:    # primera pareja [[a[0], a[1]]\n",
        "        pb(a, b, pasos)\n",
        "        pb(a, b, pasos)\n",
        "    elif intento == 2:  # segunda pareja [[a[0], a[-1]]\n",
        "        pb(a, b, pasos)\n",
        "        rra(a, b, pasos)\n",
        "        pb(a, b, pasos)\n",
        "    elif intento == 3:  # tercera pareja [[a[0], a[2]]\n",
        "        pb(a, b, pasos)\n",
        "        sa(a, b, pasos)\n",
        "        pb(a, b, pasos)"
      ],
      "metadata": {
        "id": "a9oEsS-oHdBA"
      },
      "execution_count": 2,
      "outputs": []
    },
    {
      "cell_type": "code",
      "source": [
        "# PASOS NECESARIOS PARA COLOCAR CADA ELEMENTO DE A EN SU SITIO EN B      total = pasosA + pasosB (esta suma es solo una idea, se ha de sumar de una forma peculiar)\n",
        "\n",
        "def necesariosA(a, b):   # array pasosA calcula los pasos necesarios para colocar cada elemento de A como el primero de su pila\n",
        "    for v in a:\n",
        "        if a.index(v) < len(a)/2:\n",
        "            pasosA.append(a.index(v))\n",
        "        else:\n",
        "            pasosA.append(-(len(a)- a.index(v)))\n",
        "\n",
        "def necesariosB(a, b):   # array pasosB calcula los pasos de B necesarios para colocar cada elemento de A dentro de su sitio en B\n",
        "    for i in range(len(a)):    # objetivo_primero es el número que se ha de poner en la primera posición de la pila B\n",
        "        if a[i] < min(b):      # si el elemento de A considerado es menor que el mayor de B entonces\n",
        "            objetivo_primero = max(b)   # el objetivo_primero será el mayor de B\n",
        "        else:   # objetivo_primero en este caso será el maximo de los inferiores en B al valor iésimo de A\n",
        "            objetivo_primero = min(b)   #se inicializa en el valor mínimo de la pila B\n",
        "            for j in range(len(b)):\n",
        "                if b[j] < a[i] and b[j] > objetivo_primero:\n",
        "                        objetivo_primero = b[j]\n",
        "        # el objetivo_primero se ha de situar el primero de la pila B            \n",
        "        if b.index(objetivo_primero) < len(b)/2:\n",
        "            pasosB.append(b.index(objetivo_primero))\n",
        "        else:\n",
        "            pasosB.append(-(len(b)- b.index(objetivo_primero)))\n",
        "\n",
        "def totaliza(a, b):   # totalizar pasos\n",
        "    global total\n",
        "    for i in range(len(pasosA)):\n",
        "        if pasosA[i] * pasosB[i] < 0:   # si son de distinto signo, uno positivo y otro negativo\n",
        "            total.append(abs(pasosA[i]) + abs(pasosB[i]))   # no hay sinergia\n",
        "        else:   # si son de igual signo o alguno cero\n",
        "            total.append(max(abs(pasosA[i]), abs(pasosB[i])))  # si son de igual signo hay sinergia\n",
        "\n",
        "def calculaIndexPasosMinimos():\n",
        "    global pasosA, pasosB, total\n",
        "    pasosA = []   # [0,1,2, ...,41,-41,... , -2,-1]  vector donde cada index está asociado con el valor del mismo index en A\n",
        "    pasosB = []   # [-3,2,-5, ..., -5,0]   estos dos arrays se han de recalcular cada vez que realmente se mueva algún elemento de A a B\n",
        "    total = []\n",
        "    necesariosA(a, b)\n",
        "    necesariosB(a, b)\n",
        "    totaliza(a, b)\n",
        "    return total.index(min(total))   # retorna el índice del elemento de la pila A que menos pasos totales necesita"
      ],
      "metadata": {
        "id": "Vy8JRVgnNutZ"
      },
      "execution_count": 3,
      "outputs": []
    },
    {
      "cell_type": "code",
      "source": [
        "def giraA(a, b, indice, npasos, pasos):\n",
        "    for i in range(abs(npasos)):\n",
        "        if npasos > 0:\n",
        "            ra(a, b, pasos)\n",
        "        elif npasos < 0:\n",
        "            rra(a, b, pasos)\n",
        "\n",
        "def giraB(a, b, indice, npasos, pasos):\n",
        "    for i in range(abs(npasos)):\n",
        "        if npasos > 0:\n",
        "            rb(a, b, pasos)\n",
        "        elif npasos < 0:\n",
        "            rrb(a, b, pasos)\n",
        "\n",
        "# girando pilas A y B\n",
        "def giraPilas(a, b, indice, pasos):   # indice es el index del valor en la pila A que deseamos poner el primero\n",
        "    if pasosA[indice] * pasosB[indice] > 0:   # Existe sinergia, nos podemos ahorrar pasos\n",
        "        pasos_comunes = min(abs(pasosA[indice]), abs(pasosB[indice]))\n",
        "        for i in range(pasos_comunes):\n",
        "            if pasosA[indice] > 0:   # si el signo de ambos es positivo, ya que ambos tienen el mismo signo\n",
        "                rr(a, b, pasos)\n",
        "            elif pasosA[indice] < 0: # si el signo de ambos es negativo\n",
        "                rrr(a, b, pasos)\n",
        "        exceso_pasosA = abs(pasosA[indice]) - pasos_comunes\n",
        "        exceso_pasosB = abs(pasosB[indice]) - pasos_comunes\n",
        "        giraA(a, b, indice, ((pasosA[indice] > 0) - (pasosA[indice] < 0)) * exceso_pasosA, pasos)    # (a > 0) - (a < 0) da el signo de a\n",
        "        giraB(a, b, indice, ((pasosB[indice] > 0) - (pasosB[indice] < 0)) * exceso_pasosB, pasos)   # Python no tiene función sign\n",
        "    else:   # No existe sinergia\n",
        "        giraA(a ,b, indice, pasosA[indice], pasos)   # gira A\n",
        "        giraB(a, b, indice, pasosB[indice], pasos)   # gira B"
      ],
      "metadata": {
        "id": "jp2JPuQKQ6IL"
      },
      "execution_count": 4,
      "outputs": []
    },
    {
      "cell_type": "code",
      "source": [
        "def crecientesA(a, b, pasos):   # comprueba que en A están crecientes estrictos y sino lo consigue\n",
        "    if a[0] < a[1] > a[2] and a[0] < a[2]:        # caso: 1 3 2\n",
        "        ra(a, b, pasos)\n",
        "        sa(a, b, pasos)\n",
        "        rra(a, b, pasos)\n",
        "    elif a[0] > a[1] < a[2] and a[0] < a[2]:        # caso: 2 1 3\n",
        "        sa(a, b, pasos)\n",
        "    elif a[0] < a[1] > a[2] and a[0] > a[2]:        # caso: 2 3 1\n",
        "        rra(a, b, pasos)\n",
        "    elif a[0] > a[1] < a[2] and a[0] > a[2]:        # caso: 3 1 2\n",
        "        ra(a, b, pasos)\n",
        "    elif a[0] > a[1] > a[2]:                        # caso: 3 2 1\n",
        "        sa(a, b, pasos)\n",
        "        rra(a, b, pasos)\n",
        "    return                                          # caso: 1 2 3 en este caso no se hace nada pq ya están ordenados"
      ],
      "metadata": {
        "id": "3xu35ZrfTm_4"
      },
      "execution_count": 5,
      "outputs": []
    },
    {
      "cell_type": "code",
      "source": [
        "def situarMax_en_B(a, b, pasos):   # situa el valor máximo de B en la primera posición de B\n",
        "    indice = b.index(max(b))\n",
        "    if indice < len(a)/2:\n",
        "        npasos = indice\n",
        "    else:\n",
        "        npasos = -(len(b)- indice)\n",
        "    giraB(a, b, indice, npasos, pasos)\n",
        "\n",
        "def cremallera(a, b, pasos):   # función que va pasando los números de B a A en forma de cremallera, intercalándolos con los que ya hay en A\n",
        "    aux = [a[-3], a[-2], a[-1]]   # los tres últimos valores de A se copian a una array auxiliar\n",
        "    for i in range(3):   # subir los tres últimos elementos de A\n",
        "        while b[0] > max(aux):\n",
        "            pa(a, b, pasos)\n",
        "        rra(a, b, pasos)\n",
        "        aux.pop()\n",
        "    while len(b) > 0:   # después de haber colocado los tres último elementos de A ya solo queda subir de B a A todos los elementos que queden en B\n",
        "        pa(a, b, pasos)"
      ],
      "metadata": {
        "id": "dLMI_rruYP0f"
      },
      "execution_count": 6,
      "outputs": []
    },
    {
      "cell_type": "code",
      "source": [
        "if __name__ == \"__main__\":\n",
        "    from random import seed, shuffle\n",
        "    seed()\n",
        "    n = 500                             # número de elementos de la pila\n",
        "    a = list(range(1, n+1)); shuffle(a) # generación aleatoria de la pila A\n",
        "    b = []\n",
        "    a_original = a[:]\n",
        "    for intento in range(1, 4):         # vamos a probar cada una de las 3 parejas. Cada prueba será un intento\n",
        "        a = a_original[:]\n",
        "        b = []\n",
        "        pasos = []                      # recoje los pasos dados en este intento. Ejemplo: pasos = ['pb','ra','sa','rra']\n",
        "        rotate_tres(a, b, intento, pasos)\n",
        "        while len(a)>3:\n",
        "            index_minimosPasos = calculaIndexPasosMinimos()\n",
        "            giraPilas(a, b, index_minimosPasos, pasos)\n",
        "            pb(a, b, pasos)         # lo pasa de A a B haciendo pb\n",
        "        crecientesA(a, b, pasos)    # hace que los tres últimos elementos de A queden ordenados en forma creciente estricta\n",
        "        situarMax_en_B(a, b, pasos) # situa el valor máximo de B en la primera posición de B\n",
        "        print(f\"{a}\\n{b}\")\n",
        "        cremallera(a, b, pasos)     # función que va pasando los números de B a A en forma de cremallera, intercalándolos con los que ya hay en A\n",
        "        print(len(pasos), \"\\n\")"
      ],
      "metadata": {
        "id": "riSVzyEEuJgF",
        "outputId": "55c1d019-0630-4b78-f0c2-f7a8590348e0",
        "colab": {
          "base_uri": "https://localhost:8080/"
        }
      },
      "execution_count": 14,
      "outputs": [
        {
          "output_type": "stream",
          "name": "stdout",
          "text": [
            "[139, 155, 424]\n",
            "[500, 499, 498, 497, 496, 495, 494, 493, 492, 491, 490, 489, 488, 487, 486, 485, 484, 483, 482, 481, 480, 479, 478, 477, 476, 475, 474, 473, 472, 471, 470, 469, 468, 467, 466, 465, 464, 463, 462, 461, 460, 459, 458, 457, 456, 455, 454, 453, 452, 451, 450, 449, 448, 447, 446, 445, 444, 443, 442, 441, 440, 439, 438, 437, 436, 435, 434, 433, 432, 431, 430, 429, 428, 427, 426, 425, 423, 422, 421, 420, 419, 418, 417, 416, 415, 414, 413, 412, 411, 410, 409, 408, 407, 406, 405, 404, 403, 402, 401, 400, 399, 398, 397, 396, 395, 394, 393, 392, 391, 390, 389, 388, 387, 386, 385, 384, 383, 382, 381, 380, 379, 378, 377, 376, 375, 374, 373, 372, 371, 370, 369, 368, 367, 366, 365, 364, 363, 362, 361, 360, 359, 358, 357, 356, 355, 354, 353, 352, 351, 350, 349, 348, 347, 346, 345, 344, 343, 342, 341, 340, 339, 338, 337, 336, 335, 334, 333, 332, 331, 330, 329, 328, 327, 326, 325, 324, 323, 322, 321, 320, 319, 318, 317, 316, 315, 314, 313, 312, 311, 310, 309, 308, 307, 306, 305, 304, 303, 302, 301, 300, 299, 298, 297, 296, 295, 294, 293, 292, 291, 290, 289, 288, 287, 286, 285, 284, 283, 282, 281, 280, 279, 278, 277, 276, 275, 274, 273, 272, 271, 270, 269, 268, 267, 266, 265, 264, 263, 262, 261, 260, 259, 258, 257, 256, 255, 254, 253, 252, 251, 250, 249, 248, 247, 246, 245, 244, 243, 242, 241, 240, 239, 238, 237, 236, 235, 234, 233, 232, 231, 230, 229, 228, 227, 226, 225, 224, 223, 222, 221, 220, 219, 218, 217, 216, 215, 214, 213, 212, 211, 210, 209, 208, 207, 206, 205, 204, 203, 202, 201, 200, 199, 198, 197, 196, 195, 194, 193, 192, 191, 190, 189, 188, 187, 186, 185, 184, 183, 182, 181, 180, 179, 178, 177, 176, 175, 174, 173, 172, 171, 170, 169, 168, 167, 166, 165, 164, 163, 162, 161, 160, 159, 158, 157, 156, 154, 153, 152, 151, 150, 149, 148, 147, 146, 145, 144, 143, 142, 141, 140, 138, 137, 136, 135, 134, 133, 132, 131, 130, 129, 128, 127, 126, 125, 124, 123, 122, 121, 120, 119, 118, 117, 116, 115, 114, 113, 112, 111, 110, 109, 108, 107, 106, 105, 104, 103, 102, 101, 100, 99, 98, 97, 96, 95, 94, 93, 92, 91, 90, 89, 88, 87, 86, 85, 84, 83, 82, 81, 80, 79, 78, 77, 76, 75, 74, 73, 72, 71, 70, 69, 68, 67, 66, 65, 64, 63, 62, 61, 60, 59, 58, 57, 56, 55, 54, 53, 52, 51, 50, 49, 48, 47, 46, 45, 44, 43, 42, 41, 40, 39, 38, 37, 36, 35, 34, 33, 32, 31, 30, 29, 28, 27, 26, 25, 24, 23, 22, 21, 20, 19, 18, 17, 16, 15, 14, 13, 12, 11, 10, 9, 8, 7, 6, 5, 4, 3, 2, 1]\n",
            "5325 \n",
            "\n",
            "[427, 464, 478]\n",
            "[500, 499, 498, 497, 496, 495, 494, 493, 492, 491, 490, 489, 488, 487, 486, 485, 484, 483, 482, 481, 480, 479, 477, 476, 475, 474, 473, 472, 471, 470, 469, 468, 467, 466, 465, 463, 462, 461, 460, 459, 458, 457, 456, 455, 454, 453, 452, 451, 450, 449, 448, 447, 446, 445, 444, 443, 442, 441, 440, 439, 438, 437, 436, 435, 434, 433, 432, 431, 430, 429, 428, 426, 425, 424, 423, 422, 421, 420, 419, 418, 417, 416, 415, 414, 413, 412, 411, 410, 409, 408, 407, 406, 405, 404, 403, 402, 401, 400, 399, 398, 397, 396, 395, 394, 393, 392, 391, 390, 389, 388, 387, 386, 385, 384, 383, 382, 381, 380, 379, 378, 377, 376, 375, 374, 373, 372, 371, 370, 369, 368, 367, 366, 365, 364, 363, 362, 361, 360, 359, 358, 357, 356, 355, 354, 353, 352, 351, 350, 349, 348, 347, 346, 345, 344, 343, 342, 341, 340, 339, 338, 337, 336, 335, 334, 333, 332, 331, 330, 329, 328, 327, 326, 325, 324, 323, 322, 321, 320, 319, 318, 317, 316, 315, 314, 313, 312, 311, 310, 309, 308, 307, 306, 305, 304, 303, 302, 301, 300, 299, 298, 297, 296, 295, 294, 293, 292, 291, 290, 289, 288, 287, 286, 285, 284, 283, 282, 281, 280, 279, 278, 277, 276, 275, 274, 273, 272, 271, 270, 269, 268, 267, 266, 265, 264, 263, 262, 261, 260, 259, 258, 257, 256, 255, 254, 253, 252, 251, 250, 249, 248, 247, 246, 245, 244, 243, 242, 241, 240, 239, 238, 237, 236, 235, 234, 233, 232, 231, 230, 229, 228, 227, 226, 225, 224, 223, 222, 221, 220, 219, 218, 217, 216, 215, 214, 213, 212, 211, 210, 209, 208, 207, 206, 205, 204, 203, 202, 201, 200, 199, 198, 197, 196, 195, 194, 193, 192, 191, 190, 189, 188, 187, 186, 185, 184, 183, 182, 181, 180, 179, 178, 177, 176, 175, 174, 173, 172, 171, 170, 169, 168, 167, 166, 165, 164, 163, 162, 161, 160, 159, 158, 157, 156, 155, 154, 153, 152, 151, 150, 149, 148, 147, 146, 145, 144, 143, 142, 141, 140, 139, 138, 137, 136, 135, 134, 133, 132, 131, 130, 129, 128, 127, 126, 125, 124, 123, 122, 121, 120, 119, 118, 117, 116, 115, 114, 113, 112, 111, 110, 109, 108, 107, 106, 105, 104, 103, 102, 101, 100, 99, 98, 97, 96, 95, 94, 93, 92, 91, 90, 89, 88, 87, 86, 85, 84, 83, 82, 81, 80, 79, 78, 77, 76, 75, 74, 73, 72, 71, 70, 69, 68, 67, 66, 65, 64, 63, 62, 61, 60, 59, 58, 57, 56, 55, 54, 53, 52, 51, 50, 49, 48, 47, 46, 45, 44, 43, 42, 41, 40, 39, 38, 37, 36, 35, 34, 33, 32, 31, 30, 29, 28, 27, 26, 25, 24, 23, 22, 21, 20, 19, 18, 17, 16, 15, 14, 13, 12, 11, 10, 9, 8, 7, 6, 5, 4, 3, 2, 1]\n",
            "5418 \n",
            "\n",
            "[139, 155, 424]\n",
            "[500, 499, 498, 497, 496, 495, 494, 493, 492, 491, 490, 489, 488, 487, 486, 485, 484, 483, 482, 481, 480, 479, 478, 477, 476, 475, 474, 473, 472, 471, 470, 469, 468, 467, 466, 465, 464, 463, 462, 461, 460, 459, 458, 457, 456, 455, 454, 453, 452, 451, 450, 449, 448, 447, 446, 445, 444, 443, 442, 441, 440, 439, 438, 437, 436, 435, 434, 433, 432, 431, 430, 429, 428, 427, 426, 425, 423, 422, 421, 420, 419, 418, 417, 416, 415, 414, 413, 412, 411, 410, 409, 408, 407, 406, 405, 404, 403, 402, 401, 400, 399, 398, 397, 396, 395, 394, 393, 392, 391, 390, 389, 388, 387, 386, 385, 384, 383, 382, 381, 380, 379, 378, 377, 376, 375, 374, 373, 372, 371, 370, 369, 368, 367, 366, 365, 364, 363, 362, 361, 360, 359, 358, 357, 356, 355, 354, 353, 352, 351, 350, 349, 348, 347, 346, 345, 344, 343, 342, 341, 340, 339, 338, 337, 336, 335, 334, 333, 332, 331, 330, 329, 328, 327, 326, 325, 324, 323, 322, 321, 320, 319, 318, 317, 316, 315, 314, 313, 312, 311, 310, 309, 308, 307, 306, 305, 304, 303, 302, 301, 300, 299, 298, 297, 296, 295, 294, 293, 292, 291, 290, 289, 288, 287, 286, 285, 284, 283, 282, 281, 280, 279, 278, 277, 276, 275, 274, 273, 272, 271, 270, 269, 268, 267, 266, 265, 264, 263, 262, 261, 260, 259, 258, 257, 256, 255, 254, 253, 252, 251, 250, 249, 248, 247, 246, 245, 244, 243, 242, 241, 240, 239, 238, 237, 236, 235, 234, 233, 232, 231, 230, 229, 228, 227, 226, 225, 224, 223, 222, 221, 220, 219, 218, 217, 216, 215, 214, 213, 212, 211, 210, 209, 208, 207, 206, 205, 204, 203, 202, 201, 200, 199, 198, 197, 196, 195, 194, 193, 192, 191, 190, 189, 188, 187, 186, 185, 184, 183, 182, 181, 180, 179, 178, 177, 176, 175, 174, 173, 172, 171, 170, 169, 168, 167, 166, 165, 164, 163, 162, 161, 160, 159, 158, 157, 156, 154, 153, 152, 151, 150, 149, 148, 147, 146, 145, 144, 143, 142, 141, 140, 138, 137, 136, 135, 134, 133, 132, 131, 130, 129, 128, 127, 126, 125, 124, 123, 122, 121, 120, 119, 118, 117, 116, 115, 114, 113, 112, 111, 110, 109, 108, 107, 106, 105, 104, 103, 102, 101, 100, 99, 98, 97, 96, 95, 94, 93, 92, 91, 90, 89, 88, 87, 86, 85, 84, 83, 82, 81, 80, 79, 78, 77, 76, 75, 74, 73, 72, 71, 70, 69, 68, 67, 66, 65, 64, 63, 62, 61, 60, 59, 58, 57, 56, 55, 54, 53, 52, 51, 50, 49, 48, 47, 46, 45, 44, 43, 42, 41, 40, 39, 38, 37, 36, 35, 34, 33, 32, 31, 30, 29, 28, 27, 26, 25, 24, 23, 22, 21, 20, 19, 18, 17, 16, 15, 14, 13, 12, 11, 10, 9, 8, 7, 6, 5, 4, 3, 2, 1]\n",
            "5326 \n",
            "\n"
          ]
        }
      ]
    }
  ]
}