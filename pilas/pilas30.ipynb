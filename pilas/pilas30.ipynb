{
  "nbformat": 4,
  "nbformat_minor": 0,
  "metadata": {
    "colab": {
      "provenance": [],
      "authorship_tag": "ABX9TyMUf/ZwBr/6sBEyKQCfYa+2",
      "include_colab_link": true
    },
    "kernelspec": {
      "name": "python3",
      "display_name": "Python 3"
    },
    "language_info": {
      "name": "python"
    }
  },
  "cells": [
    {
      "cell_type": "markdown",
      "metadata": {
        "id": "view-in-github",
        "colab_type": "text"
      },
      "source": [
        "<a href=\"https://colab.research.google.com/github/financieras/campus/blob/main/pilas/pilas30.ipynb\" target=\"_parent\"><img src=\"https://colab.research.google.com/assets/colab-badge.svg\" alt=\"Open In Colab\"/></a>"
      ]
    },
    {
      "cell_type": "markdown",
      "source": [
        "# Algoritmo Deep Moder Times usando tres parejas"
      ],
      "metadata": {
        "id": "YG97doX9tqWp"
      }
    },
    {
      "cell_type": "code",
      "execution_count": 1,
      "metadata": {
        "id": "7vqmBYUatK3m"
      },
      "outputs": [],
      "source": [
        "# FUNCIONES\n",
        "def sa(a, b, result):   # result es un array que va acumulando los pasos dados. Ejemplo: result = ['pb','ra','sa','rra']\n",
        "    if len(a) > 1: a[0],a[1] = a[1],a[0]; result.append('sa')\n",
        "    return a, b, result\n",
        "def sb(a, b, result):\n",
        "    if len(b) > 1: b[0],b[1] = b[1],b[0]; result.append('sb')\n",
        "    return a, b, result\n",
        "def ss(a, b, result):   # ss no llama a sa y sb ya que en result quedarían anotadas las tres funciones: ss, sa y sb\n",
        "    if len(a) > 1 or len(b) > 1:\n",
        "        result.append('ss')\n",
        "        if len(a) > 1: a[0],a[1] = a[1],a[0]\n",
        "        if len(b) > 1: b[0],b[1] = b[1],b[0]\n",
        "    return a, b, result\n",
        "def pa(a, b, result):\n",
        "    if len(b) > 0:\n",
        "        a.insert(0, b[0])\n",
        "        b.pop(0); result.append('pa')\n",
        "    return a, b, result\n",
        "def pb(a, b, result):\n",
        "    if len(a) > 0:\n",
        "        b.insert(0, a[0])\n",
        "        a.pop(0); result.append('pb')\n",
        "    return a, b, result\n",
        "def ra(a, b, result):\n",
        "    if len(a) > 1: a.append(a.pop(0)); result.append('ra')\n",
        "    return a, b, result\n",
        "def rb(a, b, result):\n",
        "    if len(b) > 1: b.append(b.pop(0)); result.append('rb')\n",
        "    return a, b, result\n",
        "def rr(a, b, result):\n",
        "    if len(a) > 1 or len(b) > 1:\n",
        "        result.append('rr')\n",
        "    if len(a) > 1: a.append(a.pop(0))\n",
        "    if len(b) > 1: b.append(b.pop(0))\n",
        "    return a, b, result\n",
        "def rra(a, b, result):\n",
        "    if len(a) > 1: a.insert(0, a.pop()); result.append('rra')\n",
        "    return a, b, result\n",
        "def rrb(a, b, result):\n",
        "    if len(b) > 1: b.insert(0, b.pop()); result.append('rrb')\n",
        "    return a, b, result\n",
        "def rrr(a, b, result):\n",
        "    if len(a) > 1 or len(b) > 1:\n",
        "        result.append('rrr')\n",
        "    if len(a) > 1: a.insert(0, a.pop())\n",
        "    if len(b) > 1: b.insert(0, b.pop())\n",
        "    return a, b, result"
      ]
    },
    {
      "cell_type": "code",
      "source": [
        "def rotate_tres(a, b, intento, result):                            \n",
        "    if intento == 1:    # primera pareja [[a[0], a[1]]\n",
        "        pb(a, b, result)\n",
        "        pb(a, b, result)\n",
        "    elif intento == 2:  # segunda pareja [[a[0], a[-1]]\n",
        "        pb(a, b, result)\n",
        "        rra(a, b, result)\n",
        "        pb(a, b, result)\n",
        "    elif intento == 3:  # tercera pareja [[a[0], a[2]]\n",
        "        pb(a, b, result)\n",
        "        sa(a, b, result)\n",
        "        pb(a, b, result)"
      ],
      "metadata": {
        "id": "a9oEsS-oHdBA"
      },
      "execution_count": 2,
      "outputs": []
    },
    {
      "cell_type": "code",
      "source": [
        "# PASOS NECESARIOS PARA COLOCAR CADA ELEMENTO DE A EN SU SITIO EN B      total = pasosA + pasosB (esta suma es solo una idea, se ha de sumar de una forma peculiar)\n",
        "\n",
        "def necesariosA(a, b):   # array pasosA calcula los pasos necesarios para colocar cada elemento de A como el primero de su pila\n",
        "    for v in a:\n",
        "        if a.index(v) < len(a)/2:\n",
        "            pasosA.append(a.index(v))\n",
        "        else:\n",
        "            pasosA.append(-(len(a)- a.index(v)))\n",
        "\n",
        "def necesariosB(a, b):   # array pasosB calcula los pasos de B necesarios para colocar cada elemento de A dentro de su sitio en B\n",
        "    for i in range(len(a)):    # objetivo_primero es el número que se ha de poner en la primera posición de la pila B\n",
        "        if a[i] < min(b):      # si el elemento de A considerado es menor que el mayor de B entonces\n",
        "            objetivo_primero = max(b)   # el objetivo_primero será el mayor de B\n",
        "        else:   # objetivo_primero en este caso será el maximo de los inferiores en B al valor iésimo de A\n",
        "            objetivo_primero = min(b)   #se inicializa en el valor mínimo de la pila B\n",
        "            for j in range(len(b)):\n",
        "                if b[j] < a[i] and b[j] > objetivo_primero:\n",
        "                        objetivo_primero = b[j]\n",
        "        # el objetivo_primero se ha de situar el primero de la pila B            \n",
        "        if b.index(objetivo_primero) < len(b)/2:\n",
        "            pasosB.append(b.index(objetivo_primero))\n",
        "        else:\n",
        "            pasosB.append(-(len(b)- b.index(objetivo_primero)))\n",
        "\n",
        "def totaliza(a, b):   # totalizar pasos\n",
        "    global total\n",
        "    for i in range(len(pasosA)):\n",
        "        if pasosA[i] * pasosB[i] < 0:   # si son de distinto signo, uno positivo y otro negativo\n",
        "            total.append(abs(pasosA[i]) + abs(pasosB[i]))   # no hay sinergia\n",
        "        else:   # si son de igual signo o alguno cero\n",
        "            total.append(max(abs(pasosA[i]), abs(pasosB[i])))  # si son de igual signo hay sinergia\n",
        "\n",
        "def calculaIndexPasosMinimos():\n",
        "    global pasosA, pasosB, total\n",
        "    pasosA = []   # [0,1,2, ...,41,-41,... , -2,-1]  vector donde cada index está asociado con el valor del mismo index en A\n",
        "    pasosB = []   # [-3,2,-5, ..., -5,0]   estos dos arrays se han de recalcular cada vez que realmente se mueva algún elemento de A a B\n",
        "    total = []\n",
        "    necesariosA(a, b)\n",
        "    necesariosB(a, b)\n",
        "    totaliza(a, b)\n",
        "    return total.index(min(total))   # retorna el índice del elemento de la pila A que menos pasos totales necesita"
      ],
      "metadata": {
        "id": "Vy8JRVgnNutZ"
      },
      "execution_count": 3,
      "outputs": []
    },
    {
      "cell_type": "code",
      "source": [
        "def giraA(a, b, indice, steps, result):\n",
        "    for i in range(abs(steps)):\n",
        "        if steps > 0:\n",
        "            ra(a, b, result)\n",
        "        elif steps < 0:\n",
        "            rra(a, b, result)\n",
        "\n",
        "def giraB(a, b, indice, steps, result):\n",
        "    for i in range(abs(steps)):\n",
        "        if steps > 0:\n",
        "            rb(a, b, result)\n",
        "        elif steps < 0:\n",
        "            rrb(a, b, result)\n",
        "\n",
        "# girando pilas A y B\n",
        "def giraPilas(a, b, indice, result):   # indice es el index del valor en la pila A que deseamos poner el primero\n",
        "    if pasosA[indice] * pasosB[indice] > 0:   # Existe sinergia, nos podemos ahorrar pasos\n",
        "        pasos_comunes = min(abs(pasosA[indice]), abs(pasosB[indice]))\n",
        "        for i in range(pasos_comunes):\n",
        "            if pasosA[indice] > 0:   # si el signo de ambos es positivo, ya que ambos tienen el mismo signo\n",
        "                rr(a, b, result)\n",
        "            elif pasosA[indice] < 0: # si el signo de ambos es negativo\n",
        "                rrr(a, b, result)\n",
        "        exceso_pasosA = abs(pasosA[indice]) - pasos_comunes\n",
        "        exceso_pasosB = abs(pasosB[indice]) - pasos_comunes\n",
        "        giraA(a, b, indice, ((pasosA[indice] > 0) - (pasosA[indice] < 0)) * exceso_pasosA, result)    # (a > 0) - (a < 0) da el signo de a\n",
        "        giraB(a, b, indice, ((pasosB[indice] > 0) - (pasosB[indice] < 0)) * exceso_pasosB, result)   # Python no tiene función sign\n",
        "    else:   # No existe sinergia\n",
        "        giraA(a ,b, indice, pasosA[indice], result)   # gira A\n",
        "        giraB(a, b, indice, pasosB[indice], result)   # gira B"
      ],
      "metadata": {
        "id": "jp2JPuQKQ6IL"
      },
      "execution_count": 4,
      "outputs": []
    },
    {
      "cell_type": "code",
      "source": [
        "def crecientesA(a, b, result):   # situa los tres valores de A de la forma adecuada según el caso\n",
        "    c = sorted(a + b)\n",
        "    maximo = c[-1]  # el máximo entre a y b\n",
        "    submax = c[-2]  # el segundo máximo entre a y b\n",
        "    if maximo in a and submaximo in a:  # MODELO 1: Dentro de los tres valores de A estan: el máx(a,b) y el siguiente. Ejemplo: en A está el 42 y el 41\n",
        "                                        # Aquí interesa que los tres valores de A estén ordenados de forma creciente circular, estando el primero el submáximo. Ejemplo: 41, 42, 1\n",
        "    elif maximo in a:                   # MODELO 2: Dentro de los tres valores de A está el máx(a,b) pero no el siguiente Ejemplo: en A está el 42 pero no el 41\n",
        "                                        # Aquí interesa que los tres valores de A estén ordenados de forma creciente circular, estando el primero el máximo. Ejemplo: 42, 1, 40\n",
        "    else:   # MODELO 3: Ninguno de los tres números de A son el máximo(a+b). El modelo 3 tiene a su vez varios casos según el orden de los tres números\n",
        "            # Aquí interesa que los tres valores de A estén ordenados de forma creciente estricta\n",
        "        if a[0] < a[1] > a[2] and a[0] < a[2]:        # caso: 1 3 2\n",
        "            ra(a, b, result)\n",
        "            sa(a, b, result)\n",
        "            rra(a, b, result)\n",
        "        elif a[0] > a[1] < a[2] and a[0] < a[2]:        # caso: 2 1 3\n",
        "            sa(a, b, result)\n",
        "        elif a[0] < a[1] > a[2] and a[0] > a[2]:        # caso: 2 3 1\n",
        "            rra(a, b, result)\n",
        "        elif a[0] > a[1] < a[2] and a[0] > a[2]:        # caso: 3 1 2\n",
        "            ra(a, b, result)\n",
        "        elif a[0] > a[1] > a[2]:                        # caso: 3 2 1\n",
        "            sa(a, b, result)\n",
        "            rra(a, b, result)\n",
        "        return                                          # caso: 1 2 3 en este caso no se hace nada pq ya están ordenados"
      ],
      "metadata": {
        "id": "3xu35ZrfTm_4"
      },
      "execution_count": 5,
      "outputs": []
    },
    {
      "cell_type": "code",
      "source": [
        "def situarMax_en_B(a, b, result):   # situa el valor máximo de B en la primera posición de B\n",
        "    indice = b.index(max(b))\n",
        "    if indice < len(a)/2:\n",
        "        steps = indice\n",
        "    else:\n",
        "        steps = -(len(b)- indice)\n",
        "    giraB(a, b, indice, steps, result)\n",
        "\n",
        "def cremallera(a, b, result):   # función que va pasando los números de B a A en forma de cremallera, intercalándolos con los que ya hay en A\n",
        "    aux = [a[-3], a[-2], a[-1]]   # los tres últimos valores de A se copian a una array auxiliar\n",
        "    for i in range(3):   # subir los tres últimos elementos de A\n",
        "        while b[0] > max(aux):\n",
        "            pa(a, b, result)\n",
        "        rra(a, b, result)\n",
        "        aux.pop()\n",
        "    while len(b) > 0:   # después de haber colocado los tres último elementos de A ya solo queda subir de B a A todos los elementos que queden en B\n",
        "        pa(a, b, result)"
      ],
      "metadata": {
        "id": "dLMI_rruYP0f"
      },
      "execution_count": 6,
      "outputs": []
    },
    {
      "cell_type": "code",
      "source": [
        "def establece_lis(arr):   # esta función solo se debería invocar una vez. Proporciona una matriz con listas de posibles lis\n",
        "    m2 = [[0,1],[0,-1],[0,2],[0,-2],[0,3],[0,-3],[1,-1],[1,2],[1,-2],[1,3],[1,-3],[-1,2],[-1,-2],[-1,3],[-1,-3],[2,-2],[2,3],[2,-3],[-2,3],[-2,-3],[3,-3]]\n",
        "    posibles_lis = []\n",
        "    for pareja in m2:   # m2 tiene 21 parejas\n",
        "        x,y = pareja[0], pareja[1]\n",
        "        lis = [arr[x], arr[y]]\n",
        "        posibles_lis.append(lis)\n",
        "    return posibles_lis\n",
        "\n",
        "# Llevamos de la pila A hacia la pila B los elementos de la LIS\n",
        "def rotateLIS(a, b, result, lis):\n",
        "    for vlis in lis:\n",
        "        if a.index(vlis) < len(a)/2:\n",
        "            for i in range(a.index(vlis)):\n",
        "                ra(a, b, result)\n",
        "        else:\n",
        "            for i in range(len(a)- a.index(vlis)):\n",
        "                rra(a, b, result)\n",
        "        pb(a, b, result)"
      ],
      "metadata": {
        "id": "o382dkMKnx7l"
      },
      "execution_count": 7,
      "outputs": []
    },
    {
      "cell_type": "code",
      "source": [
        "if __name__ == \"__main__\":\n",
        "    from random import seed, shuffle\n",
        "    seed()\n",
        "    n = 42                             # número de elementos de la pila\n",
        "    a = list(range(1, n+1)); shuffle(a) # generación aleatoria de la pila A\n",
        "    a = [5, 21, 20, 8, 34, 31, 27, 30, 32, 13, 40, 9, 35, 6, 26, 22, 11, 41, 39, 16, 1, 12, 25, 18, 42, 37, 23, 2, 19, 24, 3, 29, 7, 38, 33, 17, 36, 10, 15, 14, 4, 28]\n",
        "    b = []\n",
        "    a_original = a[:]\n",
        "    posibles_lis = establece_lis(a)     # llama a la función que proporciona una matriz con las posibles lis de dos números de la pila A\n",
        "    mejor_contador = 32767              # calcularemos los mínimos pasos necesarios de los intentos. Se inicializa en infinito o casi\n",
        "    mejor_result = []                   # contendrá el array con el result de la mejor solución que correspone a la de minimos pasos requeridos\n",
        "    for intento in range(21):            # vamos a probar cada una de las 3 parejas. Cada prueba será un intento\n",
        "        a = a_original[:]\n",
        "        b = []\n",
        "        result = []                     # recoje los pasos dados en este intento. Ejemplo: result = ['pb','ra','sa','rra']\n",
        "        lis = posibles_lis[intento]     # establece lis por ejemplo: lis = [a[0], a[1]]\n",
        "        rotateLIS(a, b, result, lis)    # pasa de A a B la pareja de elementos de A elegidos en la lis\n",
        "        while len(a) > 3:\n",
        "            index_minimosPasos = calculaIndexPasosMinimos()\n",
        "            giraPilas(a, b, index_minimosPasos, result)\n",
        "            pb(a, b, result)         # lo pasa de A a B haciendo pb\n",
        "        crecientesA(a, b, result)    # hace que los tres últimos elementos de A queden ordenados en forma creciente estricta\n",
        "        situarMax_en_B(a, b, result) # situa el valor máximo de B en la primera posición de B\n",
        "        if intento == 2:\n",
        "            print(\"\\n\", a, sep=\"\")\n",
        "            print(b)\n",
        "            print()\n",
        "        cremallera(a, b, result)     # función que va pasando los números de B a A en forma de cremallera, intercalándolos con los que ya hay en A\n",
        "        nresult = len(result)\n",
        "        print(nresult, \" \", end=\"\")\n",
        "        #if nresult < mejor_contador:\n",
        "        #    mejor_contador = nresult\n",
        "        #    mejor_result = result[:]\n",
        "    #print(mejor_contador)\n",
        "    #print(mejor_result)"
      ],
      "metadata": {
        "id": "riSVzyEEuJgF",
        "colab": {
          "base_uri": "https://localhost:8080/",
          "height": 444
        },
        "outputId": "a8eb6b01-0b48-42e8-b831-10fba3565f01"
      },
      "execution_count": 8,
      "outputs": [
        {
          "output_type": "stream",
          "name": "stdout",
          "text": [
            "195  205  \n",
            "[1, 39, 42]\n",
            "[41, 40, 38, 37, 36, 35, 34, 33, 32, 31, 30, 29, 28, 27, 26, 25, 24, 23, 22, 21, 20, 19, 18, 17, 16, 15, 14, 13, 12, 11, 10, 9, 8, 7, 6, 5, 4, 3, 2]\n",
            "\n",
            "i: 0 [1, 39, 42] [41, 40, 38, 37, 36, 35, 34, 33, 32, 31, 30, 29, 28, 27, 26, 25, 24, 23, 22, 21, 20, 19, 18, 17, 16, 15, 14, 13, 12, 11, 10, 9, 8, 7, 6, 5, 4, 3, 2]\n"
          ]
        },
        {
          "output_type": "error",
          "ename": "IndexError",
          "evalue": "ignored",
          "traceback": [
            "\u001b[0;31m---------------------------------------------------------------------------\u001b[0m",
            "\u001b[0;31mIndexError\u001b[0m                                Traceback (most recent call last)",
            "\u001b[0;32m<ipython-input-8-1c2db13e10d8>\u001b[0m in \u001b[0;36m<module>\u001b[0;34m\u001b[0m\n\u001b[1;32m     26\u001b[0m             \u001b[0mprint\u001b[0m\u001b[0;34m(\u001b[0m\u001b[0mb\u001b[0m\u001b[0;34m)\u001b[0m\u001b[0;34m\u001b[0m\u001b[0;34m\u001b[0m\u001b[0m\n\u001b[1;32m     27\u001b[0m             \u001b[0mprint\u001b[0m\u001b[0;34m(\u001b[0m\u001b[0;34m)\u001b[0m\u001b[0;34m\u001b[0m\u001b[0;34m\u001b[0m\u001b[0m\n\u001b[0;32m---> 28\u001b[0;31m         \u001b[0mcremallera\u001b[0m\u001b[0;34m(\u001b[0m\u001b[0ma\u001b[0m\u001b[0;34m,\u001b[0m \u001b[0mb\u001b[0m\u001b[0;34m,\u001b[0m \u001b[0mresult\u001b[0m\u001b[0;34m)\u001b[0m     \u001b[0;31m# función que va pasando los números de B a A en forma de cremallera, intercalándolos con los que ya hay en A\u001b[0m\u001b[0;34m\u001b[0m\u001b[0;34m\u001b[0m\u001b[0m\n\u001b[0m\u001b[1;32m     29\u001b[0m         \u001b[0mnresult\u001b[0m \u001b[0;34m=\u001b[0m \u001b[0mlen\u001b[0m\u001b[0;34m(\u001b[0m\u001b[0mresult\u001b[0m\u001b[0;34m)\u001b[0m\u001b[0;34m\u001b[0m\u001b[0;34m\u001b[0m\u001b[0m\n\u001b[1;32m     30\u001b[0m         \u001b[0mprint\u001b[0m\u001b[0;34m(\u001b[0m\u001b[0mnresult\u001b[0m\u001b[0;34m,\u001b[0m \u001b[0;34m\" \"\u001b[0m\u001b[0;34m,\u001b[0m \u001b[0mend\u001b[0m\u001b[0;34m=\u001b[0m\u001b[0;34m\"\"\u001b[0m\u001b[0;34m)\u001b[0m\u001b[0;34m\u001b[0m\u001b[0;34m\u001b[0m\u001b[0m\n",
            "\u001b[0;32m<ipython-input-6-157f34731109>\u001b[0m in \u001b[0;36mcremallera\u001b[0;34m(a, b, result)\u001b[0m\n\u001b[1;32m     12\u001b[0m         \u001b[0;32mif\u001b[0m \u001b[0maux\u001b[0m \u001b[0;34m==\u001b[0m \u001b[0;34m[\u001b[0m\u001b[0;36m1\u001b[0m\u001b[0;34m,\u001b[0m \u001b[0;36m39\u001b[0m\u001b[0;34m,\u001b[0m \u001b[0;36m42\u001b[0m\u001b[0;34m]\u001b[0m\u001b[0;34m:\u001b[0m\u001b[0;34m\u001b[0m\u001b[0;34m\u001b[0m\u001b[0m\n\u001b[1;32m     13\u001b[0m             \u001b[0mprint\u001b[0m\u001b[0;34m(\u001b[0m\u001b[0;34m\"i:\"\u001b[0m\u001b[0;34m,\u001b[0m \u001b[0mi\u001b[0m\u001b[0;34m,\u001b[0m \u001b[0ma\u001b[0m\u001b[0;34m,\u001b[0m \u001b[0mb\u001b[0m\u001b[0;34m)\u001b[0m\u001b[0;34m\u001b[0m\u001b[0;34m\u001b[0m\u001b[0m\n\u001b[0;32m---> 14\u001b[0;31m         \u001b[0;32mwhile\u001b[0m \u001b[0mb\u001b[0m\u001b[0;34m[\u001b[0m\u001b[0;36m0\u001b[0m\u001b[0;34m]\u001b[0m \u001b[0;34m>\u001b[0m \u001b[0mmax\u001b[0m\u001b[0;34m(\u001b[0m\u001b[0maux\u001b[0m\u001b[0;34m)\u001b[0m\u001b[0;34m:\u001b[0m\u001b[0;34m\u001b[0m\u001b[0;34m\u001b[0m\u001b[0m\n\u001b[0m\u001b[1;32m     15\u001b[0m             \u001b[0mpa\u001b[0m\u001b[0;34m(\u001b[0m\u001b[0ma\u001b[0m\u001b[0;34m,\u001b[0m \u001b[0mb\u001b[0m\u001b[0;34m,\u001b[0m \u001b[0mresult\u001b[0m\u001b[0;34m)\u001b[0m\u001b[0;34m\u001b[0m\u001b[0;34m\u001b[0m\u001b[0m\n\u001b[1;32m     16\u001b[0m         \u001b[0mrra\u001b[0m\u001b[0;34m(\u001b[0m\u001b[0ma\u001b[0m\u001b[0;34m,\u001b[0m \u001b[0mb\u001b[0m\u001b[0;34m,\u001b[0m \u001b[0mresult\u001b[0m\u001b[0;34m)\u001b[0m\u001b[0;34m\u001b[0m\u001b[0;34m\u001b[0m\u001b[0m\n",
            "\u001b[0;31mIndexError\u001b[0m: list index out of range"
          ]
        }
      ]
    },
    {
      "cell_type": "code",
      "source": [
        "a = [1, 39, 42]\n",
        "b = [41, 40, 38, 37, 36, 35, 34, 33, 32, 31, 30, 29, 28, 27, 26, 25, 24, 23, 22, 21, 20, 19, 18, 17, 16, 15, 14, 13, 12, 11, 10, 9, 8, 7, 6, 5, 4, 3, 2]\n",
        "c = sorted(a + b)\n",
        "print(c[-2])"
      ],
      "metadata": {
        "id": "lmKWWaUGGTSH",
        "outputId": "0e0b9868-955c-487f-e96a-e00ee6e185fb",
        "colab": {
          "base_uri": "https://localhost:8080/"
        }
      },
      "execution_count": 10,
      "outputs": [
        {
          "output_type": "stream",
          "name": "stdout",
          "text": [
            "41\n"
          ]
        }
      ]
    }
  ]
}