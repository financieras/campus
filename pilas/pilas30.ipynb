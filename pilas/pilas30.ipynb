{
  "nbformat": 4,
  "nbformat_minor": 0,
  "metadata": {
    "colab": {
      "provenance": [],
      "authorship_tag": "ABX9TyPi/ni9irLd1oolbLZaqaLf",
      "include_colab_link": true
    },
    "kernelspec": {
      "name": "python3",
      "display_name": "Python 3"
    },
    "language_info": {
      "name": "python"
    }
  },
  "cells": [
    {
      "cell_type": "markdown",
      "metadata": {
        "id": "view-in-github",
        "colab_type": "text"
      },
      "source": [
        "<a href=\"https://colab.research.google.com/github/financieras/campus/blob/main/pilas/pilas30.ipynb\" target=\"_parent\"><img src=\"https://colab.research.google.com/assets/colab-badge.svg\" alt=\"Open In Colab\"/></a>"
      ]
    },
    {
      "cell_type": "markdown",
      "source": [
        "# Algoritmo Deep Moder Times usando tres parejas"
      ],
      "metadata": {
        "id": "YG97doX9tqWp"
      }
    },
    {
      "cell_type": "code",
      "execution_count": null,
      "metadata": {
        "id": "7vqmBYUatK3m"
      },
      "outputs": [],
      "source": [
        "# FUNCIONES\n",
        "def sa(a,b):\n",
        "    if len(a) > 1: a[0],a[1] = a[1],a[0]\n",
        "    return a,b\n",
        "def sb(a,b):\n",
        "    if len(b) > 1: b[0],b[1] = b[1],b[0]\n",
        "    return a,b\n",
        "def ss(a,b):\n",
        "    sa(a,b)\n",
        "    sb(a,b)\n",
        "    return a,b\n",
        "def pa(a,b):\n",
        "    if len(b) > 0:\n",
        "        a.insert(0, b[0])\n",
        "        b.pop(0)\n",
        "    return a,b\n",
        "def pb(a,b):\n",
        "    if len(a) > 0:\n",
        "        b.insert(0, a[0])\n",
        "        a.pop(0)\n",
        "    return a,b\n",
        "def ra(a,b):\n",
        "    if len(a) > 1: a.append(a.pop(0))\n",
        "    return a,b\n",
        "def rb(a,b):\n",
        "    if len(b) > 1: b.append(b.pop(0))\n",
        "    return a,b\n",
        "def rr(a,b):\n",
        "    ra(a,b)\n",
        "    rb(a,b)\n",
        "    return a,b\n",
        "def rra(a,b):\n",
        "    if len(a) > 1: a.insert(0, a.pop())\n",
        "    return a,b\n",
        "def rrb(a,b):\n",
        "    if len(b) > 1: b.insert(0, b.pop())\n",
        "    return a,b\n",
        "def rrr(a,b):\n",
        "    rra(a,b)\n",
        "    rrb(a,b)\n",
        "    return a,b"
      ]
    },
    {
      "cell_type": "code",
      "source": [
        "from random import seed, shuffle\n",
        "    seed()\n",
        "    n = 500   # número de elementos de la pila\n",
        "    mejor_contador = 32000      # incializamos en infinito o casi. Será el mejor de los tres contadores corresponientes a cada una de las tres parejas iniciales\n",
        "    a = list(range(1, n+1)); shuffle(a)   # generación aleatoria de la pila A\n",
        "    b = []\n",
        "    a_original = a[:]\n",
        "    posibles_lis = [[a[0], a[1]], [[a[0], a[-1]], [[a[0], a[2]]]   # las tres parejas iniciales que vamos a probar\n",
        "    for intento in range(3):   # vamos a probar cada una de las 3 parejas. Cada prueba será un intento\n",
        "        a = a_original[:]\n",
        "        b = []\n",
        "        lis = posibles_lis[intento]  # establece lis por ejemplo: lis = [a[0], a[1]]\n",
        "        contador = 0    # contador de pasos                              \n",
        "        if intento==0:\n",
        "            pb(a,b); contador += 1\n",
        "            pb(a,b); contador += 1\n",
        "        elif intento==1:\n",
        "            pb(a,b); contador += 1\n",
        "            rra(a,b); contador += 1\n",
        "            pb(a,b); contador += 1\n",
        "        elif intento==2:\n",
        "            pb(a,b); contador += 1\n",
        "            sa(a,b); contador += 1\n",
        "            pb(a,b); contador += 1\n",
        "    pb(a,b); contador += 1   # bajamos el primer número de A a B\n",
        "    pb(a,b); contador += 1   # bajamos el segundo número de A a B\n",
        "    while len(a)>3:"
      ],
      "metadata": {
        "id": "riSVzyEEuJgF"
      },
      "execution_count": null,
      "outputs": []
    }
  ]
}