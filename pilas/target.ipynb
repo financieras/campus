{
  "nbformat": 4,
  "nbformat_minor": 0,
  "metadata": {
    "colab": {
      "provenance": [],
      "authorship_tag": "ABX9TyOo1Ajiz+3kYkmtJmqA5bvl",
      "include_colab_link": true
    },
    "kernelspec": {
      "name": "python3",
      "display_name": "Python 3"
    },
    "language_info": {
      "name": "python"
    }
  },
  "cells": [
    {
      "cell_type": "markdown",
      "metadata": {
        "id": "view-in-github",
        "colab_type": "text"
      },
      "source": [
        "<a href=\"https://colab.research.google.com/github/financieras/campus/blob/main/pilas/target.ipynb\" target=\"_parent\"><img src=\"https://colab.research.google.com/assets/colab-badge.svg\" alt=\"Open In Colab\"/></a>"
      ]
    },
    {
      "cell_type": "markdown",
      "source": [
        "# Calcular ```pasosB``` por el nuevo método: buscando el hueco"
      ],
      "metadata": {
        "id": "djjKyqpAeGL6"
      }
    },
    {
      "cell_type": "code",
      "execution_count": null,
      "metadata": {
        "id": "t4EmrvfoeC3d"
      },
      "outputs": [],
      "source": [
        "a_original = [11, 20, 9, 27, 12, 21, 19, 28, 16, 30, 26, 14, 15, 5, 25, 8, 29, 23, 24, 3, 31, 6, 4, 32, 22, 2, 17, 13, 1, 7, 10, 18]\n",
        "a  = [3, 31, 6, 4, 32, 22, 2, 17, 13, 1, 7, 10, 18, 12, 28, 30]\n",
        "b = [26, 25, 24, 23, 21, 20, 19, 16, 15, 14, 11, 9, 8, 5, 29, 27]\n",
        "deberia_ser_pasosB = [-2, -2, -3, -2, -2, 4, -2, 7, -6, -2, -3, -5, 7, -6, -1, -2]\n",
        "target_manual = [29,29,5,29,29,21,29,16,11,29,5,9,16,11,27,29]\n",
        "\n",
        "\n",
        "def necesariosB_nuevo(a, b):    # crea el array pasosB\n",
        "    maxb = max(b)\n",
        "    minb = min(b)\n",
        "    for i in range(len(a)):\n",
        "        for j in range(len(b)):\n",
        "            if a[i] > b[] and \n",
        "\n",
        "\n",
        "\n"
      ]
    }
  ]
}