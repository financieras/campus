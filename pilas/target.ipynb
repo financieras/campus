{
  "nbformat": 4,
  "nbformat_minor": 0,
  "metadata": {
    "colab": {
      "provenance": [],
      "authorship_tag": "ABX9TyOXgOBilYqWD33ppM6j//vw",
      "include_colab_link": true
    },
    "kernelspec": {
      "name": "python3",
      "display_name": "Python 3"
    },
    "language_info": {
      "name": "python"
    }
  },
  "cells": [
    {
      "cell_type": "markdown",
      "metadata": {
        "id": "view-in-github",
        "colab_type": "text"
      },
      "source": [
        "<a href=\"https://colab.research.google.com/github/financieras/campus/blob/main/pilas/target.ipynb\" target=\"_parent\"><img src=\"https://colab.research.google.com/assets/colab-badge.svg\" alt=\"Open In Colab\"/></a>"
      ]
    },
    {
      "cell_type": "markdown",
      "source": [
        "# Calcular ```pasosB``` por el nuevo método: buscando el hueco"
      ],
      "metadata": {
        "id": "djjKyqpAeGL6"
      }
    },
    {
      "cell_type": "code",
      "execution_count": null,
      "metadata": {
        "id": "t4EmrvfoeC3d",
        "outputId": "da33d2cc-6f33-44d0-c2b8-a3376bb76b78",
        "colab": {
          "base_uri": "https://localhost:8080/"
        }
      },
      "outputs": [
        {
          "output_type": "stream",
          "name": "stdout",
          "text": [
            "[-2, -2, -3, -2, -2, 4, -2, 7, -6, -2, -3, -5, 7, -6, -1, -2]\n",
            "True\n"
          ]
        }
      ],
      "source": [
        "a_original = [11, 20, 9, 27, 12, 21, 19, 28, 16, 30, 26, 14, 15, 5, 25, 8, 29, 23, 24, 3, 31, 6, 4, 32, 22, 2, 17, 13, 1, 7, 10, 18]\n",
        "a  = [3, 31, 6, 4, 32, 22, 2, 17, 13, 1, 7, 10, 18, 12, 28, 30]\n",
        "b = [26, 25, 24, 23, 21, 20, 19, 16, 15, 14, 11, 9, 8, 5, 29, 27]\n",
        "deberia_ser_pasosB = [-2, -2, -3, -2, -2, 4, -2, 7, -6, -2, -3, -5, 7, -6, -1, -2]\n",
        "target_manual = [29,29,5,29,29,21,29,16,11,29,5,9,16,11,27,29]\n",
        "\n",
        "\n",
        "def necesariosB_nuevo(a, b):    # crea el target que es el número de B que se ha de poner el primero de B, para cada valor de A\n",
        "    pasosB = []\n",
        "    for i in range(len(a)):\n",
        "        if a[i] < min(b) or a[i] > max(b):\n",
        "            target = max(b)\n",
        "        else:\n",
        "            for j in range(len(b)-1):\n",
        "                if a[i] < b[j] and a[i] > b[j+1]:\n",
        "                    target = b[j+1]\n",
        "                elif a[i] < b[-1] and a[i] > b[0]:\n",
        "                    target = b[0]\n",
        "        # en este momento ya tenermos el target completamente calculado\n",
        "        # ahora toca calcular pasosB\n",
        "        if b.index(target) < len(b)/2:\n",
        "            pasosB.append(b.index(target))\n",
        "        else:\n",
        "            pasosB.append(-(len(b)- b.index(target)))\n",
        "    return pasosB\n",
        "\n",
        "print(necesariosB_nuevo(a, b))\n",
        "print(necesariosB_nuevo(a, b) == deberia_ser_pasosB)"
      ]
    },
    {
      "cell_type": "code",
      "source": [
        "##########   CÓDIGO ANTIGUO     ############\n",
        "\n",
        "def necesariosB(a, b):   # array pasosB calcula los pasos de B necesarios para colocar cada elemento de A dentro de su sitio en B\n",
        "    target = [None]*len(a)\n",
        "    for i in range(len(a)):    # objetivo_primero es el número que se ha de poner en la primera posición de la pila B\n",
        "        if a[i] < min(b):      # si el elemento de A considerado es menor que el mayor de B entonces\n",
        "            objetivo_primero = max(b)   # el objetivo_primero será el mayor de B\n",
        "            target[i] = objetivo_primero\n",
        "        else:   # objetivo_primero en este caso será el maximo de los inferiores en B al valor iésimo de A\n",
        "            objetivo_primero = min(b)   #se inicializa en el valor mínimo de la pila B\n",
        "            target[i] = objetivo_primero\n",
        "            for j in range(len(b)):\n",
        "                if b[j] < a[i] and b[j] > objetivo_primero:\n",
        "                        objetivo_primero = b[j]\n",
        "                        target[i] = objetivo_primero\n",
        "        # el objetivo_primero se ha de situar el primero de la pila B            \n",
        "        if b.index(objetivo_primero) < len(b)/2:\n",
        "            pasosB.append(b.index(objetivo_primero))\n",
        "        else:\n",
        "            pasosB.append(-(len(b)- b.index(objetivo_primero)))\n",
        "    print(target)\n",
        "    print(a)\n",
        "    print(b)\n",
        "    print()"
      ],
      "metadata": {
        "id": "qszcj5GAq9Sc"
      },
      "execution_count": null,
      "outputs": []
    }
  ]
}