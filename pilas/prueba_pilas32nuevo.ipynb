{
  "nbformat": 4,
  "nbformat_minor": 0,
  "metadata": {
    "colab": {
      "provenance": [],
      "authorship_tag": "ABX9TyM/2693KsmSfeUq1C+T8Z6w",
      "include_colab_link": true
    },
    "kernelspec": {
      "name": "python3",
      "display_name": "Python 3"
    },
    "language_info": {
      "name": "python"
    }
  },
  "cells": [
    {
      "cell_type": "markdown",
      "metadata": {
        "id": "view-in-github",
        "colab_type": "text"
      },
      "source": [
        "<a href=\"https://colab.research.google.com/github/financieras/campus/blob/main/pilas/prueba_pilas32nuevo.ipynb\" target=\"_parent\"><img src=\"https://colab.research.google.com/assets/colab-badge.svg\" alt=\"Open In Colab\"/></a>"
      ]
    },
    {
      "cell_type": "markdown",
      "source": [
        "# Deep Moder Times iniciando el algoritmo con los dos primeros números de A \n",
        "* En esta versión no se utilizan vairas parejas haciendo varios intentos.  \n",
        "* Únicamente se inicia el algoritmo pasando los dos primeros elementos de la pila A a la pila B.\n",
        "* La pareja con la que se inicia el algoritmo es ```a[0],a[1]```"
      ],
      "metadata": {
        "id": "v3orFRqdIE-h"
      }
    },
    {
      "cell_type": "code",
      "execution_count": 1,
      "metadata": {
        "id": "7vqmBYUatK3m"
      },
      "outputs": [],
      "source": [
        "# FUNCIONES\n",
        "def sa(a, b, result):   # result es un array que va acumulando los pasos dados. Ejemplo: result = ['pb','ra','sa','rra']\n",
        "    if len(a) > 1: a[0],a[1] = a[1],a[0]; result.append('sa')\n",
        "    return a, b, result\n",
        "def sb(a, b, result):\n",
        "    if len(b) > 1: b[0],b[1] = b[1],b[0]; result.append('sb')\n",
        "    return a, b, result\n",
        "def ss(a, b, result):   # ss no llama a sa y sb ya que en result quedarían anotadas las tres funciones: ss, sa y sb\n",
        "    if len(a) > 1 or len(b) > 1:\n",
        "        result.append('ss')\n",
        "        if len(a) > 1: a[0],a[1] = a[1],a[0]\n",
        "        if len(b) > 1: b[0],b[1] = b[1],b[0]\n",
        "    return a, b, result\n",
        "def pa(a, b, result):\n",
        "    if len(b) > 0:\n",
        "        a.insert(0, b[0])\n",
        "        b.pop(0); result.append('pa')\n",
        "    return a, b, result\n",
        "def pb(a, b, result):\n",
        "    if len(a) > 0:\n",
        "        b.insert(0, a[0])\n",
        "        a.pop(0); result.append('pb')\n",
        "    return a, b, result\n",
        "def ra(a, b, result):\n",
        "    if len(a) > 1: a.append(a.pop(0)); result.append('ra')\n",
        "    return a, b, result\n",
        "def rb(a, b, result):\n",
        "    if len(b) > 1: b.append(b.pop(0)); result.append('rb')\n",
        "    return a, b, result\n",
        "def rr(a, b, result):\n",
        "    if len(a) > 1 or len(b) > 1:\n",
        "        result.append('rr')\n",
        "    if len(a) > 1: a.append(a.pop(0))\n",
        "    if len(b) > 1: b.append(b.pop(0))\n",
        "    return a, b, result\n",
        "def rra(a, b, result):\n",
        "    if len(a) > 1: a.insert(0, a.pop()); result.append('rra')\n",
        "    return a, b, result\n",
        "def rrb(a, b, result):\n",
        "    if len(b) > 1: b.insert(0, b.pop()); result.append('rrb')\n",
        "    return a, b, result\n",
        "def rrr(a, b, result):\n",
        "    if len(a) > 1 or len(b) > 1:\n",
        "        result.append('rrr')\n",
        "    if len(a) > 1: a.insert(0, a.pop())\n",
        "    if len(b) > 1: b.insert(0, b.pop())\n",
        "    return a, b, result"
      ]
    },
    {
      "cell_type": "code",
      "source": [
        "# PASOS NECESARIOS PARA COLOCAR CADA ELEMENTO DE A EN SU SITIO EN B      total = pasosA + pasosB (esta suma es solo una idea, se ha de sumar de una forma peculiar)\n",
        "\n",
        "def necesariosA(a, b):   # array pasosA calcula los pasos necesarios para colocar cada elemento de A como el primero de su pila\n",
        "    for v in a:\n",
        "        if a.index(v) < len(a)/2:\n",
        "            pasosA.append(a.index(v))\n",
        "        else:\n",
        "            pasosA.append(-(len(a)- a.index(v)))\n",
        "    #print(\"pila A:\", a)\n",
        "    #print(\"pila B:\", b)\n",
        "    #print(\"pasosA:\", pasosA)\n",
        "\n",
        "def necesariosB(a, b):    # código nuevo: buscando el hueco\n",
        "    arr_target = [None] * len(a)\n",
        "    for i in range(len(a)):\n",
        "        if a[i] < min(b) or a[i] > max(b):\n",
        "            target = max(b); arr_target[i] = target\n",
        "        else:\n",
        "            for j in range(len(b)-1):\n",
        "                if a[i] < b[j] and a[i] > b[j+1]:\n",
        "                    target = b[j+1]; arr_target[i] = target\n",
        "                elif a[i] < b[-1] and a[i] > b[0]:\n",
        "                    target = b[0]; arr_target[i] = target\n",
        "        # en este momento ya tenermos el target completamente calculado\n",
        "        # ahora toca calcular pasosB\n",
        "        if b.index(target) < len(b)/2:\n",
        "            pasosB.append(b.index(target))\n",
        "        else:\n",
        "            pasosB.append(-(len(b)- b.index(target)))\n",
        "    #print(\"target:\", arr_target)\n",
        "    #print(\"pasosB:\", pasosB)\n",
        "\n",
        "\n",
        "def totaliza(a, b):   # totalizar pasos\n",
        "    global total\n",
        "    for i in range(len(pasosA)):\n",
        "        if pasosA[i] * pasosB[i] < 0:   # si son de distinto signo, uno positivo y otro negativo\n",
        "            total.append(abs(pasosA[i]) + abs(pasosB[i]))   # no hay sinergia\n",
        "        else:   # si son de igual signo o alguno cero\n",
        "            total.append(max(abs(pasosA[i]), abs(pasosB[i])))  # si son de igual signo hay sinergia\n",
        "    #print(\"total: \", total)\n",
        "    #print()\n",
        "\n",
        "def calculaIndexPasosMinimos():\n",
        "    global pasosA, pasosB, total\n",
        "    pasosA = []   # [0,1,2, ...,41,-41,... , -2,-1]  vector donde cada index está asociado con el valor del mismo index en A\n",
        "    pasosB = []   # [-3,2,-5, ..., -5,0]   estos dos arrays se han de recalcular cada vez que realmente se mueva algún elemento de A a B\n",
        "    total = []\n",
        "    necesariosA(a, b)\n",
        "    necesariosB(a, b)\n",
        "    totaliza(a, b)\n",
        "    return total.index(min(total))   # retorna el índice del elemento de la pila A que menos pasos totales necesita"
      ],
      "metadata": {
        "id": "Vy8JRVgnNutZ"
      },
      "execution_count": 2,
      "outputs": []
    },
    {
      "cell_type": "code",
      "source": [
        "def giraA(a, b, steps, result):\n",
        "    for i in range(abs(steps)):\n",
        "        if steps > 0:\n",
        "            ra(a, b, result)\n",
        "        elif steps < 0:\n",
        "            rra(a, b, result)\n",
        "\n",
        "def giraB(a, b, steps, result):\n",
        "    for i in range(abs(steps)):\n",
        "        if steps > 0:\n",
        "            rb(a, b, result)\n",
        "        elif steps < 0:\n",
        "            rrb(a, b, result)\n",
        "\n",
        "# girando pilas A y B\n",
        "def giraPilas(a, b, indice, result):   # indice es el index del valor en la pila A que deseamos poner el primero\n",
        "    if pasosA[indice] * pasosB[indice] > 0:   # Existe sinergia, nos podemos ahorrar pasos. Estoy en el caso de que pasosA y pasosB tienen el mimso signo\n",
        "        pasos_comunes = min(abs(pasosA[indice]), abs(pasosB[indice]))\n",
        "        for i in range(pasos_comunes):\n",
        "            if pasosA[indice] > 0:   # si el signo de ambos es positivo, ya que ambos tienen el mismo signo\n",
        "                rr(a, b, result)\n",
        "            elif pasosA[indice] < 0: # si el signo de ambos es negativo\n",
        "                rrr(a, b, result)\n",
        "        exceso_pasosA = abs(pasosA[indice]) - pasos_comunes\n",
        "        exceso_pasosB = abs(pasosB[indice]) - pasos_comunes\n",
        "        giraA(a, b, ((pasosA[indice] > 0) - (pasosA[indice] < 0)) * exceso_pasosA, result)    # (a > 0) - (a < 0) da el signo de a\n",
        "        giraB(a, b, ((pasosB[indice] > 0) - (pasosB[indice] < 0)) * exceso_pasosB, result)   # Python no tiene función sign\n",
        "    else:   # No existe sinergia\n",
        "        giraA(a ,b, pasosA[indice], result)   # gira A\n",
        "        giraB(a, b, pasosB[indice], result)   # gira B"
      ],
      "metadata": {
        "id": "jp2JPuQKQ6IL"
      },
      "execution_count": 3,
      "outputs": []
    },
    {
      "cell_type": "code",
      "source": [
        "def situarMax_en_B(a, b, result):   # situa el valor máximo de B en la primera posición de B\n",
        "    indice = b.index(max(b))\n",
        "    if indice < len(a)/2:\n",
        "        steps = indice\n",
        "    else:\n",
        "        steps = -(len(b)- indice)\n",
        "    giraB(a, b, steps, result)\n",
        "\n",
        "def crecientesA(a, b, result):   # situa los tres valores de A en forma creciente estricta: Ejemplo: 17, 45, 82\n",
        "    if a[0] < a[1] > a[2] and a[0] < a[2]:        # caso: 1 3 2\n",
        "        ra(a, b, result)\n",
        "        sa(a, b, result)\n",
        "        rra(a, b, result)\n",
        "    elif a[0] > a[1] < a[2] and a[0] < a[2]:        # caso: 2 1 3\n",
        "        sa(a, b, result)\n",
        "    elif a[0] < a[1] > a[2] and a[0] > a[2]:        # caso: 2 3 1\n",
        "        rra(a, b, result)\n",
        "    elif a[0] > a[1] < a[2] and a[0] > a[2]:        # caso: 3 1 2\n",
        "        ra(a, b, result)\n",
        "    elif a[0] > a[1] > a[2]:                        # caso: 3 2 1\n",
        "        sa(a, b, result)\n",
        "        rra(a, b, result)\n",
        "    return                                          # caso: 1 2 3 en este caso no se hace nada pq ya están ordenados"
      ],
      "metadata": {
        "id": "3xu35ZrfTm_4"
      },
      "execution_count": 4,
      "outputs": []
    },
    {
      "cell_type": "code",
      "source": [
        "# Después de ordenar los tres elementos de A en orden creciente estricto con la función crecientesA\n",
        "\n",
        "def cremallera(a, b, result):   # función que va pasando los números de B a A en forma de cremallera, intercalándolos con los que ya hay en A\n",
        "    aux = [a[-3], a[-2], a[-1]] # creamos un array aux con los tres últimos valores de A\n",
        "    while len(aux) > 0:         # Mientras aux tenga elementos\n",
        "        maximo = max(b + aux)   # calcula el maximo entre b y aux\n",
        "        if maximo in b:         # si el maximo está en B hacer pa\n",
        "            pa(a, b, result)\n",
        "        if maximo in aux:       # si el máximo está en aux hacer rra y aux.pop\n",
        "            #print(\"pila A:\", a)\n",
        "            #print(\"pila B:\", b)\n",
        "            #print()\n",
        "            rra(a, b, result)\n",
        "            aux.pop()\n",
        "            #print(\"pila A:\", a)\n",
        "            #print(\"pila B:\", b)\n",
        "            #print()\n",
        "    while len(b) > 0:           # ahora aux está vacío y solo queda hacer pa todo el rato\n",
        "        pa(a, b, result)\n",
        "'''\n",
        "\n",
        "def cremallera(a,b,result):     # esta función no es correcta con a = [1, 2, 5, 3, 4] ya que quedan en b 1 y 2\n",
        "    while len(b)>0:\n",
        "        if b[0] > a[-1]:\n",
        "            print(\"pila A:\", a)\n",
        "            print(\"pila B:\", b)\n",
        "            print()\n",
        "            pa(a,b,result)\n",
        "        elif b[0] == min(a+b) and a[0] == min(a):    # b[0] == 1 and a[0] == 2\n",
        "            print(\"pila A:\", a)\n",
        "            print(\"pila B:\", b)\n",
        "            print()\n",
        "            pa(a,b,result)\n",
        "        else:\n",
        "            print(\"pila A:\", a)\n",
        "            print(\"pila B:\", b)\n",
        "            print()\n",
        "            rra(a,b,result)\n",
        "    while a[-1] < a[0]:\n",
        "        print(\"pila A:\", a)\n",
        "        print(\"pila B:\", b)\n",
        "        print()\n",
        "        rra(a,b,result)\n",
        "'''"
      ],
      "metadata": {
        "id": "dLMI_rruYP0f",
        "outputId": "cd4b3ff9-1f1a-494d-86cd-5fa9e4c8f2c0",
        "colab": {
          "base_uri": "https://localhost:8080/",
          "height": 88
        }
      },
      "execution_count": 5,
      "outputs": [
        {
          "output_type": "execute_result",
          "data": {
            "text/plain": [
              "'\\n\\ndef cremallera(a,b,result):     # esta función no es correcta con a = [1, 2, 5, 3, 4] ya que quedan en b 1 y 2\\n    while len(b)>0:\\n        if b[0] > a[-1]:\\n            print(\"pila A:\", a)\\n            print(\"pila B:\", b)\\n            print()\\n            pa(a,b,result)\\n        elif b[0] == min(a+b) and a[0] == min(a):    # b[0] == 1 and a[0] == 2\\n            print(\"pila A:\", a)\\n            print(\"pila B:\", b)\\n            print()\\n            pa(a,b,result)\\n        else:\\n            print(\"pila A:\", a)\\n            print(\"pila B:\", b)\\n            print()\\n            rra(a,b,result)\\n    while a[-1] < a[0]:\\n        print(\"pila A:\", a)\\n        print(\"pila B:\", b)\\n        print()\\n        rra(a,b,result)\\n'"
            ],
            "application/vnd.google.colaboratory.intrinsic+json": {
              "type": "string"
            }
          },
          "metadata": {},
          "execution_count": 5
        }
      ]
    },
    {
      "cell_type": "code",
      "source": [
        "if __name__ == \"__main__\":\n",
        "    from random import seed, shuffle\n",
        "    seed()\n",
        "    n = 500                             # número de elementos de la pila\n",
        "    for muestra in range(1):\n",
        "        a = list(range(1, n+1)); shuffle(a) # generación aleatoria de la pila A\n",
        "        #a = [11, 20, 9, 27, 12, 21, 19, 28, 16, 30, 26, 14, 15, 5, 25, 8, 29, 23, 24, 3, 31, 6, 4, 32, 22, 2, 17, 13, 1, 7, 10, 18]\n",
        "        b = []\n",
        "        a_original = a[:]\n",
        "        result = []                         # recoje los pasos dados. Ejemplo: result = ['pb','ra','sa','rra']\n",
        "        pb(a, b, result); pb(a, b, result)  # pasa de A a B la pareja de elementos de A elegidos a[0], a[1]\n",
        "        while len(a) > 6:\n",
        "            index_minimosPasos = calculaIndexPasosMinimos()\n",
        "            giraPilas(a, b, index_minimosPasos, result)\n",
        "            pb(a, b, result)         # lo pasa de A a B haciendo pb\n",
        "        situarMax_en_B(a, b, result) # situa el valor máximo de B en la primera posición de B\n",
        "        print(\"pila A:\", a)\n",
        "        print(\"pila B:\", b)\n",
        "        #print()\n",
        "        crecientesA(a, b, result)    # situa los tres últimos valores de A en forma creciente estricta: Ejemplo: 17, 45, 82\n",
        "        #print(\"pila A:\", a)\n",
        "        #print(\"pila B:\", b)\n",
        "        #print()\n",
        "        cremallera(a, b, result)     # función que va pasando los números de B a A en forma de cremallera, intercalándolos con los que ya hay en A\n",
        "        #print(\"pila A:\", a)\n",
        "        #print(\"pila B:\", b)\n",
        "        #print()\n",
        "        #print(len(result))\n",
        "        #print(result)\n",
        "        contador = len(a)\n",
        "        if (muestra+1) % 10 == 0:\n",
        "            print(\".\", end=\"\")\n",
        "        if contador >= 5500:\n",
        "            print(f\"{muestra+1}: {contador}  {a_original}\")\n",
        "        if a != sorted(a_original):\n",
        "            print(\"No ordena\", a_original)"
      ],
      "metadata": {
        "id": "riSVzyEEuJgF",
        "colab": {
          "base_uri": "https://localhost:8080/"
        },
        "outputId": "7b79d047-4335-4ffe-cc0a-cdff5bc3c92d"
      },
      "execution_count": 7,
      "outputs": [
        {
          "output_type": "stream",
          "name": "stdout",
          "text": [
            "pila A: [257, 81, 107, 89, 86, 92]\n",
            "pila B: [500, 499, 498, 497, 496, 495, 494, 493, 492, 491, 490, 489, 488, 487, 486, 485, 484, 483, 482, 481, 480, 479, 478, 477, 476, 475, 474, 473, 472, 471, 470, 469, 468, 467, 466, 465, 464, 463, 462, 461, 460, 459, 458, 457, 456, 455, 454, 453, 452, 451, 450, 449, 448, 447, 446, 445, 444, 443, 442, 441, 440, 439, 438, 437, 436, 435, 434, 433, 432, 431, 430, 429, 428, 427, 426, 425, 424, 423, 422, 421, 420, 419, 418, 417, 416, 415, 414, 413, 412, 411, 410, 409, 408, 407, 406, 405, 404, 403, 402, 401, 400, 399, 398, 397, 396, 395, 394, 393, 392, 391, 390, 389, 388, 387, 386, 385, 384, 383, 382, 381, 380, 379, 378, 377, 376, 375, 374, 373, 372, 371, 370, 369, 368, 367, 366, 365, 364, 363, 362, 361, 360, 359, 358, 357, 356, 355, 354, 353, 352, 351, 350, 349, 348, 347, 346, 345, 344, 343, 342, 341, 340, 339, 338, 337, 336, 335, 334, 333, 332, 331, 330, 329, 328, 327, 326, 325, 324, 323, 322, 321, 320, 319, 318, 317, 316, 315, 314, 313, 312, 311, 310, 309, 308, 307, 306, 305, 304, 303, 302, 301, 300, 299, 298, 297, 296, 295, 294, 293, 292, 291, 290, 289, 288, 287, 286, 285, 284, 283, 282, 281, 280, 279, 278, 277, 276, 275, 274, 273, 272, 271, 270, 269, 268, 267, 266, 265, 264, 263, 262, 261, 260, 259, 258, 256, 255, 254, 253, 252, 251, 250, 249, 248, 247, 246, 245, 244, 243, 242, 241, 240, 239, 238, 237, 236, 235, 234, 233, 232, 231, 230, 229, 228, 227, 226, 225, 224, 223, 222, 221, 220, 219, 218, 217, 216, 215, 214, 213, 212, 211, 210, 209, 208, 207, 206, 205, 204, 203, 202, 201, 200, 199, 198, 197, 196, 195, 194, 193, 192, 191, 190, 189, 188, 187, 186, 185, 184, 183, 182, 181, 180, 179, 178, 177, 176, 175, 174, 173, 172, 171, 170, 169, 168, 167, 166, 165, 164, 163, 162, 161, 160, 159, 158, 157, 156, 155, 154, 153, 152, 151, 150, 149, 148, 147, 146, 145, 144, 143, 142, 141, 140, 139, 138, 137, 136, 135, 134, 133, 132, 131, 130, 129, 128, 127, 126, 125, 124, 123, 122, 121, 120, 119, 118, 117, 116, 115, 114, 113, 112, 111, 110, 109, 108, 106, 105, 104, 103, 102, 101, 100, 99, 98, 97, 96, 95, 94, 93, 91, 90, 88, 87, 85, 84, 83, 82, 80, 79, 78, 77, 76, 75, 74, 73, 72, 71, 70, 69, 68, 67, 66, 65, 64, 63, 62, 61, 60, 59, 58, 57, 56, 55, 54, 53, 52, 51, 50, 49, 48, 47, 46, 45, 44, 43, 42, 41, 40, 39, 38, 37, 36, 35, 34, 33, 32, 31, 30, 29, 28, 27, 26, 25, 24, 23, 22, 21, 20, 19, 18, 17, 16, 15, 14, 13, 12, 11, 10, 9, 8, 7, 6, 5, 4, 3, 2, 1]\n",
            "No ordena [401, 96, 140, 417, 64, 150, 317, 349, 340, 1, 367, 366, 263, 128, 184, 372, 134, 38, 132, 238, 203, 452, 157, 448, 169, 277, 379, 470, 335, 32, 325, 319, 200, 188, 18, 307, 371, 48, 195, 41, 377, 17, 59, 148, 478, 328, 473, 403, 144, 77, 31, 187, 36, 476, 75, 90, 53, 400, 490, 259, 210, 269, 451, 368, 426, 408, 361, 191, 227, 252, 8, 283, 469, 100, 399, 149, 406, 347, 391, 35, 468, 390, 465, 378, 423, 129, 282, 228, 459, 388, 10, 192, 402, 24, 158, 12, 389, 14, 180, 120, 475, 354, 404, 418, 301, 384, 189, 299, 135, 79, 313, 141, 229, 160, 267, 295, 474, 455, 310, 106, 496, 178, 479, 91, 275, 54, 171, 447, 186, 276, 52, 117, 27, 155, 364, 102, 416, 441, 193, 57, 122, 251, 430, 381, 222, 162, 45, 76, 185, 278, 494, 230, 66, 67, 236, 49, 255, 395, 434, 290, 386, 44, 88, 382, 223, 51, 296, 165, 138, 320, 84, 70, 453, 131, 460, 199, 239, 233, 312, 293, 205, 207, 442, 83, 271, 232, 415, 196, 487, 108, 338, 124, 342, 13, 352, 414, 219, 220, 16, 495, 37, 249, 445, 197, 95, 72, 114, 407, 329, 280, 405, 93, 226, 244, 28, 153, 285, 261, 213, 449, 71, 454, 21, 383, 98, 163, 22, 432, 303, 130, 394, 436, 104, 248, 493, 274, 97, 322, 99, 40, 211, 68, 318, 488, 429, 315, 254, 25, 152, 480, 161, 241, 247, 462, 333, 353, 116, 146, 159, 332, 125, 326, 39, 489, 425, 343, 339, 450, 483, 123, 428, 55, 294, 78, 237, 61, 376, 266, 393, 438, 298, 167, 281, 202, 308, 74, 5, 198, 209, 477, 204, 173, 113, 306, 363, 176, 136, 314, 111, 225, 413, 151, 9, 215, 221, 81, 292, 26, 484, 424, 457, 385, 311, 30, 444, 47, 20, 60, 183, 11, 268, 440, 272, 23, 279, 464, 323, 387, 485, 182, 179, 427, 190, 471, 411, 262, 214, 2, 107, 396, 359, 443, 145, 65, 365, 139, 356, 216, 341, 334, 4, 467, 421, 212, 89, 284, 42, 397, 154, 439, 472, 497, 15, 486, 348, 86, 270, 121, 369, 297, 289, 358, 321, 58, 143, 466, 300, 337, 260, 330, 264, 218, 392, 246, 243, 373, 398, 92, 412, 29, 147, 456, 380, 201, 168, 345, 500, 112, 94, 375, 351, 177, 256, 336, 101, 288, 3, 50, 115, 357, 481, 127, 174, 142, 309, 156, 327, 46, 253, 409, 287, 422, 109, 360, 491, 119, 355, 87, 118, 73, 482, 126, 82, 234, 80, 362, 56, 433, 370, 291, 19, 194, 33, 344, 350, 324, 273, 137, 164, 240, 435, 63, 257, 463, 305, 498, 410, 258, 265, 175, 6, 181, 224, 133, 437, 419, 166, 85, 231, 43, 420, 69, 499, 7, 245, 304, 458, 492, 170, 103, 105, 242, 461, 34, 235, 250, 331, 206, 431, 62, 172, 374, 446, 217, 110, 302, 208, 316, 346, 286]\n"
          ]
        }
      ]
    }
  ]
}