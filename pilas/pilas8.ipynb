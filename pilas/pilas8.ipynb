{
  "nbformat": 4,
  "nbformat_minor": 0,
  "metadata": {
    "colab": {
      "provenance": [],
      "authorship_tag": "ABX9TyN9OP2ABFfwAQ18AhGMdV2d",
      "include_colab_link": true
    },
    "kernelspec": {
      "name": "python3",
      "display_name": "Python 3"
    },
    "language_info": {
      "name": "python"
    }
  },
  "cells": [
    {
      "cell_type": "markdown",
      "metadata": {
        "id": "view-in-github",
        "colab_type": "text"
      },
      "source": [
        "<a href=\"https://colab.research.google.com/github/financieras/campus/blob/main/pilas/pilas8.ipynb\" target=\"_parent\"><img src=\"https://colab.research.google.com/assets/colab-badge.svg\" alt=\"Open In Colab\"/></a>"
      ]
    },
    {
      "cell_type": "code",
      "execution_count": 2,
      "metadata": {
        "colab": {
          "base_uri": "https://localhost:8080/"
        },
        "id": "6hblQZWhHKFa",
        "outputId": "77f86cc9-c6a3-48d7-efc9-f1773ebe23c6"
      },
      "outputs": [
        {
          "output_type": "stream",
          "name": "stdout",
          "text": [
            "['Hola', 'Que', 'Tal']\n",
            "['Hola', 'Que', 'Tal']\n",
            "['Hola', 'Que', 'Tal']\n",
            "['Hola', 'Que', 'Tal']\n",
            "['Hola', 'Que', 'Tal']\n",
            "Tal\n"
          ]
        }
      ],
      "source": [
        "class WorkSheet:\n",
        "\tdef __init__(self, value1, value2, value3):\n",
        "\t\tself.vector = [value1, value2, value3];\n",
        "\n",
        "myArray=[]\n",
        "\n",
        "for i in range(5):\n",
        "\tmyArray.append(WorkSheet(\"Hola\", \"Que\", \"Tal\"))\n",
        "\n",
        "for i in range(5):\n",
        "\tprint(myArray[i].vector)\n",
        "\n",
        "\n",
        "print(myArray[3].vector[2])"
      ]
    },
    {
      "cell_type": "code",
      "source": [
        "class Indexado():\n",
        "    def __init__(self):\n",
        "        self.data = [5,6,7,8,9,10]\n",
        "    def __getitem__(self, item):\n",
        "        if isinstance(item, int):\n",
        "            print(\"index: \", item)\n",
        "            return self.data[item]\n",
        "        else:\n",
        "            print(\"slice: \", item)\n",
        "            return self.data[item]\n",
        "    def __setitem__(self, key, value):\n",
        "        self.data[key] = value\n",
        "\n",
        "vector = Indexado()\n",
        "print(\"primer elemento del vector: \", vector[0])\n",
        "vector[0] = 50\n",
        "print(\"los tres primeros elementos del vector: \", vector[0:4])"
      ],
      "metadata": {
        "colab": {
          "base_uri": "https://localhost:8080/"
        },
        "id": "wR8R6UpKFjuv",
        "outputId": "fdafc907-9b01-4370-ab1c-ed9c00f650d5"
      },
      "execution_count": 6,
      "outputs": [
        {
          "output_type": "stream",
          "name": "stdout",
          "text": [
            "index:  0\n",
            "primer elemento del vector:  5\n",
            "slice:  slice(0, 4, None)\n",
            "los tres primeros elementos del vector:  [50, 6, 7, 8]\n"
          ]
        }
      ]
    }
  ]
}