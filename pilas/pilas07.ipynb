{
  "nbformat": 4,
  "nbformat_minor": 0,
  "metadata": {
    "colab": {
      "provenance": [],
      "authorship_tag": "ABX9TyNv2GK/8UBHIFAXvYT3hyjT",
      "include_colab_link": true
    },
    "kernelspec": {
      "name": "python3",
      "display_name": "Python 3"
    },
    "language_info": {
      "name": "python"
    }
  },
  "cells": [
    {
      "cell_type": "markdown",
      "metadata": {
        "id": "view-in-github",
        "colab_type": "text"
      },
      "source": [
        "<a href=\"https://colab.research.google.com/github/financieras/campus/blob/main/pilas/pilas7.ipynb\" target=\"_parent\"><img src=\"https://colab.research.google.com/assets/colab-badge.svg\" alt=\"Open In Colab\"/></a>"
      ]
    },
    {
      "cell_type": "markdown",
      "source": [
        "# Grado de desorden\n",
        "Establecemos un índice que mida el grado de desorden de la permutación\n",
        "* la permutación [1, 2, 3, 4, 5, 6, 7, 8, 9] ha de tener el grado mínimo\n",
        "* la permutación [8, 3, 5, 2, 4, 7, 1, 6, 9] debería tener un grado de desorden mayor que la anterior\n",
        "\n",
        "Estudiaremos tres índices:\n",
        "* Índice de alejamiento de su posición: aleja\n",
        "* Índice de distancia a los contiguos: distan\n",
        "* Desviaciones entre el valor y su índice: desv\n"
      ],
      "metadata": {
        "id": "BTGy2GQLEuZT"
      }
    },
    {
      "cell_type": "code",
      "source": [
        "def indice_alejamiento(li):\n",
        "    total = 0\n",
        "    for i, v in enumerate(li):\n",
        "        total += abs(v-i-1)  # se resta 1 porque el índex de un array comienza en 0\n",
        "    return total\n",
        "\n",
        "print(indice_alejamiento([6, 3, 5, 2, 4, 7, 1, 8, 9]))  # debe dar 18\n",
        "print(indice_alejamiento([1,2,3,4,5,6,7,8,9]))  # debe dar 0"
      ],
      "metadata": {
        "id": "oGbgWEOYJLGq",
        "outputId": "74974a4e-93db-4918-b1cc-ba449bf8b068",
        "colab": {
          "base_uri": "https://localhost:8080/"
        }
      },
      "execution_count": 1,
      "outputs": [
        {
          "output_type": "stream",
          "name": "stdout",
          "text": [
            "18\n",
            "0\n"
          ]
        }
      ]
    },
    {
      "cell_type": "code",
      "source": [
        "def distancia_contiguos(li):\n",
        "    total = 0\n",
        "    n = len(li)\n",
        "    #print(n)\n",
        "    for i in range(n):\n",
        "        if i==0: total += abs(li[i]-li[-1])+abs(li[i]-li[i+1])-n\n",
        "        elif i==n-1: total += abs(li[i]-li[i-1])+abs(li[i]-li[0])-n\n",
        "        else: total += abs(li[i]-li[i-1])+abs(li[i]-li[i+1])-2\n",
        "    return total\n",
        "\n",
        "print(distancia_contiguos([6, 3, 5, 2, 4, 7, 1, 8, 9]))  # debe dar 28\n",
        "print(distancia_contiguos([1,2,3,4,5,6,7,8,9]))  # debe dar 0"
      ],
      "metadata": {
        "id": "Uz0a3PATOIh2",
        "outputId": "5217c600-d1e0-44e2-ac83-07d59b2435e8",
        "colab": {
          "base_uri": "https://localhost:8080/"
        }
      },
      "execution_count": 2,
      "outputs": [
        {
          "output_type": "stream",
          "name": "stdout",
          "text": [
            "28\n",
            "0\n"
          ]
        }
      ]
    },
    {
      "cell_type": "code",
      "source": [
        "def desviaciones(li): # suma de las desviaciones estandar poblaciones entre un valor y su index+1\n",
        "    total = 0\n",
        "    for i, v in enumerate(li):\n",
        "        media = (v+i+1)/2\n",
        "        total += (((i+1-media)**2 + (v-media)**2)/2)**.5\n",
        "    return total\n",
        "\n",
        "print(desviaciones([6, 3, 5, 2, 4, 7, 1, 8, 9]))  # debe dar 9\n",
        "print(desviaciones([1,2,3,4,5,6,7,8,9]))  # debe dar 0"
      ],
      "metadata": {
        "id": "UbQNWV_QOPwS",
        "outputId": "6e568d29-db7f-4b45-9896-2106af57be6b",
        "colab": {
          "base_uri": "https://localhost:8080/"
        }
      },
      "execution_count": 3,
      "outputs": [
        {
          "output_type": "stream",
          "name": "stdout",
          "text": [
            "9.0\n",
            "0.0\n"
          ]
        }
      ]
    }
  ]
}
