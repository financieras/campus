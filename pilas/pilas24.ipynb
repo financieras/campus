{
  "nbformat": 4,
  "nbformat_minor": 0,
  "metadata": {
    "colab": {
      "provenance": [],
      "authorship_tag": "ABX9TyP05DX9Wi21Qv7AArOgwGIu",
      "include_colab_link": true
    },
    "kernelspec": {
      "name": "python3",
      "display_name": "Python 3"
    },
    "language_info": {
      "name": "python"
    }
  },
  "cells": [
    {
      "cell_type": "markdown",
      "metadata": {
        "id": "view-in-github",
        "colab_type": "text"
      },
      "source": [
        "<a href=\"https://colab.research.google.com/github/financieras/campus/blob/main/pilas/pilas24.ipynb\" target=\"_parent\"><img src=\"https://colab.research.google.com/assets/colab-badge.svg\" alt=\"Open In Colab\"/></a>"
      ]
    },
    {
      "cell_type": "markdown",
      "source": [
        "# Programación dinámica iterativa (optimal sort) \n",
        "## Todas las permutaciones de n=3 y n=5 en Excel\n",
        "Existen dos tipos de programación dinámica:\n",
        " * la recursiva (hace uso de la recursividad, la función se llama a si misma)\n",
        " * la iterativa\n",
        "\n",
        "Ambas utilizan *memoization* o memoización que consiste en ir almacenando en un array o tabla los casos ya resueltos para tenerlos disponibles en caso de que se necesiten nuevamente al atacar un problema más complejo. Gracias a este almacenamiento se puede llegara ahorrar mucho tiempo.\n",
        "\n",
        "---\n",
        "\n"
      ],
      "metadata": {
        "id": "IHGEJHH3DdEu"
      }
    },
    {
      "cell_type": "code",
      "source": [
        "# FUNCIONES\n",
        "def sa(a,b):\n",
        "    if len(a) > 1: a[0],a[1] = a[1],a[0]\n",
        "    return a,b\n",
        "def sb(a,b):\n",
        "    if len(b) > 1: b[0],b[1] = b[1],b[0]\n",
        "    return a,b\n",
        "def ss(a,b):\n",
        "    sa(a,b)\n",
        "    sb(a,b)\n",
        "    return a,b\n",
        "def pa(a,b):\n",
        "    if len(b) > 0:\n",
        "        a.insert(0, b[0])\n",
        "        b.pop(0)\n",
        "    return a,b\n",
        "def pb(a,b):\n",
        "    if len(a) > 0:\n",
        "        b.insert(0, a[0])\n",
        "        a.pop(0)\n",
        "    return a,b\n",
        "def ra(a,b):\n",
        "    if len(a) > 1: a.append(a.pop(0))\n",
        "    return a,b\n",
        "def rb(a,b):\n",
        "    if len(b) > 1: b.append(b.pop(0))\n",
        "    return a,b\n",
        "def rr(a,b):\n",
        "    ra(a,b)\n",
        "    rb(a,b)\n",
        "    return a,b\n",
        "def rra(a,b):\n",
        "    if len(a) > 1: a.insert(0, a.pop())\n",
        "    return a,b\n",
        "def rrb(a,b):\n",
        "    if len(b) > 1: b.insert(0, b.pop())\n",
        "    return a,b\n",
        "def rrr(a,b):\n",
        "    rra(a,b)\n",
        "    rrb(a,b)\n",
        "    return a,b\n",
        "\n",
        "\n",
        "def separa_valor(v):\n",
        "    posicion = v.find('|')\n",
        "    a_str = v[:posicion]\n",
        "    b_str = v[posicion+1:]\n",
        "    a = [int(num) for num in a_str.split()]   # [4, 3, 2, 1]\n",
        "    b = [int(num) for num in b_str.split()]\n",
        "    return a, b\n",
        "\n",
        "def agrega(k, instruccion, aCopy, bCopy):\n",
        "    pareja = ' '.join([str(x) for x in aCopy]) + \"|\" + ' '.join([str(x) for x in bCopy])   # '3 4 2 1|'\n",
        "    tupla = tuple([str(instruccion)])\n",
        "    if pareja not in d.values():\n",
        "        d[k+tupla] = pareja\n",
        "\n",
        "def busca(a,b):    # Estas son a y b: [4, 3, 2, 1] []\n",
        "    global d\n",
        "    while valor_ordenado not in d.values():\n",
        "        nivel = max([len(k) for k in d.keys()])   # el nivel del árbol es igual a la máxima longitud de las tuplas que van como clave en el diccionario. Inicialmente el nivel=0\n",
        "        d_nivel = {}   # inicializamos un diccionario que copia d pero solo los items que sean del nivel máximo en ese momento\n",
        "        for k,v in d.items():\n",
        "            if len(k) == nivel:\n",
        "                d_nivel[k] = v\n",
        "\n",
        "        for k,v in d_nivel.items():\n",
        "            a, b = separa_valor(v)\n",
        "        \n",
        "            for i in moves:\n",
        "                if (i == \"sa\"): aCopy, bCopy = sa(a[:], b[:])\n",
        "                elif (i == \"sb\"): aCopy, bCopy = sb(a[:], b[:])\n",
        "                elif (i == \"ss\"): aCopy, bCopy = ss(a[:], b[:])\n",
        "                elif (i == \"pa\"): aCopy, bCopy = pa(a[:], b[:])\n",
        "                elif (i == \"pb\"): aCopy, bCopy = pb(a[:], b[:])\n",
        "                elif (i == \"ra\"): aCopy, bCopy = ra(a[:], b[:])\n",
        "                elif (i == \"rb\"): aCopy, bCopy = rb(a[:], b[:])\n",
        "                elif (i == \"rr\"): aCopy, bCopy = rr(a[:], b[:])\n",
        "                elif (i == \"rra\"): aCopy, bCopy = rra(a[:], b[:])\n",
        "                elif (i == \"rrb\"): aCopy, bCopy = rrb(a[:], b[:])\n",
        "                elif (i == \"rrr\"): aCopy, bCopy = rrr(a[:], b[:])\n",
        "                agrega(k, i, aCopy, bCopy)\n",
        "\n",
        "if __name__ == \"__main__\":   # Este código funciona con números no correlativos, grandes, negativos y cero. Para n=6 tarda 4 segundos aprox.\n",
        "    a = [5,4,3,2,1]\n",
        "    a_original = a[:]\n",
        "    b = []\n",
        "    n = len(a)\n",
        "    contador = 0\n",
        "    a_str = ' '.join(str(x) for x in a)   # convierte [1, 2, 3] en \"1 2 3\"\n",
        "    moves = [\"sa\",\"sb\",\"pa\",\"pb\",\"ra\",\"rb\",\"rra\",\"rrb\",\"ss\",\"rr\",\"rrr\"]\n",
        "    d = {(): a_str + \"|\"}   # diccionario. Ejemplo: {():'4 3 2 1|', ('sa',):'3 4 2 1|', ('pb',):'3 2 1|4', ('ra',):'3 2 1 4|', ('rra',):'1 4 3 2|', ('pb', 'sa'):'2 3 1|4', ('pb', 'pb'):'2 1|3 4'}\n",
        "    #a = [int(num) for num in a_str.split()]   # [4, 3, 2, 1]\n",
        "    b = []\n",
        "    valor_ordenado = ' '.join(map(str, sorted(a))) + '|'   #  \"1 2 3 4|\"\n",
        "    busca(a,b)\n",
        "    solucion = list(d.keys())[list(d.values()).index(valor_ordenado)]\n",
        "    print(a_str)\n",
        "    #print(solucion)   # da la clave que corresponde al valor ordenado \"1 2 3 4|\"\n",
        "    #print(d)   # imprime el diccionario completo\n",
        "    print(' '.join(str(v) for v in solucion))\n",
        "    print(\"Pasos: \", len(solucion))"
      ],
      "metadata": {
        "id": "eNg2AyQIDxvo",
        "colab": {
          "base_uri": "https://localhost:8080/"
        },
        "outputId": "080b1e0c-8a8c-40fe-eb74-8f429ae20d98"
      },
      "execution_count": 7,
      "outputs": [
        {
          "output_type": "stream",
          "name": "stdout",
          "text": [
            "5 4 3 2 1\n",
            "sa rra pb ra ra sa pa\n",
            "Pasos:  7\n"
          ]
        }
      ]
    }
  ]
}