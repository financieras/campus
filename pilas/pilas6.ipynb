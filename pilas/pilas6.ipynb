{
  "nbformat": 4,
  "nbformat_minor": 0,
  "metadata": {
    "colab": {
      "provenance": [],
      "authorship_tag": "ABX9TyN2e/T2K6gTmXeBRzK8Flad",
      "include_colab_link": true
    },
    "kernelspec": {
      "name": "python3",
      "display_name": "Python 3"
    },
    "language_info": {
      "name": "python"
    }
  },
  "cells": [
    {
      "cell_type": "markdown",
      "metadata": {
        "id": "view-in-github",
        "colab_type": "text"
      },
      "source": [
        "<a href=\"https://colab.research.google.com/github/financieras/campus/blob/main/pilas/pilas6.ipynb\" target=\"_parent\"><img src=\"https://colab.research.google.com/assets/colab-badge.svg\" alt=\"Open In Colab\"/></a>"
      ]
    },
    {
      "cell_type": "code",
      "source": [
        "!pip install openpyxl"
      ],
      "metadata": {
        "colab": {
          "base_uri": "https://localhost:8080/"
        },
        "id": "FrwicCYXZWMC",
        "outputId": "17cd0fdf-b47c-4049-adac-f6527cf962fc"
      },
      "execution_count": 1,
      "outputs": [
        {
          "output_type": "stream",
          "name": "stdout",
          "text": [
            "Looking in indexes: https://pypi.org/simple, https://us-python.pkg.dev/colab-wheels/public/simple/\n",
            "Requirement already satisfied: openpyxl in /usr/local/lib/python3.8/dist-packages (3.0.10)\n",
            "Requirement already satisfied: et-xmlfile in /usr/local/lib/python3.8/dist-packages (from openpyxl) (1.1.0)\n"
          ]
        }
      ]
    },
    {
      "cell_type": "code",
      "execution_count": 3,
      "metadata": {
        "colab": {
          "base_uri": "https://localhost:8080/"
        },
        "id": "vJ01RDnIZRTJ",
        "outputId": "7bcf7d31-09ca-4b30-d1df-7a1172fc66ae"
      },
      "outputs": [
        {
          "output_type": "stream",
          "name": "stdout",
          "text": [
            "<class 'openpyxl.workbook.workbook.Workbook'>\n",
            "['Sheet']\n",
            "['Sheet1', 'Sheet2', 'Sheet3', 'Sheet4', 'Sheet5', 'Sheet6', 'Sheet7', 'Sheet8', 'Sheet9', 'Sheet10']\n"
          ]
        }
      ],
      "source": [
        "from random import sample, seed\n",
        "import openpyxl            # importamos la librería openpyxl\n",
        "from itertools import permutations\n",
        "seed()\n",
        "\n",
        "import openpyxl                # importamos la librería openpyxl\n",
        "wb = openpyxl.Workbook()       # para crear por primera vez un libro\n",
        "ws = wb.active                 # estas dos lineas crean el libro, aún sin nombre\n",
        "\n",
        "print(type(wb))                # miramos a ver quién es la variable wb\n",
        "print(wb.sheetnames)           # proporciona la lista de hojas del libro de trabajo\n",
        "for i in range(2,11):          # creamos las hojas Hoja2 hasta Hoja10\n",
        "    wb.create_sheet(\"Sheet\"+str(i))\n",
        "\n",
        "ws1 = wb['Sheet']              # cambiamos el nombre de la primera hoja llamada Sheet\n",
        "ws1.title = 'Sheet1'           # por el nombre Sheet1\n",
        "\n",
        "print(wb.sheetnames)           # imprimimos todos los nombres de hoja\n",
        "wb.save('mejor_opcion.xlsx')   # grabamos el fichero por primera vez"
      ]
    },
    {
      "cell_type": "code",
      "source": [
        "import openpyxl            # importamos la librería openpyxl\n",
        "from itertools import permutations\n",
        "\n",
        "# Cuando ya sebemos que queremos trabajar con el archivo campus/pilas/mejor_opcion.xlsm\n",
        "wb = openpyxl.load_workbook('mejor_opcion.xlsx')\n",
        "ws4 = wb[\"Sheet4\"]         # accediendo a la hoja4\n",
        "ws4['E10'] = \"Permutaciones\"\n",
        "\n",
        "n = 4\n",
        "perm = permutations(list(range(1,n+1)))   # obtenemos todas las permutaciones de la lista \n",
        "\n",
        "for count, fila in enumerate(list(perm)):             # imprimimos todas las permutaciones\n",
        "    lista = list(fila)                                # las primera fila es una tupla con (1,2,3,4)\n",
        "    for j in range(n):\n",
        "        ws4.cell(row=count+11, column=j+5).value = lista[j]\n",
        "\n",
        "wb.save('mejor_opcion.xlsx')\n",
        "wb.close()"
      ],
      "metadata": {
        "id": "o_Oglh8Xch3O"
      },
      "execution_count": 4,
      "outputs": []
    }
  ]
}