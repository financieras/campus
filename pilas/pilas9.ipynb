{
  "nbformat": 4,
  "nbformat_minor": 0,
  "metadata": {
    "colab": {
      "provenance": [],
      "include_colab_link": true
    },
    "kernelspec": {
      "name": "python3",
      "display_name": "Python 3"
    },
    "language_info": {
      "name": "python"
    }
  },
  "cells": [
    {
      "cell_type": "markdown",
      "metadata": {
        "id": "view-in-github",
        "colab_type": "text"
      },
      "source": [
        "<a href=\"https://colab.research.google.com/github/financieras/campus/blob/main/pilas/pilas9.ipynb\" target=\"_parent\"><img src=\"https://colab.research.google.com/assets/colab-badge.svg\" alt=\"Open In Colab\"/></a>"
      ]
    },
    {
      "cell_type": "markdown",
      "source": [
        "# Procedimiento mejorado primero\n",
        "Tomemos n=100 siendo a\n",
        "\n",
        "a = a = [82, 14, 53, 81, 34, 40, 25, 52, 22, 91, 93, 80, 79, 5, 8, 17, 99, 96, 16, ......]\n",
        "\n",
        "* El \"procedimiento mejorado primero\" consigue ordenarlo en:\n",
        "contador: 1492"
      ],
      "metadata": {
        "id": "AM89B1DE_-Xn"
      }
    },
    {
      "cell_type": "code",
      "source": [
        "# FUNCIONES\n",
        "from random import sample, seed\n",
        "seed()\n",
        "\n",
        "def lista_ordenada(lis):\n",
        "    estaordenada = False\n",
        "    aux = lis[:]\n",
        "    aux.sort()\n",
        "    if aux == lis:\n",
        "        estaordenada = True\n",
        "    return estaordenada\n",
        "\n",
        "def sa(a,b):\n",
        "    if len(a) > 1: a[0],a[1] = a[1],a[0]\n",
        "    return a,b\n",
        "def sb(a,b):\n",
        "    if len(b) > 1: b[0],b[1] = b[1],b[0]\n",
        "    return a,b\n",
        "def ss(a,b):\n",
        "    sa(a,b)\n",
        "    sb(a,b)\n",
        "    return a,b\n",
        "def pa(a,b):\n",
        "    if len(b) > 0:\n",
        "        a.insert(0, b[0])\n",
        "        b.pop(0)\n",
        "    return a,b\n",
        "def pb(a,b):\n",
        "    if len(a) > 0:\n",
        "        b.insert(0, a[0])\n",
        "        a.pop(0)\n",
        "    return a,b\n",
        "def ra(a,b):\n",
        "    if len(a) > 1: a.append(a.pop(0))\n",
        "    return a,b\n",
        "def rb(a,b):\n",
        "    if len(b) > 1: b.append(b.pop(0))\n",
        "    return a,b\n",
        "def rr(a,b):\n",
        "    ra(a,b)\n",
        "    rb(a,b)\n",
        "    return a,b\n",
        "def rra(a,b):\n",
        "    if len(a) > 1: a.insert(0, a.pop())\n",
        "    return a,b\n",
        "def rrb(a,b):\n",
        "    if len(b) > 1: b.insert(0, b.pop())\n",
        "    return a,b\n",
        "def rrr(a,b):\n",
        "    rra(a,b)\n",
        "    rrb(a,b)\n",
        "    return a,b"
      ],
      "metadata": {
        "id": "aoo1oYYjBzcm"
      },
      "execution_count": 1,
      "outputs": []
    },
    {
      "cell_type": "code",
      "execution_count": 2,
      "metadata": {
        "colab": {
          "base_uri": "https://localhost:8080/"
        },
        "id": "E235L0_E_69U",
        "outputId": "64487c4f-8942-4121-e772-3888610aaadb"
      },
      "outputs": [
        {
          "output_type": "stream",
          "name": "stdout",
          "text": [
            "contador: 1492\n"
          ]
        }
      ],
      "source": [
        "# PROCEDIMIENTO MEJORADO PRIMERO\n",
        "if __name__ == \"__main__\":\n",
        "    # Generación de la pila a\n",
        "    n = 100   # número de elementos de la pila\n",
        "    #a = sample(range(1, n+1), n)\n",
        "    a = [82, 14, 53, 81, 34, 40, 25, 52, 22, 91, 93, 80, 79, 5, 8, 17, 99, 96, 16, 65, 72, 18, 94, 66, 43, 44, 2, 3, 97, 86, 6, 32, 77, 35, 68, 61, 45, 63, 24, 83, 37, 48, 28, 95, 39, 60, 64, 85, 56, 12, 89, 92, 26, 70, 78, 55, 19, 98, 29, 88, 1, 69, 47, 71, 4, 10, 30, 59, 11, 15, 31, 75, 33, 7, 90, 27, 62, 36, 42, 58, 13, 41, 50, 23, 20, 38, 49, 76, 73, 57, 84, 100, 54, 21, 51, 87, 9, 46, 67, 74]\n",
        "    a_original = a[:]\n",
        "    n = len(a)\n",
        "    b = []\n",
        "    ### PROCEDIMIENTO\n",
        "    contador = 0\n",
        "    while not lista_ordenada(a):   # se repite hasta que A quede ordenada. Si solo queda un elemento en A es que está ordenada\n",
        "        # buscamos el mínimo y vamos haciendo ra o rra hasta que el mínimo esté el primero\n",
        "        while min(a) != a[0]:\n",
        "            #print(\"min(a)=\", min(a))\n",
        "            if a.index(min(a)) <= int(len(a)/2):\n",
        "                #print(min(a))\n",
        "                #print(\"index del min y mitad:\", a.index(min(a)), int(len(a)/2))\n",
        "                ra(a,b)\n",
        "            else:\n",
        "                rra(a,b)\n",
        "            contador += 1\n",
        "            ##print(a,b)\n",
        "        if not lista_ordenada(a):\n",
        "            pb(a,b); contador += 1; ##print(a,b) # luego hacemos pb\n",
        "    # luego se hace pa pa pa pa hasta que no quede nadie en la pila b\n",
        "    while len(b) > 0:\n",
        "        pa(a,b); contador += 1; ##print(a,b)\n",
        "    print(\"contador:\", contador)"
      ]
    },
    {
      "cell_type": "markdown",
      "source": [
        "# Procedimiento mejorado segundo\n",
        "* Se basa en dividir los n números de la lista A inicial en s tramos.  \n",
        "* Por ejemplo, para n=100 dividimos en s=5 tramos.\n",
        "* Posteriormente tendremos que hacer pruebas para determinar el s óptimo para cada n, y también en función del grado de complejidad de la pila A inicial que nos proporcionen. \n",
        " - El primer tramo son los números 1 a 20, que se buscan en A y se pasan a B.\n",
        " - Para ordenar esos 20 números en B de forma creciente (del 20 al 1) usamos la pila A como pila auxiliar.\n",
        " - Cuando ya tengamos el priemer tramo ordenado de forma creciente en B vamos a por el segundo tramo\n",
        " - Esto se hace con todos los tramos salvo el último\n",
        " - En el último tramo, en la pila B, vemos que deben haber quedado ordenados de forma decreciente los números de 80 a 1, así 80,79,78,...,1.\n",
        " - En el úlitmo tramo, en la pila A, vemos que los números 81 a 100 que han quedado desordenados.\n",
        " - Estos 20 últimos números se ordenan en A de forma creciente: 81,82,...,100, para ello se usa la pila B como pila auxiliar.\n",
        " - Finalmente se pasan los números de B a A."
      ],
      "metadata": {
        "id": "cPv9Xr_y_P49"
      }
    },
    {
      "cell_type": "code",
      "source": [
        "# PROCEDIMIENTO MEJORADO SEGUNDO\n",
        "# dividiendo los n=100 valores aleatorios en s=5 grupos de n/s=20 números cada uno\n",
        "# si no es divisible se toma un ancho=int(n/s) y se ajusta el último para que finalice en n\n",
        "def separa(tramo, n, s, a, b):   # se llevan de la pila A a la B los s-1 primeros tramos\n",
        "    contador = 0\n",
        "    ancho = int(n/s)\n",
        "    fin = tramo * ancho          # fin del tramo\n",
        "    inicio = (tramo-1)*ancho+1   # inicio del tramo\n",
        "    print(f\"tramo: {tramo}, n: {n}, s: {s}, \\na: {a}, \\nb: {b}, \\nancho: {ancho}, inicio: {inicio}, fin: {fin}, contador interno: {contador}\")\n",
        "    for i in range(n):   # recorremos todos los elementos de la lista 'a' que inicialmente son n\n",
        "        if inicio <= a[0] <= fin:\n",
        "            pb(a,b)\n",
        "            contador += 1\n",
        "        else:\n",
        "            ra(a,b)\n",
        "            contador += 1\n",
        "    return a, b, contador\n",
        "\n",
        "def ordena_primeros(tramo, n, s, a, b):\n",
        "    # ordena los números recientemente separados y llevados a B\n",
        "    # el objetivo es que esos números queden en B ordenados de forma decreciente: 5,4,3,2,1\n",
        "    contador = 0\n",
        "    ancho = int(n/s)\n",
        "    fin = tramo * ancho          # fin del tramo\n",
        "    inicio = (tramo-1)*ancho+1   # inicio del tramo\n",
        "    if creciente:\n",
        "        pass\n",
        "    else:   # trabajando sobre la pila B, desamos hacerles decrecientes\n",
        "        primero = fin\n",
        "\n",
        "def ordena_ultimo(tramo, n, s, a, b):\n",
        "    pass\n",
        "\n",
        "if __name__ == \"__main__\":\n",
        "    a = a_original[:]\n",
        "    n = len(a)\n",
        "    b = []\n",
        "    s = 5   # número de grupos\n",
        "    ### PROCEDIMIENTO\n",
        "    print(a)\n",
        "    print(b)\n",
        "    contador = 0\n",
        "    for tramo in range(1, s):   # tramo=1,2,...,s-1. El último tramo se trata de forma diferente\n",
        "        a, b, contador_separa = separa(tramo,n,s,a,b)   # lleva de A a B los números correspondientes a ese tramo\n",
        "        contador += contador_separa\n",
        "        if tramo==1: break\n",
        "        '''\n",
        "        a, b, contador_ordena = ordena_primeros(tramo,n,s,a,b)   # ordena los números recientemente separados y llevados a B\n",
        "        # la pila de trabajo es \"B\" y el objetivo es que sea decreciente\n",
        "        contador += contador_ordena\n",
        "    # tramo final donde los números de A ya se ordenan en A, ya no se usa la función separa\n",
        "    # la pila de trabajo es \"A\" y el objetivo es que sea creciente\n",
        "    a, b, contador_ordena = ordena(tramo,n,s,a,b,\"A\", True)   # ordena los números del úlitmo tramo que están en \"A\" y el objetivo es que queden crecientes: 19,20\n",
        "    contador += contador_ordena\n",
        "    for v in b:\n",
        "        pa(a,b); contador += 1'''\n",
        "    print(contador)\n",
        "    print(a)\n",
        "    print(b)\n"
      ],
      "metadata": {
        "id": "UmUYfJz4Dlun",
        "outputId": "47632d83-87b7-41d7-ac90-b536242d7040",
        "colab": {
          "base_uri": "https://localhost:8080/"
        }
      },
      "execution_count": null,
      "outputs": [
        {
          "output_type": "stream",
          "name": "stdout",
          "text": [
            "[82, 14, 53, 81, 34, 40, 25, 52, 22, 91, 93, 80, 79, 5, 8, 17, 99, 96, 16, 65, 72, 18, 94, 66, 43, 44, 2, 3, 97, 86, 6, 32, 77, 35, 68, 61, 45, 63, 24, 83, 37, 48, 28, 95, 39, 60, 64, 85, 56, 12, 89, 92, 26, 70, 78, 55, 19, 98, 29, 88, 1, 69, 47, 71, 4, 10, 30, 59, 11, 15, 31, 75, 33, 7, 90, 27, 62, 36, 42, 58, 13, 41, 50, 23, 20, 38, 49, 76, 73, 57, 84, 100, 54, 21, 51, 87, 9, 46, 67, 74]\n",
            "[]\n",
            "tramo: 1, n: 100, s: 5, \n",
            "a: [82, 14, 53, 81, 34, 40, 25, 52, 22, 91, 93, 80, 79, 5, 8, 17, 99, 96, 16, 65, 72, 18, 94, 66, 43, 44, 2, 3, 97, 86, 6, 32, 77, 35, 68, 61, 45, 63, 24, 83, 37, 48, 28, 95, 39, 60, 64, 85, 56, 12, 89, 92, 26, 70, 78, 55, 19, 98, 29, 88, 1, 69, 47, 71, 4, 10, 30, 59, 11, 15, 31, 75, 33, 7, 90, 27, 62, 36, 42, 58, 13, 41, 50, 23, 20, 38, 49, 76, 73, 57, 84, 100, 54, 21, 51, 87, 9, 46, 67, 74], \n",
            "b: [], \n",
            "ancho: 20, inicio: 1, fin: 20, contador interno: 0\n",
            "100\n",
            "[82, 53, 81, 34, 40, 25, 52, 22, 91, 93, 80, 79, 99, 96, 65, 72, 94, 66, 43, 44, 97, 86, 32, 77, 35, 68, 61, 45, 63, 24, 83, 37, 48, 28, 95, 39, 60, 64, 85, 56, 89, 92, 26, 70, 78, 55, 98, 29, 88, 69, 47, 71, 30, 59, 31, 75, 33, 90, 27, 62, 36, 42, 58, 41, 50, 23, 38, 49, 76, 73, 57, 84, 100, 54, 21, 51, 87, 46, 67, 74]\n",
            "[9, 20, 13, 7, 15, 11, 10, 4, 1, 19, 12, 6, 3, 2, 18, 16, 17, 8, 5, 14]\n"
          ]
        }
      ]
    },
    {
      "cell_type": "code",
      "source": [
        "print(len(b))"
      ],
      "metadata": {
        "id": "CIxQPiHR6CuU",
        "outputId": "2d332794-9ab0-4569-97be-af30c54f7b34",
        "colab": {
          "base_uri": "https://localhost:8080/"
        }
      },
      "execution_count": null,
      "outputs": [
        {
          "output_type": "stream",
          "name": "stdout",
          "text": [
            "20\n"
          ]
        }
      ]
    },
    {
      "cell_type": "code",
      "source": [
        "def pru(li):\n",
        "    li.pop()\n",
        "    return li\n",
        "\n",
        "a=[1,2,3]\n",
        "pru(a)\n",
        "print(a)"
      ],
      "metadata": {
        "id": "-os6t9wSJHhr",
        "outputId": "09bd23f5-4f19-49b9-a1b5-9379b2bd0ae0",
        "colab": {
          "base_uri": "https://localhost:8080/"
        }
      },
      "execution_count": null,
      "outputs": [
        {
          "output_type": "stream",
          "name": "stdout",
          "text": [
            "[1, 2]\n"
          ]
        }
      ]
    }
  ]
}