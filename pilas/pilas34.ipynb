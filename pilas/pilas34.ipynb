{
  "nbformat": 4,
  "nbformat_minor": 0,
  "metadata": {
    "colab": {
      "provenance": [],
      "authorship_tag": "ABX9TyPel4UutVLpuYHMFHOg9QDv",
      "include_colab_link": true
    },
    "kernelspec": {
      "name": "python3",
      "display_name": "Python 3"
    },
    "language_info": {
      "name": "python"
    }
  },
  "cells": [
    {
      "cell_type": "markdown",
      "metadata": {
        "id": "view-in-github",
        "colab_type": "text"
      },
      "source": [
        "<a href=\"https://colab.research.google.com/github/financieras/campus/blob/main/pilas/pilas34.ipynb\" target=\"_parent\"><img src=\"https://colab.research.google.com/assets/colab-badge.svg\" alt=\"Open In Colab\"/></a>"
      ]
    },
    {
      "cell_type": "markdown",
      "source": [
        "# Ordenando los últimos de A con programación dinámica\n",
        "* Los últimos 5 o 6 de A se ordenarán de forma creciente para luego hacer la cremallera"
      ],
      "metadata": {
        "id": "hENMBn1zXlMU"
      }
    },
    {
      "cell_type": "code",
      "source": [
        "# FUNCIONES para la programación dinámica\n",
        "def sa_pd(a,b):\n",
        "    if len(a) > 1: a[0],a[1] = a[1],a[0]\n",
        "    return a,b\n",
        "def sb_pd(a,b):\n",
        "    if len(b) > 1: b[0],b[1] = b[1],b[0]\n",
        "    return a,b\n",
        "def ss_pd(a,b):\n",
        "    sa_pd(a,b)\n",
        "    sb_pd(a,b)\n",
        "    return a,b\n",
        "def pa_pd(a,b):\n",
        "    if len(b) > 0:\n",
        "        a.insert(0, b[0])\n",
        "        b.pop(0)\n",
        "    return a,b\n",
        "def pb_pd(a,b):\n",
        "    if len(a) > 0:\n",
        "        b.insert(0, a[0])\n",
        "        a.pop(0)\n",
        "    return a,b\n",
        "def ra_pd(a,b):\n",
        "    if len(a) > 1: a.append(a.pop(0))\n",
        "    return a,b\n",
        "def rb_pd(a,b):\n",
        "    if len(b) > 1: b.append(b.pop(0))\n",
        "    return a,b\n",
        "def rr_pd(a,b):\n",
        "    ra_pd(a,b)\n",
        "    rb_pd(a,b)\n",
        "    return a,b\n",
        "def rra_pd(a,b):\n",
        "    if len(a) > 1: a.insert(0, a.pop())\n",
        "    return a,b\n",
        "def rrb_pd(a,b):\n",
        "    if len(b) > 1: b.insert(0, b.pop())\n",
        "    return a,b\n",
        "def rrr_pd(a,b):\n",
        "    rra_pd(a,b)\n",
        "    rrb_pd(a,b)\n",
        "    return a,b"
      ],
      "metadata": {
        "id": "4_aCsWsybInh"
      },
      "execution_count": 1,
      "outputs": []
    },
    {
      "cell_type": "code",
      "execution_count": 2,
      "metadata": {
        "colab": {
          "base_uri": "https://localhost:8080/"
        },
        "id": "Mf19x63nbeOd",
        "outputId": "951a43aa-ad12-4ae4-a3b4-4c2e2cd95d74"
      },
      "outputs": [
        {
          "output_type": "stream",
          "name": "stdout",
          "text": [
            "valor_ordenado: 4 7 9 11 36 40|42 41 39 38 37 35 34 33 32 31 30 29 28 27 26 25 24 23 22 21 20 19 18 17 16 15 14 13 12 10 8 6 5 3 2 1\n",
            "d: {(): '36 40 4 9 11 7|42 41 39 38 37 35 34 33 32 31 30 29 28 27 26 25 24 23 22 21 20 19 18 17 16 15 14 13 12 10 8 6 5 3 2 1'}\n"
          ]
        },
        {
          "output_type": "stream",
          "name": "stderr",
          "text": [
            "IOPub data rate exceeded.\n",
            "The notebook server will temporarily stop sending output\n",
            "to the client in order to avoid crashing it.\n",
            "To change this limit, set the config variable\n",
            "`--NotebookApp.iopub_data_rate_limit`.\n",
            "\n",
            "Current values:\n",
            "NotebookApp.iopub_data_rate_limit=1000000.0 (bytes/sec)\n",
            "NotebookApp.rate_limit_window=3.0 (secs)\n",
            "\n"
          ]
        }
      ],
      "source": [
        "def separa(v):\n",
        "    posicion = v.find('|')\n",
        "    a_str = v[:posicion]\n",
        "    b_str = v[posicion+1:]\n",
        "    a = [int(num) for num in a_str.split()]   # [4, 3, 2, 1]\n",
        "    b = [int(num) for num in b_str.split()]\n",
        "    return a, b\n",
        "\n",
        "def agrega(k, instruccion, aCopy, bCopy):\n",
        "    pareja = ' '.join([str(x) for x in aCopy]) + \"|\" + ' '.join([str(x) for x in bCopy])   # '3 4 2 1|'\n",
        "    tupla = tuple([str(instruccion)])\n",
        "    if pareja not in d.values():\n",
        "        d[k+tupla] = pareja\n",
        "\n",
        "def busca(a, b):    # Estas son a y b: [4, 3, 2, 1] []\n",
        "    global d\n",
        "    print(\"d:\", d)\n",
        "    while valor_ordenado not in d.values():\n",
        "        nivel = max([len(k) for k in d.keys()])   # el nivel del árbol es igual a la máxima longitud de las tuplas que van como clave en el diccionario. Inicialmente el nivel=0\n",
        "        d_nivel = {}   # inicializamos un diccionario que copia d pero solo los items que sean del nivel máximo en ese momento\n",
        "        for k,v in d.items():\n",
        "            if len(k) == nivel:\n",
        "                d_nivel[k] = v\n",
        "\n",
        "        for k,v in d_nivel.items():\n",
        "            a, b = separa(v)\n",
        "        \n",
        "            for i in moves:\n",
        "                if (i == \"sa\"): aCopy, bCopy = sa_pd(a[:], b[:])\n",
        "                elif (i == \"sb\"): aCopy, bCopy = sb_pd(a[:], b[:])\n",
        "                elif (i == \"ss\"): aCopy, bCopy = ss_pd(a[:], b[:])\n",
        "                elif (i == \"pa\"): aCopy, bCopy = pa_pd(a[:], b[:])\n",
        "                elif (i == \"pb\"): aCopy, bCopy = pb_pd(a[:], b[:])\n",
        "                elif (i == \"ra\"): aCopy, bCopy = ra_pd(a[:], b[:])\n",
        "                elif (i == \"rb\"): aCopy, bCopy = rb_pd(a[:], b[:])\n",
        "                elif (i == \"rr\"): aCopy, bCopy = rr_pd(a[:], b[:])\n",
        "                elif (i == \"rra\"): aCopy, bCopy = rra_pd(a[:], b[:])\n",
        "                elif (i == \"rrb\"): aCopy, bCopy = rrb_pd(a[:], b[:])\n",
        "                elif (i == \"rrr\"): aCopy, bCopy = rrr_pd(a[:], b[:])\n",
        "                agrega(k, i, aCopy, bCopy)\n",
        "\n",
        "if __name__ == \"__main__\":   # Este código funciona con números no correlativos, grandes, negativos y cero. Para n=6 tarda 4 segundos aprox.\n",
        "    a = [36, 40, 4, 9, 11, 7]\n",
        "    b = [42, 41, 39, 38, 37, 35, 34, 33, 32, 31, 30, 29, 28, 27, 26, 25, 24, 23, 22, 21, 20, 19, 18, 17, 16, 15, 14, 13, 12, 10, 8, 6, 5, 3, 2, 1]\n",
        "    moves = [\"sa\",\"pa\",\"ra\",\"rra\",\"pb\",\"sb\",\"rb\",\"ss\"]\n",
        "    a_str = ' '.join(map(str, a))\n",
        "    b_str = ' '.join(map(str, b))\n",
        "    d = {(): a_str + \"|\" + b_str}   # diccionario. Ejemplo: {():'4 3 2 1|', ('sa',):'3 4 2 1|', ('pb',):'3 2 1|4', ('ra',):'3 2 1 4|', ('rra',):'1 4 3 2|', ('pb', 'sa'):'2 3 1|4', ('pb', 'pb'):'2 1|3 4'}\n",
        "    valor_ordenado = ' '.join(map(str, sorted(a))) + '|' + b_str   #  \"1 2 3 4|\"\n",
        "    print(\"valor_ordenado:\", valor_ordenado)\n",
        "    busca(a, b)\n",
        "    print(list(d.keys())[list(d.values()).index(valor_ordenado)])   # da la clave que corresponde al valor ordenado \"1 2 3 4|\"\n",
        "    print(d)   # imprime el diccionario completo"
      ]
    },
    {
      "cell_type": "markdown",
      "source": [
        "a_str = \"22 29 41 40 11 10\"  \n",
        "a = [22, 29, 41, 40, 11, 10]   \n",
        "moves = [\"sa\",\"pa\",\"ra\",\"rra\",\"pb\",\"sb\",\"rb\",\"ss\"]   \n",
        "('sa', 'ra', 'sa', 'pb', 'sa', 'rra', 'sa', 'pa')"
      ],
      "metadata": {
        "id": "0cQPIZL4clDx"
      }
    }
  ]
}