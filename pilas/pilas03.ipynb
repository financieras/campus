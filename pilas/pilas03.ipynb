{
  "cells": [
    {
      "cell_type": "markdown",
      "metadata": {
        "id": "view-in-github",
        "colab_type": "text"
      },
      "source": [
        "<a href=\"https://colab.research.google.com/github/financieras/campus/blob/main/pilas/pilas03.ipynb\" target=\"_parent\"><img src=\"https://colab.research.google.com/assets/colab-badge.svg\" alt=\"Open In Colab\"/></a>"
      ]
    },
    {
      "cell_type": "markdown",
      "metadata": {
        "id": "PZ_tbQIjjmyh"
      },
      "source": [
        "# Ordenar pilas: ordenes aleatorias"
      ]
    },
    {
      "cell_type": "code",
      "execution_count": null,
      "metadata": {
        "id": "m3EK6UrejkuO"
      },
      "outputs": [],
      "source": [
        "from random import seed, choice\n",
        "seed()\n",
        "def sa(a,b):\n",
        "    if len(a) > 1: a[0],a[1] = a[1],a[0]\n",
        "    return a,b\n",
        "def sb(a,b):\n",
        "    if len(b) > 1: b[0],b[1] = b[1],b[0]\n",
        "    return a,b\n",
        "def ss(a,b):\n",
        "    sa(a,b)\n",
        "    sb(a,b)\n",
        "    return a,b\n",
        "def pa(a,b):\n",
        "    if len(b) > 0:\n",
        "        a.insert(0, b[0])\n",
        "        b.pop(0)\n",
        "    return a,b\n",
        "def pb(a,b):\n",
        "    if len(a) > 0:\n",
        "        b.insert(0, a[0])\n",
        "        a.pop(0)\n",
        "    return a,b\n",
        "def ra(a,b):\n",
        "    if len(a) > 1: a.append(a.pop(0))\n",
        "    return a,b\n",
        "def rb(a,b):\n",
        "    if len(b) > 1: b.append(b.pop(0))\n",
        "    return a,b\n",
        "def rr(a,b):\n",
        "    ra(a,b)\n",
        "    rb(a,b)\n",
        "    return a,b\n",
        "def rra(a,b):\n",
        "    if len(a) > 1: a.insert(0, a.pop())\n",
        "    return a,b\n",
        "def rrb(a,b):\n",
        "    if len(b) > 1: b.insert(0, b.pop())\n",
        "    return a,b\n",
        "def rrr(a,b):\n",
        "    rra(a,b)\n",
        "    rrb(a,b)\n",
        "    return a,b\n",
        "\n",
        "if __name__ == \"__main__\":\n",
        "    a_original = [5, 3, 1, 6, 4, 2]\n",
        "    b_original = []\n",
        "    a_ordenada = sorted(a_original)\n",
        "    catalogo = [\"sa\",\"sb\",\"pa\",\"pb\",\"ra\",\"rb\",\"rra\",\"rrb\",\"ss\",\"rr\",\"rrr\"] \n",
        "    print('\\ta: ', a_original)\n",
        "    print('\\tb: ', b_original)\n",
        "    #mejor_respuesta = [None]*(100+len(a_original)**3)\n",
        "    mejor_respuesta = ['rr', 'pb', 'pb', 'rr', 'sa', 'pa', 'sa', 'pa']\n",
        "    len_mejor = len(mejor_respuesta)\n",
        "    las_mejores = []\n",
        "    while True:\n",
        "        instrucciones = []\n",
        "        a = a_original[:]\n",
        "        b = b_original[:]\n",
        "        buscando = True\n",
        "        while a != a_ordenada and buscando:\n",
        "            instruccion = choice(catalogo)\n",
        "            instrucciones.append(instruccion)\n",
        "            if len(instrucciones) > len_mejor: buscando = False\n",
        "            if instruccion==\"sa\": sa(a,b)\n",
        "            elif instruccion==\"sb\": sb(a,b)\n",
        "            elif instruccion==\"ss\": ss(a,b)\n",
        "            elif instruccion==\"pa\": pa(a,b)\n",
        "            elif instruccion==\"pb\": pb(a,b)\n",
        "            elif instruccion==\"ra\": ra(a,b)\n",
        "            elif instruccion==\"rb\": rb(a,b)\n",
        "            elif instruccion==\"rr\": rr(a,b)\n",
        "            elif instruccion==\"rra\": rra(a,b)\n",
        "            elif instruccion==\"rrb\": rrb(a,b)\n",
        "            elif instruccion==\"rrr\": rrr(a,b)\n",
        "        #print(\"Las instrucciones:\", instrucciones)\n",
        "        len_mejor = len(mejor_respuesta)\n",
        "        if len(instrucciones) <= len_mejor:\n",
        "            if instrucciones not in las_mejores:\n",
        "                mejor_respuesta = instrucciones\n",
        "                las_mejores.append(mejor_respuesta)\n",
        "                print(\"*\", mejor_respuesta)"
      ]
    },
    {
      "cell_type": "markdown",
      "source": [
        "Mejores opciones para la pila: a:  [5, 3, 1, 6, 4, 2]\n",
        "\n",
        "\n",
        "* ['rr', 'pb', 'pb', 'rr', 'sa', 'pa', 'sa', 'pa']\n",
        "* ['ra', 'pb', 'pb', 'ra', 'ss', 'pa', 'sa', 'pa']\n",
        "* ['rr', 'pb', 'pb', 'ra', 'ss', 'pa', 'ss', 'pa']\n",
        "* ['ra', 'pb', 'pb', 'ra', 'ss', 'pa', 'ss', 'pa']\n",
        "* ['rr', 'pb', 'pb', 'rr', 'sa', 'pa', 'ss', 'pa']\n",
        "* ['rr', 'pb', 'pb', 'ra', 'ss', 'pa', 'sa', 'pa']\n",
        "* ['ra', 'pb', 'pb', 'rr', 'sa', 'pa', 'sa', 'pa']\n",
        "* ['ra', 'pb', 'pb', 'rr', 'sa', 'pa', 'ss', 'pa']"
      ],
      "metadata": {
        "id": "yb6utC5pPYN-"
      }
    }
  ],
  "metadata": {
    "colab": {
      "provenance": [],
      "authorship_tag": "ABX9TyMnQ0AvtX0xWFRXfrrHOAY3",
      "include_colab_link": true
    },
    "kernelspec": {
      "display_name": "Python 3.10.6 64-bit",
      "language": "python",
      "name": "python3"
    },
    "language_info": {
      "name": "python",
      "version": "3.10.6"
    },
    "vscode": {
      "interpreter": {
        "hash": "916dbcbb3f70747c44a77c7bcd40155683ae19c65e1c03b4aa3499c5328201f1"
      }
    }
  },
  "nbformat": 4,
  "nbformat_minor": 0
}