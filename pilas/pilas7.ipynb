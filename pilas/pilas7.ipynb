{
  "nbformat": 4,
  "nbformat_minor": 0,
  "metadata": {
    "colab": {
      "provenance": [],
      "authorship_tag": "ABX9TyP6MbPPDVXBadV7OvnPyri1",
      "include_colab_link": true
    },
    "kernelspec": {
      "name": "python3",
      "display_name": "Python 3"
    },
    "language_info": {
      "name": "python"
    }
  },
  "cells": [
    {
      "cell_type": "markdown",
      "metadata": {
        "id": "view-in-github",
        "colab_type": "text"
      },
      "source": [
        "<a href=\"https://colab.research.google.com/github/financieras/campus/blob/main/pilas/pilas7.ipynb\" target=\"_parent\"><img src=\"https://colab.research.google.com/assets/colab-badge.svg\" alt=\"Open In Colab\"/></a>"
      ]
    },
    {
      "cell_type": "markdown",
      "source": [
        "# Escribiendo en un libro de Excel\n",
        "## el resultado del algoritmo mejorado para cada una de las permutaciones\n",
        "* Desde la Hoja1: Sheet 1 para n=1\n",
        "* Hasta la Hoja10: Sheet10 para n=10 "
      ],
      "metadata": {
        "id": "E6fwWeRsp6Wu"
      }
    },
    {
      "cell_type": "code",
      "source": [
        "!pip install openpyxl   # instalamos la librería openpyxl en nuestro espacio reservado en Google Colab"
      ],
      "metadata": {
        "colab": {
          "base_uri": "https://localhost:8080/"
        },
        "id": "bdHWfcHR68uA",
        "outputId": "bd7b3df8-571f-447f-c452-c48295f1e7bd"
      },
      "execution_count": 1,
      "outputs": [
        {
          "output_type": "stream",
          "name": "stdout",
          "text": [
            "Looking in indexes: https://pypi.org/simple, https://us-python.pkg.dev/colab-wheels/public/simple/\n",
            "Requirement already satisfied: openpyxl in /usr/local/lib/python3.8/dist-packages (3.0.10)\n",
            "Requirement already satisfied: et-xmlfile in /usr/local/lib/python3.8/dist-packages (from openpyxl) (1.1.0)\n"
          ]
        }
      ]
    },
    {
      "cell_type": "code",
      "source": [
        "from random import sample, seed\n",
        "import openpyxl            # importamos la librería openpyxl\n",
        "from itertools import permutations\n",
        "seed()\n",
        "\n",
        "import openpyxl                # importamos la librería openpyxl\n",
        "wb = openpyxl.Workbook()       # para crear por primera vez un libro\n",
        "ws = wb.active                 # estas dos lineas crean el libro, aún sin nombre\n",
        "\n",
        "print(type(wb))                # miramos a ver quién es la variable wb\n",
        "print(wb.sheetnames)           # proporciona la lista de hojas del libro de trabajo\n",
        "n = 9\n",
        "for i in range(2,n+1):          # creamos las hojas Hoja2 hasta \"Hoja\"+\"n\"\n",
        "    wb.create_sheet(\"Sheet\"+str(i))\n",
        "\n",
        "ws1 = wb['Sheet']              # cambiamos el nombre de la primera hoja llamada Sheet\n",
        "ws1.title = 'Sheet1'           # por el nombre Sheet1\n",
        "\n",
        "print(wb.sheetnames)           # imprimimos todos los nombres de hoja\n",
        "wb.save('compendio.xlsx')   # grabamos el fichero por primera vez"
      ],
      "metadata": {
        "colab": {
          "base_uri": "https://localhost:8080/"
        },
        "id": "_0ypDKUj7PVQ",
        "outputId": "f8ff8707-3f61-4930-92fb-891907999899"
      },
      "execution_count": 28,
      "outputs": [
        {
          "output_type": "stream",
          "name": "stdout",
          "text": [
            "<class 'openpyxl.workbook.workbook.Workbook'>\n",
            "['Sheet']\n",
            "['Sheet1', 'Sheet2', 'Sheet3', 'Sheet4', 'Sheet5', 'Sheet6', 'Sheet7', 'Sheet8', 'Sheet9']\n"
          ]
        }
      ]
    },
    {
      "cell_type": "code",
      "source": [
        "def lista_ordenada(l):\n",
        "    estaordenada = False\n",
        "    aux = l[:]\n",
        "    aux.sort()\n",
        "    if (aux == l):\n",
        "        estaordenada = True\n",
        "    return estaordenada\n",
        "\n",
        "def sa(a,b):\n",
        "    if len(a) > 1: a[0],a[1] = a[1],a[0]\n",
        "    return a,b\n",
        "def sb(a,b):\n",
        "    if len(b) > 1: b[0],b[1] = b[1],b[0]\n",
        "    return a,b\n",
        "def pa(a,b):\n",
        "    if len(b) > 0:\n",
        "        a.insert(0, b[0])\n",
        "        b.pop(0)\n",
        "    return a,b\n",
        "def pb(a,b):\n",
        "    if len(a) > 0:\n",
        "        b.insert(0, a[0])\n",
        "        a.pop(0)\n",
        "    return a,b\n",
        "def ra(a,b):\n",
        "    if len(a) > 1: a.append(a.pop(0))\n",
        "    return a,b\n",
        "def rb(a,b):\n",
        "    if len(b) > 1: b.append(b.pop(0))\n",
        "    return a,b\n",
        "def rra(a,b):\n",
        "    if len(a) > 1: a.insert(0, a.pop())\n",
        "    return a,b\n",
        "def rrb(a,b):\n",
        "    if len(b) > 1: b.insert(0, b.pop())\n",
        "    return a,b\n",
        "\n",
        "def algoritmo(a_original):\n",
        "    ### PROCEDIMIENTO MEJORADO\n",
        "    a = a_original[:]\n",
        "    b = []\n",
        "    instrucciones = []\n",
        "    while len(a) > 1 and not lista_ordenada(a):   # se repite hasta que solo quede un elemento en la pila a\n",
        "        # buscamos el mínimo y vamos haciendo ra o rra hasta que el mínimo esté el primero\n",
        "        while min(a) != a[0]:\n",
        "            if a.index(min(a)) <= int(len(a)/2):\n",
        "                ra(a,b)\n",
        "                instrucciones.append('ra')\n",
        "            else:\n",
        "                rra(a,b)\n",
        "                instrucciones.append('rra')\n",
        "        if not lista_ordenada(a):\n",
        "            pb(a,b) # luego hacemos pb\n",
        "            instrucciones.append('pb')\n",
        "    # luego se hace pa pa pa pa hasta que no quede nadie en la pila b\n",
        "    while len(b) > 0:\n",
        "        pa(a,b)\n",
        "        instrucciones.append('pa')\n",
        "    return instrucciones"
      ],
      "metadata": {
        "id": "kOwWE9lz5v50"
      },
      "execution_count": 29,
      "outputs": []
    },
    {
      "cell_type": "code",
      "source": [
        "for h,ws in enumerate(wb.worksheets, start=1): # h es el nº de hoja desde 1 hasta n\n",
        "    ws['E10'] = \"Permutaciones\"\n",
        "    ws['F10'] = \"Algoritmo\"\n",
        "    p = permutations(list(range(1, h+1)))\n",
        "    lista_permutaciones = [list(j) for j in p]\n",
        "    for fila, lista in enumerate(lista_permutaciones, start=11):\n",
        "        caso = lista_permutaciones[fila-11]\n",
        "        ws.cell(row=fila, column=5).value = str(caso)\n",
        "        ws.cell(row=fila, column=6).value = str(algoritmo(caso))\n",
        "wb.save('compendio.xlsx')"
      ],
      "metadata": {
        "id": "ilbF-VAdzYz6"
      },
      "execution_count": 30,
      "outputs": []
    }
  ]
}