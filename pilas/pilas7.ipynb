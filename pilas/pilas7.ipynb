{
  "nbformat": 4,
  "nbformat_minor": 0,
  "metadata": {
    "colab": {
      "provenance": [],
      "authorship_tag": "ABX9TyPSmw6Cv1ijK2IftvHYnoBV",
      "include_colab_link": true
    },
    "kernelspec": {
      "name": "python3",
      "display_name": "Python 3"
    },
    "language_info": {
      "name": "python"
    }
  },
  "cells": [
    {
      "cell_type": "markdown",
      "metadata": {
        "id": "view-in-github",
        "colab_type": "text"
      },
      "source": [
        "<a href=\"https://colab.research.google.com/github/financieras/campus/blob/main/pilas/pilas7.ipynb\" target=\"_parent\"><img src=\"https://colab.research.google.com/assets/colab-badge.svg\" alt=\"Open In Colab\"/></a>"
      ]
    },
    {
      "cell_type": "markdown",
      "source": [
        "# Escribiendo en un libro de Excel\n",
        "## el resultado del algoritmo mejorado para cada una de las permutaciones\n",
        "* Desde la Hoja1: Sheet 1 para n=1\n",
        "* Hasta la Hoja10: Sheet10 para n=10 "
      ],
      "metadata": {
        "id": "E6fwWeRsp6Wu"
      }
    },
    {
      "cell_type": "code",
      "source": [
        "!pip install openpyxl   # instalamos la librería openpyxl en nuestro espacio reservado en Google Colab"
      ],
      "metadata": {
        "colab": {
          "base_uri": "https://localhost:8080/"
        },
        "id": "bdHWfcHR68uA",
        "outputId": "effbe118-8cee-4f59-b4d8-5b95306a5984"
      },
      "execution_count": 8,
      "outputs": [
        {
          "output_type": "stream",
          "name": "stdout",
          "text": [
            "Looking in indexes: https://pypi.org/simple, https://us-python.pkg.dev/colab-wheels/public/simple/\n",
            "Requirement already satisfied: openpyxl in /usr/local/lib/python3.8/dist-packages (3.0.10)\n",
            "Requirement already satisfied: et-xmlfile in /usr/local/lib/python3.8/dist-packages (from openpyxl) (1.1.0)\n"
          ]
        }
      ]
    },
    {
      "cell_type": "code",
      "source": [
        "from random import sample, seed\n",
        "import openpyxl            # importamos la librería openpyxl\n",
        "from itertools import permutations\n",
        "seed()\n",
        "\n",
        "import openpyxl                # importamos la librería openpyxl\n",
        "wb = openpyxl.Workbook()       # para crear por primera vez un libro\n",
        "ws = wb.active                 # estas dos lineas crean el libro, aún sin nombre\n",
        "\n",
        "print(type(wb))                # miramos a ver quién es la variable wb\n",
        "print(wb.sheetnames)           # proporciona la lista de hojas del libro de trabajo\n",
        "n = 9\n",
        "for i in range(2,n+1):          # creamos las hojas Hoja2 hasta \"Hoja\"+\"n\"\n",
        "    wb.create_sheet(\"Sheet\"+str(i))\n",
        "\n",
        "ws1 = wb['Sheet']              # cambiamos el nombre de la primera hoja llamada Sheet\n",
        "ws1.title = 'Sheet1'           # por el nombre Sheet1\n",
        "\n",
        "print(wb.sheetnames)           # imprimimos todos los nombres de hoja\n",
        "wb.save('compendio.xlsx')      # grabamos el fichero por primera vez"
      ],
      "metadata": {
        "colab": {
          "base_uri": "https://localhost:8080/"
        },
        "id": "_0ypDKUj7PVQ",
        "outputId": "b7628f21-ec38-479d-ed90-845d5254261c"
      },
      "execution_count": 13,
      "outputs": [
        {
          "output_type": "stream",
          "name": "stdout",
          "text": [
            "<class 'openpyxl.workbook.workbook.Workbook'>\n",
            "['Sheet']\n",
            "['Sheet1', 'Sheet2', 'Sheet3', 'Sheet4', 'Sheet5', 'Sheet6', 'Sheet7', 'Sheet8', 'Sheet9']\n"
          ]
        }
      ]
    },
    {
      "cell_type": "code",
      "source": [
        "def lista_ordenada(li):\n",
        "    ordenada = False   # inicialmente suponemos que la lista no está ordenada\n",
        "    aux = li[:]\n",
        "    aux.sort()\n",
        "    if (aux == li):   # si la lista li coincide con la aux que si está ordenada\n",
        "        ordenada = True   # entonces es que li también está ordenada\n",
        "    return ordenada\n",
        "\n",
        "def sa(a,b):\n",
        "    if len(a) > 1: a[0],a[1] = a[1],a[0]\n",
        "    return a,b\n",
        "def sb(a,b):\n",
        "    if len(b) > 1: b[0],b[1] = b[1],b[0]\n",
        "    return a,b\n",
        "def pa(a,b):\n",
        "    if len(b) > 0:\n",
        "        a.insert(0, b[0])\n",
        "        b.pop(0)\n",
        "    return a,b\n",
        "def pb(a,b):\n",
        "    if len(a) > 0:\n",
        "        b.insert(0, a[0])\n",
        "        a.pop(0)\n",
        "    return a,b\n",
        "def ra(a,b):\n",
        "    if len(a) > 1: a.append(a.pop(0))\n",
        "    return a,b\n",
        "def rb(a,b):\n",
        "    if len(b) > 1: b.append(b.pop(0))\n",
        "    return a,b\n",
        "def rra(a,b):\n",
        "    if len(a) > 1: a.insert(0, a.pop())\n",
        "    return a,b\n",
        "def rrb(a,b):\n",
        "    if len(b) > 1: b.insert(0, b.pop())\n",
        "    return a,b\n",
        "\n",
        "def algoritmo(a_original):\n",
        "    ### PROCEDIMIENTO MEJORADO\n",
        "    a = a_original[:]\n",
        "    b = []\n",
        "    instrucciones = []\n",
        "    while not lista_ordenada(a):   # se repite hasta que A quede ordenada. Si solo queda un elemento en A es que está ordenada\n",
        "        # buscamos el mínimo y vamos haciendo ra o rra hasta que el mínimo esté el primero\n",
        "        while min(a) != a[0]:\n",
        "            if a.index(min(a)) <= int(len(a)/2):\n",
        "                ra(a,b)\n",
        "                instrucciones.append('ra')\n",
        "            else:\n",
        "                rra(a,b)\n",
        "                instrucciones.append('rra')\n",
        "        if not lista_ordenada(a):\n",
        "            pb(a,b) # luego hacemos pb\n",
        "            instrucciones.append('pb')\n",
        "    # luego se hace pa pa pa pa hasta que no quede nadie en la pila b\n",
        "    while len(b) > 0:\n",
        "        pa(a,b)\n",
        "        instrucciones.append('pa')\n",
        "    return instrucciones"
      ],
      "metadata": {
        "id": "kOwWE9lz5v50"
      },
      "execution_count": 14,
      "outputs": []
    },
    {
      "cell_type": "code",
      "source": [
        "def indice_alejamiento(li):\n",
        "    total = 0\n",
        "    for i, v in enumerate(li):\n",
        "        total += abs(v-i-1)  # se resta 1 porque el índex de un array comienza en 0\n",
        "    return total\n",
        "\n",
        "print(indice_alejamiento([6, 3, 5, 2, 4, 7, 1, 8, 9]))  # debe dar 18\n",
        "print(indice_alejamiento([1,2,3,4,5,6,7,8,9]))  # debe dar 0"
      ],
      "metadata": {
        "id": "oGbgWEOYJLGq",
        "outputId": "e97e6617-40ff-4fc8-d068-33810bea0841",
        "colab": {
          "base_uri": "https://localhost:8080/"
        }
      },
      "execution_count": 15,
      "outputs": [
        {
          "output_type": "stream",
          "name": "stdout",
          "text": [
            "18\n",
            "0\n"
          ]
        }
      ]
    },
    {
      "cell_type": "code",
      "source": [
        "def distancia_contiguos(li):\n",
        "    total = 0\n",
        "    n = len(li)\n",
        "    #print(n)\n",
        "    for i in range(n):\n",
        "        if i==0: total += abs(li[i]-li[-1])+abs(li[i]-li[i+1])-n\n",
        "        elif i==n-1: total += abs(li[i]-li[i-1])+abs(li[i]-li[0])-n\n",
        "        else: total += abs(li[i]-li[i-1])+abs(li[i]-li[i+1])-2\n",
        "    return total\n",
        "\n",
        "print(distancia_contiguos([6, 3, 5, 2, 4, 7, 1, 8, 9]))  # debe dar 28\n",
        "print(distancia_contiguos([1,2,3,4,5,6,7,8,9]))  # debe dar 0"
      ],
      "metadata": {
        "id": "Uz0a3PATOIh2",
        "outputId": "949a912f-b6cd-479e-d824-8114688491a4",
        "colab": {
          "base_uri": "https://localhost:8080/"
        }
      },
      "execution_count": 19,
      "outputs": [
        {
          "output_type": "stream",
          "name": "stdout",
          "text": [
            "9\n",
            "28\n",
            "9\n",
            "0\n"
          ]
        }
      ]
    },
    {
      "cell_type": "code",
      "source": [
        "def desviaciones(li): # suma de las desviaciones estandar poblaciones entre un valor y su index+1\n",
        "    total = 0\n",
        "    for i, v in enumerate(li):\n",
        "        media = (v+i+1)/2\n",
        "        total += (((i+1-media)**2 + (v-media)**2)/2)**.5\n",
        "    return total\n",
        "\n",
        "print(desviaciones([6, 3, 5, 2, 4, 7, 1, 8, 9]))  # debe dar 9\n",
        "print(desviaciones([1,2,3,4,5,6,7,8,9]))  # debe dar 0"
      ],
      "metadata": {
        "id": "UbQNWV_QOPwS",
        "outputId": "530514ae-2a06-4703-d96a-4b9cbff3112e",
        "colab": {
          "base_uri": "https://localhost:8080/"
        }
      },
      "execution_count": 17,
      "outputs": [
        {
          "output_type": "stream",
          "name": "stdout",
          "text": [
            "9.0\n",
            "0.0\n"
          ]
        }
      ]
    },
    {
      "cell_type": "code",
      "source": [
        "# Este códgio tarda aproximadamete medio minuto en ejecutarse\n",
        "for h,ws in enumerate(wb.worksheets, start=1): # h es el nº de hoja desde 1 hasta n\n",
        "    ws['E10'] = \"Permutaciones\"\n",
        "    ws['F10'] = \"Algoritmo\"\n",
        "    p = permutations(list(range(1, h+1)))\n",
        "    lista_permutaciones = [list(j) for j in p]\n",
        "    if h==4: print(lista_permutaciones)\n",
        "    for fila, lista in enumerate(lista_permutaciones, start=11):\n",
        "        ws.cell(row=fila, column=2).value = indice_alejamiento(lista) # columna B\n",
        "        ws.cell(row=fila, column=3).value = distancia_contiguos(lista) # columna C\n",
        "        ws.cell(row=fila, column=4).value = desviaciones # columna D\n",
        "        #if h==4 and fila==15: print(lista)\n",
        "        caso = lista_permutaciones[fila-11]\n",
        "        ws.cell(row=fila, column=5).value = str(caso) # columna E\n",
        "        ws.cell(row=fila, column=6).value = str(algoritmo(caso)) # columna F\n",
        "wb.save('compendio.xlsx')"
      ],
      "metadata": {
        "id": "ilbF-VAdzYz6",
        "outputId": "d193d9e2-0e5b-40c8-ad10-aa22e60deace",
        "colab": {
          "base_uri": "https://localhost:8080/",
          "height": 384
        }
      },
      "execution_count": 20,
      "outputs": [
        {
          "output_type": "stream",
          "name": "stdout",
          "text": [
            "1\n"
          ]
        },
        {
          "output_type": "error",
          "ename": "IndexError",
          "evalue": "ignored",
          "traceback": [
            "\u001b[0;31m---------------------------------------------------------------------------\u001b[0m",
            "\u001b[0;31mIndexError\u001b[0m                                Traceback (most recent call last)",
            "\u001b[0;32m<ipython-input-20-42aee0521d4c>\u001b[0m in \u001b[0;36m<module>\u001b[0;34m\u001b[0m\n\u001b[1;32m      8\u001b[0m     \u001b[0;32mfor\u001b[0m \u001b[0mfila\u001b[0m\u001b[0;34m,\u001b[0m \u001b[0mlista\u001b[0m \u001b[0;32min\u001b[0m \u001b[0menumerate\u001b[0m\u001b[0;34m(\u001b[0m\u001b[0mlista_permutaciones\u001b[0m\u001b[0;34m,\u001b[0m \u001b[0mstart\u001b[0m\u001b[0;34m=\u001b[0m\u001b[0;36m11\u001b[0m\u001b[0;34m)\u001b[0m\u001b[0;34m:\u001b[0m\u001b[0;34m\u001b[0m\u001b[0;34m\u001b[0m\u001b[0m\n\u001b[1;32m      9\u001b[0m         \u001b[0mws\u001b[0m\u001b[0;34m.\u001b[0m\u001b[0mcell\u001b[0m\u001b[0;34m(\u001b[0m\u001b[0mrow\u001b[0m\u001b[0;34m=\u001b[0m\u001b[0mfila\u001b[0m\u001b[0;34m,\u001b[0m \u001b[0mcolumn\u001b[0m\u001b[0;34m=\u001b[0m\u001b[0;36m2\u001b[0m\u001b[0;34m)\u001b[0m\u001b[0;34m.\u001b[0m\u001b[0mvalue\u001b[0m \u001b[0;34m=\u001b[0m \u001b[0mindice_alejamiento\u001b[0m\u001b[0;34m(\u001b[0m\u001b[0mlista\u001b[0m\u001b[0;34m)\u001b[0m \u001b[0;31m# columna B\u001b[0m\u001b[0;34m\u001b[0m\u001b[0;34m\u001b[0m\u001b[0m\n\u001b[0;32m---> 10\u001b[0;31m         \u001b[0mws\u001b[0m\u001b[0;34m.\u001b[0m\u001b[0mcell\u001b[0m\u001b[0;34m(\u001b[0m\u001b[0mrow\u001b[0m\u001b[0;34m=\u001b[0m\u001b[0mfila\u001b[0m\u001b[0;34m,\u001b[0m \u001b[0mcolumn\u001b[0m\u001b[0;34m=\u001b[0m\u001b[0;36m3\u001b[0m\u001b[0;34m)\u001b[0m\u001b[0;34m.\u001b[0m\u001b[0mvalue\u001b[0m \u001b[0;34m=\u001b[0m \u001b[0mdistancia_contiguos\u001b[0m\u001b[0;34m(\u001b[0m\u001b[0mlista\u001b[0m\u001b[0;34m)\u001b[0m \u001b[0;31m# columna C\u001b[0m\u001b[0;34m\u001b[0m\u001b[0;34m\u001b[0m\u001b[0m\n\u001b[0m\u001b[1;32m     11\u001b[0m         \u001b[0mws\u001b[0m\u001b[0;34m.\u001b[0m\u001b[0mcell\u001b[0m\u001b[0;34m(\u001b[0m\u001b[0mrow\u001b[0m\u001b[0;34m=\u001b[0m\u001b[0mfila\u001b[0m\u001b[0;34m,\u001b[0m \u001b[0mcolumn\u001b[0m\u001b[0;34m=\u001b[0m\u001b[0;36m4\u001b[0m\u001b[0;34m)\u001b[0m\u001b[0;34m.\u001b[0m\u001b[0mvalue\u001b[0m \u001b[0;34m=\u001b[0m \u001b[0mdesviaciones\u001b[0m \u001b[0;31m# columna D\u001b[0m\u001b[0;34m\u001b[0m\u001b[0;34m\u001b[0m\u001b[0m\n\u001b[1;32m     12\u001b[0m         \u001b[0;31m#if h==4 and fila==15: print(lista)\u001b[0m\u001b[0;34m\u001b[0m\u001b[0;34m\u001b[0m\u001b[0;34m\u001b[0m\u001b[0m\n",
            "\u001b[0;32m<ipython-input-19-b7251e3101f3>\u001b[0m in \u001b[0;36mdistancia_contiguos\u001b[0;34m(li)\u001b[0m\n\u001b[1;32m      4\u001b[0m     \u001b[0mprint\u001b[0m\u001b[0;34m(\u001b[0m\u001b[0mn\u001b[0m\u001b[0;34m)\u001b[0m\u001b[0;34m\u001b[0m\u001b[0;34m\u001b[0m\u001b[0m\n\u001b[1;32m      5\u001b[0m     \u001b[0;32mfor\u001b[0m \u001b[0mi\u001b[0m \u001b[0;32min\u001b[0m \u001b[0mrange\u001b[0m\u001b[0;34m(\u001b[0m\u001b[0mn\u001b[0m\u001b[0;34m)\u001b[0m\u001b[0;34m:\u001b[0m\u001b[0;34m\u001b[0m\u001b[0;34m\u001b[0m\u001b[0m\n\u001b[0;32m----> 6\u001b[0;31m         \u001b[0;32mif\u001b[0m \u001b[0mi\u001b[0m\u001b[0;34m==\u001b[0m\u001b[0;36m0\u001b[0m\u001b[0;34m:\u001b[0m \u001b[0mtotal\u001b[0m \u001b[0;34m+=\u001b[0m \u001b[0mabs\u001b[0m\u001b[0;34m(\u001b[0m\u001b[0mli\u001b[0m\u001b[0;34m[\u001b[0m\u001b[0mi\u001b[0m\u001b[0;34m]\u001b[0m\u001b[0;34m-\u001b[0m\u001b[0mli\u001b[0m\u001b[0;34m[\u001b[0m\u001b[0;34m-\u001b[0m\u001b[0;36m1\u001b[0m\u001b[0;34m]\u001b[0m\u001b[0;34m)\u001b[0m\u001b[0;34m+\u001b[0m\u001b[0mabs\u001b[0m\u001b[0;34m(\u001b[0m\u001b[0mli\u001b[0m\u001b[0;34m[\u001b[0m\u001b[0mi\u001b[0m\u001b[0;34m]\u001b[0m\u001b[0;34m-\u001b[0m\u001b[0mli\u001b[0m\u001b[0;34m[\u001b[0m\u001b[0mi\u001b[0m\u001b[0;34m+\u001b[0m\u001b[0;36m1\u001b[0m\u001b[0;34m]\u001b[0m\u001b[0;34m)\u001b[0m\u001b[0;34m-\u001b[0m\u001b[0mn\u001b[0m\u001b[0;34m\u001b[0m\u001b[0;34m\u001b[0m\u001b[0m\n\u001b[0m\u001b[1;32m      7\u001b[0m         \u001b[0;32melif\u001b[0m \u001b[0mi\u001b[0m\u001b[0;34m==\u001b[0m\u001b[0mn\u001b[0m\u001b[0;34m-\u001b[0m\u001b[0;36m1\u001b[0m\u001b[0;34m:\u001b[0m \u001b[0mtotal\u001b[0m \u001b[0;34m+=\u001b[0m \u001b[0mabs\u001b[0m\u001b[0;34m(\u001b[0m\u001b[0mli\u001b[0m\u001b[0;34m[\u001b[0m\u001b[0mi\u001b[0m\u001b[0;34m]\u001b[0m\u001b[0;34m-\u001b[0m\u001b[0mli\u001b[0m\u001b[0;34m[\u001b[0m\u001b[0mi\u001b[0m\u001b[0;34m-\u001b[0m\u001b[0;36m1\u001b[0m\u001b[0;34m]\u001b[0m\u001b[0;34m)\u001b[0m\u001b[0;34m+\u001b[0m\u001b[0mabs\u001b[0m\u001b[0;34m(\u001b[0m\u001b[0mli\u001b[0m\u001b[0;34m[\u001b[0m\u001b[0mi\u001b[0m\u001b[0;34m]\u001b[0m\u001b[0;34m-\u001b[0m\u001b[0mli\u001b[0m\u001b[0;34m[\u001b[0m\u001b[0;36m0\u001b[0m\u001b[0;34m]\u001b[0m\u001b[0;34m)\u001b[0m\u001b[0;34m-\u001b[0m\u001b[0mn\u001b[0m\u001b[0;34m\u001b[0m\u001b[0;34m\u001b[0m\u001b[0m\n\u001b[1;32m      8\u001b[0m         \u001b[0;32melse\u001b[0m\u001b[0;34m:\u001b[0m \u001b[0mtotal\u001b[0m \u001b[0;34m+=\u001b[0m \u001b[0mabs\u001b[0m\u001b[0;34m(\u001b[0m\u001b[0mli\u001b[0m\u001b[0;34m[\u001b[0m\u001b[0mi\u001b[0m\u001b[0;34m]\u001b[0m\u001b[0;34m-\u001b[0m\u001b[0mli\u001b[0m\u001b[0;34m[\u001b[0m\u001b[0mi\u001b[0m\u001b[0;34m-\u001b[0m\u001b[0;36m1\u001b[0m\u001b[0;34m]\u001b[0m\u001b[0;34m)\u001b[0m\u001b[0;34m+\u001b[0m\u001b[0mabs\u001b[0m\u001b[0;34m(\u001b[0m\u001b[0mli\u001b[0m\u001b[0;34m[\u001b[0m\u001b[0mi\u001b[0m\u001b[0;34m]\u001b[0m\u001b[0;34m-\u001b[0m\u001b[0mli\u001b[0m\u001b[0;34m[\u001b[0m\u001b[0mi\u001b[0m\u001b[0;34m+\u001b[0m\u001b[0;36m1\u001b[0m\u001b[0;34m]\u001b[0m\u001b[0;34m)\u001b[0m\u001b[0;34m-\u001b[0m\u001b[0;36m2\u001b[0m\u001b[0;34m\u001b[0m\u001b[0;34m\u001b[0m\u001b[0m\n",
            "\u001b[0;31mIndexError\u001b[0m: list index out of range"
          ]
        }
      ]
    },
    {
      "cell_type": "markdown",
      "source": [
        "# Grado de desorden\n",
        "Establecemos un índice que mida el grado de desorden de la permutación\n",
        "* la permutación [1, 2, 3, 4, 5, 6, 7, 8, 9] ha de tener el grado mínimo\n",
        "* la permutación [8, 3, 5, 2, 4, 7, 1, 6, 9] debería tener un grado de desorden mayor que la anterior\n",
        "\n",
        "Estudiaremos tres índices:\n",
        "* Índice de alejamiento de su posición: aleja\n",
        "* Índice de distancia a los contiguos: distan\n",
        "* Desviaciones entre el valor y su índice: desv\n"
      ],
      "metadata": {
        "id": "BTGy2GQLEuZT"
      }
    }
  ]
}