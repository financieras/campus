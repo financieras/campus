{
  "nbformat": 4,
  "nbformat_minor": 0,
  "metadata": {
    "colab": {
      "provenance": [],
      "authorship_tag": "ABX9TyNbGJs7xODxCM+gysggVjqb",
      "include_colab_link": true
    },
    "kernelspec": {
      "name": "python3",
      "display_name": "Python 3"
    },
    "language_info": {
      "name": "python"
    }
  },
  "cells": [
    {
      "cell_type": "markdown",
      "metadata": {
        "id": "view-in-github",
        "colab_type": "text"
      },
      "source": [
        "<a href=\"https://colab.research.google.com/github/financieras/campus/blob/main/pilas/pilas7.ipynb\" target=\"_parent\"><img src=\"https://colab.research.google.com/assets/colab-badge.svg\" alt=\"Open In Colab\"/></a>"
      ]
    },
    {
      "cell_type": "markdown",
      "source": [
        "# Escribiendo en un libro de Excel\n",
        "## el resultado del algoritmo mejorado para cada una de las permutaciones\n",
        "* Desde la Hoja1: Sheet 1 para n=1\n",
        "* Hasta la Hoja10: Sheet10 para n=10 "
      ],
      "metadata": {
        "id": "E6fwWeRsp6Wu"
      }
    },
    {
      "cell_type": "code",
      "source": [
        "!pip install openpyxl   # instalamos la librería openpyxl en nuestro espacio reservado en Google Colab"
      ],
      "metadata": {
        "colab": {
          "base_uri": "https://localhost:8080/"
        },
        "id": "bdHWfcHR68uA",
        "outputId": "f9540eae-fdb2-4a69-9824-f51e8e107f73"
      },
      "execution_count": null,
      "outputs": [
        {
          "output_type": "stream",
          "name": "stdout",
          "text": [
            "Looking in indexes: https://pypi.org/simple, https://us-python.pkg.dev/colab-wheels/public/simple/\n",
            "Requirement already satisfied: openpyxl in /usr/local/lib/python3.8/dist-packages (3.0.10)\n",
            "Requirement already satisfied: et-xmlfile in /usr/local/lib/python3.8/dist-packages (from openpyxl) (1.1.0)\n"
          ]
        }
      ]
    },
    {
      "cell_type": "code",
      "source": [
        "from random import sample, seed\n",
        "import openpyxl            # importamos la librería openpyxl\n",
        "from itertools import permutations\n",
        "seed()\n",
        "\n",
        "import openpyxl                # importamos la librería openpyxl\n",
        "wb = openpyxl.Workbook()       # para crear por primera vez un libro\n",
        "ws = wb.active                 # estas dos lineas crean el libro, aún sin nombre\n",
        "\n",
        "print(type(wb))                # miramos a ver quién es la variable wb\n",
        "print(wb.sheetnames)           # proporciona la lista de hojas del libro de trabajo\n",
        "n = 9\n",
        "for i in range(2,n+1):          # creamos las hojas Hoja2 hasta \"Hoja\"+\"n\"\n",
        "    wb.create_sheet(\"Sheet\"+str(i))\n",
        "\n",
        "ws1 = wb['Sheet']              # cambiamos el nombre de la primera hoja llamada Sheet\n",
        "ws1.title = 'Sheet1'           # por el nombre Sheet1\n",
        "\n",
        "print(wb.sheetnames)           # imprimimos todos los nombres de hoja\n",
        "wb.save('compendio.xlsx')      # grabamos el fichero por primera vez"
      ],
      "metadata": {
        "colab": {
          "base_uri": "https://localhost:8080/"
        },
        "id": "_0ypDKUj7PVQ",
        "outputId": "8db40d45-0d80-4aff-ec9e-d2b5906fca1d"
      },
      "execution_count": null,
      "outputs": [
        {
          "output_type": "stream",
          "name": "stdout",
          "text": [
            "<class 'openpyxl.workbook.workbook.Workbook'>\n",
            "['Sheet']\n",
            "['Sheet1', 'Sheet2', 'Sheet3', 'Sheet4', 'Sheet5', 'Sheet6', 'Sheet7', 'Sheet8', 'Sheet9']\n"
          ]
        }
      ]
    },
    {
      "cell_type": "code",
      "source": [
        "def lista_ordenada(l):\n",
        "    estaordenada = False\n",
        "    aux = l[:]\n",
        "    aux.sort()\n",
        "    if (aux == l):\n",
        "        estaordenada = True\n",
        "    return estaordenada\n",
        "\n",
        "def sa(a,b):\n",
        "    if len(a) > 1: a[0],a[1] = a[1],a[0]\n",
        "    return a,b\n",
        "def sb(a,b):\n",
        "    if len(b) > 1: b[0],b[1] = b[1],b[0]\n",
        "    return a,b\n",
        "def pa(a,b):\n",
        "    if len(b) > 0:\n",
        "        a.insert(0, b[0])\n",
        "        b.pop(0)\n",
        "    return a,b\n",
        "def pb(a,b):\n",
        "    if len(a) > 0:\n",
        "        b.insert(0, a[0])\n",
        "        a.pop(0)\n",
        "    return a,b\n",
        "def ra(a,b):\n",
        "    if len(a) > 1: a.append(a.pop(0))\n",
        "    return a,b\n",
        "def rb(a,b):\n",
        "    if len(b) > 1: b.append(b.pop(0))\n",
        "    return a,b\n",
        "def rra(a,b):\n",
        "    if len(a) > 1: a.insert(0, a.pop())\n",
        "    return a,b\n",
        "def rrb(a,b):\n",
        "    if len(b) > 1: b.insert(0, b.pop())\n",
        "    return a,b\n",
        "\n",
        "def algoritmo(a_original):\n",
        "    ### PROCEDIMIENTO MEJORADO\n",
        "    a = a_original[:]\n",
        "    b = []\n",
        "    instrucciones = []\n",
        "    while len(a) > 1 and not lista_ordenada(a):   # se repite hasta que solo quede un elemento en la pila a\n",
        "        # buscamos el mínimo y vamos haciendo ra o rra hasta que el mínimo esté el primero\n",
        "        while min(a) != a[0]:\n",
        "            if a.index(min(a)) <= int(len(a)/2):\n",
        "                ra(a,b)\n",
        "                instrucciones.append('ra')\n",
        "            else:\n",
        "                rra(a,b)\n",
        "                instrucciones.append('rra')\n",
        "        if not lista_ordenada(a):\n",
        "            pb(a,b) # luego hacemos pb\n",
        "            instrucciones.append('pb')\n",
        "    # luego se hace pa pa pa pa hasta que no quede nadie en la pila b\n",
        "    while len(b) > 0:\n",
        "        pa(a,b)\n",
        "        instrucciones.append('pa')\n",
        "    return instrucciones"
      ],
      "metadata": {
        "id": "kOwWE9lz5v50"
      },
      "execution_count": null,
      "outputs": []
    },
    {
      "cell_type": "code",
      "source": [
        "def indice_alejamiento(li):\n",
        "    total = 0\n",
        "    for i, v in enumerate(li):\n",
        "        total += abs(v-i-1)  # se resta 1 porque el índex de un array comienza en 0\n",
        "    return total\n",
        "\n",
        "indice_alejamiento([6, 3, 5, 2, 4, 7, 1, 8, 9])  # debe dar 18"
      ],
      "metadata": {
        "id": "oGbgWEOYJLGq",
        "outputId": "25fd7372-7e9b-4951-c4c4-ce5f4698c7f4",
        "colab": {
          "base_uri": "https://localhost:8080/"
        }
      },
      "execution_count": 6,
      "outputs": [
        {
          "output_type": "execute_result",
          "data": {
            "text/plain": [
              "18"
            ]
          },
          "metadata": {},
          "execution_count": 6
        }
      ]
    },
    {
      "cell_type": "code",
      "source": [
        "def distancia_contiguos(li):\n",
        "    total = 0\n",
        "    n = len(li)\n",
        "    for i in range(n):\n",
        "        if i==0: total += abs(li[i]-li[-1])+abs(li[i]-li[i+1])-n\n",
        "        elif i==n-1: total += abs(li[i]-li[i-1])+abs(li[i]-li[0])-n\n",
        "        else: total += abs(li[i]-li[i-1])+abs(li[i]-li[i+1])-2\n",
        "    return total\n",
        "\n",
        "distancia_contiguos([6, 3, 5, 2, 4, 7, 1, 8, 9])  # debe dar 28"
      ],
      "metadata": {
        "id": "Uz0a3PATOIh2",
        "outputId": "a6c0885a-2a33-46ce-a09f-6f23b5b40175",
        "colab": {
          "base_uri": "https://localhost:8080/"
        }
      },
      "execution_count": 5,
      "outputs": [
        {
          "output_type": "execute_result",
          "data": {
            "text/plain": [
              "28"
            ]
          },
          "metadata": {},
          "execution_count": 5
        }
      ]
    },
    {
      "cell_type": "code",
      "source": [
        "def desviaciones(li): # suma de las desviaciones estandar poblaciones entre un valor y su index+1\n",
        "    total = 0\n",
        "    for i, v in enumerate(li):\n",
        "        total += \n",
        "    return total\n",
        "\n",
        "desviaciones([6, 3, 5, 2, 4, 7, 1, 8, 9])  # debe dar 9"
      ],
      "metadata": {
        "id": "UbQNWV_QOPwS"
      },
      "execution_count": null,
      "outputs": []
    },
    {
      "cell_type": "code",
      "source": [
        "# Este códgio tarda aproximadamete medio minuto en ejecutarse\n",
        "for h,ws in enumerate(wb.worksheets, start=1): # h es el nº de hoja desde 1 hasta n\n",
        "    ws['E10'] = \"Permutaciones\"\n",
        "    ws['F10'] = \"Algoritmo\"\n",
        "    p = permutations(list(range(1, h+1)))\n",
        "    lista_permutaciones = [list(j) for j in p]\n",
        "    if h==4: print(lista_permutaciones)\n",
        "    for fila, lista in enumerate(lista_permutaciones, start=11):\n",
        "        #indice_alejamiento(lista)\n",
        "        #distancia_contiguos(lista)\n",
        "        #if h==4 and fila==15: print(lista)\n",
        "        caso = lista_permutaciones[fila-11]\n",
        "        ws.cell(row=fila, column=5).value = str(caso)\n",
        "        ws.cell(row=fila, column=6).value = str(algoritmo(caso))\n",
        "wb.save('compendio.xlsx')"
      ],
      "metadata": {
        "id": "ilbF-VAdzYz6",
        "outputId": "0378da57-37fe-4e6f-bfa0-375af10f10a0",
        "colab": {
          "base_uri": "https://localhost:8080/",
          "height": 394
        }
      },
      "execution_count": null,
      "outputs": [
        {
          "output_type": "stream",
          "name": "stdout",
          "text": [
            "[[1, 2, 3, 4], [1, 2, 4, 3], [1, 3, 2, 4], [1, 3, 4, 2], [1, 4, 2, 3], [1, 4, 3, 2], [2, 1, 3, 4], [2, 1, 4, 3], [2, 3, 1, 4], [2, 3, 4, 1], [2, 4, 1, 3], [2, 4, 3, 1], [3, 1, 2, 4], [3, 1, 4, 2], [3, 2, 1, 4], [3, 2, 4, 1], [3, 4, 1, 2], [3, 4, 2, 1], [4, 1, 2, 3], [4, 1, 3, 2], [4, 2, 1, 3], [4, 2, 3, 1], [4, 3, 1, 2], [4, 3, 2, 1]]\n",
            "[1, 4, 2, 3]\n"
          ]
        },
        {
          "output_type": "error",
          "ename": "KeyboardInterrupt",
          "evalue": "ignored",
          "traceback": [
            "\u001b[0;31m---------------------------------------------------------------------------\u001b[0m",
            "\u001b[0;31mKeyboardInterrupt\u001b[0m                         Traceback (most recent call last)",
            "\u001b[0;32m<ipython-input-8-20252afdb1f5>\u001b[0m in \u001b[0;36m<module>\u001b[0;34m\u001b[0m\n\u001b[1;32m     11\u001b[0m         \u001b[0mcaso\u001b[0m \u001b[0;34m=\u001b[0m \u001b[0mlista_permutaciones\u001b[0m\u001b[0;34m[\u001b[0m\u001b[0mfila\u001b[0m\u001b[0;34m-\u001b[0m\u001b[0;36m11\u001b[0m\u001b[0;34m]\u001b[0m\u001b[0;34m\u001b[0m\u001b[0;34m\u001b[0m\u001b[0m\n\u001b[1;32m     12\u001b[0m         \u001b[0mws\u001b[0m\u001b[0;34m.\u001b[0m\u001b[0mcell\u001b[0m\u001b[0;34m(\u001b[0m\u001b[0mrow\u001b[0m\u001b[0;34m=\u001b[0m\u001b[0mfila\u001b[0m\u001b[0;34m,\u001b[0m \u001b[0mcolumn\u001b[0m\u001b[0;34m=\u001b[0m\u001b[0;36m5\u001b[0m\u001b[0;34m)\u001b[0m\u001b[0;34m.\u001b[0m\u001b[0mvalue\u001b[0m \u001b[0;34m=\u001b[0m \u001b[0mstr\u001b[0m\u001b[0;34m(\u001b[0m\u001b[0mcaso\u001b[0m\u001b[0;34m)\u001b[0m\u001b[0;34m\u001b[0m\u001b[0;34m\u001b[0m\u001b[0m\n\u001b[0;32m---> 13\u001b[0;31m         \u001b[0mws\u001b[0m\u001b[0;34m.\u001b[0m\u001b[0mcell\u001b[0m\u001b[0;34m(\u001b[0m\u001b[0mrow\u001b[0m\u001b[0;34m=\u001b[0m\u001b[0mfila\u001b[0m\u001b[0;34m,\u001b[0m \u001b[0mcolumn\u001b[0m\u001b[0;34m=\u001b[0m\u001b[0;36m6\u001b[0m\u001b[0;34m)\u001b[0m\u001b[0;34m.\u001b[0m\u001b[0mvalue\u001b[0m \u001b[0;34m=\u001b[0m \u001b[0mstr\u001b[0m\u001b[0;34m(\u001b[0m\u001b[0malgoritmo\u001b[0m\u001b[0;34m(\u001b[0m\u001b[0mcaso\u001b[0m\u001b[0;34m)\u001b[0m\u001b[0;34m)\u001b[0m\u001b[0;34m\u001b[0m\u001b[0;34m\u001b[0m\u001b[0m\n\u001b[0m\u001b[1;32m     14\u001b[0m \u001b[0mwb\u001b[0m\u001b[0;34m.\u001b[0m\u001b[0msave\u001b[0m\u001b[0;34m(\u001b[0m\u001b[0;34m'compendio.xlsx'\u001b[0m\u001b[0;34m)\u001b[0m\u001b[0;34m\u001b[0m\u001b[0;34m\u001b[0m\u001b[0m\n",
            "\u001b[0;32m<ipython-input-3-d0ff3ac56400>\u001b[0m in \u001b[0;36malgoritmo\u001b[0;34m(a_original)\u001b[0m\n\u001b[1;32m     52\u001b[0m         \u001b[0;32mif\u001b[0m \u001b[0;32mnot\u001b[0m \u001b[0mlista_ordenada\u001b[0m\u001b[0;34m(\u001b[0m\u001b[0ma\u001b[0m\u001b[0;34m)\u001b[0m\u001b[0;34m:\u001b[0m\u001b[0;34m\u001b[0m\u001b[0;34m\u001b[0m\u001b[0m\n\u001b[1;32m     53\u001b[0m             \u001b[0mpb\u001b[0m\u001b[0;34m(\u001b[0m\u001b[0ma\u001b[0m\u001b[0;34m,\u001b[0m\u001b[0mb\u001b[0m\u001b[0;34m)\u001b[0m \u001b[0;31m# luego hacemos pb\u001b[0m\u001b[0;34m\u001b[0m\u001b[0;34m\u001b[0m\u001b[0m\n\u001b[0;32m---> 54\u001b[0;31m             \u001b[0minstrucciones\u001b[0m\u001b[0;34m.\u001b[0m\u001b[0mappend\u001b[0m\u001b[0;34m(\u001b[0m\u001b[0;34m'pb'\u001b[0m\u001b[0;34m)\u001b[0m\u001b[0;34m\u001b[0m\u001b[0;34m\u001b[0m\u001b[0m\n\u001b[0m\u001b[1;32m     55\u001b[0m     \u001b[0;31m# luego se hace pa pa pa pa hasta que no quede nadie en la pila b\u001b[0m\u001b[0;34m\u001b[0m\u001b[0;34m\u001b[0m\u001b[0;34m\u001b[0m\u001b[0m\n\u001b[1;32m     56\u001b[0m     \u001b[0;32mwhile\u001b[0m \u001b[0mlen\u001b[0m\u001b[0;34m(\u001b[0m\u001b[0mb\u001b[0m\u001b[0;34m)\u001b[0m \u001b[0;34m>\u001b[0m \u001b[0;36m0\u001b[0m\u001b[0;34m:\u001b[0m\u001b[0;34m\u001b[0m\u001b[0;34m\u001b[0m\u001b[0m\n",
            "\u001b[0;31mKeyboardInterrupt\u001b[0m: "
          ]
        }
      ]
    },
    {
      "cell_type": "markdown",
      "source": [
        "# Grado de desorden\n",
        "Establecemos un índice que mida el grado de desorden de la permutación\n",
        "* la permutación [1, 2, 3, 4, 5, 6, 7, 8, 9] ha de tener el grado mínimo\n",
        "* la permutación [8, 3, 5, 2, 4, 7, 1, 6, 9] debería tener un grado de desorden mayor que la anterior\n",
        "\n",
        "Estudiaremos dos índices:\n",
        "* Índice de alejamiento de su posición: ai\n",
        "* Índice de distancia a los compañeros: di\n"
      ],
      "metadata": {
        "id": "BTGy2GQLEuZT"
      }
    },
    {
      "cell_type": "code",
      "source": [],
      "metadata": {
        "id": "TobZGPPsEtqb"
      },
      "execution_count": null,
      "outputs": []
    }
  ]
}