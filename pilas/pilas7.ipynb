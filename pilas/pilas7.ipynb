{
  "nbformat": 4,
  "nbformat_minor": 0,
  "metadata": {
    "colab": {
      "provenance": [],
      "authorship_tag": "ABX9TyOCqIf0jqJpgAlJMpTrpGiY",
      "include_colab_link": true
    },
    "kernelspec": {
      "name": "python3",
      "display_name": "Python 3"
    },
    "language_info": {
      "name": "python"
    }
  },
  "cells": [
    {
      "cell_type": "markdown",
      "metadata": {
        "id": "view-in-github",
        "colab_type": "text"
      },
      "source": [
        "<a href=\"https://colab.research.google.com/github/financieras/campus/blob/main/pilas/pilas7.ipynb\" target=\"_parent\"><img src=\"https://colab.research.google.com/assets/colab-badge.svg\" alt=\"Open In Colab\"/></a>"
      ]
    },
    {
      "cell_type": "code",
      "execution_count": null,
      "metadata": {
        "id": "Xv6SJqzf6m6B"
      },
      "outputs": [],
      "source": [
        "class WorkSheet:\n",
        "\tdef __init__(self, value1, value2, value3):\n",
        "\t\tself.vector = [value1, value2, value3];\n",
        "\n",
        "myArray=[]\n",
        "\n",
        "for i in range(5):\n",
        "\tmyArray.append(WorkSheet(\"Hola\", \"Que\", \"Tal\"))\n",
        "\n",
        "for i in range(5):\n",
        "\tprint(myArray[i].vector)\n",
        "\n",
        "\n",
        "print(myArray[3].vector[2])"
      ]
    },
    {
      "cell_type": "code",
      "source": [
        "!pip install openpyxl"
      ],
      "metadata": {
        "colab": {
          "base_uri": "https://localhost:8080/"
        },
        "id": "bdHWfcHR68uA",
        "outputId": "356c9b94-9a90-4c8e-8b1b-089cde9ac1ea"
      },
      "execution_count": 2,
      "outputs": [
        {
          "output_type": "stream",
          "name": "stdout",
          "text": [
            "Looking in indexes: https://pypi.org/simple, https://us-python.pkg.dev/colab-wheels/public/simple/\n",
            "Requirement already satisfied: openpyxl in /usr/local/lib/python3.8/dist-packages (3.0.10)\n",
            "Requirement already satisfied: et-xmlfile in /usr/local/lib/python3.8/dist-packages (from openpyxl) (1.1.0)\n"
          ]
        }
      ]
    },
    {
      "cell_type": "code",
      "source": [
        "from random import sample, seed\n",
        "import openpyxl            # importamos la librería openpyxl\n",
        "from itertools import permutations\n",
        "seed()\n",
        "\n",
        "import openpyxl                # importamos la librería openpyxl\n",
        "wb = openpyxl.Workbook()       # para crear por primera vez un libro\n",
        "ws = wb.active                 # estas dos lineas crean el libro, aún sin nombre\n",
        "\n",
        "print(type(wb))                # miramos a ver quién es la variable wb\n",
        "print(wb.sheetnames)           # proporciona la lista de hojas del libro de trabajo\n",
        "for i in range(2,11):          # creamos las hojas Hoja2 hasta Hoja10\n",
        "    wb.create_sheet(\"Sheet\"+str(i))\n",
        "\n",
        "ws1 = wb['Sheet']              # cambiamos el nombre de la primera hoja llamada Sheet\n",
        "ws1.title = 'Sheet1'           # por el nombre Sheet1\n",
        "\n",
        "print(wb.sheetnames)           # imprimimos todos los nombres de hoja\n",
        "wb.save('pru.xlsx')   # grabamos el fichero por primera vez"
      ],
      "metadata": {
        "colab": {
          "base_uri": "https://localhost:8080/"
        },
        "id": "_0ypDKUj7PVQ",
        "outputId": "5cd1b3c1-edcd-4d14-e90d-e24ba89b210a"
      },
      "execution_count": 3,
      "outputs": [
        {
          "output_type": "stream",
          "name": "stdout",
          "text": [
            "<class 'openpyxl.workbook.workbook.Workbook'>\n",
            "['Sheet']\n",
            "['Sheet1', 'Sheet2', 'Sheet3', 'Sheet4', 'Sheet5', 'Sheet6', 'Sheet7', 'Sheet8', 'Sheet9', 'Sheet10']\n"
          ]
        }
      ]
    },
    {
      "cell_type": "code",
      "source": [
        "class  Hoja:\n",
        "    def __init__(self, nombre_hoja, permutaciones, algoritmo):\n",
        "        self.vector = [nombre_hoja, permutaciones, algoritmo]\n",
        "\n",
        "n = 5\n",
        "matriz = []\n",
        "for h in range(n):   # h+1 es la hoja en la que estoy\n",
        "    p = permutations(list(range(1, h+2)))\n",
        "    lista_permutaciones = [list(i) for i in p]\n",
        "    algo = \"algoritmo\"\n",
        "    matriz.append(Hoja(\"Sheet\"+str(h+1), lista_permutaciones, algo))\n",
        "\n",
        "#for i in range(n):\n",
        "#    print(matriz[i].vector)\n",
        "\n",
        "#wb = openpyxl.load_workbook('pru.xlsx')\n",
        "for i in range(n):\n",
        "     ws = wb[matriz[i][0]]\n",
        "     print(ws)\n",
        "\n"
      ],
      "metadata": {
        "colab": {
          "base_uri": "https://localhost:8080/",
          "height": 235
        },
        "id": "nI2oEX2_AxxJ",
        "outputId": "bb5c96ae-734e-45ea-d2a5-a2f61d241834"
      },
      "execution_count": 41,
      "outputs": [
        {
          "output_type": "error",
          "ename": "TypeError",
          "evalue": "ignored",
          "traceback": [
            "\u001b[0;31m---------------------------------------------------------------------------\u001b[0m",
            "\u001b[0;31mTypeError\u001b[0m                                 Traceback (most recent call last)",
            "\u001b[0;32m<ipython-input-41-b9b0d5a534bb>\u001b[0m in \u001b[0;36m<module>\u001b[0;34m\u001b[0m\n\u001b[1;32m     16\u001b[0m \u001b[0;31m#wb = openpyxl.load_workbook('pru.xlsx')\u001b[0m\u001b[0;34m\u001b[0m\u001b[0;34m\u001b[0m\u001b[0;34m\u001b[0m\u001b[0m\n\u001b[1;32m     17\u001b[0m \u001b[0;32mfor\u001b[0m \u001b[0mi\u001b[0m \u001b[0;32min\u001b[0m \u001b[0mrange\u001b[0m\u001b[0;34m(\u001b[0m\u001b[0mn\u001b[0m\u001b[0;34m)\u001b[0m\u001b[0;34m:\u001b[0m\u001b[0;34m\u001b[0m\u001b[0;34m\u001b[0m\u001b[0m\n\u001b[0;32m---> 18\u001b[0;31m      \u001b[0mws\u001b[0m \u001b[0;34m=\u001b[0m \u001b[0mwb\u001b[0m\u001b[0;34m[\u001b[0m\u001b[0mmatriz\u001b[0m\u001b[0;34m[\u001b[0m\u001b[0mi\u001b[0m\u001b[0;34m]\u001b[0m\u001b[0;34m[\u001b[0m\u001b[0;36m0\u001b[0m\u001b[0;34m]\u001b[0m\u001b[0;34m]\u001b[0m\u001b[0;34m\u001b[0m\u001b[0;34m\u001b[0m\u001b[0m\n\u001b[0m\u001b[1;32m     19\u001b[0m      \u001b[0mprint\u001b[0m\u001b[0;34m(\u001b[0m\u001b[0mws\u001b[0m\u001b[0;34m)\u001b[0m\u001b[0;34m\u001b[0m\u001b[0;34m\u001b[0m\u001b[0m\n\u001b[1;32m     20\u001b[0m \u001b[0;34m\u001b[0m\u001b[0m\n",
            "\u001b[0;31mTypeError\u001b[0m: 'Hoja' object is not subscriptable"
          ]
        }
      ]
    }
  ]
}