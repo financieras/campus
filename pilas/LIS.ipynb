{
  "nbformat": 4,
  "nbformat_minor": 0,
  "metadata": {
    "colab": {
      "provenance": [],
      "authorship_tag": "ABX9TyMKf6eTHy1HLdzKHJoOQqQx",
      "include_colab_link": true
    },
    "kernelspec": {
      "name": "python3",
      "display_name": "Python 3"
    },
    "language_info": {
      "name": "python"
    }
  },
  "cells": [
    {
      "cell_type": "markdown",
      "metadata": {
        "id": "view-in-github",
        "colab_type": "text"
      },
      "source": [
        "<a href=\"https://colab.research.google.com/github/financieras/campus/blob/main/pilas/LIS.ipynb\" target=\"_parent\"><img src=\"https://colab.research.google.com/assets/colab-badge.svg\" alt=\"Open In Colab\"/></a>"
      ]
    },
    {
      "cell_type": "markdown",
      "source": [
        "# LIS: Longest Increasing Subsequence algorithm"
      ],
      "metadata": {
        "id": "uoBzOUiOeu0w"
      }
    },
    {
      "cell_type": "code",
      "execution_count": 4,
      "metadata": {
        "colab": {
          "base_uri": "https://localhost:8080/"
        },
        "id": "TGdt9MvJesU_",
        "outputId": "0ed13c75-f951-4af8-93c3-b225ee22526b"
      },
      "outputs": [
        {
          "output_type": "stream",
          "name": "stdout",
          "text": [
            "[10, 0, 0, 0, 0, 0, 0, 0]\n",
            "[9, 0, 0, 0, 0, 0, 0, 0]\n",
            "[2, 0, 0, 0, 0, 0, 0, 0]\n",
            "[2, 5, 0, 0, 0, 0, 0, 0]\n",
            "[2, 3, 0, 0, 0, 0, 0, 0]\n",
            "[2, 3, 7, 0, 0, 0, 0, 0]\n",
            "[2, 3, 7, 101, 0, 0, 0, 0]\n",
            "[2, 3, 7, 18, 0, 0, 0, 0]\n",
            "4\n"
          ]
        }
      ],
      "source": [
        "class Solution(object):\n",
        "   def lengthOfLIS(self, nums):\n",
        "      tails = [0 for i in range(len(nums))]\n",
        "      size = 0\n",
        "      for x in nums:\n",
        "         i = 0\n",
        "         j = size\n",
        "         while i != j:\n",
        "            mid = i + (j-i)//2\n",
        "            if tails[mid] < x:\n",
        "               i = mid + 1\n",
        "            else:\n",
        "               j = mid\n",
        "         tails[i] = x\n",
        "         size = max(i+1, size)\n",
        "         print(tails)\n",
        "      return size\n",
        "ob1 = Solution()\n",
        "print(ob1.lengthOfLIS([10,9,2,5,3,7,101,18]))"
      ]
    },
    {
      "cell_type": "code",
      "source": [
        "class Solution(object):\n",
        "    def lengthOfLIS(self, nums):\n",
        "        tails = [None for i in range(len(nums))]\n",
        "        size = 0\n",
        "        for x in nums:\n",
        "            i = 0\n",
        "            j = size\n",
        "            while i != j:\n",
        "                mid = i + (j-i)//2\n",
        "                if tails[mid] < x:\n",
        "                    i = mid + 1\n",
        "                else:\n",
        "                    j = mid\n",
        "            tails[i] = x\n",
        "            size = max(i+1, size)\n",
        "        #print(tails)\n",
        "        subsecuencia = [x for x in tails if isinstance(x, int)]\n",
        "        print(subsecuencia)\n",
        "        return size\n",
        "ob1 = Solution()\n",
        "print(ob1.lengthOfLIS([10,9,2,5,3,7,101,18]))"
      ],
      "metadata": {
        "colab": {
          "base_uri": "https://localhost:8080/"
        },
        "id": "aJZp2dngf5UU",
        "outputId": "95169ff7-36a2-4358-a4e1-6c44d60d4bd2"
      },
      "execution_count": 17,
      "outputs": [
        {
          "output_type": "stream",
          "name": "stdout",
          "text": [
            "[2, 3, 7, 18]\n",
            "4\n"
          ]
        }
      ]
    },
    {
      "cell_type": "code",
      "source": [
        "def lengthOfLIS(nums):\n",
        "    tails = [None] * len(nums)\n",
        "    size = 0\n",
        "    for x in nums:\n",
        "        i = 0\n",
        "        j = size\n",
        "        while i != j:\n",
        "            mid = i + (j-i)//2\n",
        "            if tails[mid] < x:\n",
        "                i = mid + 1\n",
        "            else:\n",
        "                j = mid\n",
        "        tails[i] = x\n",
        "        size = max(i+1, size)\n",
        "    #print(tails)\n",
        "    subsecuencia = [x for x in tails if isinstance(x, int)]\n",
        "    print(subsecuencia)\n",
        "    return size\n",
        "\n",
        "print(lengthOfLIS([10,9,2,5,3,7,101,18]))"
      ],
      "metadata": {
        "colab": {
          "base_uri": "https://localhost:8080/"
        },
        "id": "Cou1oefzlBR-",
        "outputId": "bebda618-d001-4acc-a549-e68e5f5a26a0"
      },
      "execution_count": 19,
      "outputs": [
        {
          "output_type": "stream",
          "name": "stdout",
          "text": [
            "[2, 3, 7, 18]\n",
            "4\n"
          ]
        }
      ]
    },
    {
      "cell_type": "code",
      "source": [
        "class Solution(object):\n",
        "   def lengthOfLIS(self, nums):\n",
        "      tails = [0 for i in range(len(nums))]\n",
        "      size = 0\n",
        "      for x in nums:\n",
        "         i = 0\n",
        "         j = size\n",
        "         while i != j:\n",
        "            mid = i + (j-i)//2\n",
        "            if tails[mid] < x:\n",
        "               i = mid + 1\n",
        "            else:\n",
        "               j = mid\n",
        "         tails[i] = x\n",
        "         size = max(i+1, size)\n",
        "         print(tails)\n",
        "      return size\n",
        "ob1 = Solution()\n",
        "print(ob1.lengthOfLIS([51,7,82,48,20,32,52,64,30,56,9,21,14,19,3,46,37,26,84,60,58,31,42,10,25,1,50,22,17,74,12,23,8,95,70,40,2,98,99,16,6,83,24,33,63,35,80,62,59,27,89,73,11,97,13,86,67,57,39,44,87,65,28,71,90,18,88,69,45,91,36,34,43,41,29,61,47,53,54,78,38,5,77,94,75,55,79,96,100,81,85,49,93,72,66,68,4,92,76,15]))\n",
        "\n",
        "\n",
        "#print([1, 2, 4, 11, 13, 15, 24, 27, 28, 29, 38, 45, 47, 49, 54, 55, 66, 68, 76, 92])"
      ],
      "metadata": {
        "id": "EgpEVJARlvHc"
      },
      "execution_count": null,
      "outputs": []
    },
    {
      "cell_type": "code",
      "source": [
        "class Solution:\n",
        "    def lengthOfLIS(self, nums: List[int]) -> int:\n",
        "        pass\n",
        "\n",
        "sol = Solution()"
      ],
      "metadata": {
        "colab": {
          "base_uri": "https://localhost:8080/",
          "height": 357
        },
        "id": "SYTBQDumX7Jh",
        "outputId": "a88caeae-1ca8-4f49-e3ae-ccae9894bf73"
      },
      "execution_count": 1,
      "outputs": [
        {
          "output_type": "error",
          "ename": "NameError",
          "evalue": "ignored",
          "traceback": [
            "\u001b[0;31m---------------------------------------------------------------------------\u001b[0m",
            "\u001b[0;31mNameError\u001b[0m                                 Traceback (most recent call last)",
            "\u001b[0;32m<ipython-input-1-122ae2eca6ab>\u001b[0m in \u001b[0;36m<module>\u001b[0;34m\u001b[0m\n\u001b[0;32m----> 1\u001b[0;31m \u001b[0;32mclass\u001b[0m \u001b[0mSolution\u001b[0m\u001b[0;34m:\u001b[0m\u001b[0;34m\u001b[0m\u001b[0;34m\u001b[0m\u001b[0m\n\u001b[0m\u001b[1;32m      2\u001b[0m     \u001b[0;32mdef\u001b[0m \u001b[0mlengthOfLIS\u001b[0m\u001b[0;34m(\u001b[0m\u001b[0mself\u001b[0m\u001b[0;34m,\u001b[0m \u001b[0mnums\u001b[0m\u001b[0;34m:\u001b[0m \u001b[0mList\u001b[0m\u001b[0;34m[\u001b[0m\u001b[0mint\u001b[0m\u001b[0;34m]\u001b[0m\u001b[0;34m)\u001b[0m \u001b[0;34m->\u001b[0m \u001b[0mint\u001b[0m\u001b[0;34m:\u001b[0m\u001b[0;34m\u001b[0m\u001b[0;34m\u001b[0m\u001b[0m\n\u001b[1;32m      3\u001b[0m         \u001b[0;32mpass\u001b[0m\u001b[0;34m\u001b[0m\u001b[0;34m\u001b[0m\u001b[0m\n\u001b[1;32m      4\u001b[0m \u001b[0;34m\u001b[0m\u001b[0m\n\u001b[1;32m      5\u001b[0m \u001b[0msol\u001b[0m \u001b[0;34m=\u001b[0m \u001b[0mSolution\u001b[0m\u001b[0;34m(\u001b[0m\u001b[0;34m)\u001b[0m\u001b[0;34m\u001b[0m\u001b[0;34m\u001b[0m\u001b[0m\n",
            "\u001b[0;32m<ipython-input-1-122ae2eca6ab>\u001b[0m in \u001b[0;36mSolution\u001b[0;34m()\u001b[0m\n\u001b[1;32m      1\u001b[0m \u001b[0;32mclass\u001b[0m \u001b[0mSolution\u001b[0m\u001b[0;34m:\u001b[0m\u001b[0;34m\u001b[0m\u001b[0;34m\u001b[0m\u001b[0m\n\u001b[0;32m----> 2\u001b[0;31m     \u001b[0;32mdef\u001b[0m \u001b[0mlengthOfLIS\u001b[0m\u001b[0;34m(\u001b[0m\u001b[0mself\u001b[0m\u001b[0;34m,\u001b[0m \u001b[0mnums\u001b[0m\u001b[0;34m:\u001b[0m \u001b[0mList\u001b[0m\u001b[0;34m[\u001b[0m\u001b[0mint\u001b[0m\u001b[0;34m]\u001b[0m\u001b[0;34m)\u001b[0m \u001b[0;34m->\u001b[0m \u001b[0mint\u001b[0m\u001b[0;34m:\u001b[0m\u001b[0;34m\u001b[0m\u001b[0;34m\u001b[0m\u001b[0m\n\u001b[0m\u001b[1;32m      3\u001b[0m         \u001b[0;32mpass\u001b[0m\u001b[0;34m\u001b[0m\u001b[0;34m\u001b[0m\u001b[0m\n\u001b[1;32m      4\u001b[0m \u001b[0;34m\u001b[0m\u001b[0m\n\u001b[1;32m      5\u001b[0m \u001b[0msol\u001b[0m \u001b[0;34m=\u001b[0m \u001b[0mSolution\u001b[0m\u001b[0;34m(\u001b[0m\u001b[0;34m)\u001b[0m\u001b[0;34m\u001b[0m\u001b[0;34m\u001b[0m\u001b[0m\n",
            "\u001b[0;31mNameError\u001b[0m: name 'List' is not defined"
          ]
        }
      ]
    },
    {
      "cell_type": "code",
      "source": [
        "def lengthOfLIS(arr):\n",
        "    subs = [arr[0]]\n",
        "    for i in range(1,len(arr)):\n",
        "        if arr[i] > subs[-1]: subs.append(arr[i])\n",
        "        else:\n",
        "            subs[bisect_left(subs, arr[i], 0, len(subs))] = arr[i]\n",
        "    return len(subs)\n",
        "\n",
        "lengthOfLIS([1,2,4,3])"
      ],
      "metadata": {
        "colab": {
          "base_uri": "https://localhost:8080/",
          "height": 322
        },
        "id": "O1YxVD6EaZcG",
        "outputId": "63d41477-14ad-4acb-a397-6a45905d690b"
      },
      "execution_count": 5,
      "outputs": [
        {
          "output_type": "error",
          "ename": "NameError",
          "evalue": "ignored",
          "traceback": [
            "\u001b[0;31m---------------------------------------------------------------------------\u001b[0m",
            "\u001b[0;31mNameError\u001b[0m                                 Traceback (most recent call last)",
            "\u001b[0;32m<ipython-input-5-a1954cecc233>\u001b[0m in \u001b[0;36m<module>\u001b[0;34m\u001b[0m\n\u001b[1;32m      7\u001b[0m     \u001b[0;32mreturn\u001b[0m \u001b[0mlen\u001b[0m\u001b[0;34m(\u001b[0m\u001b[0msubs\u001b[0m\u001b[0;34m)\u001b[0m\u001b[0;34m\u001b[0m\u001b[0;34m\u001b[0m\u001b[0m\n\u001b[1;32m      8\u001b[0m \u001b[0;34m\u001b[0m\u001b[0m\n\u001b[0;32m----> 9\u001b[0;31m \u001b[0mlengthOfLIS\u001b[0m\u001b[0;34m(\u001b[0m\u001b[0;34m[\u001b[0m\u001b[0;36m1\u001b[0m\u001b[0;34m,\u001b[0m\u001b[0;36m2\u001b[0m\u001b[0;34m,\u001b[0m\u001b[0;36m4\u001b[0m\u001b[0;34m,\u001b[0m\u001b[0;36m3\u001b[0m\u001b[0;34m]\u001b[0m\u001b[0;34m)\u001b[0m\u001b[0;34m\u001b[0m\u001b[0;34m\u001b[0m\u001b[0m\n\u001b[0m",
            "\u001b[0;32m<ipython-input-5-a1954cecc233>\u001b[0m in \u001b[0;36mlengthOfLIS\u001b[0;34m(arr)\u001b[0m\n\u001b[1;32m      4\u001b[0m         \u001b[0;32mif\u001b[0m \u001b[0marr\u001b[0m\u001b[0;34m[\u001b[0m\u001b[0mi\u001b[0m\u001b[0;34m]\u001b[0m \u001b[0;34m>\u001b[0m \u001b[0msubs\u001b[0m\u001b[0;34m[\u001b[0m\u001b[0;34m-\u001b[0m\u001b[0;36m1\u001b[0m\u001b[0;34m]\u001b[0m\u001b[0;34m:\u001b[0m \u001b[0msubs\u001b[0m\u001b[0;34m.\u001b[0m\u001b[0mappend\u001b[0m\u001b[0;34m(\u001b[0m\u001b[0marr\u001b[0m\u001b[0;34m[\u001b[0m\u001b[0mi\u001b[0m\u001b[0;34m]\u001b[0m\u001b[0;34m)\u001b[0m\u001b[0;34m\u001b[0m\u001b[0;34m\u001b[0m\u001b[0m\n\u001b[1;32m      5\u001b[0m         \u001b[0;32melse\u001b[0m\u001b[0;34m:\u001b[0m\u001b[0;34m\u001b[0m\u001b[0;34m\u001b[0m\u001b[0m\n\u001b[0;32m----> 6\u001b[0;31m             \u001b[0msubs\u001b[0m\u001b[0;34m[\u001b[0m\u001b[0mbisect_left\u001b[0m\u001b[0;34m(\u001b[0m\u001b[0msubs\u001b[0m\u001b[0;34m,\u001b[0m \u001b[0marr\u001b[0m\u001b[0;34m[\u001b[0m\u001b[0mi\u001b[0m\u001b[0;34m]\u001b[0m\u001b[0;34m,\u001b[0m \u001b[0;36m0\u001b[0m\u001b[0;34m,\u001b[0m \u001b[0mlen\u001b[0m\u001b[0;34m(\u001b[0m\u001b[0msubs\u001b[0m\u001b[0;34m)\u001b[0m\u001b[0;34m)\u001b[0m\u001b[0;34m]\u001b[0m \u001b[0;34m=\u001b[0m \u001b[0marr\u001b[0m\u001b[0;34m[\u001b[0m\u001b[0mi\u001b[0m\u001b[0;34m]\u001b[0m\u001b[0;34m\u001b[0m\u001b[0;34m\u001b[0m\u001b[0m\n\u001b[0m\u001b[1;32m      7\u001b[0m     \u001b[0;32mreturn\u001b[0m \u001b[0mlen\u001b[0m\u001b[0;34m(\u001b[0m\u001b[0msubs\u001b[0m\u001b[0;34m)\u001b[0m\u001b[0;34m\u001b[0m\u001b[0;34m\u001b[0m\u001b[0m\n\u001b[1;32m      8\u001b[0m \u001b[0;34m\u001b[0m\u001b[0m\n",
            "\u001b[0;31mNameError\u001b[0m: name 'bisect_left' is not defined"
          ]
        }
      ]
    },
    {
      "cell_type": "code",
      "source": [
        "class Solution(object):\n",
        "# using dP\n",
        "    def lengthOfLIS1(self, nums):\n",
        "        \"\"\"\n",
        "        :type nums: List[int]\n",
        "        :rtype: int\n",
        "        \"\"\"\n",
        "        if not nums:\n",
        "            return 0\n",
        "        dp = [1] * len(nums)\n",
        "        for i in range(1, len(nums)):\n",
        "            for j in range(i):\n",
        "                if nums[i] > nums[j]:\n",
        "                    dp[i] = max(dp[i], dp[j] + 1)\n",
        "        return max(dp)\n",
        "\n",
        "\n",
        "print(Solution().lengthOfLIS1([10,9,2,5,3,7,101,18]))"
      ],
      "metadata": {
        "colab": {
          "base_uri": "https://localhost:8080/"
        },
        "id": "o3wQ_leucWpr",
        "outputId": "a1071799-b0b9-4daf-884a-09f78dabbade"
      },
      "execution_count": 8,
      "outputs": [
        {
          "output_type": "stream",
          "name": "stdout",
          "text": [
            "4\n"
          ]
        }
      ]
    },
    {
      "cell_type": "code",
      "source": [
        "def lengthOfLIS1(nums):\n",
        "    if not nums:\n",
        "        return 0\n",
        "    dp = [1] * len(nums)\n",
        "    for i in range(1, len(nums)):\n",
        "        for j in range(i):\n",
        "            if nums[i] > nums[j]:\n",
        "                dp[i] = max(dp[i], dp[j] + 1)\n",
        "\n",
        "    return dp   #max(dp)\n",
        "\n",
        "#print(lengthOfLIS1([10,9,2,5,3,7,101,18]))\n",
        "\n",
        "print(lengthOfLIS1([8,4,12,2,10,6,14,9,5,13,11,7,15]))\n",
        "print(\"La LIS debería ser:\", [2,6,9,11,15])\n"
      ],
      "metadata": {
        "colab": {
          "base_uri": "https://localhost:8080/"
        },
        "id": "qOw6Av33d5_J",
        "outputId": "8230bde4-b5e1-4738-d299-233711798701"
      },
      "execution_count": 12,
      "outputs": [
        {
          "output_type": "stream",
          "name": "stdout",
          "text": [
            "[1, 1, 2, 1, 2, 2, 3, 3, 2, 4, 4, 3, 5]\n",
            "La LIS debería ser: [2, 6, 9, 11, 15]\n"
          ]
        }
      ]
    },
    {
      "cell_type": "code",
      "source": [
        "def lengthOfLIS1(nums):\n",
        "    if not nums:\n",
        "        return 0\n",
        "    dp = [1] * len(nums)\n",
        "    for i in range(1, len(nums)):\n",
        "        for j in range(i):\n",
        "            if nums[i] > nums[j]:\n",
        "                dp[i] = max(dp[i], dp[j] + 1)\n",
        "\n",
        "    return dp   #max(dp)\n",
        "\n",
        "dp = lengthOfLIS1([8,4,12,2,10,6,14,9,5,13,11,7,15])\n",
        "print(dp)\n",
        "print(\"La LIS debería ser:\", [2,6,9,11,15])\n",
        "\n"
      ],
      "metadata": {
        "colab": {
          "base_uri": "https://localhost:8080/"
        },
        "id": "927qYiwgivOI",
        "outputId": "aaaf55a0-035d-4524-cbac-331249b9e68d"
      },
      "execution_count": 13,
      "outputs": [
        {
          "output_type": "stream",
          "name": "stdout",
          "text": [
            "[1, 1, 2, 1, 2, 2, 3, 3, 2, 4, 4, 3, 5]\n",
            "La LIS debería ser: [2, 6, 9, 11, 15]\n"
          ]
        }
      ]
    },
    {
      "cell_type": "code",
      "source": [
        "#https://stackoverflow.com/questions/40732489/how-to-print-the-actual-longest-increasing-subsequence-not-just-length\n",
        "# Dynamic programming Python implementation of LIS problem\n",
        "\n",
        "# lis returns length of the longest increasing subsequence\n",
        "# in arr of size n\n",
        "def lis(arr):\n",
        "    n = len(arr)\n",
        "\n",
        "    # Declare the list (array) for LIS and initialize LIS\n",
        "    # values for all indexes\n",
        "    lis = [1]*n\n",
        "\n",
        "    prev = [0]*n\n",
        "    for i in range(0, n):\n",
        "        prev[i] = i\n",
        "\n",
        "    # Compute optimized LIS values in bottom up manner\n",
        "    for i in range (1 , n):\n",
        "        for j in range(0 , i):\n",
        "            if arr[i] > arr[j] and lis[i]< lis[j] + 1:\n",
        "                lis[i] = lis[j]+1\n",
        "                prev[i] = j\n",
        "\n",
        "    # Initialize maximum to 0 to get the maximum of all\n",
        "    # LIS\n",
        "    maximum = 0\n",
        "    idx = 0\n",
        "\n",
        "    # Pick maximum of all LIS values\n",
        "    for i in range(n):\n",
        "        if maximum < lis[i]:\n",
        "            maximum = lis[i]\n",
        "            idx = i\n",
        "\n",
        "    seq = [arr[idx]]\n",
        "    while idx != prev[idx]:\n",
        "        idx = prev[idx]\n",
        "        seq.append(arr[idx])\n",
        "\n",
        "    return (maximum, reversed(seq))\n",
        "# end of lis function\n",
        "\n",
        "# Driver program to test above function\n",
        "#arr = [10, 22, 9, 33, 21, 50, 41, 60]\n",
        "arr = [8,4,12,2,10,6,14,9,5,13,11,7,15]\n",
        "ans = lis(arr)\n",
        "print(\"Length of lis is\", ans[0])\n",
        "print(\"The longest sequence is\", \", \".join(str(x) for x in ans[1]))\n",
        "print(\"Otra posible LIS:\", [2,6,9,11,15])"
      ],
      "metadata": {
        "colab": {
          "base_uri": "https://localhost:8080/"
        },
        "id": "3pL08ILqklxL",
        "outputId": "7f363316-6e43-47e6-d058-619b640d8cfe"
      },
      "execution_count": 18,
      "outputs": [
        {
          "output_type": "stream",
          "name": "stdout",
          "text": [
            "Length of lis is 5\n",
            "The longest sequence is 4, 6, 9, 13, 15\n"
          ]
        }
      ]
    }
  ]
}