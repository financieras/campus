{
  "nbformat": 4,
  "nbformat_minor": 0,
  "metadata": {
    "colab": {
      "provenance": [],
      "authorship_tag": "ABX9TyPSgLiTK3WJE7mA1uKwcnAa",
      "include_colab_link": true
    },
    "kernelspec": {
      "name": "python3",
      "display_name": "Python 3"
    },
    "language_info": {
      "name": "python"
    }
  },
  "cells": [
    {
      "cell_type": "markdown",
      "metadata": {
        "id": "view-in-github",
        "colab_type": "text"
      },
      "source": [
        "<a href=\"https://colab.research.google.com/github/financieras/campus/blob/main/pilas/LIS.ipynb\" target=\"_parent\"><img src=\"https://colab.research.google.com/assets/colab-badge.svg\" alt=\"Open In Colab\"/></a>"
      ]
    },
    {
      "cell_type": "markdown",
      "source": [
        "# LIS: Longest Increasing Subsequence algorithm"
      ],
      "metadata": {
        "id": "uoBzOUiOeu0w"
      }
    },
    {
      "cell_type": "code",
      "execution_count": null,
      "metadata": {
        "colab": {
          "base_uri": "https://localhost:8080/"
        },
        "id": "TGdt9MvJesU_",
        "outputId": "0ed13c75-f951-4af8-93c3-b225ee22526b"
      },
      "outputs": [
        {
          "output_type": "stream",
          "name": "stdout",
          "text": [
            "[10, 0, 0, 0, 0, 0, 0, 0]\n",
            "[9, 0, 0, 0, 0, 0, 0, 0]\n",
            "[2, 0, 0, 0, 0, 0, 0, 0]\n",
            "[2, 5, 0, 0, 0, 0, 0, 0]\n",
            "[2, 3, 0, 0, 0, 0, 0, 0]\n",
            "[2, 3, 7, 0, 0, 0, 0, 0]\n",
            "[2, 3, 7, 101, 0, 0, 0, 0]\n",
            "[2, 3, 7, 18, 0, 0, 0, 0]\n",
            "4\n"
          ]
        }
      ],
      "source": [
        "class Solution(object):\n",
        "   def lengthOfLIS(self, nums):\n",
        "      tails = [0 for i in range(len(nums))]\n",
        "      size = 0\n",
        "      for x in nums:\n",
        "         i = 0\n",
        "         j = size\n",
        "         while i != j:\n",
        "            mid = i + (j-i)//2\n",
        "            if tails[mid] < x:\n",
        "               i = mid + 1\n",
        "            else:\n",
        "               j = mid\n",
        "         tails[i] = x\n",
        "         size = max(i+1, size)\n",
        "         print(tails)\n",
        "      return size\n",
        "ob1 = Solution()\n",
        "print(ob1.lengthOfLIS([10,9,2,5,3,7,101,18]))"
      ]
    },
    {
      "cell_type": "code",
      "source": [
        "class Solution(object):\n",
        "    def lengthOfLIS(self, nums):\n",
        "        tails = [None for i in range(len(nums))]\n",
        "        size = 0\n",
        "        for x in nums:\n",
        "            i = 0\n",
        "            j = size\n",
        "            while i != j:\n",
        "                mid = i + (j-i)//2\n",
        "                if tails[mid] < x:\n",
        "                    i = mid + 1\n",
        "                else:\n",
        "                    j = mid\n",
        "            tails[i] = x\n",
        "            size = max(i+1, size)\n",
        "        #print(tails)\n",
        "        subsecuencia = [x for x in tails if isinstance(x, int)]\n",
        "        print(subsecuencia)\n",
        "        return size\n",
        "ob1 = Solution()\n",
        "print(ob1.lengthOfLIS([10,9,2,5,3,7,101,18]))"
      ],
      "metadata": {
        "colab": {
          "base_uri": "https://localhost:8080/"
        },
        "id": "aJZp2dngf5UU",
        "outputId": "95169ff7-36a2-4358-a4e1-6c44d60d4bd2"
      },
      "execution_count": null,
      "outputs": [
        {
          "output_type": "stream",
          "name": "stdout",
          "text": [
            "[2, 3, 7, 18]\n",
            "4\n"
          ]
        }
      ]
    },
    {
      "cell_type": "code",
      "source": [
        "def lengthOfLIS(nums):\n",
        "    tails = [None] * len(nums)\n",
        "    size = 0\n",
        "    for x in nums:\n",
        "        i = 0\n",
        "        j = size\n",
        "        while i != j:\n",
        "            mid = i + (j-i)//2\n",
        "            if tails[mid] < x:\n",
        "                i = mid + 1\n",
        "            else:\n",
        "                j = mid\n",
        "        tails[i] = x\n",
        "        size = max(i+1, size)\n",
        "    #print(tails)\n",
        "    subsecuencia = [x for x in tails if isinstance(x, int)]\n",
        "    print(subsecuencia)\n",
        "    return size\n",
        "\n",
        "print(lengthOfLIS([10,9,2,5,3,7,101,18]))"
      ],
      "metadata": {
        "colab": {
          "base_uri": "https://localhost:8080/"
        },
        "id": "Cou1oefzlBR-",
        "outputId": "bebda618-d001-4acc-a549-e68e5f5a26a0"
      },
      "execution_count": null,
      "outputs": [
        {
          "output_type": "stream",
          "name": "stdout",
          "text": [
            "[2, 3, 7, 18]\n",
            "4\n"
          ]
        }
      ]
    },
    {
      "cell_type": "code",
      "source": [
        "class Solution(object):\n",
        "   def lengthOfLIS(self, nums):\n",
        "      tails = [0 for i in range(len(nums))]\n",
        "      size = 0\n",
        "      for x in nums:\n",
        "         i = 0\n",
        "         j = size\n",
        "         while i != j:\n",
        "            mid = i + (j-i)//2\n",
        "            if tails[mid] < x:\n",
        "               i = mid + 1\n",
        "            else:\n",
        "               j = mid\n",
        "         tails[i] = x\n",
        "         size = max(i+1, size)\n",
        "         print(tails)\n",
        "      return size\n",
        "ob1 = Solution()\n",
        "print(ob1.lengthOfLIS([51,7,82,48,20,32,52,64,30,56,9,21,14,19,3,46,37,26,84,60,58,31,42,10,25,1,50,22,17,74,12,23,8,95,70,40,2,98,99,16,6,83,24,33,63,35,80,62,59,27,89,73,11,97,13,86,67,57,39,44,87,65,28,71,90,18,88,69,45,91,36,34,43,41,29,61,47,53,54,78,38,5,77,94,75,55,79,96,100,81,85,49,93,72,66,68,4,92,76,15]))\n",
        "\n",
        "\n",
        "#print([1, 2, 4, 11, 13, 15, 24, 27, 28, 29, 38, 45, 47, 49, 54, 55, 66, 68, 76, 92])"
      ],
      "metadata": {
        "id": "EgpEVJARlvHc"
      },
      "execution_count": null,
      "outputs": []
    },
    {
      "cell_type": "code",
      "source": [
        "class Solution:\n",
        "    def lengthOfLIS(self, nums: List[int]) -> int:\n",
        "        pass\n",
        "\n",
        "sol = Solution()"
      ],
      "metadata": {
        "colab": {
          "base_uri": "https://localhost:8080/",
          "height": 357
        },
        "id": "SYTBQDumX7Jh",
        "outputId": "a88caeae-1ca8-4f49-e3ae-ccae9894bf73"
      },
      "execution_count": null,
      "outputs": [
        {
          "output_type": "error",
          "ename": "NameError",
          "evalue": "ignored",
          "traceback": [
            "\u001b[0;31m---------------------------------------------------------------------------\u001b[0m",
            "\u001b[0;31mNameError\u001b[0m                                 Traceback (most recent call last)",
            "\u001b[0;32m<ipython-input-1-122ae2eca6ab>\u001b[0m in \u001b[0;36m<module>\u001b[0;34m\u001b[0m\n\u001b[0;32m----> 1\u001b[0;31m \u001b[0;32mclass\u001b[0m \u001b[0mSolution\u001b[0m\u001b[0;34m:\u001b[0m\u001b[0;34m\u001b[0m\u001b[0;34m\u001b[0m\u001b[0m\n\u001b[0m\u001b[1;32m      2\u001b[0m     \u001b[0;32mdef\u001b[0m \u001b[0mlengthOfLIS\u001b[0m\u001b[0;34m(\u001b[0m\u001b[0mself\u001b[0m\u001b[0;34m,\u001b[0m \u001b[0mnums\u001b[0m\u001b[0;34m:\u001b[0m \u001b[0mList\u001b[0m\u001b[0;34m[\u001b[0m\u001b[0mint\u001b[0m\u001b[0;34m]\u001b[0m\u001b[0;34m)\u001b[0m \u001b[0;34m->\u001b[0m \u001b[0mint\u001b[0m\u001b[0;34m:\u001b[0m\u001b[0;34m\u001b[0m\u001b[0;34m\u001b[0m\u001b[0m\n\u001b[1;32m      3\u001b[0m         \u001b[0;32mpass\u001b[0m\u001b[0;34m\u001b[0m\u001b[0;34m\u001b[0m\u001b[0m\n\u001b[1;32m      4\u001b[0m \u001b[0;34m\u001b[0m\u001b[0m\n\u001b[1;32m      5\u001b[0m \u001b[0msol\u001b[0m \u001b[0;34m=\u001b[0m \u001b[0mSolution\u001b[0m\u001b[0;34m(\u001b[0m\u001b[0;34m)\u001b[0m\u001b[0;34m\u001b[0m\u001b[0;34m\u001b[0m\u001b[0m\n",
            "\u001b[0;32m<ipython-input-1-122ae2eca6ab>\u001b[0m in \u001b[0;36mSolution\u001b[0;34m()\u001b[0m\n\u001b[1;32m      1\u001b[0m \u001b[0;32mclass\u001b[0m \u001b[0mSolution\u001b[0m\u001b[0;34m:\u001b[0m\u001b[0;34m\u001b[0m\u001b[0;34m\u001b[0m\u001b[0m\n\u001b[0;32m----> 2\u001b[0;31m     \u001b[0;32mdef\u001b[0m \u001b[0mlengthOfLIS\u001b[0m\u001b[0;34m(\u001b[0m\u001b[0mself\u001b[0m\u001b[0;34m,\u001b[0m \u001b[0mnums\u001b[0m\u001b[0;34m:\u001b[0m \u001b[0mList\u001b[0m\u001b[0;34m[\u001b[0m\u001b[0mint\u001b[0m\u001b[0;34m]\u001b[0m\u001b[0;34m)\u001b[0m \u001b[0;34m->\u001b[0m \u001b[0mint\u001b[0m\u001b[0;34m:\u001b[0m\u001b[0;34m\u001b[0m\u001b[0;34m\u001b[0m\u001b[0m\n\u001b[0m\u001b[1;32m      3\u001b[0m         \u001b[0;32mpass\u001b[0m\u001b[0;34m\u001b[0m\u001b[0;34m\u001b[0m\u001b[0m\n\u001b[1;32m      4\u001b[0m \u001b[0;34m\u001b[0m\u001b[0m\n\u001b[1;32m      5\u001b[0m \u001b[0msol\u001b[0m \u001b[0;34m=\u001b[0m \u001b[0mSolution\u001b[0m\u001b[0;34m(\u001b[0m\u001b[0;34m)\u001b[0m\u001b[0;34m\u001b[0m\u001b[0;34m\u001b[0m\u001b[0m\n",
            "\u001b[0;31mNameError\u001b[0m: name 'List' is not defined"
          ]
        }
      ]
    },
    {
      "cell_type": "code",
      "source": [
        "def lengthOfLIS(arr):\n",
        "    subs = [arr[0]]\n",
        "    for i in range(1,len(arr)):\n",
        "        if arr[i] > subs[-1]: subs.append(arr[i])\n",
        "        else:\n",
        "            subs[bisect_left(subs, arr[i], 0, len(subs))] = arr[i]\n",
        "    return len(subs)\n",
        "\n",
        "lengthOfLIS([1,2,4,3])"
      ],
      "metadata": {
        "colab": {
          "base_uri": "https://localhost:8080/",
          "height": 322
        },
        "id": "O1YxVD6EaZcG",
        "outputId": "63d41477-14ad-4acb-a397-6a45905d690b"
      },
      "execution_count": null,
      "outputs": [
        {
          "output_type": "error",
          "ename": "NameError",
          "evalue": "ignored",
          "traceback": [
            "\u001b[0;31m---------------------------------------------------------------------------\u001b[0m",
            "\u001b[0;31mNameError\u001b[0m                                 Traceback (most recent call last)",
            "\u001b[0;32m<ipython-input-5-a1954cecc233>\u001b[0m in \u001b[0;36m<module>\u001b[0;34m\u001b[0m\n\u001b[1;32m      7\u001b[0m     \u001b[0;32mreturn\u001b[0m \u001b[0mlen\u001b[0m\u001b[0;34m(\u001b[0m\u001b[0msubs\u001b[0m\u001b[0;34m)\u001b[0m\u001b[0;34m\u001b[0m\u001b[0;34m\u001b[0m\u001b[0m\n\u001b[1;32m      8\u001b[0m \u001b[0;34m\u001b[0m\u001b[0m\n\u001b[0;32m----> 9\u001b[0;31m \u001b[0mlengthOfLIS\u001b[0m\u001b[0;34m(\u001b[0m\u001b[0;34m[\u001b[0m\u001b[0;36m1\u001b[0m\u001b[0;34m,\u001b[0m\u001b[0;36m2\u001b[0m\u001b[0;34m,\u001b[0m\u001b[0;36m4\u001b[0m\u001b[0;34m,\u001b[0m\u001b[0;36m3\u001b[0m\u001b[0;34m]\u001b[0m\u001b[0;34m)\u001b[0m\u001b[0;34m\u001b[0m\u001b[0;34m\u001b[0m\u001b[0m\n\u001b[0m",
            "\u001b[0;32m<ipython-input-5-a1954cecc233>\u001b[0m in \u001b[0;36mlengthOfLIS\u001b[0;34m(arr)\u001b[0m\n\u001b[1;32m      4\u001b[0m         \u001b[0;32mif\u001b[0m \u001b[0marr\u001b[0m\u001b[0;34m[\u001b[0m\u001b[0mi\u001b[0m\u001b[0;34m]\u001b[0m \u001b[0;34m>\u001b[0m \u001b[0msubs\u001b[0m\u001b[0;34m[\u001b[0m\u001b[0;34m-\u001b[0m\u001b[0;36m1\u001b[0m\u001b[0;34m]\u001b[0m\u001b[0;34m:\u001b[0m \u001b[0msubs\u001b[0m\u001b[0;34m.\u001b[0m\u001b[0mappend\u001b[0m\u001b[0;34m(\u001b[0m\u001b[0marr\u001b[0m\u001b[0;34m[\u001b[0m\u001b[0mi\u001b[0m\u001b[0;34m]\u001b[0m\u001b[0;34m)\u001b[0m\u001b[0;34m\u001b[0m\u001b[0;34m\u001b[0m\u001b[0m\n\u001b[1;32m      5\u001b[0m         \u001b[0;32melse\u001b[0m\u001b[0;34m:\u001b[0m\u001b[0;34m\u001b[0m\u001b[0;34m\u001b[0m\u001b[0m\n\u001b[0;32m----> 6\u001b[0;31m             \u001b[0msubs\u001b[0m\u001b[0;34m[\u001b[0m\u001b[0mbisect_left\u001b[0m\u001b[0;34m(\u001b[0m\u001b[0msubs\u001b[0m\u001b[0;34m,\u001b[0m \u001b[0marr\u001b[0m\u001b[0;34m[\u001b[0m\u001b[0mi\u001b[0m\u001b[0;34m]\u001b[0m\u001b[0;34m,\u001b[0m \u001b[0;36m0\u001b[0m\u001b[0;34m,\u001b[0m \u001b[0mlen\u001b[0m\u001b[0;34m(\u001b[0m\u001b[0msubs\u001b[0m\u001b[0;34m)\u001b[0m\u001b[0;34m)\u001b[0m\u001b[0;34m]\u001b[0m \u001b[0;34m=\u001b[0m \u001b[0marr\u001b[0m\u001b[0;34m[\u001b[0m\u001b[0mi\u001b[0m\u001b[0;34m]\u001b[0m\u001b[0;34m\u001b[0m\u001b[0;34m\u001b[0m\u001b[0m\n\u001b[0m\u001b[1;32m      7\u001b[0m     \u001b[0;32mreturn\u001b[0m \u001b[0mlen\u001b[0m\u001b[0;34m(\u001b[0m\u001b[0msubs\u001b[0m\u001b[0;34m)\u001b[0m\u001b[0;34m\u001b[0m\u001b[0;34m\u001b[0m\u001b[0m\n\u001b[1;32m      8\u001b[0m \u001b[0;34m\u001b[0m\u001b[0m\n",
            "\u001b[0;31mNameError\u001b[0m: name 'bisect_left' is not defined"
          ]
        }
      ]
    },
    {
      "cell_type": "code",
      "source": [
        "class Solution(object):\n",
        "# using dP\n",
        "    def lengthOfLIS1(self, nums):\n",
        "        \"\"\"\n",
        "        :type nums: List[int]\n",
        "        :rtype: int\n",
        "        \"\"\"\n",
        "        if not nums:\n",
        "            return 0\n",
        "        dp = [1] * len(nums)\n",
        "        for i in range(1, len(nums)):\n",
        "            for j in range(i):\n",
        "                if nums[i] > nums[j]:\n",
        "                    dp[i] = max(dp[i], dp[j] + 1)\n",
        "        return max(dp)\n",
        "\n",
        "\n",
        "print(Solution().lengthOfLIS1([10,9,2,5,3,7,101,18]))"
      ],
      "metadata": {
        "colab": {
          "base_uri": "https://localhost:8080/"
        },
        "id": "o3wQ_leucWpr",
        "outputId": "a1071799-b0b9-4daf-884a-09f78dabbade"
      },
      "execution_count": null,
      "outputs": [
        {
          "output_type": "stream",
          "name": "stdout",
          "text": [
            "4\n"
          ]
        }
      ]
    },
    {
      "cell_type": "code",
      "source": [
        "def lengthOfLIS1(nums):\n",
        "    if not nums:\n",
        "        return 0\n",
        "    dp = [1] * len(nums)\n",
        "    for i in range(1, len(nums)):\n",
        "        for j in range(i):\n",
        "            if nums[i] > nums[j]:\n",
        "                dp[i] = max(dp[i], dp[j] + 1)\n",
        "\n",
        "    return dp   #max(dp)\n",
        "\n",
        "#print(lengthOfLIS1([10,9,2,5,3,7,101,18]))\n",
        "\n",
        "print(lengthOfLIS1([8,4,12,2,10,6,14,9,5,13,11,7,15]))\n",
        "print(\"La LIS debería ser:\", [2,6,9,11,15])\n"
      ],
      "metadata": {
        "colab": {
          "base_uri": "https://localhost:8080/"
        },
        "id": "qOw6Av33d5_J",
        "outputId": "8230bde4-b5e1-4738-d299-233711798701"
      },
      "execution_count": null,
      "outputs": [
        {
          "output_type": "stream",
          "name": "stdout",
          "text": [
            "[1, 1, 2, 1, 2, 2, 3, 3, 2, 4, 4, 3, 5]\n",
            "La LIS debería ser: [2, 6, 9, 11, 15]\n"
          ]
        }
      ]
    },
    {
      "cell_type": "code",
      "source": [
        "def lengthOfLIS1(nums):\n",
        "    if not nums:\n",
        "        return 0\n",
        "    dp = [1] * len(nums)\n",
        "    for i in range(1, len(nums)):\n",
        "        for j in range(i):\n",
        "            if nums[i] > nums[j]:\n",
        "                dp[i] = max(dp[i], dp[j] + 1)\n",
        "\n",
        "    return dp   #max(dp)\n",
        "\n",
        "dp = lengthOfLIS1([8,4,12,2,10,6,14,9,5,13,11,7,15])\n",
        "print(dp)\n",
        "print(\"La LIS debería ser:\", [2,6,9,11,15])\n",
        "\n"
      ],
      "metadata": {
        "colab": {
          "base_uri": "https://localhost:8080/"
        },
        "id": "927qYiwgivOI",
        "outputId": "aaaf55a0-035d-4524-cbac-331249b9e68d"
      },
      "execution_count": null,
      "outputs": [
        {
          "output_type": "stream",
          "name": "stdout",
          "text": [
            "[1, 1, 2, 1, 2, 2, 3, 3, 2, 4, 4, 3, 5]\n",
            "La LIS debería ser: [2, 6, 9, 11, 15]\n"
          ]
        }
      ]
    },
    {
      "cell_type": "code",
      "source": [
        "# Generación de la pila a\n",
        "from random import sample, seed\n",
        "seed()\n",
        "n = 500   # número de elementos de la pila\n",
        "a = sample(range(1, n+1), n)\n",
        "print('a:', a)\n",
        "\n",
        "#https://stackoverflow.com/questions/40732489/how-to-print-the-actual-longest-increasing-subsequence-not-just-length\n",
        "# Dynamic programming Python implementation of LIS problem\n",
        "\n",
        "# lis returns length of the longest increasing subsequence\n",
        "# in arr of size n\n",
        "def lis(arr):\n",
        "    n = len(arr)\n",
        "\n",
        "    # Declare the list (array) for LIS and initialize LIS\n",
        "    # values for all indexes\n",
        "    lis = [1]*n\n",
        "\n",
        "    prev = [0]*n\n",
        "    for i in range(0, n):\n",
        "        prev[i] = i\n",
        "\n",
        "    # Compute optimized LIS values in bottom up manner\n",
        "    for i in range (1 , n):\n",
        "        for j in range(0 , i):\n",
        "            if arr[i] > arr[j] and lis[i]< lis[j] + 1:\n",
        "                lis[i] = lis[j]+1\n",
        "                prev[i] = j\n",
        "\n",
        "    # Initialize maximum to 0 to get the maximum of all\n",
        "    # LIS\n",
        "    maximum = 0\n",
        "    idx = 0\n",
        "\n",
        "    # Pick maximum of all LIS values\n",
        "    for i in range(n):\n",
        "        if maximum < lis[i]:\n",
        "            maximum = lis[i]\n",
        "            idx = i\n",
        "\n",
        "    seq = [arr[idx]]\n",
        "    while idx != prev[idx]:\n",
        "        idx = prev[idx]\n",
        "        seq.append(arr[idx])\n",
        "\n",
        "    return (maximum, reversed(seq))\n",
        "# end of lis function\n",
        "\n",
        "# Driver program to test above function\n",
        "#arr = [10, 22, 9, 33, 21, 50, 41, 60]\n",
        "arr = a\n",
        "ans = lis(arr)\n",
        "print(\"Length of lis is\", ans[0])\n",
        "print(\"The longest sequence is\", \", \".join(str(x) for x in ans[1]))\n",
        "print(\"Otra posible LIS:\", [2,6,9,11,15])"
      ],
      "metadata": {
        "colab": {
          "base_uri": "https://localhost:8080/"
        },
        "id": "3pL08ILqklxL",
        "outputId": "ac4694df-6bdd-4d77-f63b-f7ec46d8098a"
      },
      "execution_count": 57,
      "outputs": [
        {
          "output_type": "stream",
          "name": "stdout",
          "text": [
            "a: [175, 38, 151, 167, 17, 168, 26, 244, 229, 364, 137, 54, 55, 245, 403, 319, 402, 67, 51, 479, 362, 224, 482, 63, 237, 277, 268, 201, 335, 490, 239, 307, 324, 387, 34, 274, 280, 365, 162, 372, 214, 261, 27, 376, 144, 337, 248, 363, 117, 70, 193, 200, 84, 284, 108, 410, 438, 81, 177, 104, 236, 174, 264, 145, 316, 430, 71, 487, 243, 425, 19, 183, 417, 57, 406, 282, 169, 392, 266, 20, 455, 356, 291, 209, 462, 48, 346, 257, 309, 64, 59, 32, 2, 153, 303, 115, 445, 269, 196, 77, 199, 208, 333, 166, 259, 413, 344, 468, 176, 95, 400, 8, 206, 469, 381, 310, 304, 139, 379, 132, 1, 428, 110, 179, 453, 123, 442, 188, 72, 101, 475, 477, 99, 427, 447, 382, 270, 96, 407, 255, 191, 408, 133, 273, 370, 343, 112, 74, 467, 56, 149, 249, 73, 189, 138, 234, 367, 198, 212, 279, 136, 124, 491, 478, 82, 496, 287, 262, 331, 434, 79, 24, 494, 374, 106, 61, 13, 401, 290, 474, 247, 242, 298, 296, 473, 352, 397, 223, 65, 360, 495, 230, 369, 465, 97, 69, 422, 492, 122, 454, 155, 321, 353, 121, 211, 357, 21, 165, 30, 336, 318, 171, 271, 254, 451, 143, 295, 131, 500, 233, 358, 16, 449, 231, 156, 240, 493, 466, 172, 164, 405, 263, 160, 253, 202, 476, 415, 302, 210, 464, 359, 23, 481, 332, 11, 347, 39, 418, 361, 260, 246, 42, 119, 440, 10, 44, 341, 293, 94, 312, 14, 85, 299, 68, 238, 256, 301, 354, 472, 107, 486, 157, 148, 125, 329, 424, 89, 311, 380, 36, 431, 154, 215, 393, 265, 109, 334, 102, 228, 159, 22, 52, 126, 459, 75, 272, 275, 432, 116, 141, 373, 135, 60, 294, 326, 426, 53, 5, 134, 297, 29, 267, 289, 389, 18, 391, 460, 484, 340, 180, 111, 195, 173, 470, 128, 92, 207, 366, 204, 350, 441, 58, 182, 120, 25, 377, 130, 147, 411, 163, 384, 305, 281, 190, 43, 222, 375, 203, 142, 300, 93, 320, 497, 439, 194, 338, 184, 140, 308, 12, 241, 323, 216, 150, 197, 456, 258, 88, 31, 409, 420, 435, 15, 219, 100, 317, 461, 429, 419, 3, 187, 46, 414, 66, 178, 444, 226, 416, 252, 87, 383, 181, 443, 345, 83, 342, 80, 62, 90, 385, 457, 448, 483, 49, 485, 50, 35, 152, 315, 386, 161, 251, 325, 227, 205, 45, 313, 185, 114, 446, 371, 330, 437, 37, 452, 327, 186, 76, 158, 368, 129, 118, 292, 232, 218, 398, 396, 423, 170, 314, 421, 6, 488, 235, 127, 286, 480, 433, 47, 28, 250, 322, 276, 489, 394, 349, 436, 33, 217, 463, 306, 471, 450, 404, 278, 225, 339, 399, 355, 351, 213, 9, 285, 98, 458, 146, 113, 103, 328, 221, 78, 91, 499, 220, 4, 498, 390, 388, 40, 412, 348, 378, 41, 288, 86, 7, 283, 192, 395, 105]\n",
            "Length of lis is 42\n",
            "The longest sequence is 17, 26, 54, 55, 67, 70, 84, 108, 145, 153, 166, 176, 179, 188, 191, 198, 212, 223, 230, 233, 240, 253, 260, 293, 299, 301, 329, 334, 340, 366, 377, 384, 409, 420, 435, 444, 457, 483, 485, 488, 489, 499\n",
            "Otra posible LIS: [2, 6, 9, 11, 15]\n"
          ]
        }
      ]
    },
    {
      "cell_type": "code",
      "source": [
        "# Generación de la pila a\n",
        "from random import sample, seed\n",
        "seed()\n",
        "n = 100   # número de elementos de la pila\n",
        "a = sample(range(1, n+1), n)\n",
        "print('a:', a)"
      ],
      "metadata": {
        "id": "S1oYYLtXGQGS",
        "outputId": "4bbdc437-6224-419e-fa9c-2d0090b0fa07",
        "colab": {
          "base_uri": "https://localhost:8080/"
        }
      },
      "execution_count": 4,
      "outputs": [
        {
          "output_type": "stream",
          "name": "stdout",
          "text": [
            "a: [69, 37, 86, 51, 64, 25, 79, 39, 38, 57, 30, 16, 55, 45, 4, 74, 43, 28, 27, 22, 90, 97, 46, 88, 15, 61, 81, 41, 56, 85, 29, 60, 44, 59, 62, 5, 3, 98, 36, 24, 33, 80, 50, 96, 70, 10, 72, 14, 71, 1, 11, 23, 78, 82, 91, 83, 17, 42, 95, 47, 34, 67, 32, 8, 65, 12, 20, 84, 93, 2, 99, 19, 66, 94, 54, 52, 63, 92, 68, 35, 77, 9, 26, 48, 31, 21, 40, 87, 100, 76, 6, 53, 89, 18, 13, 58, 75, 7, 49, 73]\n"
          ]
        }
      ]
    }
  ]
}