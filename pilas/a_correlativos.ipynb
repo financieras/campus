{
  "nbformat": 4,
  "nbformat_minor": 0,
  "metadata": {
    "colab": {
      "provenance": [],
      "authorship_tag": "ABX9TyNVU1AeREX/9G2hYt1H+8bI",
      "include_colab_link": true
    },
    "kernelspec": {
      "name": "python3",
      "display_name": "Python 3"
    },
    "language_info": {
      "name": "python"
    }
  },
  "cells": [
    {
      "cell_type": "markdown",
      "metadata": {
        "id": "view-in-github",
        "colab_type": "text"
      },
      "source": [
        "<a href=\"https://colab.research.google.com/github/financieras/campus/blob/main/pilas/a_correlativos.ipynb\" target=\"_parent\"><img src=\"https://colab.research.google.com/assets/colab-badge.svg\" alt=\"Open In Colab\"/></a>"
      ]
    },
    {
      "cell_type": "markdown",
      "source": [
        "# Convierte un array de números enteros a números correlativos desde ```1``` hasta ```n```\n",
        "* El array contiene números enteros sin repetición"
      ],
      "metadata": {
        "id": "AOOwHcM5XW0k"
      }
    },
    {
      "cell_type": "code",
      "source": [
        "a = [5, -9, 4]                  # El objetivo es llegar a obtener:  a_correl = [3,1,2]\n",
        "a_sort = sorted(a)              # [-9, 4, 5]\n",
        "\n",
        "a_correl = [None] * len(a)\n",
        "\n",
        "for i in range(len(a)):\n",
        "    a_correl[i] = a_sort.index(a[i]) + 1\n",
        "\n",
        "print(a_correl)"
      ],
      "metadata": {
        "colab": {
          "base_uri": "https://localhost:8080/"
        },
        "id": "jG7X_s-BaVyF",
        "outputId": "31ac042e-9ecd-4940-c7f8-cab9c414c4d0"
      },
      "execution_count": 27,
      "outputs": [
        {
          "output_type": "stream",
          "name": "stdout",
          "text": [
            "[3, 1, 2]\n"
          ]
        }
      ]
    }
  ]
}