{
  "nbformat": 4,
  "nbformat_minor": 0,
  "metadata": {
    "colab": {
      "provenance": [],
      "authorship_tag": "ABX9TyMcFHWgIguhI1leAYgLD5dZ",
      "include_colab_link": true
    },
    "kernelspec": {
      "name": "python3",
      "display_name": "Python 3"
    },
    "language_info": {
      "name": "python"
    }
  },
  "cells": [
    {
      "cell_type": "markdown",
      "metadata": {
        "id": "view-in-github",
        "colab_type": "text"
      },
      "source": [
        "<a href=\"https://colab.research.google.com/github/financieras/test/blob/main/pilas2.ipynb\" target=\"_parent\"><img src=\"https://colab.research.google.com/assets/colab-badge.svg\" alt=\"Open In Colab\"/></a>"
      ]
    },
    {
      "cell_type": "markdown",
      "source": [
        "# Ordenar pilas: menú"
      ],
      "metadata": {
        "id": "hd3anMIc-zPj"
      }
    },
    {
      "cell_type": "code",
      "execution_count": null,
      "metadata": {
        "id": "Kwpmc1sP-v2n"
      },
      "outputs": [],
      "source": [
        "def sa(a,b):\n",
        "    if len(a) > 1: a[0],a[1] = a[1],a[0]\n",
        "    return a,b\n",
        "def sb(a,b):\n",
        "    if len(b) > 1: b[0],b[1] = b[1],b[0]\n",
        "    return a,b\n",
        "def ss(a,b):\n",
        "    sa(a,b)\n",
        "    sb(a,b)\n",
        "    return a,b\n",
        "def pa(a,b):\n",
        "    if len(b) > 0:\n",
        "        a.insert(0, b[0])\n",
        "        b.pop(0)\n",
        "    return a,b\n",
        "def pb(a,b):\n",
        "    if len(a) > 0:\n",
        "        b.insert(0, a[0])\n",
        "        a.pop(0)\n",
        "    return a,b\n",
        "def ra(a,b):\n",
        "    if len(a) > 1: a.append(a.pop(0))\n",
        "    return a,b\n",
        "def rb(a,b):\n",
        "    if len(b) > 1: b.append(b.pop(0))\n",
        "    return a,b\n",
        "def rr(a,b):\n",
        "    ra(a,b)\n",
        "    rb(a,b)\n",
        "    return a,b\n",
        "def rra(a,b):\n",
        "    if len(a) > 1: a.insert(0, a.pop())\n",
        "    return a,b\n",
        "def rrb(a,b):\n",
        "    if len(b) > 1: b.insert(0, b.pop())\n",
        "    return a,b\n",
        "def rrr(a,b):\n",
        "    rra(a,b)\n",
        "    rrb(a,b)\n",
        "    return a,b\n",
        "\n",
        "if __name__ == \"__main__\":\n",
        "    #a = [2,1,3,6,5,8]\n",
        "    a = [2,1,4,3]\n",
        "    b = []\n",
        "    print('\\ta: ', a)\n",
        "    print('\\tb: ', b)\n",
        "    #instrucciones = input().split()\n",
        "    instrucciones = 'pb sa ra pa sa'.split()\n",
        "    while len(instrucciones) > 0:\n",
        "        if instrucciones[0]==\"sa\": sa(a,b)\n",
        "        elif instrucciones[0]==\"sb\": sb(a,b)\n",
        "        elif instrucciones[0]==\"ss\": ss(a,b)\n",
        "        elif instrucciones[0]==\"pa\": pa(a,b)\n",
        "        elif instrucciones[0]==\"pb\": pb(a,b)\n",
        "        elif instrucciones[0]==\"ra\": ra(a,b)\n",
        "        elif instrucciones[0]==\"rb\": rb(a,b)\n",
        "        elif instrucciones[0]==\"rr\": rr(a,b)\n",
        "        elif instrucciones[0]==\"rra\": rra(a,b)\n",
        "        elif instrucciones[0]==\"rrb\": rrb(a,b)\n",
        "        elif instrucciones[0]==\"rrr\": rrr(a,b)\n",
        "        else:\n",
        "            print(f\"Error la instrucción {instrucciones[0]} no se reconoce.\")\n",
        "            break\n",
        "        print(instrucciones.pop(0))\n",
        "        print('\\ta: ', a)\n",
        "        print('\\tb: ', b)"
      ]
    }
  ]
}
