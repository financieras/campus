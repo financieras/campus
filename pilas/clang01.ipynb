{
  "nbformat": 4,
  "nbformat_minor": 0,
  "metadata": {
    "colab": {
      "provenance": [],
      "authorship_tag": "ABX9TyON2fIL/unOIYUXIXxeLSup",
      "include_colab_link": true
    },
    "kernelspec": {
      "name": "python3",
      "display_name": "Python 3"
    },
    "language_info": {
      "name": "python"
    }
  },
  "cells": [
    {
      "cell_type": "markdown",
      "metadata": {
        "id": "view-in-github",
        "colab_type": "text"
      },
      "source": [
        "<a href=\"https://colab.research.google.com/github/financieras/campus/blob/main/pilas/clang01.ipynb\" target=\"_parent\"><img src=\"https://colab.research.google.com/assets/colab-badge.svg\" alt=\"Open In Colab\"/></a>"
      ]
    },
    {
      "cell_type": "code",
      "execution_count": 1,
      "metadata": {
        "colab": {
          "base_uri": "https://localhost:8080/"
        },
        "id": "Z9u0X2_GvRB1",
        "outputId": "8abaa772-cb2e-4cdb-8045-a20dfa7f005b"
      },
      "outputs": [
        {
          "output_type": "stream",
          "name": "stdout",
          "text": [
            "fatal: destination path 'push_swap' already exists and is not an empty directory.\n"
          ]
        }
      ],
      "source": [
        "!git clone https://github.com/magnitopic/push_swap.git"
      ]
    },
    {
      "cell_type": "code",
      "source": [
        "%cd push_swap"
      ],
      "metadata": {
        "colab": {
          "base_uri": "https://localhost:8080/"
        },
        "id": "y1Wf-AjdvsQG",
        "outputId": "bdd344bc-aa37-4382-bada-874f99aef126"
      },
      "execution_count": 2,
      "outputs": [
        {
          "output_type": "stream",
          "name": "stdout",
          "text": [
            "/content/push_swap\n"
          ]
        }
      ]
    },
    {
      "cell_type": "code",
      "source": [
        "!git submodule init\n",
        "!git submodule update\n",
        "!make\n",
        "!./push_swap 4 3 2 1 5"
      ],
      "metadata": {
        "colab": {
          "base_uri": "https://localhost:8080/"
        },
        "id": "BNcoGudDvYhl",
        "outputId": "61087d77-c72e-416a-b6d9-5d0fa3937c5a"
      },
      "execution_count": 5,
      "outputs": [
        {
          "output_type": "stream",
          "name": "stdout",
          "text": [
            "make[1]: Entering directory '/content/push_swap/libft'\n",
            "\u001b[0;34m==> \u001b[0;36mLibft bonus compiled ✅✨\n",
            "\n",
            "\u001b[0mmake[1]: Leaving directory '/content/push_swap/libft'\n",
            "\u001b[0;34m==> \u001b[0;36mPush_swap compiled ✅\n",
            "\n",
            "\u001b[0msa\n",
            "pb\n",
            "rra\n",
            "sa\n",
            "pa\n",
            "rra\n",
            "rra\n",
            "sa\n"
          ]
        }
      ]
    }
  ]
}