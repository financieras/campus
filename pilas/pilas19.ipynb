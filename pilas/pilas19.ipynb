{
  "nbformat": 4,
  "nbformat_minor": 0,
  "metadata": {
    "colab": {
      "provenance": [],
      "authorship_tag": "ABX9TyOctk+K/ivnLtlTg9JK2FtU",
      "include_colab_link": true
    },
    "kernelspec": {
      "name": "python3",
      "display_name": "Python 3"
    },
    "language_info": {
      "name": "python"
    }
  },
  "cells": [
    {
      "cell_type": "markdown",
      "metadata": {
        "id": "view-in-github",
        "colab_type": "text"
      },
      "source": [
        "<a href=\"https://colab.research.google.com/github/financieras/campus/blob/main/pilas/pilas19.ipynb\" target=\"_parent\"><img src=\"https://colab.research.google.com/assets/colab-badge.svg\" alt=\"Open In Colab\"/></a>"
      ]
    },
    {
      "cell_type": "markdown",
      "source": [
        "# Árbol\n"
      ],
      "metadata": {
        "id": "uramGAIr4NqX"
      }
    },
    {
      "cell_type": "code",
      "source": [
        "# FUNCIONES\n",
        "def sa(a,b):\n",
        "    if len(a) > 1: a[0],a[1] = a[1],a[0]\n",
        "    return a,b\n",
        "def sb(a,b):\n",
        "    if len(b) > 1: b[0],b[1] = b[1],b[0]\n",
        "    return a,b\n",
        "def ss(a,b):\n",
        "    sa(a,b)\n",
        "    sb(a,b)\n",
        "    return a,b\n",
        "def pa(a,b):\n",
        "    if len(b) > 0:\n",
        "        a.insert(0, b[0])\n",
        "        b.pop(0)\n",
        "    return a,b\n",
        "def pb(a,b):\n",
        "    if len(a) > 0:\n",
        "        b.insert(0, a[0])\n",
        "        a.pop(0)\n",
        "    return a,b\n",
        "def ra(a,b):\n",
        "    if len(a) > 1: a.append(a.pop(0))\n",
        "    return a,b\n",
        "def rb(a,b):\n",
        "    if len(b) > 1: b.append(b.pop(0))\n",
        "    return a,b\n",
        "def rr(a,b):\n",
        "    ra(a,b)\n",
        "    rb(a,b)\n",
        "    return a,b\n",
        "def rra(a,b):\n",
        "    if len(a) > 1: a.insert(0, a.pop())\n",
        "    return a,b\n",
        "def rrb(a,b):\n",
        "    if len(b) > 1: b.insert(0, b.pop())\n",
        "    return a,b\n",
        "def rrr(a,b):\n",
        "    rra(a,b)\n",
        "    rrb(a,b)\n",
        "    return a,b"
      ],
      "metadata": {
        "id": "4d6wz9qo4e22"
      },
      "execution_count": 1,
      "outputs": []
    },
    {
      "cell_type": "code",
      "source": [
        "!pip install openpyxl"
      ],
      "metadata": {
        "colab": {
          "base_uri": "https://localhost:8080/"
        },
        "id": "K63Z_qrE4yW8",
        "outputId": "eaec0061-9451-442e-b329-ab454b76a471"
      },
      "execution_count": null,
      "outputs": [
        {
          "output_type": "stream",
          "name": "stdout",
          "text": [
            "Looking in indexes: https://pypi.org/simple, https://us-python.pkg.dev/colab-wheels/public/simple/\n",
            "Requirement already satisfied: openpyxl in /usr/local/lib/python3.8/dist-packages (3.0.10)\n",
            "Requirement already satisfied: et-xmlfile in /usr/local/lib/python3.8/dist-packages (from openpyxl) (1.1.0)\n"
          ]
        }
      ]
    },
    {
      "cell_type": "code",
      "source": [
        "import openpyxl                # importamos la librería openpyxl\n",
        "\n",
        "wb = openpyxl.Workbook()       # para crear por primera vez un libro\n",
        "ws = wb.active                 # estas dos lineas crean el libro, aún sin nombre\n",
        "\n",
        "wb.save('arbol.xlsx')          # grabamos el fichero por primera vez"
      ],
      "metadata": {
        "id": "0JjKGTof45Sh"
      },
      "execution_count": null,
      "outputs": []
    },
    {
      "cell_type": "markdown",
      "source": [
        "* Se mide el nivel del diccionario (inicilamente es cero)\n",
        "* La variable nivel calcula el máximo nivel del diccionario en ese momento\n",
        " - Estando atacando el nuevo_nivel añado todas las instrucciones\n",
        " - [\"sa\",\"sb\",\"pa\",\"pb\",\"ra\",\"rb\",\"rra\",\"rrb\",\"ss\",\"rr\",\"rrr\"]\n",
        " - se las agrego al final de todas las tuplas cuyo nivel es nivel\n",
        " - Solo se añaden al diccionario los casos con nueva pareja\n",
        " - Terminado el proceso de añadir todas las instrucciones (hasta rrb)\n",
        "* Se repite todo el proceso.\t"
      ],
      "metadata": {
        "id": "5fT-p8U9dTJ9"
      }
    },
    {
      "cell_type": "code",
      "source": [
        "k = ('sa',)\n",
        "instruccion = 'pb'\n",
        "aCopy = ['4', '2', '1']\n",
        "bCopy = ['3', '5']\n",
        "pareja = ' '.join([x for x in aCopy]) + \"|\" + ' '.join([x for x in bCopy])\n",
        "pareja\n"
      ],
      "metadata": {
        "colab": {
          "base_uri": "https://localhost:8080/",
          "height": 36
        },
        "id": "AGEzxMbRdsp_",
        "outputId": "cb814557-29dc-4436-b85c-e5488ac4ec79"
      },
      "execution_count": 19,
      "outputs": [
        {
          "output_type": "execute_result",
          "data": {
            "text/plain": [
              "'4 2 1|3 5'"
            ],
            "application/vnd.google.colaboratory.intrinsic+json": {
              "type": "string"
            }
          },
          "metadata": {},
          "execution_count": 19
        }
      ]
    },
    {
      "cell_type": "code",
      "source": [
        "d = {(): '4 3 2 1|', ('sa',): '3 4 2 1|', ('pb',): '3 2 1|4', ('ra',): '3 2 1 4|', ('rra',): '1 4 3 2|', ('sa', 'pb'): '4 2 1|3', ('sa', 'ra'): '4 2 1 3|', ('sa', 'rra'): '1 3 4 2|', ('pb', 'sa'): '2 3 1|4', ('pb', 'pb'): '2 1|3 4', ('pb', 'ra'): '2 1 3|4', ('pb', 'rra'): '1 3 2|4', ('ra', 'sa'): '2 3 1 4|', ('ra', 'pb'): '2 1 4|3', ('ra', 'ra'): '2 1 4 3|', ('rra', 'sa'): '4 1 3 2|', ('rra', 'pb'): '4 3 2|1', ('sa', 'pb', 'sa', 'pa'): '3 2 4 1|', ('sa', 'pb', 'sa', 'pb'): '4 1|2 3', ('sa', 'pb', 'sa', 'ra'): '4 1 2|3', ('sa', 'pb', 'pb', 'sa'): '1 2|4 3', ('sa', 'pb', 'pb', 'pb'): '1|2 4 3', ('sa', 'pb', 'rra', 'pb'): '4 2|1 3', ('sa', 'ra', 'sa', 'pb'): '4 1 3|2', ('sa', 'ra', 'ra', 'sa'): '1 2 3 4|', ('sa', 'ra', 'ra', 'pb'): '1 3 4|2', ('sa', 'rra', 'sa', 'ra'): '1 4 2 3|', ('sa', 'rra', 'pb', 'pb'): '4 2|3 1', ('sa', 'rra', 'pb', 'ra'): '4 2 3|1', ('sa', 'rra', 'pb', 'rra'): '2 3 4|1', ('pb', 'sa', 'pa', 'sa'): '2 4 3 1|', ('pb', 'sa', 'pb', 'sb'): '3 1|4 2', ('pb', 'sa', 'pb', 'pb'): '1|3 2 4', ('pb', 'sa', 'ra', 'pa'): '4 3 1 2|', ('pb', 'sa', 'rra', 'pa'): '4 1 2 3|', ('pb', 'sa', 'rra', 'pb'): '2 3|1 4', ('pb', 'pb', 'sa', 'pb'): '2|1 3 4', ('pb', 'pb', 'pb', 'pb'): '|1 2 3 4', ('pb', 'pb', 'pb', 'rb'): '1|3 4 2', ('pb', 'pb', 'pb', 'rrb'): '1|4 2 3', ('pb', 'ra', 'pb', 'sb'): '1 3|4 2', ('pb', 'ra', 'pb', 'pb'): '3|1 2 4', ('pb', 'rra', 'pb', 'pb'): '2|3 1 4', ('ra', 'sa', 'pb', 'pb'): '1 4|3 2', ('ra', 'sa', 'pb', 'rra'): '4 3 1|2', ('ra', 'pb', 'sa', 'pa'): '3 1 2 4|', ('ra', 'pb', 'sa', 'pb'): '2 4|1 3', ('ra', 'pb', 'pb', 'pb'): '4|1 2 3', ('ra', 'ra', 'pb', 'pb'): '4 3|1 2', ('rra', 'pb', 'pb', 'sa'): '2 3|4 1', ('rra', 'pb', 'pb', 'pb'): '2|3 4 1', ('rra', 'pb', 'ra', 'pb'): '2 4|3 1', ('rra', 'pb', 'rra', 'pb'): '4 3|2 1'}\n",
        "\n",
        "buscar = True\n",
        "\n",
        "'1 2 3 4|' not in d.values()\n",
        "\n",
        "#if '1 2 3 4|' in d.values():\n",
        "#    buscar = False"
      ],
      "metadata": {
        "colab": {
          "base_uri": "https://localhost:8080/"
        },
        "id": "SGo-ntqtflds",
        "outputId": "dff57b4f-eecd-4229-f620-8c5f7b0ad39b"
      },
      "execution_count": 27,
      "outputs": [
        {
          "output_type": "execute_result",
          "data": {
            "text/plain": [
              "False"
            ]
          },
          "metadata": {},
          "execution_count": 27
        }
      ]
    },
    {
      "cell_type": "code",
      "source": [
        "def checkSorted(stackA, stackB):\n",
        "    if len(stackB) > 0:\n",
        "        return False\n",
        "    for i in range(len(stackA)-1):\n",
        "        if stackA[i] > stackA[i+1]:\n",
        "            return False\n",
        "    return True\n",
        "\n",
        "def separa_valor(v):\n",
        "    posicion = v.find('|')\n",
        "    a = v[:posicion]\n",
        "    b = v[posicion+1:]\n",
        "    a = a.replace(\" \", \"\")\n",
        "    b = b.replace(\" \", \"\")\n",
        "    a = [x for x in a]\n",
        "    b = [y for y in b]\n",
        "    #print(\"separa_valor retorna a y b: \", a, b)\n",
        "    return a, b\n",
        "\n",
        "def agrega(k, instruccion, aCopy, bCopy):\n",
        "    global d\n",
        "    print(\"agrega(k, instruccion, aCopy, bCopy)::::\", k, instruccion, aCopy, bCopy)\n",
        "    pareja = ' '.join([x for x in aCopy]) + \"|\" + ' '.join([x for x in bCopy])\n",
        "    tupla = tuple([str(instruccion)])\n",
        "    if pareja not in d.values():\n",
        "        d[k+tupla] = pareja\n",
        "\n",
        "def busca(a,b):    # Estas son a y b: [4, 3, 2, 1] []\n",
        "    global d\n",
        "    #print(\"d es: \", d)\n",
        "    print(\"valor_ordenado es: \", valor_ordenado)\n",
        "    print(\"valor_ordenado not in d.values():\", valor_ordenado not in d.values())\n",
        "    #global d_nivel\n",
        "    while valor_ordenado not in d.values(): \n",
        "        nivel = max([len(k) for k in d.keys()])   # el nivel del árbol es igual a la máxima longitud de las tuplas que van como clave en el diccionario. Inicialmente el nivel=0\n",
        "        print(\"nivel:\", nivel)\n",
        "        print(\"d es: \", d)\n",
        "        #d_nivel = {}   # inicializamos un diccionario que copiará d pero solo los items que sean del nivel máximo en ese momento\n",
        "        for k,v in d.items():\n",
        "            if len(k)==nivel:\n",
        "                d_nivel[k] = v\n",
        "        #print(\"d_nivel\", d_nivel)\n",
        "        for k,v in d_nivel.items():                \n",
        "            a, b = separa_valor(v)\n",
        "            #print(\"a:\", a)\n",
        "            #print(\"b:\", b)\n",
        "\n",
        "            for i in moves:\n",
        "                if (i == \"sa\"): aCopy, bCopy = sa(a[:], b[:])\n",
        "                elif (i == \"sb\"): aCopy, bCopy = sb(a[:], b[:])\n",
        "                #elif (i == \"ss\"): aCopy, bCopy = ss(a[:], b[:])\n",
        "                elif (i == \"pa\"): aCopy, bCopy = pa(a[:], b[:])\n",
        "                elif (i == \"pb\"): aCopy, bCopy = pb(a[:], b[:])\n",
        "                elif (i == \"ra\"): aCopy, bCopy = ra(a[:], b[:])\n",
        "                elif (i == \"rb\"): aCopy, bCopy = rb(a[:], b[:])\n",
        "                #elif (i == \"rr\"): aCopy, bCopy = rr(a[:], b[:])\n",
        "                elif (i == \"rra\"): aCopy, bCopy = rra(a[:], b[:])\n",
        "                elif (i == \"rrb\"): aCopy, bCopy = rrb(a[:], b[:])\n",
        "                #elif (i == \"rrr\"): aCopy, bCopy = rrr(a[:], b[:])\n",
        "                agrega(k, i, aCopy, bCopy)\n",
        "        print(d)\n",
        "        \n",
        "\n",
        "if __name__ == \"__main__\":\n",
        "    a_string = \"5 2 1 3 4\"\n",
        "    a = a_string.replace(\" \", \"\")   # '4321'\n",
        "    #d_nivel = {}\n",
        "    d = {():a_string + \"|\"}   # diccionario. Ejemplo: {():'4 3 2 1|', ('sa',):'3 4 2 1|', ('pb',):'3 2 1|4', ('ra',):'3 2 1 4|', ('rra',):'1 4 3 2|', ('pb', 'sa'):'2 3 1|4', ('pb', 'pb'):'2 1|3 4'}\n",
        "    moves = [\"sa\",\"sb\",\"pa\",\"pb\",\"ra\",\"rb\",\"rra\",\"rrb\"]   #,\"ss\",\"rr\",\"rrr\"]\n",
        "    a = [int(x) for x in a]   # [4, 3, 2, 1]\n",
        "    b = []\n",
        "    valor_ordenado = \"1 2 3 4 5|\"\n",
        "    busca(a,b)\n",
        "    #print(d)\n",
        "    print(list(d.keys())[list(d.values()).index(valor_ordenado)])   # da la clave que corresponde al valor ordenado \"1 2 3 4|\"\n"
      ],
      "metadata": {
        "colab": {
          "base_uri": "https://localhost:8080/",
          "height": 1000
        },
        "id": "7gsSuWyf5LYM",
        "outputId": "d4ec507b-0e02-49a9-e2b0-98499516c98b"
      },
      "execution_count": 64,
      "outputs": [
        {
          "output_type": "stream",
          "name": "stdout",
          "text": [
            "valor_ordenado es:  1 2 3 4 5|\n",
            "valor_ordenado not in d.values(): True\n",
            "nivel: 0\n",
            "d es:  {(): '5 2 1 3 4|'}\n",
            "agrega(k, instruccion, aCopy, bCopy):::: () sa ['2', '5', '1', '3', '4'] []\n",
            "agrega(k, instruccion, aCopy, bCopy):::: () sb ['5', '2', '1', '3', '4'] []\n",
            "agrega(k, instruccion, aCopy, bCopy):::: () pa ['5', '2', '1', '3', '4'] []\n",
            "agrega(k, instruccion, aCopy, bCopy):::: () pb ['2', '1', '3', '4'] ['5']\n",
            "agrega(k, instruccion, aCopy, bCopy):::: () ra ['2', '1', '3', '4', '5'] []\n",
            "agrega(k, instruccion, aCopy, bCopy):::: () rb ['5', '2', '1', '3', '4'] []\n",
            "agrega(k, instruccion, aCopy, bCopy):::: () rra ['4', '5', '2', '1', '3'] []\n",
            "agrega(k, instruccion, aCopy, bCopy):::: () rrb ['5', '2', '1', '3', '4'] []\n",
            "agrega(k, instruccion, aCopy, bCopy):::: ('sa',) sa ['4', '3', '2', '1'] []\n",
            "agrega(k, instruccion, aCopy, bCopy):::: ('sa',) sb ['3', '4', '2', '1'] []\n",
            "agrega(k, instruccion, aCopy, bCopy):::: ('sa',) pa ['3', '4', '2', '1'] []\n",
            "agrega(k, instruccion, aCopy, bCopy):::: ('sa',) pb ['4', '2', '1'] ['3']\n",
            "agrega(k, instruccion, aCopy, bCopy):::: ('sa',) ra ['4', '2', '1', '3'] []\n",
            "agrega(k, instruccion, aCopy, bCopy):::: ('sa',) rb ['3', '4', '2', '1'] []\n",
            "agrega(k, instruccion, aCopy, bCopy):::: ('sa',) rra ['1', '3', '4', '2'] []\n",
            "agrega(k, instruccion, aCopy, bCopy):::: ('sa',) rrb ['3', '4', '2', '1'] []\n",
            "agrega(k, instruccion, aCopy, bCopy):::: ('pb',) sa ['2', '3', '1'] ['4']\n",
            "agrega(k, instruccion, aCopy, bCopy):::: ('pb',) sb ['3', '2', '1'] ['4']\n",
            "agrega(k, instruccion, aCopy, bCopy):::: ('pb',) pa ['4', '3', '2', '1'] []\n",
            "agrega(k, instruccion, aCopy, bCopy):::: ('pb',) pb ['2', '1'] ['3', '4']\n",
            "agrega(k, instruccion, aCopy, bCopy):::: ('pb',) ra ['2', '1', '3'] ['4']\n",
            "agrega(k, instruccion, aCopy, bCopy):::: ('pb',) rb ['3', '2', '1'] ['4']\n",
            "agrega(k, instruccion, aCopy, bCopy):::: ('pb',) rra ['1', '3', '2'] ['4']\n",
            "agrega(k, instruccion, aCopy, bCopy):::: ('pb',) rrb ['3', '2', '1'] ['4']\n",
            "agrega(k, instruccion, aCopy, bCopy):::: ('ra',) sa ['2', '3', '1', '4'] []\n",
            "agrega(k, instruccion, aCopy, bCopy):::: ('ra',) sb ['3', '2', '1', '4'] []\n",
            "agrega(k, instruccion, aCopy, bCopy):::: ('ra',) pa ['3', '2', '1', '4'] []\n",
            "agrega(k, instruccion, aCopy, bCopy):::: ('ra',) pb ['2', '1', '4'] ['3']\n",
            "agrega(k, instruccion, aCopy, bCopy):::: ('ra',) ra ['2', '1', '4', '3'] []\n",
            "agrega(k, instruccion, aCopy, bCopy):::: ('ra',) rb ['3', '2', '1', '4'] []\n",
            "agrega(k, instruccion, aCopy, bCopy):::: ('ra',) rra ['4', '3', '2', '1'] []\n",
            "agrega(k, instruccion, aCopy, bCopy):::: ('ra',) rrb ['3', '2', '1', '4'] []\n",
            "agrega(k, instruccion, aCopy, bCopy):::: ('rra',) sa ['4', '1', '3', '2'] []\n",
            "agrega(k, instruccion, aCopy, bCopy):::: ('rra',) sb ['1', '4', '3', '2'] []\n",
            "agrega(k, instruccion, aCopy, bCopy):::: ('rra',) pa ['1', '4', '3', '2'] []\n",
            "agrega(k, instruccion, aCopy, bCopy):::: ('rra',) pb ['4', '3', '2'] ['1']\n",
            "agrega(k, instruccion, aCopy, bCopy):::: ('rra',) ra ['4', '3', '2', '1'] []\n",
            "agrega(k, instruccion, aCopy, bCopy):::: ('rra',) rb ['1', '4', '3', '2'] []\n",
            "agrega(k, instruccion, aCopy, bCopy):::: ('rra',) rra ['2', '1', '4', '3'] []\n",
            "agrega(k, instruccion, aCopy, bCopy):::: ('rra',) rrb ['1', '4', '3', '2'] []\n",
            "agrega(k, instruccion, aCopy, bCopy):::: ('sa', 'pb') sa ['2', '4', '1'] ['3']\n",
            "agrega(k, instruccion, aCopy, bCopy):::: ('sa', 'pb') sb ['4', '2', '1'] ['3']\n",
            "agrega(k, instruccion, aCopy, bCopy):::: ('sa', 'pb') pa ['3', '4', '2', '1'] []\n",
            "agrega(k, instruccion, aCopy, bCopy):::: ('sa', 'pb') pb ['2', '1'] ['4', '3']\n",
            "agrega(k, instruccion, aCopy, bCopy):::: ('sa', 'pb') ra ['2', '1', '4'] ['3']\n",
            "agrega(k, instruccion, aCopy, bCopy):::: ('sa', 'pb') rb ['4', '2', '1'] ['3']\n",
            "agrega(k, instruccion, aCopy, bCopy):::: ('sa', 'pb') rra ['1', '4', '2'] ['3']\n",
            "agrega(k, instruccion, aCopy, bCopy):::: ('sa', 'pb') rrb ['4', '2', '1'] ['3']\n",
            "agrega(k, instruccion, aCopy, bCopy):::: ('sa', 'ra') sa ['2', '4', '1', '3'] []\n",
            "agrega(k, instruccion, aCopy, bCopy):::: ('sa', 'ra') sb ['4', '2', '1', '3'] []\n",
            "agrega(k, instruccion, aCopy, bCopy):::: ('sa', 'ra') pa ['4', '2', '1', '3'] []\n",
            "agrega(k, instruccion, aCopy, bCopy):::: ('sa', 'ra') pb ['2', '1', '3'] ['4']\n",
            "agrega(k, instruccion, aCopy, bCopy):::: ('sa', 'ra') ra ['2', '1', '3', '4'] []\n",
            "agrega(k, instruccion, aCopy, bCopy):::: ('sa', 'ra') rb ['4', '2', '1', '3'] []\n",
            "agrega(k, instruccion, aCopy, bCopy):::: ('sa', 'ra') rra ['3', '4', '2', '1'] []\n",
            "agrega(k, instruccion, aCopy, bCopy):::: ('sa', 'ra') rrb ['4', '2', '1', '3'] []\n",
            "agrega(k, instruccion, aCopy, bCopy):::: ('sa', 'rra') sa ['3', '1', '4', '2'] []\n",
            "agrega(k, instruccion, aCopy, bCopy):::: ('sa', 'rra') sb ['1', '3', '4', '2'] []\n",
            "agrega(k, instruccion, aCopy, bCopy):::: ('sa', 'rra') pa ['1', '3', '4', '2'] []\n",
            "agrega(k, instruccion, aCopy, bCopy):::: ('sa', 'rra') pb ['3', '4', '2'] ['1']\n",
            "agrega(k, instruccion, aCopy, bCopy):::: ('sa', 'rra') ra ['3', '4', '2', '1'] []\n",
            "agrega(k, instruccion, aCopy, bCopy):::: ('sa', 'rra') rb ['1', '3', '4', '2'] []\n",
            "agrega(k, instruccion, aCopy, bCopy):::: ('sa', 'rra') rra ['2', '1', '3', '4'] []\n",
            "agrega(k, instruccion, aCopy, bCopy):::: ('sa', 'rra') rrb ['1', '3', '4', '2'] []\n",
            "agrega(k, instruccion, aCopy, bCopy):::: ('pb', 'sa') sa ['3', '2', '1'] ['4']\n",
            "agrega(k, instruccion, aCopy, bCopy):::: ('pb', 'sa') sb ['2', '3', '1'] ['4']\n",
            "agrega(k, instruccion, aCopy, bCopy):::: ('pb', 'sa') pa ['4', '2', '3', '1'] []\n",
            "agrega(k, instruccion, aCopy, bCopy):::: ('pb', 'sa') pb ['3', '1'] ['2', '4']\n",
            "agrega(k, instruccion, aCopy, bCopy):::: ('pb', 'sa') ra ['3', '1', '2'] ['4']\n",
            "agrega(k, instruccion, aCopy, bCopy):::: ('pb', 'sa') rb ['2', '3', '1'] ['4']\n",
            "agrega(k, instruccion, aCopy, bCopy):::: ('pb', 'sa') rra ['1', '2', '3'] ['4']\n",
            "agrega(k, instruccion, aCopy, bCopy):::: ('pb', 'sa') rrb ['2', '3', '1'] ['4']\n",
            "agrega(k, instruccion, aCopy, bCopy):::: ('pb', 'pb') sa ['1', '2'] ['3', '4']\n",
            "agrega(k, instruccion, aCopy, bCopy):::: ('pb', 'pb') sb ['2', '1'] ['4', '3']\n",
            "agrega(k, instruccion, aCopy, bCopy):::: ('pb', 'pb') pa ['3', '2', '1'] ['4']\n",
            "agrega(k, instruccion, aCopy, bCopy):::: ('pb', 'pb') pb ['1'] ['2', '3', '4']\n",
            "agrega(k, instruccion, aCopy, bCopy):::: ('pb', 'pb') ra ['1', '2'] ['3', '4']\n",
            "agrega(k, instruccion, aCopy, bCopy):::: ('pb', 'pb') rb ['2', '1'] ['4', '3']\n",
            "agrega(k, instruccion, aCopy, bCopy):::: ('pb', 'pb') rra ['1', '2'] ['3', '4']\n",
            "agrega(k, instruccion, aCopy, bCopy):::: ('pb', 'pb') rrb ['2', '1'] ['4', '3']\n",
            "agrega(k, instruccion, aCopy, bCopy):::: ('pb', 'ra') sa ['1', '2', '3'] ['4']\n",
            "agrega(k, instruccion, aCopy, bCopy):::: ('pb', 'ra') sb ['2', '1', '3'] ['4']\n",
            "agrega(k, instruccion, aCopy, bCopy):::: ('pb', 'ra') pa ['4', '2', '1', '3'] []\n",
            "agrega(k, instruccion, aCopy, bCopy):::: ('pb', 'ra') pb ['1', '3'] ['2', '4']\n",
            "agrega(k, instruccion, aCopy, bCopy):::: ('pb', 'ra') ra ['1', '3', '2'] ['4']\n",
            "agrega(k, instruccion, aCopy, bCopy):::: ('pb', 'ra') rb ['2', '1', '3'] ['4']\n",
            "agrega(k, instruccion, aCopy, bCopy):::: ('pb', 'ra') rra ['3', '2', '1'] ['4']\n",
            "agrega(k, instruccion, aCopy, bCopy):::: ('pb', 'ra') rrb ['2', '1', '3'] ['4']\n",
            "agrega(k, instruccion, aCopy, bCopy):::: ('pb', 'rra') sa ['3', '1', '2'] ['4']\n",
            "agrega(k, instruccion, aCopy, bCopy):::: ('pb', 'rra') sb ['1', '3', '2'] ['4']\n",
            "agrega(k, instruccion, aCopy, bCopy):::: ('pb', 'rra') pa ['4', '1', '3', '2'] []\n",
            "agrega(k, instruccion, aCopy, bCopy):::: ('pb', 'rra') pb ['3', '2'] ['1', '4']\n",
            "agrega(k, instruccion, aCopy, bCopy):::: ('pb', 'rra') ra ['3', '2', '1'] ['4']\n",
            "agrega(k, instruccion, aCopy, bCopy):::: ('pb', 'rra') rb ['1', '3', '2'] ['4']\n",
            "agrega(k, instruccion, aCopy, bCopy):::: ('pb', 'rra') rra ['2', '1', '3'] ['4']\n",
            "agrega(k, instruccion, aCopy, bCopy):::: ('pb', 'rra') rrb ['1', '3', '2'] ['4']\n",
            "agrega(k, instruccion, aCopy, bCopy):::: ('ra', 'sa') sa ['3', '2', '1', '4'] []\n",
            "agrega(k, instruccion, aCopy, bCopy):::: ('ra', 'sa') sb ['2', '3', '1', '4'] []\n",
            "agrega(k, instruccion, aCopy, bCopy):::: ('ra', 'sa') pa ['2', '3', '1', '4'] []\n",
            "agrega(k, instruccion, aCopy, bCopy):::: ('ra', 'sa') pb ['3', '1', '4'] ['2']\n",
            "agrega(k, instruccion, aCopy, bCopy):::: ('ra', 'sa') ra ['3', '1', '4', '2'] []\n",
            "agrega(k, instruccion, aCopy, bCopy):::: ('ra', 'sa') rb ['2', '3', '1', '4'] []\n",
            "agrega(k, instruccion, aCopy, bCopy):::: ('ra', 'sa') rra ['4', '2', '3', '1'] []\n",
            "agrega(k, instruccion, aCopy, bCopy):::: ('ra', 'sa') rrb ['2', '3', '1', '4'] []\n",
            "agrega(k, instruccion, aCopy, bCopy):::: ('ra', 'pb') sa ['1', '2', '4'] ['3']\n",
            "agrega(k, instruccion, aCopy, bCopy):::: ('ra', 'pb') sb ['2', '1', '4'] ['3']\n",
            "agrega(k, instruccion, aCopy, bCopy):::: ('ra', 'pb') pa ['3', '2', '1', '4'] []\n",
            "agrega(k, instruccion, aCopy, bCopy):::: ('ra', 'pb') pb ['1', '4'] ['2', '3']\n",
            "agrega(k, instruccion, aCopy, bCopy):::: ('ra', 'pb') ra ['1', '4', '2'] ['3']\n",
            "agrega(k, instruccion, aCopy, bCopy):::: ('ra', 'pb') rb ['2', '1', '4'] ['3']\n",
            "agrega(k, instruccion, aCopy, bCopy):::: ('ra', 'pb') rra ['4', '2', '1'] ['3']\n",
            "agrega(k, instruccion, aCopy, bCopy):::: ('ra', 'pb') rrb ['2', '1', '4'] ['3']\n",
            "agrega(k, instruccion, aCopy, bCopy):::: ('ra', 'ra') sa ['1', '2', '4', '3'] []\n",
            "agrega(k, instruccion, aCopy, bCopy):::: ('ra', 'ra') sb ['2', '1', '4', '3'] []\n",
            "agrega(k, instruccion, aCopy, bCopy):::: ('ra', 'ra') pa ['2', '1', '4', '3'] []\n",
            "agrega(k, instruccion, aCopy, bCopy):::: ('ra', 'ra') pb ['1', '4', '3'] ['2']\n",
            "agrega(k, instruccion, aCopy, bCopy):::: ('ra', 'ra') ra ['1', '4', '3', '2'] []\n",
            "agrega(k, instruccion, aCopy, bCopy):::: ('ra', 'ra') rb ['2', '1', '4', '3'] []\n",
            "agrega(k, instruccion, aCopy, bCopy):::: ('ra', 'ra') rra ['3', '2', '1', '4'] []\n",
            "agrega(k, instruccion, aCopy, bCopy):::: ('ra', 'ra') rrb ['2', '1', '4', '3'] []\n",
            "agrega(k, instruccion, aCopy, bCopy):::: ('rra', 'sa') sa ['1', '4', '3', '2'] []\n",
            "agrega(k, instruccion, aCopy, bCopy):::: ('rra', 'sa') sb ['4', '1', '3', '2'] []\n",
            "agrega(k, instruccion, aCopy, bCopy):::: ('rra', 'sa') pa ['4', '1', '3', '2'] []\n",
            "agrega(k, instruccion, aCopy, bCopy):::: ('rra', 'sa') pb ['1', '3', '2'] ['4']\n",
            "agrega(k, instruccion, aCopy, bCopy):::: ('rra', 'sa') ra ['1', '3', '2', '4'] []\n",
            "agrega(k, instruccion, aCopy, bCopy):::: ('rra', 'sa') rb ['4', '1', '3', '2'] []\n",
            "agrega(k, instruccion, aCopy, bCopy):::: ('rra', 'sa') rra ['2', '4', '1', '3'] []\n",
            "agrega(k, instruccion, aCopy, bCopy):::: ('rra', 'sa') rrb ['4', '1', '3', '2'] []\n",
            "agrega(k, instruccion, aCopy, bCopy):::: ('rra', 'pb') sa ['3', '4', '2'] ['1']\n",
            "agrega(k, instruccion, aCopy, bCopy):::: ('rra', 'pb') sb ['4', '3', '2'] ['1']\n",
            "agrega(k, instruccion, aCopy, bCopy):::: ('rra', 'pb') pa ['1', '4', '3', '2'] []\n",
            "agrega(k, instruccion, aCopy, bCopy):::: ('rra', 'pb') pb ['3', '2'] ['4', '1']\n",
            "agrega(k, instruccion, aCopy, bCopy):::: ('rra', 'pb') ra ['3', '2', '4'] ['1']\n",
            "agrega(k, instruccion, aCopy, bCopy):::: ('rra', 'pb') rb ['4', '3', '2'] ['1']\n",
            "agrega(k, instruccion, aCopy, bCopy):::: ('rra', 'pb') rra ['2', '4', '3'] ['1']\n",
            "agrega(k, instruccion, aCopy, bCopy):::: ('rra', 'pb') rrb ['4', '3', '2'] ['1']\n",
            "agrega(k, instruccion, aCopy, bCopy):::: ('sa', 'pb', 'sa') sa ['4', '2', '1'] ['3']\n",
            "agrega(k, instruccion, aCopy, bCopy):::: ('sa', 'pb', 'sa') sb ['2', '4', '1'] ['3']\n",
            "agrega(k, instruccion, aCopy, bCopy):::: ('sa', 'pb', 'sa') pa ['3', '2', '4', '1'] []\n",
            "agrega(k, instruccion, aCopy, bCopy):::: ('sa', 'pb', 'sa') pb ['4', '1'] ['2', '3']\n",
            "agrega(k, instruccion, aCopy, bCopy):::: ('sa', 'pb', 'sa') ra ['4', '1', '2'] ['3']\n",
            "agrega(k, instruccion, aCopy, bCopy):::: ('sa', 'pb', 'sa') rb ['2', '4', '1'] ['3']\n",
            "agrega(k, instruccion, aCopy, bCopy):::: ('sa', 'pb', 'sa') rra ['1', '2', '4'] ['3']\n",
            "agrega(k, instruccion, aCopy, bCopy):::: ('sa', 'pb', 'sa') rrb ['2', '4', '1'] ['3']\n",
            "agrega(k, instruccion, aCopy, bCopy):::: ('sa', 'pb', 'pb') sa ['1', '2'] ['4', '3']\n",
            "agrega(k, instruccion, aCopy, bCopy):::: ('sa', 'pb', 'pb') sb ['2', '1'] ['3', '4']\n",
            "agrega(k, instruccion, aCopy, bCopy):::: ('sa', 'pb', 'pb') pa ['4', '2', '1'] ['3']\n",
            "agrega(k, instruccion, aCopy, bCopy):::: ('sa', 'pb', 'pb') pb ['1'] ['2', '4', '3']\n",
            "agrega(k, instruccion, aCopy, bCopy):::: ('sa', 'pb', 'pb') ra ['1', '2'] ['4', '3']\n",
            "agrega(k, instruccion, aCopy, bCopy):::: ('sa', 'pb', 'pb') rb ['2', '1'] ['3', '4']\n",
            "agrega(k, instruccion, aCopy, bCopy):::: ('sa', 'pb', 'pb') rra ['1', '2'] ['4', '3']\n",
            "agrega(k, instruccion, aCopy, bCopy):::: ('sa', 'pb', 'pb') rrb ['2', '1'] ['3', '4']\n",
            "agrega(k, instruccion, aCopy, bCopy):::: ('sa', 'pb', 'rra') sa ['4', '1', '2'] ['3']\n",
            "agrega(k, instruccion, aCopy, bCopy):::: ('sa', 'pb', 'rra') sb ['1', '4', '2'] ['3']\n",
            "agrega(k, instruccion, aCopy, bCopy):::: ('sa', 'pb', 'rra') pa ['3', '1', '4', '2'] []\n",
            "agrega(k, instruccion, aCopy, bCopy):::: ('sa', 'pb', 'rra') pb ['4', '2'] ['1', '3']\n",
            "agrega(k, instruccion, aCopy, bCopy):::: ('sa', 'pb', 'rra') ra ['4', '2', '1'] ['3']\n",
            "agrega(k, instruccion, aCopy, bCopy):::: ('sa', 'pb', 'rra') rb ['1', '4', '2'] ['3']\n",
            "agrega(k, instruccion, aCopy, bCopy):::: ('sa', 'pb', 'rra') rra ['2', '1', '4'] ['3']\n",
            "agrega(k, instruccion, aCopy, bCopy):::: ('sa', 'pb', 'rra') rrb ['1', '4', '2'] ['3']\n",
            "agrega(k, instruccion, aCopy, bCopy):::: ('sa', 'ra', 'sa') sa ['4', '2', '1', '3'] []\n",
            "agrega(k, instruccion, aCopy, bCopy):::: ('sa', 'ra', 'sa') sb ['2', '4', '1', '3'] []\n",
            "agrega(k, instruccion, aCopy, bCopy):::: ('sa', 'ra', 'sa') pa ['2', '4', '1', '3'] []\n",
            "agrega(k, instruccion, aCopy, bCopy):::: ('sa', 'ra', 'sa') pb ['4', '1', '3'] ['2']\n",
            "agrega(k, instruccion, aCopy, bCopy):::: ('sa', 'ra', 'sa') ra ['4', '1', '3', '2'] []\n",
            "agrega(k, instruccion, aCopy, bCopy):::: ('sa', 'ra', 'sa') rb ['2', '4', '1', '3'] []\n",
            "agrega(k, instruccion, aCopy, bCopy):::: ('sa', 'ra', 'sa') rra ['3', '2', '4', '1'] []\n",
            "agrega(k, instruccion, aCopy, bCopy):::: ('sa', 'ra', 'sa') rrb ['2', '4', '1', '3'] []\n",
            "agrega(k, instruccion, aCopy, bCopy):::: ('sa', 'ra', 'ra') sa ['1', '2', '3', '4'] []\n",
            "agrega(k, instruccion, aCopy, bCopy):::: ('sa', 'ra', 'ra') sb ['2', '1', '3', '4'] []\n",
            "agrega(k, instruccion, aCopy, bCopy):::: ('sa', 'ra', 'ra') pa ['2', '1', '3', '4'] []\n",
            "agrega(k, instruccion, aCopy, bCopy):::: ('sa', 'ra', 'ra') pb ['1', '3', '4'] ['2']\n",
            "agrega(k, instruccion, aCopy, bCopy):::: ('sa', 'ra', 'ra') ra ['1', '3', '4', '2'] []\n",
            "agrega(k, instruccion, aCopy, bCopy):::: ('sa', 'ra', 'ra') rb ['2', '1', '3', '4'] []\n",
            "agrega(k, instruccion, aCopy, bCopy):::: ('sa', 'ra', 'ra') rra ['4', '2', '1', '3'] []\n",
            "agrega(k, instruccion, aCopy, bCopy):::: ('sa', 'ra', 'ra') rrb ['2', '1', '3', '4'] []\n",
            "agrega(k, instruccion, aCopy, bCopy):::: ('sa', 'rra', 'sa') sa ['1', '3', '4', '2'] []\n",
            "agrega(k, instruccion, aCopy, bCopy):::: ('sa', 'rra', 'sa') sb ['3', '1', '4', '2'] []\n",
            "agrega(k, instruccion, aCopy, bCopy):::: ('sa', 'rra', 'sa') pa ['3', '1', '4', '2'] []\n",
            "agrega(k, instruccion, aCopy, bCopy):::: ('sa', 'rra', 'sa') pb ['1', '4', '2'] ['3']\n",
            "agrega(k, instruccion, aCopy, bCopy):::: ('sa', 'rra', 'sa') ra ['1', '4', '2', '3'] []\n",
            "agrega(k, instruccion, aCopy, bCopy):::: ('sa', 'rra', 'sa') rb ['3', '1', '4', '2'] []\n",
            "agrega(k, instruccion, aCopy, bCopy):::: ('sa', 'rra', 'sa') rra ['2', '3', '1', '4'] []\n",
            "agrega(k, instruccion, aCopy, bCopy):::: ('sa', 'rra', 'sa') rrb ['3', '1', '4', '2'] []\n",
            "agrega(k, instruccion, aCopy, bCopy):::: ('sa', 'rra', 'pb') sa ['4', '3', '2'] ['1']\n",
            "agrega(k, instruccion, aCopy, bCopy):::: ('sa', 'rra', 'pb') sb ['3', '4', '2'] ['1']\n",
            "agrega(k, instruccion, aCopy, bCopy):::: ('sa', 'rra', 'pb') pa ['1', '3', '4', '2'] []\n",
            "agrega(k, instruccion, aCopy, bCopy):::: ('sa', 'rra', 'pb') pb ['4', '2'] ['3', '1']\n",
            "agrega(k, instruccion, aCopy, bCopy):::: ('sa', 'rra', 'pb') ra ['4', '2', '3'] ['1']\n",
            "agrega(k, instruccion, aCopy, bCopy):::: ('sa', 'rra', 'pb') rb ['3', '4', '2'] ['1']\n",
            "agrega(k, instruccion, aCopy, bCopy):::: ('sa', 'rra', 'pb') rra ['2', '3', '4'] ['1']\n",
            "agrega(k, instruccion, aCopy, bCopy):::: ('sa', 'rra', 'pb') rrb ['3', '4', '2'] ['1']\n",
            "agrega(k, instruccion, aCopy, bCopy):::: ('pb', 'sa', 'pa') sa ['2', '4', '3', '1'] []\n",
            "agrega(k, instruccion, aCopy, bCopy):::: ('pb', 'sa', 'pa') sb ['4', '2', '3', '1'] []\n",
            "agrega(k, instruccion, aCopy, bCopy):::: ('pb', 'sa', 'pa') pa ['4', '2', '3', '1'] []\n",
            "agrega(k, instruccion, aCopy, bCopy):::: ('pb', 'sa', 'pa') pb ['2', '3', '1'] ['4']\n",
            "agrega(k, instruccion, aCopy, bCopy):::: ('pb', 'sa', 'pa') ra ['2', '3', '1', '4'] []\n",
            "agrega(k, instruccion, aCopy, bCopy):::: ('pb', 'sa', 'pa') rb ['4', '2', '3', '1'] []\n",
            "agrega(k, instruccion, aCopy, bCopy):::: ('pb', 'sa', 'pa') rra ['1', '4', '2', '3'] []\n",
            "agrega(k, instruccion, aCopy, bCopy):::: ('pb', 'sa', 'pa') rrb ['4', '2', '3', '1'] []\n",
            "agrega(k, instruccion, aCopy, bCopy):::: ('pb', 'sa', 'pb') sa ['1', '3'] ['2', '4']\n",
            "agrega(k, instruccion, aCopy, bCopy):::: ('pb', 'sa', 'pb') sb ['3', '1'] ['4', '2']\n",
            "agrega(k, instruccion, aCopy, bCopy):::: ('pb', 'sa', 'pb') pa ['2', '3', '1'] ['4']\n",
            "agrega(k, instruccion, aCopy, bCopy):::: ('pb', 'sa', 'pb') pb ['1'] ['3', '2', '4']\n",
            "agrega(k, instruccion, aCopy, bCopy):::: ('pb', 'sa', 'pb') ra ['1', '3'] ['2', '4']\n",
            "agrega(k, instruccion, aCopy, bCopy):::: ('pb', 'sa', 'pb') rb ['3', '1'] ['4', '2']\n",
            "agrega(k, instruccion, aCopy, bCopy):::: ('pb', 'sa', 'pb') rra ['1', '3'] ['2', '4']\n",
            "agrega(k, instruccion, aCopy, bCopy):::: ('pb', 'sa', 'pb') rrb ['3', '1'] ['4', '2']\n",
            "agrega(k, instruccion, aCopy, bCopy):::: ('pb', 'sa', 'ra') sa ['1', '3', '2'] ['4']\n",
            "agrega(k, instruccion, aCopy, bCopy):::: ('pb', 'sa', 'ra') sb ['3', '1', '2'] ['4']\n",
            "agrega(k, instruccion, aCopy, bCopy):::: ('pb', 'sa', 'ra') pa ['4', '3', '1', '2'] []\n",
            "agrega(k, instruccion, aCopy, bCopy):::: ('pb', 'sa', 'ra') pb ['1', '2'] ['3', '4']\n",
            "agrega(k, instruccion, aCopy, bCopy):::: ('pb', 'sa', 'ra') ra ['1', '2', '3'] ['4']\n",
            "agrega(k, instruccion, aCopy, bCopy):::: ('pb', 'sa', 'ra') rb ['3', '1', '2'] ['4']\n",
            "agrega(k, instruccion, aCopy, bCopy):::: ('pb', 'sa', 'ra') rra ['2', '3', '1'] ['4']\n",
            "agrega(k, instruccion, aCopy, bCopy):::: ('pb', 'sa', 'ra') rrb ['3', '1', '2'] ['4']\n",
            "agrega(k, instruccion, aCopy, bCopy):::: ('pb', 'sa', 'rra') sa ['2', '1', '3'] ['4']\n",
            "agrega(k, instruccion, aCopy, bCopy):::: ('pb', 'sa', 'rra') sb ['1', '2', '3'] ['4']\n",
            "agrega(k, instruccion, aCopy, bCopy):::: ('pb', 'sa', 'rra') pa ['4', '1', '2', '3'] []\n",
            "agrega(k, instruccion, aCopy, bCopy):::: ('pb', 'sa', 'rra') pb ['2', '3'] ['1', '4']\n",
            "agrega(k, instruccion, aCopy, bCopy):::: ('pb', 'sa', 'rra') ra ['2', '3', '1'] ['4']\n",
            "agrega(k, instruccion, aCopy, bCopy):::: ('pb', 'sa', 'rra') rb ['1', '2', '3'] ['4']\n",
            "agrega(k, instruccion, aCopy, bCopy):::: ('pb', 'sa', 'rra') rra ['3', '1', '2'] ['4']\n",
            "agrega(k, instruccion, aCopy, bCopy):::: ('pb', 'sa', 'rra') rrb ['1', '2', '3'] ['4']\n",
            "agrega(k, instruccion, aCopy, bCopy):::: ('pb', 'pb', 'sa') sa ['2', '1'] ['3', '4']\n",
            "agrega(k, instruccion, aCopy, bCopy):::: ('pb', 'pb', 'sa') sb ['1', '2'] ['4', '3']\n",
            "agrega(k, instruccion, aCopy, bCopy):::: ('pb', 'pb', 'sa') pa ['3', '1', '2'] ['4']\n",
            "agrega(k, instruccion, aCopy, bCopy):::: ('pb', 'pb', 'sa') pb ['2'] ['1', '3', '4']\n",
            "agrega(k, instruccion, aCopy, bCopy):::: ('pb', 'pb', 'sa') ra ['2', '1'] ['3', '4']\n",
            "agrega(k, instruccion, aCopy, bCopy):::: ('pb', 'pb', 'sa') rb ['1', '2'] ['4', '3']\n",
            "agrega(k, instruccion, aCopy, bCopy):::: ('pb', 'pb', 'sa') rra ['2', '1'] ['3', '4']\n",
            "agrega(k, instruccion, aCopy, bCopy):::: ('pb', 'pb', 'sa') rrb ['1', '2'] ['4', '3']\n",
            "agrega(k, instruccion, aCopy, bCopy):::: ('pb', 'pb', 'pb') sa ['1'] ['2', '3', '4']\n",
            "agrega(k, instruccion, aCopy, bCopy):::: ('pb', 'pb', 'pb') sb ['1'] ['3', '2', '4']\n",
            "agrega(k, instruccion, aCopy, bCopy):::: ('pb', 'pb', 'pb') pa ['2', '1'] ['3', '4']\n",
            "agrega(k, instruccion, aCopy, bCopy):::: ('pb', 'pb', 'pb') pb [] ['1', '2', '3', '4']\n",
            "agrega(k, instruccion, aCopy, bCopy):::: ('pb', 'pb', 'pb') ra ['1'] ['2', '3', '4']\n",
            "agrega(k, instruccion, aCopy, bCopy):::: ('pb', 'pb', 'pb') rb ['1'] ['3', '4', '2']\n",
            "agrega(k, instruccion, aCopy, bCopy):::: ('pb', 'pb', 'pb') rra ['1'] ['2', '3', '4']\n",
            "agrega(k, instruccion, aCopy, bCopy):::: ('pb', 'pb', 'pb') rrb ['1'] ['4', '2', '3']\n",
            "agrega(k, instruccion, aCopy, bCopy):::: ('pb', 'ra', 'pb') sa ['3', '1'] ['2', '4']\n",
            "agrega(k, instruccion, aCopy, bCopy):::: ('pb', 'ra', 'pb') sb ['1', '3'] ['4', '2']\n",
            "agrega(k, instruccion, aCopy, bCopy):::: ('pb', 'ra', 'pb') pa ['2', '1', '3'] ['4']\n",
            "agrega(k, instruccion, aCopy, bCopy):::: ('pb', 'ra', 'pb') pb ['3'] ['1', '2', '4']\n",
            "agrega(k, instruccion, aCopy, bCopy):::: ('pb', 'ra', 'pb') ra ['3', '1'] ['2', '4']\n",
            "agrega(k, instruccion, aCopy, bCopy):::: ('pb', 'ra', 'pb') rb ['1', '3'] ['4', '2']\n",
            "agrega(k, instruccion, aCopy, bCopy):::: ('pb', 'ra', 'pb') rra ['3', '1'] ['2', '4']\n",
            "agrega(k, instruccion, aCopy, bCopy):::: ('pb', 'ra', 'pb') rrb ['1', '3'] ['4', '2']\n",
            "agrega(k, instruccion, aCopy, bCopy):::: ('pb', 'rra', 'pb') sa ['2', '3'] ['1', '4']\n",
            "agrega(k, instruccion, aCopy, bCopy):::: ('pb', 'rra', 'pb') sb ['3', '2'] ['4', '1']\n",
            "agrega(k, instruccion, aCopy, bCopy):::: ('pb', 'rra', 'pb') pa ['1', '3', '2'] ['4']\n",
            "agrega(k, instruccion, aCopy, bCopy):::: ('pb', 'rra', 'pb') pb ['2'] ['3', '1', '4']\n",
            "agrega(k, instruccion, aCopy, bCopy):::: ('pb', 'rra', 'pb') ra ['2', '3'] ['1', '4']\n",
            "agrega(k, instruccion, aCopy, bCopy):::: ('pb', 'rra', 'pb') rb ['3', '2'] ['4', '1']\n",
            "agrega(k, instruccion, aCopy, bCopy):::: ('pb', 'rra', 'pb') rra ['2', '3'] ['1', '4']\n",
            "agrega(k, instruccion, aCopy, bCopy):::: ('pb', 'rra', 'pb') rrb ['3', '2'] ['4', '1']\n",
            "agrega(k, instruccion, aCopy, bCopy):::: ('ra', 'sa', 'pb') sa ['1', '3', '4'] ['2']\n",
            "agrega(k, instruccion, aCopy, bCopy):::: ('ra', 'sa', 'pb') sb ['3', '1', '4'] ['2']\n",
            "agrega(k, instruccion, aCopy, bCopy):::: ('ra', 'sa', 'pb') pa ['2', '3', '1', '4'] []\n",
            "agrega(k, instruccion, aCopy, bCopy):::: ('ra', 'sa', 'pb') pb ['1', '4'] ['3', '2']\n",
            "agrega(k, instruccion, aCopy, bCopy):::: ('ra', 'sa', 'pb') ra ['1', '4', '3'] ['2']\n",
            "agrega(k, instruccion, aCopy, bCopy):::: ('ra', 'sa', 'pb') rb ['3', '1', '4'] ['2']\n",
            "agrega(k, instruccion, aCopy, bCopy):::: ('ra', 'sa', 'pb') rra ['4', '3', '1'] ['2']\n",
            "agrega(k, instruccion, aCopy, bCopy):::: ('ra', 'sa', 'pb') rrb ['3', '1', '4'] ['2']\n",
            "agrega(k, instruccion, aCopy, bCopy):::: ('ra', 'pb', 'sa') sa ['2', '1', '4'] ['3']\n",
            "agrega(k, instruccion, aCopy, bCopy):::: ('ra', 'pb', 'sa') sb ['1', '2', '4'] ['3']\n",
            "agrega(k, instruccion, aCopy, bCopy):::: ('ra', 'pb', 'sa') pa ['3', '1', '2', '4'] []\n",
            "agrega(k, instruccion, aCopy, bCopy):::: ('ra', 'pb', 'sa') pb ['2', '4'] ['1', '3']\n",
            "agrega(k, instruccion, aCopy, bCopy):::: ('ra', 'pb', 'sa') ra ['2', '4', '1'] ['3']\n",
            "agrega(k, instruccion, aCopy, bCopy):::: ('ra', 'pb', 'sa') rb ['1', '2', '4'] ['3']\n",
            "agrega(k, instruccion, aCopy, bCopy):::: ('ra', 'pb', 'sa') rra ['4', '1', '2'] ['3']\n",
            "agrega(k, instruccion, aCopy, bCopy):::: ('ra', 'pb', 'sa') rrb ['1', '2', '4'] ['3']\n",
            "agrega(k, instruccion, aCopy, bCopy):::: ('ra', 'pb', 'pb') sa ['4', '1'] ['2', '3']\n",
            "agrega(k, instruccion, aCopy, bCopy):::: ('ra', 'pb', 'pb') sb ['1', '4'] ['3', '2']\n",
            "agrega(k, instruccion, aCopy, bCopy):::: ('ra', 'pb', 'pb') pa ['2', '1', '4'] ['3']\n",
            "agrega(k, instruccion, aCopy, bCopy):::: ('ra', 'pb', 'pb') pb ['4'] ['1', '2', '3']\n",
            "agrega(k, instruccion, aCopy, bCopy):::: ('ra', 'pb', 'pb') ra ['4', '1'] ['2', '3']\n",
            "agrega(k, instruccion, aCopy, bCopy):::: ('ra', 'pb', 'pb') rb ['1', '4'] ['3', '2']\n",
            "agrega(k, instruccion, aCopy, bCopy):::: ('ra', 'pb', 'pb') rra ['4', '1'] ['2', '3']\n",
            "agrega(k, instruccion, aCopy, bCopy):::: ('ra', 'pb', 'pb') rrb ['1', '4'] ['3', '2']\n",
            "agrega(k, instruccion, aCopy, bCopy):::: ('ra', 'ra', 'sa') sa ['2', '1', '4', '3'] []\n",
            "agrega(k, instruccion, aCopy, bCopy):::: ('ra', 'ra', 'sa') sb ['1', '2', '4', '3'] []\n",
            "agrega(k, instruccion, aCopy, bCopy):::: ('ra', 'ra', 'sa') pa ['1', '2', '4', '3'] []\n",
            "agrega(k, instruccion, aCopy, bCopy):::: ('ra', 'ra', 'sa') pb ['2', '4', '3'] ['1']\n",
            "agrega(k, instruccion, aCopy, bCopy):::: ('ra', 'ra', 'sa') ra ['2', '4', '3', '1'] []\n",
            "agrega(k, instruccion, aCopy, bCopy):::: ('ra', 'ra', 'sa') rb ['1', '2', '4', '3'] []\n",
            "agrega(k, instruccion, aCopy, bCopy):::: ('ra', 'ra', 'sa') rra ['3', '1', '2', '4'] []\n",
            "agrega(k, instruccion, aCopy, bCopy):::: ('ra', 'ra', 'sa') rrb ['1', '2', '4', '3'] []\n",
            "agrega(k, instruccion, aCopy, bCopy):::: ('ra', 'ra', 'pb') sa ['4', '1', '3'] ['2']\n",
            "agrega(k, instruccion, aCopy, bCopy):::: ('ra', 'ra', 'pb') sb ['1', '4', '3'] ['2']\n",
            "agrega(k, instruccion, aCopy, bCopy):::: ('ra', 'ra', 'pb') pa ['2', '1', '4', '3'] []\n",
            "agrega(k, instruccion, aCopy, bCopy):::: ('ra', 'ra', 'pb') pb ['4', '3'] ['1', '2']\n",
            "agrega(k, instruccion, aCopy, bCopy):::: ('ra', 'ra', 'pb') ra ['4', '3', '1'] ['2']\n",
            "agrega(k, instruccion, aCopy, bCopy):::: ('ra', 'ra', 'pb') rb ['1', '4', '3'] ['2']\n",
            "agrega(k, instruccion, aCopy, bCopy):::: ('ra', 'ra', 'pb') rra ['3', '1', '4'] ['2']\n",
            "agrega(k, instruccion, aCopy, bCopy):::: ('ra', 'ra', 'pb') rrb ['1', '4', '3'] ['2']\n",
            "agrega(k, instruccion, aCopy, bCopy):::: ('rra', 'sa', 'ra') sa ['3', '1', '2', '4'] []\n",
            "agrega(k, instruccion, aCopy, bCopy):::: ('rra', 'sa', 'ra') sb ['1', '3', '2', '4'] []\n",
            "agrega(k, instruccion, aCopy, bCopy):::: ('rra', 'sa', 'ra') pa ['1', '3', '2', '4'] []\n",
            "agrega(k, instruccion, aCopy, bCopy):::: ('rra', 'sa', 'ra') pb ['3', '2', '4'] ['1']\n",
            "agrega(k, instruccion, aCopy, bCopy):::: ('rra', 'sa', 'ra') ra ['3', '2', '4', '1'] []\n",
            "agrega(k, instruccion, aCopy, bCopy):::: ('rra', 'sa', 'ra') rb ['1', '3', '2', '4'] []\n",
            "agrega(k, instruccion, aCopy, bCopy):::: ('rra', 'sa', 'ra') rra ['4', '1', '3', '2'] []\n",
            "agrega(k, instruccion, aCopy, bCopy):::: ('rra', 'sa', 'ra') rrb ['1', '3', '2', '4'] []\n",
            "agrega(k, instruccion, aCopy, bCopy):::: ('rra', 'pb', 'pb') sa ['2', '3'] ['4', '1']\n",
            "agrega(k, instruccion, aCopy, bCopy):::: ('rra', 'pb', 'pb') sb ['3', '2'] ['1', '4']\n",
            "agrega(k, instruccion, aCopy, bCopy):::: ('rra', 'pb', 'pb') pa ['4', '3', '2'] ['1']\n",
            "agrega(k, instruccion, aCopy, bCopy):::: ('rra', 'pb', 'pb') pb ['2'] ['3', '4', '1']\n",
            "agrega(k, instruccion, aCopy, bCopy):::: ('rra', 'pb', 'pb') ra ['2', '3'] ['4', '1']\n",
            "agrega(k, instruccion, aCopy, bCopy):::: ('rra', 'pb', 'pb') rb ['3', '2'] ['1', '4']\n",
            "agrega(k, instruccion, aCopy, bCopy):::: ('rra', 'pb', 'pb') rra ['2', '3'] ['4', '1']\n",
            "agrega(k, instruccion, aCopy, bCopy):::: ('rra', 'pb', 'pb') rrb ['3', '2'] ['1', '4']\n",
            "agrega(k, instruccion, aCopy, bCopy):::: ('rra', 'pb', 'ra') sa ['2', '3', '4'] ['1']\n",
            "agrega(k, instruccion, aCopy, bCopy):::: ('rra', 'pb', 'ra') sb ['3', '2', '4'] ['1']\n",
            "agrega(k, instruccion, aCopy, bCopy):::: ('rra', 'pb', 'ra') pa ['1', '3', '2', '4'] []\n",
            "agrega(k, instruccion, aCopy, bCopy):::: ('rra', 'pb', 'ra') pb ['2', '4'] ['3', '1']\n",
            "agrega(k, instruccion, aCopy, bCopy):::: ('rra', 'pb', 'ra') ra ['2', '4', '3'] ['1']\n",
            "agrega(k, instruccion, aCopy, bCopy):::: ('rra', 'pb', 'ra') rb ['3', '2', '4'] ['1']\n",
            "agrega(k, instruccion, aCopy, bCopy):::: ('rra', 'pb', 'ra') rra ['4', '3', '2'] ['1']\n",
            "agrega(k, instruccion, aCopy, bCopy):::: ('rra', 'pb', 'ra') rrb ['3', '2', '4'] ['1']\n",
            "agrega(k, instruccion, aCopy, bCopy):::: ('rra', 'pb', 'rra') sa ['4', '2', '3'] ['1']\n",
            "agrega(k, instruccion, aCopy, bCopy):::: ('rra', 'pb', 'rra') sb ['2', '4', '3'] ['1']\n",
            "agrega(k, instruccion, aCopy, bCopy):::: ('rra', 'pb', 'rra') pa ['1', '2', '4', '3'] []\n",
            "agrega(k, instruccion, aCopy, bCopy):::: ('rra', 'pb', 'rra') pb ['4', '3'] ['2', '1']\n",
            "agrega(k, instruccion, aCopy, bCopy):::: ('rra', 'pb', 'rra') ra ['4', '3', '2'] ['1']\n",
            "agrega(k, instruccion, aCopy, bCopy):::: ('rra', 'pb', 'rra') rb ['2', '4', '3'] ['1']\n",
            "agrega(k, instruccion, aCopy, bCopy):::: ('rra', 'pb', 'rra') rra ['3', '2', '4'] ['1']\n",
            "agrega(k, instruccion, aCopy, bCopy):::: ('rra', 'pb', 'rra') rrb ['2', '4', '3'] ['1']\n",
            "agrega(k, instruccion, aCopy, bCopy):::: ('sa', 'pb', 'sa', 'pa') sa ['2', '3', '4', '1'] []\n",
            "agrega(k, instruccion, aCopy, bCopy):::: ('sa', 'pb', 'sa', 'pa') sb ['3', '2', '4', '1'] []\n",
            "agrega(k, instruccion, aCopy, bCopy):::: ('sa', 'pb', 'sa', 'pa') pa ['3', '2', '4', '1'] []\n",
            "agrega(k, instruccion, aCopy, bCopy):::: ('sa', 'pb', 'sa', 'pa') pb ['2', '4', '1'] ['3']\n",
            "agrega(k, instruccion, aCopy, bCopy):::: ('sa', 'pb', 'sa', 'pa') ra ['2', '4', '1', '3'] []\n",
            "agrega(k, instruccion, aCopy, bCopy):::: ('sa', 'pb', 'sa', 'pa') rb ['3', '2', '4', '1'] []\n",
            "agrega(k, instruccion, aCopy, bCopy):::: ('sa', 'pb', 'sa', 'pa') rra ['1', '3', '2', '4'] []\n",
            "agrega(k, instruccion, aCopy, bCopy):::: ('sa', 'pb', 'sa', 'pa') rrb ['3', '2', '4', '1'] []\n",
            "agrega(k, instruccion, aCopy, bCopy):::: ('sa', 'pb', 'sa', 'pb') sa ['1', '4'] ['2', '3']\n",
            "agrega(k, instruccion, aCopy, bCopy):::: ('sa', 'pb', 'sa', 'pb') sb ['4', '1'] ['3', '2']\n",
            "agrega(k, instruccion, aCopy, bCopy):::: ('sa', 'pb', 'sa', 'pb') pa ['2', '4', '1'] ['3']\n",
            "agrega(k, instruccion, aCopy, bCopy):::: ('sa', 'pb', 'sa', 'pb') pb ['1'] ['4', '2', '3']\n",
            "agrega(k, instruccion, aCopy, bCopy):::: ('sa', 'pb', 'sa', 'pb') ra ['1', '4'] ['2', '3']\n",
            "agrega(k, instruccion, aCopy, bCopy):::: ('sa', 'pb', 'sa', 'pb') rb ['4', '1'] ['3', '2']\n",
            "agrega(k, instruccion, aCopy, bCopy):::: ('sa', 'pb', 'sa', 'pb') rra ['1', '4'] ['2', '3']\n",
            "agrega(k, instruccion, aCopy, bCopy):::: ('sa', 'pb', 'sa', 'pb') rrb ['4', '1'] ['3', '2']\n",
            "agrega(k, instruccion, aCopy, bCopy):::: ('sa', 'pb', 'sa', 'ra') sa ['1', '4', '2'] ['3']\n",
            "agrega(k, instruccion, aCopy, bCopy):::: ('sa', 'pb', 'sa', 'ra') sb ['4', '1', '2'] ['3']\n",
            "agrega(k, instruccion, aCopy, bCopy):::: ('sa', 'pb', 'sa', 'ra') pa ['3', '4', '1', '2'] []\n",
            "agrega(k, instruccion, aCopy, bCopy):::: ('sa', 'pb', 'sa', 'ra') pb ['1', '2'] ['4', '3']\n",
            "agrega(k, instruccion, aCopy, bCopy):::: ('sa', 'pb', 'sa', 'ra') ra ['1', '2', '4'] ['3']\n",
            "agrega(k, instruccion, aCopy, bCopy):::: ('sa', 'pb', 'sa', 'ra') rb ['4', '1', '2'] ['3']\n",
            "agrega(k, instruccion, aCopy, bCopy):::: ('sa', 'pb', 'sa', 'ra') rra ['2', '4', '1'] ['3']\n",
            "agrega(k, instruccion, aCopy, bCopy):::: ('sa', 'pb', 'sa', 'ra') rrb ['4', '1', '2'] ['3']\n",
            "agrega(k, instruccion, aCopy, bCopy):::: ('sa', 'pb', 'pb', 'sa') sa ['2', '1'] ['4', '3']\n",
            "agrega(k, instruccion, aCopy, bCopy):::: ('sa', 'pb', 'pb', 'sa') sb ['1', '2'] ['3', '4']\n",
            "agrega(k, instruccion, aCopy, bCopy):::: ('sa', 'pb', 'pb', 'sa') pa ['4', '1', '2'] ['3']\n",
            "agrega(k, instruccion, aCopy, bCopy):::: ('sa', 'pb', 'pb', 'sa') pb ['2'] ['1', '4', '3']\n",
            "agrega(k, instruccion, aCopy, bCopy):::: ('sa', 'pb', 'pb', 'sa') ra ['2', '1'] ['4', '3']\n",
            "agrega(k, instruccion, aCopy, bCopy):::: ('sa', 'pb', 'pb', 'sa') rb ['1', '2'] ['3', '4']\n",
            "agrega(k, instruccion, aCopy, bCopy):::: ('sa', 'pb', 'pb', 'sa') rra ['2', '1'] ['4', '3']\n",
            "agrega(k, instruccion, aCopy, bCopy):::: ('sa', 'pb', 'pb', 'sa') rrb ['1', '2'] ['3', '4']\n",
            "agrega(k, instruccion, aCopy, bCopy):::: ('sa', 'pb', 'pb', 'pb') sa ['1'] ['2', '4', '3']\n",
            "agrega(k, instruccion, aCopy, bCopy):::: ('sa', 'pb', 'pb', 'pb') sb ['1'] ['4', '2', '3']\n",
            "agrega(k, instruccion, aCopy, bCopy):::: ('sa', 'pb', 'pb', 'pb') pa ['2', '1'] ['4', '3']\n",
            "agrega(k, instruccion, aCopy, bCopy):::: ('sa', 'pb', 'pb', 'pb') pb [] ['1', '2', '4', '3']\n",
            "agrega(k, instruccion, aCopy, bCopy):::: ('sa', 'pb', 'pb', 'pb') ra ['1'] ['2', '4', '3']\n",
            "agrega(k, instruccion, aCopy, bCopy):::: ('sa', 'pb', 'pb', 'pb') rb ['1'] ['4', '3', '2']\n",
            "agrega(k, instruccion, aCopy, bCopy):::: ('sa', 'pb', 'pb', 'pb') rra ['1'] ['2', '4', '3']\n",
            "agrega(k, instruccion, aCopy, bCopy):::: ('sa', 'pb', 'pb', 'pb') rrb ['1'] ['3', '2', '4']\n",
            "agrega(k, instruccion, aCopy, bCopy):::: ('sa', 'pb', 'rra', 'pb') sa ['2', '4'] ['1', '3']\n",
            "agrega(k, instruccion, aCopy, bCopy):::: ('sa', 'pb', 'rra', 'pb') sb ['4', '2'] ['3', '1']\n",
            "agrega(k, instruccion, aCopy, bCopy):::: ('sa', 'pb', 'rra', 'pb') pa ['1', '4', '2'] ['3']\n",
            "agrega(k, instruccion, aCopy, bCopy):::: ('sa', 'pb', 'rra', 'pb') pb ['2'] ['4', '1', '3']\n",
            "agrega(k, instruccion, aCopy, bCopy):::: ('sa', 'pb', 'rra', 'pb') ra ['2', '4'] ['1', '3']\n",
            "agrega(k, instruccion, aCopy, bCopy):::: ('sa', 'pb', 'rra', 'pb') rb ['4', '2'] ['3', '1']\n",
            "agrega(k, instruccion, aCopy, bCopy):::: ('sa', 'pb', 'rra', 'pb') rra ['2', '4'] ['1', '3']\n",
            "agrega(k, instruccion, aCopy, bCopy):::: ('sa', 'pb', 'rra', 'pb') rrb ['4', '2'] ['3', '1']\n",
            "agrega(k, instruccion, aCopy, bCopy):::: ('sa', 'ra', 'sa', 'pb') sa ['1', '4', '3'] ['2']\n",
            "agrega(k, instruccion, aCopy, bCopy):::: ('sa', 'ra', 'sa', 'pb') sb ['4', '1', '3'] ['2']\n",
            "agrega(k, instruccion, aCopy, bCopy):::: ('sa', 'ra', 'sa', 'pb') pa ['2', '4', '1', '3'] []\n",
            "agrega(k, instruccion, aCopy, bCopy):::: ('sa', 'ra', 'sa', 'pb') pb ['1', '3'] ['4', '2']\n",
            "agrega(k, instruccion, aCopy, bCopy):::: ('sa', 'ra', 'sa', 'pb') ra ['1', '3', '4'] ['2']\n",
            "agrega(k, instruccion, aCopy, bCopy):::: ('sa', 'ra', 'sa', 'pb') rb ['4', '1', '3'] ['2']\n",
            "agrega(k, instruccion, aCopy, bCopy):::: ('sa', 'ra', 'sa', 'pb') rra ['3', '4', '1'] ['2']\n",
            "agrega(k, instruccion, aCopy, bCopy):::: ('sa', 'ra', 'sa', 'pb') rrb ['4', '1', '3'] ['2']\n",
            "agrega(k, instruccion, aCopy, bCopy):::: ('sa', 'ra', 'ra', 'sa') sa ['2', '1', '3', '4'] []\n",
            "agrega(k, instruccion, aCopy, bCopy):::: ('sa', 'ra', 'ra', 'sa') sb ['1', '2', '3', '4'] []\n",
            "agrega(k, instruccion, aCopy, bCopy):::: ('sa', 'ra', 'ra', 'sa') pa ['1', '2', '3', '4'] []\n",
            "agrega(k, instruccion, aCopy, bCopy):::: ('sa', 'ra', 'ra', 'sa') pb ['2', '3', '4'] ['1']\n",
            "agrega(k, instruccion, aCopy, bCopy):::: ('sa', 'ra', 'ra', 'sa') ra ['2', '3', '4', '1'] []\n",
            "agrega(k, instruccion, aCopy, bCopy):::: ('sa', 'ra', 'ra', 'sa') rb ['1', '2', '3', '4'] []\n",
            "agrega(k, instruccion, aCopy, bCopy):::: ('sa', 'ra', 'ra', 'sa') rra ['4', '1', '2', '3'] []\n",
            "agrega(k, instruccion, aCopy, bCopy):::: ('sa', 'ra', 'ra', 'sa') rrb ['1', '2', '3', '4'] []\n",
            "agrega(k, instruccion, aCopy, bCopy):::: ('sa', 'ra', 'ra', 'pb') sa ['3', '1', '4'] ['2']\n",
            "agrega(k, instruccion, aCopy, bCopy):::: ('sa', 'ra', 'ra', 'pb') sb ['1', '3', '4'] ['2']\n",
            "agrega(k, instruccion, aCopy, bCopy):::: ('sa', 'ra', 'ra', 'pb') pa ['2', '1', '3', '4'] []\n",
            "agrega(k, instruccion, aCopy, bCopy):::: ('sa', 'ra', 'ra', 'pb') pb ['3', '4'] ['1', '2']\n",
            "agrega(k, instruccion, aCopy, bCopy):::: ('sa', 'ra', 'ra', 'pb') ra ['3', '4', '1'] ['2']\n",
            "agrega(k, instruccion, aCopy, bCopy):::: ('sa', 'ra', 'ra', 'pb') rb ['1', '3', '4'] ['2']\n",
            "agrega(k, instruccion, aCopy, bCopy):::: ('sa', 'ra', 'ra', 'pb') rra ['4', '1', '3'] ['2']\n",
            "agrega(k, instruccion, aCopy, bCopy):::: ('sa', 'ra', 'ra', 'pb') rrb ['1', '3', '4'] ['2']\n",
            "agrega(k, instruccion, aCopy, bCopy):::: ('sa', 'rra', 'sa', 'ra') sa ['4', '1', '2', '3'] []\n",
            "agrega(k, instruccion, aCopy, bCopy):::: ('sa', 'rra', 'sa', 'ra') sb ['1', '4', '2', '3'] []\n",
            "agrega(k, instruccion, aCopy, bCopy):::: ('sa', 'rra', 'sa', 'ra') pa ['1', '4', '2', '3'] []\n",
            "agrega(k, instruccion, aCopy, bCopy):::: ('sa', 'rra', 'sa', 'ra') pb ['4', '2', '3'] ['1']\n",
            "agrega(k, instruccion, aCopy, bCopy):::: ('sa', 'rra', 'sa', 'ra') ra ['4', '2', '3', '1'] []\n",
            "agrega(k, instruccion, aCopy, bCopy):::: ('sa', 'rra', 'sa', 'ra') rb ['1', '4', '2', '3'] []\n",
            "agrega(k, instruccion, aCopy, bCopy):::: ('sa', 'rra', 'sa', 'ra') rra ['3', '1', '4', '2'] []\n",
            "agrega(k, instruccion, aCopy, bCopy):::: ('sa', 'rra', 'sa', 'ra') rrb ['1', '4', '2', '3'] []\n",
            "agrega(k, instruccion, aCopy, bCopy):::: ('sa', 'rra', 'pb', 'pb') sa ['2', '4'] ['3', '1']\n",
            "agrega(k, instruccion, aCopy, bCopy):::: ('sa', 'rra', 'pb', 'pb') sb ['4', '2'] ['1', '3']\n",
            "agrega(k, instruccion, aCopy, bCopy):::: ('sa', 'rra', 'pb', 'pb') pa ['3', '4', '2'] ['1']\n",
            "agrega(k, instruccion, aCopy, bCopy):::: ('sa', 'rra', 'pb', 'pb') pb ['2'] ['4', '3', '1']\n",
            "agrega(k, instruccion, aCopy, bCopy):::: ('sa', 'rra', 'pb', 'pb') ra ['2', '4'] ['3', '1']\n",
            "agrega(k, instruccion, aCopy, bCopy):::: ('sa', 'rra', 'pb', 'pb') rb ['4', '2'] ['1', '3']\n",
            "agrega(k, instruccion, aCopy, bCopy):::: ('sa', 'rra', 'pb', 'pb') rra ['2', '4'] ['3', '1']\n",
            "agrega(k, instruccion, aCopy, bCopy):::: ('sa', 'rra', 'pb', 'pb') rrb ['4', '2'] ['1', '3']\n",
            "agrega(k, instruccion, aCopy, bCopy):::: ('sa', 'rra', 'pb', 'ra') sa ['2', '4', '3'] ['1']\n",
            "agrega(k, instruccion, aCopy, bCopy):::: ('sa', 'rra', 'pb', 'ra') sb ['4', '2', '3'] ['1']\n",
            "agrega(k, instruccion, aCopy, bCopy):::: ('sa', 'rra', 'pb', 'ra') pa ['1', '4', '2', '3'] []\n",
            "agrega(k, instruccion, aCopy, bCopy):::: ('sa', 'rra', 'pb', 'ra') pb ['2', '3'] ['4', '1']\n",
            "agrega(k, instruccion, aCopy, bCopy):::: ('sa', 'rra', 'pb', 'ra') ra ['2', '3', '4'] ['1']\n",
            "agrega(k, instruccion, aCopy, bCopy):::: ('sa', 'rra', 'pb', 'ra') rb ['4', '2', '3'] ['1']\n",
            "agrega(k, instruccion, aCopy, bCopy):::: ('sa', 'rra', 'pb', 'ra') rra ['3', '4', '2'] ['1']\n",
            "agrega(k, instruccion, aCopy, bCopy):::: ('sa', 'rra', 'pb', 'ra') rrb ['4', '2', '3'] ['1']\n",
            "agrega(k, instruccion, aCopy, bCopy):::: ('sa', 'rra', 'pb', 'rra') sa ['3', '2', '4'] ['1']\n",
            "agrega(k, instruccion, aCopy, bCopy):::: ('sa', 'rra', 'pb', 'rra') sb ['2', '3', '4'] ['1']\n",
            "agrega(k, instruccion, aCopy, bCopy):::: ('sa', 'rra', 'pb', 'rra') pa ['1', '2', '3', '4'] []\n",
            "agrega(k, instruccion, aCopy, bCopy):::: ('sa', 'rra', 'pb', 'rra') pb ['3', '4'] ['2', '1']\n",
            "agrega(k, instruccion, aCopy, bCopy):::: ('sa', 'rra', 'pb', 'rra') ra ['3', '4', '2'] ['1']\n",
            "agrega(k, instruccion, aCopy, bCopy):::: ('sa', 'rra', 'pb', 'rra') rb ['2', '3', '4'] ['1']\n",
            "agrega(k, instruccion, aCopy, bCopy):::: ('sa', 'rra', 'pb', 'rra') rra ['4', '2', '3'] ['1']\n",
            "agrega(k, instruccion, aCopy, bCopy):::: ('sa', 'rra', 'pb', 'rra') rrb ['2', '3', '4'] ['1']\n",
            "agrega(k, instruccion, aCopy, bCopy):::: ('pb', 'sa', 'pa', 'sa') sa ['4', '2', '3', '1'] []\n",
            "agrega(k, instruccion, aCopy, bCopy):::: ('pb', 'sa', 'pa', 'sa') sb ['2', '4', '3', '1'] []\n",
            "agrega(k, instruccion, aCopy, bCopy):::: ('pb', 'sa', 'pa', 'sa') pa ['2', '4', '3', '1'] []\n",
            "agrega(k, instruccion, aCopy, bCopy):::: ('pb', 'sa', 'pa', 'sa') pb ['4', '3', '1'] ['2']\n",
            "agrega(k, instruccion, aCopy, bCopy):::: ('pb', 'sa', 'pa', 'sa') ra ['4', '3', '1', '2'] []\n",
            "agrega(k, instruccion, aCopy, bCopy):::: ('pb', 'sa', 'pa', 'sa') rb ['2', '4', '3', '1'] []\n",
            "agrega(k, instruccion, aCopy, bCopy):::: ('pb', 'sa', 'pa', 'sa') rra ['1', '2', '4', '3'] []\n",
            "agrega(k, instruccion, aCopy, bCopy):::: ('pb', 'sa', 'pa', 'sa') rrb ['2', '4', '3', '1'] []\n",
            "agrega(k, instruccion, aCopy, bCopy):::: ('pb', 'sa', 'pb', 'sb') sa ['1', '3'] ['4', '2']\n",
            "agrega(k, instruccion, aCopy, bCopy):::: ('pb', 'sa', 'pb', 'sb') sb ['3', '1'] ['2', '4']\n",
            "agrega(k, instruccion, aCopy, bCopy):::: ('pb', 'sa', 'pb', 'sb') pa ['4', '3', '1'] ['2']\n",
            "agrega(k, instruccion, aCopy, bCopy):::: ('pb', 'sa', 'pb', 'sb') pb ['1'] ['3', '4', '2']\n",
            "agrega(k, instruccion, aCopy, bCopy):::: ('pb', 'sa', 'pb', 'sb') ra ['1', '3'] ['4', '2']\n",
            "agrega(k, instruccion, aCopy, bCopy):::: ('pb', 'sa', 'pb', 'sb') rb ['3', '1'] ['2', '4']\n",
            "agrega(k, instruccion, aCopy, bCopy):::: ('pb', 'sa', 'pb', 'sb') rra ['1', '3'] ['4', '2']\n",
            "agrega(k, instruccion, aCopy, bCopy):::: ('pb', 'sa', 'pb', 'sb') rrb ['3', '1'] ['2', '4']\n",
            "agrega(k, instruccion, aCopy, bCopy):::: ('pb', 'sa', 'pb', 'pb') sa ['1'] ['3', '2', '4']\n",
            "agrega(k, instruccion, aCopy, bCopy):::: ('pb', 'sa', 'pb', 'pb') sb ['1'] ['2', '3', '4']\n",
            "agrega(k, instruccion, aCopy, bCopy):::: ('pb', 'sa', 'pb', 'pb') pa ['3', '1'] ['2', '4']\n",
            "agrega(k, instruccion, aCopy, bCopy):::: ('pb', 'sa', 'pb', 'pb') pb [] ['1', '3', '2', '4']\n",
            "agrega(k, instruccion, aCopy, bCopy):::: ('pb', 'sa', 'pb', 'pb') ra ['1'] ['3', '2', '4']\n",
            "agrega(k, instruccion, aCopy, bCopy):::: ('pb', 'sa', 'pb', 'pb') rb ['1'] ['2', '4', '3']\n",
            "agrega(k, instruccion, aCopy, bCopy):::: ('pb', 'sa', 'pb', 'pb') rra ['1'] ['3', '2', '4']\n",
            "agrega(k, instruccion, aCopy, bCopy):::: ('pb', 'sa', 'pb', 'pb') rrb ['1'] ['4', '3', '2']\n",
            "agrega(k, instruccion, aCopy, bCopy):::: ('pb', 'sa', 'ra', 'pa') sa ['3', '4', '1', '2'] []\n",
            "agrega(k, instruccion, aCopy, bCopy):::: ('pb', 'sa', 'ra', 'pa') sb ['4', '3', '1', '2'] []\n",
            "agrega(k, instruccion, aCopy, bCopy):::: ('pb', 'sa', 'ra', 'pa') pa ['4', '3', '1', '2'] []\n",
            "agrega(k, instruccion, aCopy, bCopy):::: ('pb', 'sa', 'ra', 'pa') pb ['3', '1', '2'] ['4']\n",
            "agrega(k, instruccion, aCopy, bCopy):::: ('pb', 'sa', 'ra', 'pa') ra ['3', '1', '2', '4'] []\n",
            "agrega(k, instruccion, aCopy, bCopy):::: ('pb', 'sa', 'ra', 'pa') rb ['4', '3', '1', '2'] []\n",
            "agrega(k, instruccion, aCopy, bCopy):::: ('pb', 'sa', 'ra', 'pa') rra ['2', '4', '3', '1'] []\n",
            "agrega(k, instruccion, aCopy, bCopy):::: ('pb', 'sa', 'ra', 'pa') rrb ['4', '3', '1', '2'] []\n",
            "agrega(k, instruccion, aCopy, bCopy):::: ('pb', 'sa', 'rra', 'pa') sa ['1', '4', '2', '3'] []\n",
            "agrega(k, instruccion, aCopy, bCopy):::: ('pb', 'sa', 'rra', 'pa') sb ['4', '1', '2', '3'] []\n",
            "agrega(k, instruccion, aCopy, bCopy):::: ('pb', 'sa', 'rra', 'pa') pa ['4', '1', '2', '3'] []\n",
            "agrega(k, instruccion, aCopy, bCopy):::: ('pb', 'sa', 'rra', 'pa') pb ['1', '2', '3'] ['4']\n",
            "agrega(k, instruccion, aCopy, bCopy):::: ('pb', 'sa', 'rra', 'pa') ra ['1', '2', '3', '4'] []\n",
            "agrega(k, instruccion, aCopy, bCopy):::: ('pb', 'sa', 'rra', 'pa') rb ['4', '1', '2', '3'] []\n",
            "agrega(k, instruccion, aCopy, bCopy):::: ('pb', 'sa', 'rra', 'pa') rra ['3', '4', '1', '2'] []\n",
            "agrega(k, instruccion, aCopy, bCopy):::: ('pb', 'sa', 'rra', 'pa') rrb ['4', '1', '2', '3'] []\n",
            "agrega(k, instruccion, aCopy, bCopy):::: ('pb', 'sa', 'rra', 'pb') sa ['3', '2'] ['1', '4']\n",
            "agrega(k, instruccion, aCopy, bCopy):::: ('pb', 'sa', 'rra', 'pb') sb ['2', '3'] ['4', '1']\n",
            "agrega(k, instruccion, aCopy, bCopy):::: ('pb', 'sa', 'rra', 'pb') pa ['1', '2', '3'] ['4']\n",
            "agrega(k, instruccion, aCopy, bCopy):::: ('pb', 'sa', 'rra', 'pb') pb ['3'] ['2', '1', '4']\n",
            "agrega(k, instruccion, aCopy, bCopy):::: ('pb', 'sa', 'rra', 'pb') ra ['3', '2'] ['1', '4']\n",
            "agrega(k, instruccion, aCopy, bCopy):::: ('pb', 'sa', 'rra', 'pb') rb ['2', '3'] ['4', '1']\n",
            "agrega(k, instruccion, aCopy, bCopy):::: ('pb', 'sa', 'rra', 'pb') rra ['3', '2'] ['1', '4']\n",
            "agrega(k, instruccion, aCopy, bCopy):::: ('pb', 'sa', 'rra', 'pb') rrb ['2', '3'] ['4', '1']\n",
            "agrega(k, instruccion, aCopy, bCopy):::: ('pb', 'pb', 'sa', 'pb') sa ['2'] ['1', '3', '4']\n",
            "agrega(k, instruccion, aCopy, bCopy):::: ('pb', 'pb', 'sa', 'pb') sb ['2'] ['3', '1', '4']\n",
            "agrega(k, instruccion, aCopy, bCopy):::: ('pb', 'pb', 'sa', 'pb') pa ['1', '2'] ['3', '4']\n",
            "agrega(k, instruccion, aCopy, bCopy):::: ('pb', 'pb', 'sa', 'pb') pb [] ['2', '1', '3', '4']\n",
            "agrega(k, instruccion, aCopy, bCopy):::: ('pb', 'pb', 'sa', 'pb') ra ['2'] ['1', '3', '4']\n",
            "agrega(k, instruccion, aCopy, bCopy):::: ('pb', 'pb', 'sa', 'pb') rb ['2'] ['3', '4', '1']\n",
            "agrega(k, instruccion, aCopy, bCopy):::: ('pb', 'pb', 'sa', 'pb') rra ['2'] ['1', '3', '4']\n",
            "agrega(k, instruccion, aCopy, bCopy):::: ('pb', 'pb', 'sa', 'pb') rrb ['2'] ['4', '1', '3']\n",
            "agrega(k, instruccion, aCopy, bCopy):::: ('pb', 'pb', 'pb', 'pb') sa [] ['1', '2', '3', '4']\n",
            "agrega(k, instruccion, aCopy, bCopy):::: ('pb', 'pb', 'pb', 'pb') sb [] ['2', '1', '3', '4']\n",
            "agrega(k, instruccion, aCopy, bCopy):::: ('pb', 'pb', 'pb', 'pb') pa ['1'] ['2', '3', '4']\n",
            "agrega(k, instruccion, aCopy, bCopy):::: ('pb', 'pb', 'pb', 'pb') pb [] ['1', '2', '3', '4']\n",
            "agrega(k, instruccion, aCopy, bCopy):::: ('pb', 'pb', 'pb', 'pb') ra [] ['1', '2', '3', '4']\n",
            "agrega(k, instruccion, aCopy, bCopy):::: ('pb', 'pb', 'pb', 'pb') rb [] ['2', '3', '4', '1']\n",
            "agrega(k, instruccion, aCopy, bCopy):::: ('pb', 'pb', 'pb', 'pb') rra [] ['1', '2', '3', '4']\n",
            "agrega(k, instruccion, aCopy, bCopy):::: ('pb', 'pb', 'pb', 'pb') rrb [] ['4', '1', '2', '3']\n",
            "agrega(k, instruccion, aCopy, bCopy):::: ('pb', 'pb', 'pb', 'rb') sa ['1'] ['3', '4', '2']\n",
            "agrega(k, instruccion, aCopy, bCopy):::: ('pb', 'pb', 'pb', 'rb') sb ['1'] ['4', '3', '2']\n",
            "agrega(k, instruccion, aCopy, bCopy):::: ('pb', 'pb', 'pb', 'rb') pa ['3', '1'] ['4', '2']\n",
            "agrega(k, instruccion, aCopy, bCopy):::: ('pb', 'pb', 'pb', 'rb') pb [] ['1', '3', '4', '2']\n",
            "agrega(k, instruccion, aCopy, bCopy):::: ('pb', 'pb', 'pb', 'rb') ra ['1'] ['3', '4', '2']\n",
            "agrega(k, instruccion, aCopy, bCopy):::: ('pb', 'pb', 'pb', 'rb') rb ['1'] ['4', '2', '3']\n",
            "agrega(k, instruccion, aCopy, bCopy):::: ('pb', 'pb', 'pb', 'rb') rra ['1'] ['3', '4', '2']\n",
            "agrega(k, instruccion, aCopy, bCopy):::: ('pb', 'pb', 'pb', 'rb') rrb ['1'] ['2', '3', '4']\n",
            "agrega(k, instruccion, aCopy, bCopy):::: ('pb', 'pb', 'pb', 'rrb') sa ['1'] ['4', '2', '3']\n",
            "agrega(k, instruccion, aCopy, bCopy):::: ('pb', 'pb', 'pb', 'rrb') sb ['1'] ['2', '4', '3']\n",
            "agrega(k, instruccion, aCopy, bCopy):::: ('pb', 'pb', 'pb', 'rrb') pa ['4', '1'] ['2', '3']\n",
            "agrega(k, instruccion, aCopy, bCopy):::: ('pb', 'pb', 'pb', 'rrb') pb [] ['1', '4', '2', '3']\n",
            "agrega(k, instruccion, aCopy, bCopy):::: ('pb', 'pb', 'pb', 'rrb') ra ['1'] ['4', '2', '3']\n",
            "agrega(k, instruccion, aCopy, bCopy):::: ('pb', 'pb', 'pb', 'rrb') rb ['1'] ['2', '3', '4']\n",
            "agrega(k, instruccion, aCopy, bCopy):::: ('pb', 'pb', 'pb', 'rrb') rra ['1'] ['4', '2', '3']\n",
            "agrega(k, instruccion, aCopy, bCopy):::: ('pb', 'pb', 'pb', 'rrb') rrb ['1'] ['3', '4', '2']\n",
            "agrega(k, instruccion, aCopy, bCopy):::: ('pb', 'ra', 'pb', 'sb') sa ['3', '1'] ['4', '2']\n",
            "agrega(k, instruccion, aCopy, bCopy):::: ('pb', 'ra', 'pb', 'sb') sb ['1', '3'] ['2', '4']\n",
            "agrega(k, instruccion, aCopy, bCopy):::: ('pb', 'ra', 'pb', 'sb') pa ['4', '1', '3'] ['2']\n",
            "agrega(k, instruccion, aCopy, bCopy):::: ('pb', 'ra', 'pb', 'sb') pb ['3'] ['1', '4', '2']\n",
            "agrega(k, instruccion, aCopy, bCopy):::: ('pb', 'ra', 'pb', 'sb') ra ['3', '1'] ['4', '2']\n",
            "agrega(k, instruccion, aCopy, bCopy):::: ('pb', 'ra', 'pb', 'sb') rb ['1', '3'] ['2', '4']\n",
            "agrega(k, instruccion, aCopy, bCopy):::: ('pb', 'ra', 'pb', 'sb') rra ['3', '1'] ['4', '2']\n",
            "agrega(k, instruccion, aCopy, bCopy):::: ('pb', 'ra', 'pb', 'sb') rrb ['1', '3'] ['2', '4']\n",
            "agrega(k, instruccion, aCopy, bCopy):::: ('pb', 'ra', 'pb', 'pb') sa ['3'] ['1', '2', '4']\n",
            "agrega(k, instruccion, aCopy, bCopy):::: ('pb', 'ra', 'pb', 'pb') sb ['3'] ['2', '1', '4']\n",
            "agrega(k, instruccion, aCopy, bCopy):::: ('pb', 'ra', 'pb', 'pb') pa ['1', '3'] ['2', '4']\n",
            "agrega(k, instruccion, aCopy, bCopy):::: ('pb', 'ra', 'pb', 'pb') pb [] ['3', '1', '2', '4']\n",
            "agrega(k, instruccion, aCopy, bCopy):::: ('pb', 'ra', 'pb', 'pb') ra ['3'] ['1', '2', '4']\n",
            "agrega(k, instruccion, aCopy, bCopy):::: ('pb', 'ra', 'pb', 'pb') rb ['3'] ['2', '4', '1']\n",
            "agrega(k, instruccion, aCopy, bCopy):::: ('pb', 'ra', 'pb', 'pb') rra ['3'] ['1', '2', '4']\n",
            "agrega(k, instruccion, aCopy, bCopy):::: ('pb', 'ra', 'pb', 'pb') rrb ['3'] ['4', '1', '2']\n",
            "agrega(k, instruccion, aCopy, bCopy):::: ('pb', 'rra', 'pb', 'pb') sa ['2'] ['3', '1', '4']\n",
            "agrega(k, instruccion, aCopy, bCopy):::: ('pb', 'rra', 'pb', 'pb') sb ['2'] ['1', '3', '4']\n",
            "agrega(k, instruccion, aCopy, bCopy):::: ('pb', 'rra', 'pb', 'pb') pa ['3', '2'] ['1', '4']\n",
            "agrega(k, instruccion, aCopy, bCopy):::: ('pb', 'rra', 'pb', 'pb') pb [] ['2', '3', '1', '4']\n",
            "agrega(k, instruccion, aCopy, bCopy):::: ('pb', 'rra', 'pb', 'pb') ra ['2'] ['3', '1', '4']\n",
            "agrega(k, instruccion, aCopy, bCopy):::: ('pb', 'rra', 'pb', 'pb') rb ['2'] ['1', '4', '3']\n",
            "agrega(k, instruccion, aCopy, bCopy):::: ('pb', 'rra', 'pb', 'pb') rra ['2'] ['3', '1', '4']\n",
            "agrega(k, instruccion, aCopy, bCopy):::: ('pb', 'rra', 'pb', 'pb') rrb ['2'] ['4', '3', '1']\n",
            "agrega(k, instruccion, aCopy, bCopy):::: ('ra', 'sa', 'pb', 'pb') sa ['4', '1'] ['3', '2']\n",
            "agrega(k, instruccion, aCopy, bCopy):::: ('ra', 'sa', 'pb', 'pb') sb ['1', '4'] ['2', '3']\n",
            "agrega(k, instruccion, aCopy, bCopy):::: ('ra', 'sa', 'pb', 'pb') pa ['3', '1', '4'] ['2']\n",
            "agrega(k, instruccion, aCopy, bCopy):::: ('ra', 'sa', 'pb', 'pb') pb ['4'] ['1', '3', '2']\n",
            "agrega(k, instruccion, aCopy, bCopy):::: ('ra', 'sa', 'pb', 'pb') ra ['4', '1'] ['3', '2']\n",
            "agrega(k, instruccion, aCopy, bCopy):::: ('ra', 'sa', 'pb', 'pb') rb ['1', '4'] ['2', '3']\n",
            "agrega(k, instruccion, aCopy, bCopy):::: ('ra', 'sa', 'pb', 'pb') rra ['4', '1'] ['3', '2']\n",
            "agrega(k, instruccion, aCopy, bCopy):::: ('ra', 'sa', 'pb', 'pb') rrb ['1', '4'] ['2', '3']\n",
            "agrega(k, instruccion, aCopy, bCopy):::: ('ra', 'sa', 'pb', 'rra') sa ['3', '4', '1'] ['2']\n",
            "agrega(k, instruccion, aCopy, bCopy):::: ('ra', 'sa', 'pb', 'rra') sb ['4', '3', '1'] ['2']\n",
            "agrega(k, instruccion, aCopy, bCopy):::: ('ra', 'sa', 'pb', 'rra') pa ['2', '4', '3', '1'] []\n",
            "agrega(k, instruccion, aCopy, bCopy):::: ('ra', 'sa', 'pb', 'rra') pb ['3', '1'] ['4', '2']\n",
            "agrega(k, instruccion, aCopy, bCopy):::: ('ra', 'sa', 'pb', 'rra') ra ['3', '1', '4'] ['2']\n",
            "agrega(k, instruccion, aCopy, bCopy):::: ('ra', 'sa', 'pb', 'rra') rb ['4', '3', '1'] ['2']\n",
            "agrega(k, instruccion, aCopy, bCopy):::: ('ra', 'sa', 'pb', 'rra') rra ['1', '4', '3'] ['2']\n",
            "agrega(k, instruccion, aCopy, bCopy):::: ('ra', 'sa', 'pb', 'rra') rrb ['4', '3', '1'] ['2']\n",
            "agrega(k, instruccion, aCopy, bCopy):::: ('ra', 'pb', 'sa', 'pa') sa ['1', '3', '2', '4'] []\n",
            "agrega(k, instruccion, aCopy, bCopy):::: ('ra', 'pb', 'sa', 'pa') sb ['3', '1', '2', '4'] []\n",
            "agrega(k, instruccion, aCopy, bCopy):::: ('ra', 'pb', 'sa', 'pa') pa ['3', '1', '2', '4'] []\n",
            "agrega(k, instruccion, aCopy, bCopy):::: ('ra', 'pb', 'sa', 'pa') pb ['1', '2', '4'] ['3']\n",
            "agrega(k, instruccion, aCopy, bCopy):::: ('ra', 'pb', 'sa', 'pa') ra ['1', '2', '4', '3'] []\n",
            "agrega(k, instruccion, aCopy, bCopy):::: ('ra', 'pb', 'sa', 'pa') rb ['3', '1', '2', '4'] []\n",
            "agrega(k, instruccion, aCopy, bCopy):::: ('ra', 'pb', 'sa', 'pa') rra ['4', '3', '1', '2'] []\n",
            "agrega(k, instruccion, aCopy, bCopy):::: ('ra', 'pb', 'sa', 'pa') rrb ['3', '1', '2', '4'] []\n",
            "agrega(k, instruccion, aCopy, bCopy):::: ('ra', 'pb', 'sa', 'pb') sa ['4', '2'] ['1', '3']\n",
            "agrega(k, instruccion, aCopy, bCopy):::: ('ra', 'pb', 'sa', 'pb') sb ['2', '4'] ['3', '1']\n",
            "agrega(k, instruccion, aCopy, bCopy):::: ('ra', 'pb', 'sa', 'pb') pa ['1', '2', '4'] ['3']\n",
            "agrega(k, instruccion, aCopy, bCopy):::: ('ra', 'pb', 'sa', 'pb') pb ['4'] ['2', '1', '3']\n",
            "agrega(k, instruccion, aCopy, bCopy):::: ('ra', 'pb', 'sa', 'pb') ra ['4', '2'] ['1', '3']\n",
            "agrega(k, instruccion, aCopy, bCopy):::: ('ra', 'pb', 'sa', 'pb') rb ['2', '4'] ['3', '1']\n",
            "agrega(k, instruccion, aCopy, bCopy):::: ('ra', 'pb', 'sa', 'pb') rra ['4', '2'] ['1', '3']\n",
            "agrega(k, instruccion, aCopy, bCopy):::: ('ra', 'pb', 'sa', 'pb') rrb ['2', '4'] ['3', '1']\n",
            "agrega(k, instruccion, aCopy, bCopy):::: ('ra', 'pb', 'pb', 'pb') sa ['4'] ['1', '2', '3']\n",
            "agrega(k, instruccion, aCopy, bCopy):::: ('ra', 'pb', 'pb', 'pb') sb ['4'] ['2', '1', '3']\n",
            "agrega(k, instruccion, aCopy, bCopy):::: ('ra', 'pb', 'pb', 'pb') pa ['1', '4'] ['2', '3']\n",
            "agrega(k, instruccion, aCopy, bCopy):::: ('ra', 'pb', 'pb', 'pb') pb [] ['4', '1', '2', '3']\n",
            "agrega(k, instruccion, aCopy, bCopy):::: ('ra', 'pb', 'pb', 'pb') ra ['4'] ['1', '2', '3']\n",
            "agrega(k, instruccion, aCopy, bCopy):::: ('ra', 'pb', 'pb', 'pb') rb ['4'] ['2', '3', '1']\n",
            "agrega(k, instruccion, aCopy, bCopy):::: ('ra', 'pb', 'pb', 'pb') rra ['4'] ['1', '2', '3']\n",
            "agrega(k, instruccion, aCopy, bCopy):::: ('ra', 'pb', 'pb', 'pb') rrb ['4'] ['3', '1', '2']\n",
            "agrega(k, instruccion, aCopy, bCopy):::: ('ra', 'ra', 'pb', 'pb') sa ['3', '4'] ['1', '2']\n",
            "agrega(k, instruccion, aCopy, bCopy):::: ('ra', 'ra', 'pb', 'pb') sb ['4', '3'] ['2', '1']\n",
            "agrega(k, instruccion, aCopy, bCopy):::: ('ra', 'ra', 'pb', 'pb') pa ['1', '4', '3'] ['2']\n",
            "agrega(k, instruccion, aCopy, bCopy):::: ('ra', 'ra', 'pb', 'pb') pb ['3'] ['4', '1', '2']\n",
            "agrega(k, instruccion, aCopy, bCopy):::: ('ra', 'ra', 'pb', 'pb') ra ['3', '4'] ['1', '2']\n",
            "agrega(k, instruccion, aCopy, bCopy):::: ('ra', 'ra', 'pb', 'pb') rb ['4', '3'] ['2', '1']\n",
            "agrega(k, instruccion, aCopy, bCopy):::: ('ra', 'ra', 'pb', 'pb') rra ['3', '4'] ['1', '2']\n",
            "agrega(k, instruccion, aCopy, bCopy):::: ('ra', 'ra', 'pb', 'pb') rrb ['4', '3'] ['2', '1']\n",
            "agrega(k, instruccion, aCopy, bCopy):::: ('rra', 'pb', 'pb', 'sa') sa ['3', '2'] ['4', '1']\n",
            "agrega(k, instruccion, aCopy, bCopy):::: ('rra', 'pb', 'pb', 'sa') sb ['2', '3'] ['1', '4']\n",
            "agrega(k, instruccion, aCopy, bCopy):::: ('rra', 'pb', 'pb', 'sa') pa ['4', '2', '3'] ['1']\n",
            "agrega(k, instruccion, aCopy, bCopy):::: ('rra', 'pb', 'pb', 'sa') pb ['3'] ['2', '4', '1']\n",
            "agrega(k, instruccion, aCopy, bCopy):::: ('rra', 'pb', 'pb', 'sa') ra ['3', '2'] ['4', '1']\n",
            "agrega(k, instruccion, aCopy, bCopy):::: ('rra', 'pb', 'pb', 'sa') rb ['2', '3'] ['1', '4']\n",
            "agrega(k, instruccion, aCopy, bCopy):::: ('rra', 'pb', 'pb', 'sa') rra ['3', '2'] ['4', '1']\n",
            "agrega(k, instruccion, aCopy, bCopy):::: ('rra', 'pb', 'pb', 'sa') rrb ['2', '3'] ['1', '4']\n",
            "agrega(k, instruccion, aCopy, bCopy):::: ('rra', 'pb', 'pb', 'pb') sa ['2'] ['3', '4', '1']\n",
            "agrega(k, instruccion, aCopy, bCopy):::: ('rra', 'pb', 'pb', 'pb') sb ['2'] ['4', '3', '1']\n",
            "agrega(k, instruccion, aCopy, bCopy):::: ('rra', 'pb', 'pb', 'pb') pa "
          ]
        },
        {
          "output_type": "error",
          "ename": "KeyboardInterrupt",
          "evalue": "ignored",
          "traceback": [
            "\u001b[0;31m---------------------------------------------------------------------------\u001b[0m",
            "\u001b[0;31mKeyboardInterrupt\u001b[0m                         Traceback (most recent call last)",
            "\u001b[0;32m<ipython-input-64-5827fda92783>\u001b[0m in \u001b[0;36m<module>\u001b[0;34m\u001b[0m\n\u001b[1;32m     71\u001b[0m     \u001b[0mb\u001b[0m \u001b[0;34m=\u001b[0m \u001b[0;34m[\u001b[0m\u001b[0;34m]\u001b[0m\u001b[0;34m\u001b[0m\u001b[0;34m\u001b[0m\u001b[0m\n\u001b[1;32m     72\u001b[0m     \u001b[0mvalor_ordenado\u001b[0m \u001b[0;34m=\u001b[0m \u001b[0;34m\"1 2 3 4 5|\"\u001b[0m\u001b[0;34m\u001b[0m\u001b[0;34m\u001b[0m\u001b[0m\n\u001b[0;32m---> 73\u001b[0;31m     \u001b[0mbusca\u001b[0m\u001b[0;34m(\u001b[0m\u001b[0ma\u001b[0m\u001b[0;34m,\u001b[0m\u001b[0mb\u001b[0m\u001b[0;34m)\u001b[0m\u001b[0;34m\u001b[0m\u001b[0;34m\u001b[0m\u001b[0m\n\u001b[0m\u001b[1;32m     74\u001b[0m     \u001b[0;31m#print(d)\u001b[0m\u001b[0;34m\u001b[0m\u001b[0;34m\u001b[0m\u001b[0;34m\u001b[0m\u001b[0m\n\u001b[1;32m     75\u001b[0m     \u001b[0mprint\u001b[0m\u001b[0;34m(\u001b[0m\u001b[0mlist\u001b[0m\u001b[0;34m(\u001b[0m\u001b[0md\u001b[0m\u001b[0;34m.\u001b[0m\u001b[0mkeys\u001b[0m\u001b[0;34m(\u001b[0m\u001b[0;34m)\u001b[0m\u001b[0;34m)\u001b[0m\u001b[0;34m[\u001b[0m\u001b[0mlist\u001b[0m\u001b[0;34m(\u001b[0m\u001b[0md\u001b[0m\u001b[0;34m.\u001b[0m\u001b[0mvalues\u001b[0m\u001b[0;34m(\u001b[0m\u001b[0;34m)\u001b[0m\u001b[0;34m)\u001b[0m\u001b[0;34m.\u001b[0m\u001b[0mindex\u001b[0m\u001b[0;34m(\u001b[0m\u001b[0mvalor_ordenado\u001b[0m\u001b[0;34m)\u001b[0m\u001b[0;34m]\u001b[0m\u001b[0;34m)\u001b[0m   \u001b[0;31m# da la clave que corresponde al valor ordenado \"1 2 3 4|\"\u001b[0m\u001b[0;34m\u001b[0m\u001b[0;34m\u001b[0m\u001b[0m\n",
            "\u001b[0;32m<ipython-input-64-5827fda92783>\u001b[0m in \u001b[0;36mbusca\u001b[0;34m(a, b)\u001b[0m\n\u001b[1;32m     58\u001b[0m                 \u001b[0;32melif\u001b[0m \u001b[0;34m(\u001b[0m\u001b[0mi\u001b[0m \u001b[0;34m==\u001b[0m \u001b[0;34m\"rrb\"\u001b[0m\u001b[0;34m)\u001b[0m\u001b[0;34m:\u001b[0m \u001b[0maCopy\u001b[0m\u001b[0;34m,\u001b[0m \u001b[0mbCopy\u001b[0m \u001b[0;34m=\u001b[0m \u001b[0mrrb\u001b[0m\u001b[0;34m(\u001b[0m\u001b[0ma\u001b[0m\u001b[0;34m[\u001b[0m\u001b[0;34m:\u001b[0m\u001b[0;34m]\u001b[0m\u001b[0;34m,\u001b[0m \u001b[0mb\u001b[0m\u001b[0;34m[\u001b[0m\u001b[0;34m:\u001b[0m\u001b[0;34m]\u001b[0m\u001b[0;34m)\u001b[0m\u001b[0;34m\u001b[0m\u001b[0;34m\u001b[0m\u001b[0m\n\u001b[1;32m     59\u001b[0m                 \u001b[0;31m#elif (i == \"rrr\"): aCopy, bCopy = rrr(a[:], b[:])\u001b[0m\u001b[0;34m\u001b[0m\u001b[0;34m\u001b[0m\u001b[0;34m\u001b[0m\u001b[0m\n\u001b[0;32m---> 60\u001b[0;31m                 \u001b[0magrega\u001b[0m\u001b[0;34m(\u001b[0m\u001b[0mk\u001b[0m\u001b[0;34m,\u001b[0m \u001b[0mi\u001b[0m\u001b[0;34m,\u001b[0m \u001b[0maCopy\u001b[0m\u001b[0;34m,\u001b[0m \u001b[0mbCopy\u001b[0m\u001b[0;34m)\u001b[0m\u001b[0;34m\u001b[0m\u001b[0;34m\u001b[0m\u001b[0m\n\u001b[0m\u001b[1;32m     61\u001b[0m         \u001b[0mprint\u001b[0m\u001b[0;34m(\u001b[0m\u001b[0md\u001b[0m\u001b[0;34m)\u001b[0m\u001b[0;34m\u001b[0m\u001b[0;34m\u001b[0m\u001b[0m\n\u001b[1;32m     62\u001b[0m \u001b[0;34m\u001b[0m\u001b[0m\n",
            "\u001b[0;32m<ipython-input-64-5827fda92783>\u001b[0m in \u001b[0;36magrega\u001b[0;34m(k, instruccion, aCopy, bCopy)\u001b[0m\n\u001b[1;32m     20\u001b[0m \u001b[0;32mdef\u001b[0m \u001b[0magrega\u001b[0m\u001b[0;34m(\u001b[0m\u001b[0mk\u001b[0m\u001b[0;34m,\u001b[0m \u001b[0minstruccion\u001b[0m\u001b[0;34m,\u001b[0m \u001b[0maCopy\u001b[0m\u001b[0;34m,\u001b[0m \u001b[0mbCopy\u001b[0m\u001b[0;34m)\u001b[0m\u001b[0;34m:\u001b[0m\u001b[0;34m\u001b[0m\u001b[0;34m\u001b[0m\u001b[0m\n\u001b[1;32m     21\u001b[0m     \u001b[0;32mglobal\u001b[0m \u001b[0md\u001b[0m\u001b[0;34m\u001b[0m\u001b[0;34m\u001b[0m\u001b[0m\n\u001b[0;32m---> 22\u001b[0;31m     \u001b[0mprint\u001b[0m\u001b[0;34m(\u001b[0m\u001b[0;34m\"agrega(k, instruccion, aCopy, bCopy)::::\"\u001b[0m\u001b[0;34m,\u001b[0m \u001b[0mk\u001b[0m\u001b[0;34m,\u001b[0m \u001b[0minstruccion\u001b[0m\u001b[0;34m,\u001b[0m \u001b[0maCopy\u001b[0m\u001b[0;34m,\u001b[0m \u001b[0mbCopy\u001b[0m\u001b[0;34m)\u001b[0m\u001b[0;34m\u001b[0m\u001b[0;34m\u001b[0m\u001b[0m\n\u001b[0m\u001b[1;32m     23\u001b[0m     \u001b[0mpareja\u001b[0m \u001b[0;34m=\u001b[0m \u001b[0;34m' '\u001b[0m\u001b[0;34m.\u001b[0m\u001b[0mjoin\u001b[0m\u001b[0;34m(\u001b[0m\u001b[0;34m[\u001b[0m\u001b[0mx\u001b[0m \u001b[0;32mfor\u001b[0m \u001b[0mx\u001b[0m \u001b[0;32min\u001b[0m \u001b[0maCopy\u001b[0m\u001b[0;34m]\u001b[0m\u001b[0;34m)\u001b[0m \u001b[0;34m+\u001b[0m \u001b[0;34m\"|\"\u001b[0m \u001b[0;34m+\u001b[0m \u001b[0;34m' '\u001b[0m\u001b[0;34m.\u001b[0m\u001b[0mjoin\u001b[0m\u001b[0;34m(\u001b[0m\u001b[0;34m[\u001b[0m\u001b[0mx\u001b[0m \u001b[0;32mfor\u001b[0m \u001b[0mx\u001b[0m \u001b[0;32min\u001b[0m \u001b[0mbCopy\u001b[0m\u001b[0;34m]\u001b[0m\u001b[0;34m)\u001b[0m\u001b[0;34m\u001b[0m\u001b[0;34m\u001b[0m\u001b[0m\n\u001b[1;32m     24\u001b[0m     \u001b[0mtupla\u001b[0m \u001b[0;34m=\u001b[0m \u001b[0mtuple\u001b[0m\u001b[0;34m(\u001b[0m\u001b[0;34m[\u001b[0m\u001b[0mstr\u001b[0m\u001b[0;34m(\u001b[0m\u001b[0minstruccion\u001b[0m\u001b[0;34m)\u001b[0m\u001b[0;34m]\u001b[0m\u001b[0;34m)\u001b[0m\u001b[0;34m\u001b[0m\u001b[0;34m\u001b[0m\u001b[0m\n",
            "\u001b[0;32m/usr/local/lib/python3.8/dist-packages/ipykernel/iostream.py\u001b[0m in \u001b[0;36mwrite\u001b[0;34m(self, string)\u001b[0m\n\u001b[1;32m    402\u001b[0m             \u001b[0mis_child\u001b[0m \u001b[0;34m=\u001b[0m \u001b[0;34m(\u001b[0m\u001b[0;32mnot\u001b[0m \u001b[0mself\u001b[0m\u001b[0;34m.\u001b[0m\u001b[0m_is_master_process\u001b[0m\u001b[0;34m(\u001b[0m\u001b[0;34m)\u001b[0m\u001b[0;34m)\u001b[0m\u001b[0;34m\u001b[0m\u001b[0;34m\u001b[0m\u001b[0m\n\u001b[1;32m    403\u001b[0m             \u001b[0;31m# only touch the buffer in the IO thread to avoid races\u001b[0m\u001b[0;34m\u001b[0m\u001b[0;34m\u001b[0m\u001b[0;34m\u001b[0m\u001b[0m\n\u001b[0;32m--> 404\u001b[0;31m             \u001b[0mself\u001b[0m\u001b[0;34m.\u001b[0m\u001b[0mpub_thread\u001b[0m\u001b[0;34m.\u001b[0m\u001b[0mschedule\u001b[0m\u001b[0;34m(\u001b[0m\u001b[0;32mlambda\u001b[0m \u001b[0;34m:\u001b[0m \u001b[0mself\u001b[0m\u001b[0;34m.\u001b[0m\u001b[0m_buffer\u001b[0m\u001b[0;34m.\u001b[0m\u001b[0mwrite\u001b[0m\u001b[0;34m(\u001b[0m\u001b[0mstring\u001b[0m\u001b[0;34m)\u001b[0m\u001b[0;34m)\u001b[0m\u001b[0;34m\u001b[0m\u001b[0;34m\u001b[0m\u001b[0m\n\u001b[0m\u001b[1;32m    405\u001b[0m             \u001b[0;32mif\u001b[0m \u001b[0mis_child\u001b[0m\u001b[0;34m:\u001b[0m\u001b[0;34m\u001b[0m\u001b[0;34m\u001b[0m\u001b[0m\n\u001b[1;32m    406\u001b[0m                 \u001b[0;31m# mp.Pool cannot be trusted to flush promptly (or ever),\u001b[0m\u001b[0;34m\u001b[0m\u001b[0;34m\u001b[0m\u001b[0;34m\u001b[0m\u001b[0m\n",
            "\u001b[0;32m/usr/local/lib/python3.8/dist-packages/ipykernel/iostream.py\u001b[0m in \u001b[0;36mschedule\u001b[0;34m(self, f)\u001b[0m\n\u001b[1;32m    203\u001b[0m             \u001b[0mself\u001b[0m\u001b[0;34m.\u001b[0m\u001b[0m_events\u001b[0m\u001b[0;34m.\u001b[0m\u001b[0mappend\u001b[0m\u001b[0;34m(\u001b[0m\u001b[0mf\u001b[0m\u001b[0;34m)\u001b[0m\u001b[0;34m\u001b[0m\u001b[0;34m\u001b[0m\u001b[0m\n\u001b[1;32m    204\u001b[0m             \u001b[0;31m# wake event thread (message content is ignored)\u001b[0m\u001b[0;34m\u001b[0m\u001b[0;34m\u001b[0m\u001b[0;34m\u001b[0m\u001b[0m\n\u001b[0;32m--> 205\u001b[0;31m             \u001b[0mself\u001b[0m\u001b[0;34m.\u001b[0m\u001b[0m_event_pipe\u001b[0m\u001b[0;34m.\u001b[0m\u001b[0msend\u001b[0m\u001b[0;34m(\u001b[0m\u001b[0;34mb''\u001b[0m\u001b[0;34m)\u001b[0m\u001b[0;34m\u001b[0m\u001b[0;34m\u001b[0m\u001b[0m\n\u001b[0m\u001b[1;32m    206\u001b[0m         \u001b[0;32melse\u001b[0m\u001b[0;34m:\u001b[0m\u001b[0;34m\u001b[0m\u001b[0;34m\u001b[0m\u001b[0m\n\u001b[1;32m    207\u001b[0m             \u001b[0mf\u001b[0m\u001b[0;34m(\u001b[0m\u001b[0;34m)\u001b[0m\u001b[0;34m\u001b[0m\u001b[0;34m\u001b[0m\u001b[0m\n",
            "\u001b[0;32m/usr/local/lib/python3.8/dist-packages/zmq/sugar/socket.py\u001b[0m in \u001b[0;36msend\u001b[0;34m(self, data, flags, copy, track, routing_id, group)\u001b[0m\n\u001b[1;32m    616\u001b[0m                 )\n\u001b[1;32m    617\u001b[0m             \u001b[0mdata\u001b[0m\u001b[0;34m.\u001b[0m\u001b[0mgroup\u001b[0m \u001b[0;34m=\u001b[0m \u001b[0mgroup\u001b[0m\u001b[0;34m\u001b[0m\u001b[0;34m\u001b[0m\u001b[0m\n\u001b[0;32m--> 618\u001b[0;31m         \u001b[0;32mreturn\u001b[0m \u001b[0msuper\u001b[0m\u001b[0;34m(\u001b[0m\u001b[0;34m)\u001b[0m\u001b[0;34m.\u001b[0m\u001b[0msend\u001b[0m\u001b[0;34m(\u001b[0m\u001b[0mdata\u001b[0m\u001b[0;34m,\u001b[0m \u001b[0mflags\u001b[0m\u001b[0;34m=\u001b[0m\u001b[0mflags\u001b[0m\u001b[0;34m,\u001b[0m \u001b[0mcopy\u001b[0m\u001b[0;34m=\u001b[0m\u001b[0mcopy\u001b[0m\u001b[0;34m,\u001b[0m \u001b[0mtrack\u001b[0m\u001b[0;34m=\u001b[0m\u001b[0mtrack\u001b[0m\u001b[0;34m)\u001b[0m\u001b[0;34m\u001b[0m\u001b[0;34m\u001b[0m\u001b[0m\n\u001b[0m\u001b[1;32m    619\u001b[0m \u001b[0;34m\u001b[0m\u001b[0m\n\u001b[1;32m    620\u001b[0m     def send_multipart(\n",
            "\u001b[0;32mzmq/backend/cython/socket.pyx\u001b[0m in \u001b[0;36mzmq.backend.cython.socket.Socket.send\u001b[0;34m()\u001b[0m\n",
            "\u001b[0;32mzmq/backend/cython/socket.pyx\u001b[0m in \u001b[0;36mzmq.backend.cython.socket.Socket.send\u001b[0;34m()\u001b[0m\n",
            "\u001b[0;32mzmq/backend/cython/socket.pyx\u001b[0m in \u001b[0;36mzmq.backend.cython.socket._send_copy\u001b[0;34m()\u001b[0m\n",
            "\u001b[0;32m/usr/local/lib/python3.8/dist-packages/zmq/backend/cython/checkrc.pxd\u001b[0m in \u001b[0;36mzmq.backend.cython.checkrc._check_rc\u001b[0;34m()\u001b[0m\n",
            "\u001b[0;31mKeyboardInterrupt\u001b[0m: "
          ]
        }
      ]
    },
    {
      "cell_type": "code",
      "source": [
        "a_string = \"4 3 2 1\"\n",
        "a = a_string.replace(\" \", \"\")   # '4321'\n",
        "d = {():a_string + \"|\"}\n",
        "a = [int(x) for x in a]   # [4, 3, 2, 1]\n",
        "print(d)\n",
        "print(a)"
      ],
      "metadata": {
        "colab": {
          "base_uri": "https://localhost:8080/"
        },
        "id": "tkJ0XrBbYixZ",
        "outputId": "4339cff3-9e50-45c5-ad16-5a1ace625488"
      },
      "execution_count": 10,
      "outputs": [
        {
          "output_type": "stream",
          "name": "stdout",
          "text": [
            "{(): '4 3 2 1|'}\n",
            "[4, 3, 2, 1]\n"
          ]
        }
      ]
    },
    {
      "cell_type": "code",
      "source": [
        "a_string = \"4 3 2 1\"\n",
        "a = a_string.replace(\" \", \"\")\n",
        "a = [int(x) for x in a]\n",
        "print(a)\n",
        "a"
      ],
      "metadata": {
        "colab": {
          "base_uri": "https://localhost:8080/"
        },
        "id": "QswjRtmXX91r",
        "outputId": "a4daebb4-e46a-468a-f4e4-4eec2c1df3cf"
      },
      "execution_count": 5,
      "outputs": [
        {
          "output_type": "stream",
          "name": "stdout",
          "text": [
            "[4, 3, 2, 1]\n"
          ]
        },
        {
          "output_type": "execute_result",
          "data": {
            "text/plain": [
              "[4, 3, 2, 1]"
            ]
          },
          "metadata": {},
          "execution_count": 5
        }
      ]
    },
    {
      "cell_type": "code",
      "source": [
        "d = {('sa', 'pb', 'sa', 'pa'): '3241|', ('sa', 'pb', 'sa', 'pb'): '41|23', ('sa', 'pb', 'sa', 'ra'): '412|3', ('sa', 'pb', 'pb', 'sa'): '12|43', ('sa', 'pb', 'pb', 'pb'): '1|243', ('sa', 'pb', 'rra', 'pb'): '42|13', ('sa', 'ra', 'sa', 'pb'): '413|2', ('sa', 'ra', 'ra', 'sa'): '1234|', ('sa', 'ra', 'ra', 'pb'): '134|2', ('sa', 'rra', 'sa', 'ra'): '1423|', ('sa', 'rra', 'pb', 'pb'): '42|31', ('sa', 'rra', 'pb', 'ra'): '423|1', ('sa', 'rra', 'pb', 'rra'): '234|1', ('pb', 'sa', 'pa', 'sa'): '2431|', ('pb', 'sa', 'pb', 'sb'): '31|42', ('pb', 'sa', 'pb', 'pb'): '1|324', ('pb', 'sa', 'ra', 'pa'): '4312|', ('pb', 'sa', 'rra', 'pa'): '4123|', ('pb', 'sa', 'rra', 'pb'): '23|14', ('pb', 'pb', 'sa', 'pb'): '2|134', ('pb', 'pb', 'pb', 'pb'): '|1234', ('pb', 'pb', 'pb', 'rb'): '1|342', ('pb', 'pb', 'pb', 'rrb'): '1|423', ('pb', 'ra', 'pb', 'sb'): '13|42', ('pb', 'ra', 'pb', 'pb'): '3|124', ('pb', 'rra', 'pb', 'pb'): '2|314', ('ra', 'sa', 'pb', 'pb'): '14|32', ('ra', 'sa', 'pb', 'rra'): '431|2', ('ra', 'pb', 'sa', 'pa'): '3124|', ('ra', 'pb', 'sa', 'pb'): '24|13', ('ra', 'pb', 'pb', 'pb'): '4|123', ('ra', 'ra', 'pb', 'pb'): '43|12', ('rra', 'pb', 'pb', 'sa'): '23|41', ('rra', 'pb', 'pb', 'pb'): '2|341', ('rra', 'pb', 'ra', 'pb'): '24|31', ('rra', 'pb', 'rra', 'pb'): '43|21'}\n",
        "\n",
        "'1234|' in d.values()"
      ],
      "metadata": {
        "id": "kxJDGZtPdqsw",
        "outputId": "c377a1ab-1723-4a96-fc00-f1ea663706bd",
        "colab": {
          "base_uri": "https://localhost:8080/"
        }
      },
      "execution_count": null,
      "outputs": [
        {
          "output_type": "execute_result",
          "data": {
            "text/plain": [
              "True"
            ]
          },
          "metadata": {},
          "execution_count": 25
        }
      ]
    },
    {
      "cell_type": "code",
      "source": [
        "a = [4, 3, 2, 1]\n",
        "b = []\n",
        "\n",
        "[x for x in list(range(1, len(a)+1))]"
      ],
      "metadata": {
        "id": "OFiydHvYeCwF",
        "outputId": "886930f2-65a0-4b30-aff2-0fc0132c1289",
        "colab": {
          "base_uri": "https://localhost:8080/"
        }
      },
      "execution_count": null,
      "outputs": [
        {
          "output_type": "execute_result",
          "data": {
            "text/plain": [
              "[1, 2, 3, 4]"
            ]
          },
          "metadata": {},
          "execution_count": 27
        }
      ]
    },
    {
      "cell_type": "code",
      "source": [
        "a_string = \"4 3 2 1\"\n",
        "a = a_string.replace(\" \", \"\")\n",
        "d = {():a + \"|\"}\n",
        "a = [int(x) for x in a]\n",
        "print(a)\n",
        "b = []\n",
        "not checkSorted(a, b)\n",
        "\n",
        "nivel = max([len(k) for k in d.keys()])\n",
        "print(nivel)"
      ],
      "metadata": {
        "id": "2ptWeLOaUKCZ",
        "outputId": "43879a8f-9e31-44eb-be61-142ea39f1382",
        "colab": {
          "base_uri": "https://localhost:8080/"
        }
      },
      "execution_count": null,
      "outputs": [
        {
          "output_type": "stream",
          "name": "stdout",
          "text": [
            "[4, 3, 2, 1]\n",
            "0\n"
          ]
        }
      ]
    },
    {
      "cell_type": "code",
      "source": [
        "# Cuando ya sebemos que queremos trabajar con el archivo arbol.xlsx\n",
        "wb = openpyxl.load_workbook('arbol.xlsx')"
      ],
      "metadata": {
        "id": "mvYTCFDxZcxR"
      },
      "execution_count": null,
      "outputs": []
    },
    {
      "cell_type": "code",
      "source": [
        "d = {(): '4321|', ('sa',): '3421|', ('pb',): '321|4', ('ra',): '3214|', ('rra',): '1432|'}\n",
        "\n",
        "max([len(k) for k in d.keys()])"
      ],
      "metadata": {
        "colab": {
          "base_uri": "https://localhost:8080/"
        },
        "id": "HT_mx7qOKQtc",
        "outputId": "abab123c-4c84-4e83-d4fb-c651cd96ff8a"
      },
      "execution_count": null,
      "outputs": [
        {
          "output_type": "execute_result",
          "data": {
            "text/plain": [
              "1"
            ]
          },
          "metadata": {},
          "execution_count": 36
        }
      ]
    },
    {
      "cell_type": "code",
      "source": [
        "a_string = \"4321\"\n",
        "a_ordenado = list(range(1,len(a_string)+1))\n",
        "print(a_ordenado)\n",
        "b = []\n",
        "d = {(): '4321|', ('sa',): '3421|', ('pb',): '321|4', ('ra',): '3214|', ('rra',): '1234|'}\n",
        "''.join([str(x) for x in range(1,len(a_string)+1)])+'|' in d.values()"
      ],
      "metadata": {
        "colab": {
          "base_uri": "https://localhost:8080/"
        },
        "id": "h_czBichL_JN",
        "outputId": "52770f6e-b93f-4b72-dfe6-2a3f31c9120e"
      },
      "execution_count": null,
      "outputs": [
        {
          "output_type": "stream",
          "name": "stdout",
          "text": [
            "[1, 2, 3, 4]\n"
          ]
        },
        {
          "output_type": "execute_result",
          "data": {
            "text/plain": [
              "True"
            ]
          },
          "metadata": {},
          "execution_count": 62
        }
      ]
    },
    {
      "cell_type": "code",
      "source": [
        "tupla = ()\n",
        "print(type(tupla))\n",
        "tupla = tupla + (1,)\n",
        "print(tupla)\n",
        "tupla += (2,)\n",
        "tupla"
      ],
      "metadata": {
        "colab": {
          "base_uri": "https://localhost:8080/"
        },
        "id": "T1qxtXjLfhGQ",
        "outputId": "7f4c2639-8106-40ce-aa2e-ab1ccaff0a90"
      },
      "execution_count": null,
      "outputs": [
        {
          "output_type": "stream",
          "name": "stdout",
          "text": [
            "<class 'tuple'>\n",
            "(1,)\n"
          ]
        },
        {
          "output_type": "execute_result",
          "data": {
            "text/plain": [
              "(1, 2)"
            ]
          },
          "metadata": {},
          "execution_count": 12
        }
      ]
    },
    {
      "cell_type": "code",
      "source": [
        "# imprimir del diccionario solo las 'clave:valor' de nivel máximo\n",
        "\n",
        "d = {():'4321|', ('sa',):'3421|', ('pb',):'321|4', ('ra',):'3214|', ('rra',):'1432|', ('pb', 'sa'):'231|4', ('pb', 'pb'):'21|34'}\n",
        "nivel = max([len(k) for k in d.keys()])\n",
        "for k,v in d.items():\n",
        "    if len(k)==nivel:\n",
        "        print(k,v)\n"
      ],
      "metadata": {
        "colab": {
          "base_uri": "https://localhost:8080/"
        },
        "id": "skS5oDObhFkb",
        "outputId": "c8870361-e448-413d-e530-5223ea12ccc7"
      },
      "execution_count": null,
      "outputs": [
        {
          "output_type": "stream",
          "name": "stdout",
          "text": [
            "('pb', 'sa') 231|4\n",
            "('pb', 'pb') 21|34\n"
          ]
        }
      ]
    },
    {
      "cell_type": "code",
      "source": [
        "def separa_valor(v):\n",
        "    posicion = v.find('|')\n",
        "    if posicion != -1:\n",
        "        a = v[:posicion]\n",
        "        b = v[posicion+1:]\n",
        "        a = [int(x) for x in a]\n",
        "        b = [int(y) for y in b]\n",
        "        return a, b\n",
        "\n",
        "a, b = separa_valor('21|34')\n",
        "\n",
        "print(\"a:\", a)\n",
        "print(\"b:\", b)"
      ],
      "metadata": {
        "id": "fLpmRoCvP-8a",
        "outputId": "13d57433-b20b-4368-8200-52c9ef131c6e",
        "colab": {
          "base_uri": "https://localhost:8080/"
        }
      },
      "execution_count": null,
      "outputs": [
        {
          "output_type": "stream",
          "name": "stdout",
          "text": [
            "a: [2, 1]\n",
            "b: [3, 4]\n"
          ]
        }
      ]
    },
    {
      "cell_type": "code",
      "source": [
        "d = {():'4321|', ('sa',):'3421|', ('pb',):'321|4', ('ra',):'3214|', ('rra',):'1432|', ('pb', 'sa'):'231|4', ('pb', 'pb'):'21|34'}\n",
        "d_new = {}\n",
        "\n",
        "nivel = max([len(k) for k in d.keys()])\n",
        "print(\"nivel:\", nivel)\n",
        "\n",
        "for k,v in d.items():\n",
        "    if len(k)==nivel:\n",
        "        #d_new(k) = v\n",
        "        print(k, v)\n",
        "\n",
        "d_new"
      ],
      "metadata": {
        "id": "buWrnGGWXPVY",
        "outputId": "62b3bebb-cffe-458e-f12b-4e18015f3cdf",
        "colab": {
          "base_uri": "https://localhost:8080/"
        }
      },
      "execution_count": null,
      "outputs": [
        {
          "output_type": "stream",
          "name": "stdout",
          "text": [
            "nivel: 2\n",
            "('pb', 'sa') 231|4\n",
            "('pb', 'pb') 21|34\n"
          ]
        },
        {
          "output_type": "execute_result",
          "data": {
            "text/plain": [
              "{}"
            ]
          },
          "metadata": {},
          "execution_count": 36
        }
      ]
    }
  ]
}