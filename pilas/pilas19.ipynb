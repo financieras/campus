{
  "nbformat": 4,
  "nbformat_minor": 0,
  "metadata": {
    "colab": {
      "provenance": [],
      "authorship_tag": "ABX9TyMI6HvFlIojsa5CYucIeFVX",
      "include_colab_link": true
    },
    "kernelspec": {
      "name": "python3",
      "display_name": "Python 3"
    },
    "language_info": {
      "name": "python"
    }
  },
  "cells": [
    {
      "cell_type": "markdown",
      "metadata": {
        "id": "view-in-github",
        "colab_type": "text"
      },
      "source": [
        "<a href=\"https://colab.research.google.com/github/financieras/campus/blob/main/pilas/pilas19.ipynb\" target=\"_parent\"><img src=\"https://colab.research.google.com/assets/colab-badge.svg\" alt=\"Open In Colab\"/></a>"
      ]
    },
    {
      "cell_type": "markdown",
      "source": [
        "# Árbol\n"
      ],
      "metadata": {
        "id": "uramGAIr4NqX"
      }
    },
    {
      "cell_type": "code",
      "source": [
        "# FUNCIONES\n",
        "def sa(a,b):\n",
        "    if len(a) > 1: a[0],a[1] = a[1],a[0]\n",
        "    return a,b\n",
        "def sb(a,b):\n",
        "    if len(b) > 1: b[0],b[1] = b[1],b[0]\n",
        "    return a,b\n",
        "def ss(a,b):\n",
        "    sa(a,b)\n",
        "    sb(a,b)\n",
        "    return a,b\n",
        "def pa(a,b):\n",
        "    if len(b) > 0:\n",
        "        a.insert(0, b[0])\n",
        "        b.pop(0)\n",
        "    return a,b\n",
        "def pb(a,b):\n",
        "    if len(a) > 0:\n",
        "        b.insert(0, a[0])\n",
        "        a.pop(0)\n",
        "    return a,b\n",
        "def ra(a,b):\n",
        "    if len(a) > 1: a.append(a.pop(0))\n",
        "    return a,b\n",
        "def rb(a,b):\n",
        "    if len(b) > 1: b.append(b.pop(0))\n",
        "    return a,b\n",
        "def rr(a,b):\n",
        "    ra(a,b)\n",
        "    rb(a,b)\n",
        "    return a,b\n",
        "def rra(a,b):\n",
        "    if len(a) > 1: a.insert(0, a.pop())\n",
        "    return a,b\n",
        "def rrb(a,b):\n",
        "    if len(b) > 1: b.insert(0, b.pop())\n",
        "    return a,b\n",
        "def rrr(a,b):\n",
        "    rra(a,b)\n",
        "    rrb(a,b)\n",
        "    return a,b"
      ],
      "metadata": {
        "id": "4d6wz9qo4e22"
      },
      "execution_count": 1,
      "outputs": []
    },
    {
      "cell_type": "code",
      "source": [
        "!pip install openpyxl"
      ],
      "metadata": {
        "colab": {
          "base_uri": "https://localhost:8080/"
        },
        "id": "K63Z_qrE4yW8",
        "outputId": "37f2924a-c738-4efe-d543-d519c09302af"
      },
      "execution_count": 2,
      "outputs": [
        {
          "output_type": "stream",
          "name": "stdout",
          "text": [
            "Looking in indexes: https://pypi.org/simple, https://us-python.pkg.dev/colab-wheels/public/simple/\n",
            "Requirement already satisfied: openpyxl in /usr/local/lib/python3.8/dist-packages (3.0.10)\n",
            "Requirement already satisfied: et-xmlfile in /usr/local/lib/python3.8/dist-packages (from openpyxl) (1.1.0)\n"
          ]
        }
      ]
    },
    {
      "cell_type": "code",
      "source": [
        "import openpyxl                # importamos la librería openpyxl\n",
        "\n",
        "wb = openpyxl.Workbook()       # para crear por primera vez un libro\n",
        "ws = wb.active                 # estas dos lineas crean el libro, aún sin nombre\n",
        "\n",
        "wb.save('arbol.xlsx')          # grabamos el fichero por primera vez"
      ],
      "metadata": {
        "id": "0JjKGTof45Sh"
      },
      "execution_count": 3,
      "outputs": []
    },
    {
      "cell_type": "code",
      "source": [
        "# Cuando ya sebemos que queremos trabajar con el archivo arbol.xlsx\n",
        "wb = openpyxl.load_workbook('arbol.xlsx')\n",
        "\n",
        "\n",
        "a_string = \"4321\"\n",
        "a = list(a_string)\n",
        "b = []\n",
        "d = {():a_string+\"|\"}   # diccionario. Ejemplo: {():'4321|', ('pb',):'321|4', ('pb', 'sa'):'231|4'}\n",
        "moves = [\"sa\",\"sb\",\"pa\",\"pb\",\"ra\",\"rb\",\"rra\",\"rrb\"]   #,\"ss\",\"rr\",\"rrr\"]\n",
        "\n",
        "def agrega(instruccion, aCopy, bCopy):\n",
        "    pareja = ''.join([x for x in aCopy]) + \"|\" + ''.join([x for x in bCopy])\n",
        "    tupla = tuple([str(instruccion)])\n",
        "    if pareja not in d.values():\n",
        "        d[tupla] = pareja\n",
        "\n",
        "nivel = max([len(k) for k in d.keys()])  # el nivel del árbol es igual a la máxima longitud de las tuplas que van como clave en el diccionario\n",
        "\n",
        "while nivel < 3 or ''.join([str(x) for x in range(1,len(a_string)+1)])+'|' in d.values():   # mientras el nivel sea menor de 3 o mientras la lista ordenada no esté en el diccionario\n",
        "    for i in moves:\n",
        "        if (i == \"sa\"): aCopy, bCopy = sa(a[:], b[:]); agrega('sa', aCopy, bCopy)\n",
        "        elif (i == \"sb\"): aCopy, bCopy = sb(a[:], b[:]); agrega('sb', aCopy, bCopy)\n",
        "        #elif (i == \"ss\"): aCopy, bCopy = ss(a[:], b[:]); agrega('ss', aCopy, bCopy)\n",
        "        elif (i == \"pa\"): aCopy, bCopy = pa(a[:], b[:]); agrega('pa', aCopy, bCopy)\n",
        "        elif (i == \"pb\"): aCopy, bCopy = pb(a[:], b[:]); agrega('pb', aCopy, bCopy)\n",
        "        elif (i == \"ra\"): aCopy, bCopy = ra(a[:], b[:]); agrega('ra', aCopy, bCopy)\n",
        "        elif (i == \"rb\"): aCopy, bCopy = rb(a[:], b[:]); agrega('rb', aCopy, bCopy)\n",
        "        #elif (i == \"rr\"): aCopy, bCopy = rr(a[:], b[:]); agrega('rr', aCopy, bCopy)\n",
        "        elif (i == \"rra\"): aCopy, bCopy = rra(a[:], b[:]); agrega('rra', aCopy, bCopy)\n",
        "        elif (i == \"rrb\"): aCopy, bCopy = rrb(a[:], b[:]); agrega('rrb', aCopy, bCopy)\n",
        "        #elif (i == \"rrr\"): aCopy, bCopy = rrr(a[:], b[:]); agrega('rrr', aCopy, bCopy)\n",
        "    \n",
        "print(\"Diccionario :\", d) \n",
        "#print(\"Inverso de d:\", {v: k for k, v in d.items()})"
      ],
      "metadata": {
        "colab": {
          "base_uri": "https://localhost:8080/"
        },
        "id": "7gsSuWyf5LYM",
        "outputId": "2457471b-0dd0-44d6-892a-525034a1a40a"
      },
      "execution_count": 31,
      "outputs": [
        {
          "output_type": "stream",
          "name": "stdout",
          "text": [
            "Diccionario : {(): '4321|', ('sa',): '3421|', ('pb',): '321|4', ('ra',): '3214|', ('rra',): '1432|'}\n"
          ]
        }
      ]
    },
    {
      "cell_type": "code",
      "source": [
        "d = {(): '4321|', ('sa',): '3421|', ('pb',): '321|4', ('ra',): '3214|', ('rra',): '1432|'}\n",
        "\n",
        "max([len(k) for k in d.keys()])"
      ],
      "metadata": {
        "colab": {
          "base_uri": "https://localhost:8080/"
        },
        "id": "HT_mx7qOKQtc",
        "outputId": "abab123c-4c84-4e83-d4fb-c651cd96ff8a"
      },
      "execution_count": 36,
      "outputs": [
        {
          "output_type": "execute_result",
          "data": {
            "text/plain": [
              "1"
            ]
          },
          "metadata": {},
          "execution_count": 36
        }
      ]
    },
    {
      "cell_type": "code",
      "source": [
        "a_string = \"4321\"\n",
        "a_ordenado = list(range(1,len(a_string)+1))\n",
        "print(a_ordenado)\n",
        "b = []\n",
        "d = {(): '4321|', ('sa',): '3421|', ('pb',): '321|4', ('ra',): '3214|', ('rra',): '1234|'}\n",
        "''.join([str(x) for x in range(1,len(a_string)+1)])+'|' in d.values()"
      ],
      "metadata": {
        "colab": {
          "base_uri": "https://localhost:8080/"
        },
        "id": "h_czBichL_JN",
        "outputId": "52770f6e-b93f-4b72-dfe6-2a3f31c9120e"
      },
      "execution_count": 62,
      "outputs": [
        {
          "output_type": "stream",
          "name": "stdout",
          "text": [
            "[1, 2, 3, 4]\n"
          ]
        },
        {
          "output_type": "execute_result",
          "data": {
            "text/plain": [
              "True"
            ]
          },
          "metadata": {},
          "execution_count": 62
        }
      ]
    }
  ]
}