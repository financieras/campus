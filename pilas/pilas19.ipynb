{
  "nbformat": 4,
  "nbformat_minor": 0,
  "metadata": {
    "colab": {
      "provenance": [],
      "authorship_tag": "ABX9TyM1c/TDtOuMt3G3QBydljwd",
      "include_colab_link": true
    },
    "kernelspec": {
      "name": "python3",
      "display_name": "Python 3"
    },
    "language_info": {
      "name": "python"
    }
  },
  "cells": [
    {
      "cell_type": "markdown",
      "metadata": {
        "id": "view-in-github",
        "colab_type": "text"
      },
      "source": [
        "<a href=\"https://colab.research.google.com/github/financieras/campus/blob/main/pilas/pilas19.ipynb\" target=\"_parent\"><img src=\"https://colab.research.google.com/assets/colab-badge.svg\" alt=\"Open In Colab\"/></a>"
      ]
    },
    {
      "cell_type": "markdown",
      "source": [
        "# Árbol\n"
      ],
      "metadata": {
        "id": "uramGAIr4NqX"
      }
    },
    {
      "cell_type": "code",
      "source": [
        "# FUNCIONES\n",
        "def sa(a,b):\n",
        "    if len(a) > 1: a[0],a[1] = a[1],a[0]\n",
        "    return a,b\n",
        "def sb(a,b):\n",
        "    if len(b) > 1: b[0],b[1] = b[1],b[0]\n",
        "    return a,b\n",
        "def ss(a,b):\n",
        "    sa(a,b)\n",
        "    sb(a,b)\n",
        "    return a,b\n",
        "def pa(a,b):\n",
        "    if len(b) > 0:\n",
        "        a.insert(0, b[0])\n",
        "        b.pop(0)\n",
        "    return a,b\n",
        "def pb(a,b):\n",
        "    if len(a) > 0:\n",
        "        b.insert(0, a[0])\n",
        "        a.pop(0)\n",
        "    return a,b\n",
        "def ra(a,b):\n",
        "    if len(a) > 1: a.append(a.pop(0))\n",
        "    return a,b\n",
        "def rb(a,b):\n",
        "    if len(b) > 1: b.append(b.pop(0))\n",
        "    return a,b\n",
        "def rr(a,b):\n",
        "    ra(a,b)\n",
        "    rb(a,b)\n",
        "    return a,b\n",
        "def rra(a,b):\n",
        "    if len(a) > 1: a.insert(0, a.pop())\n",
        "    return a,b\n",
        "def rrb(a,b):\n",
        "    if len(b) > 1: b.insert(0, b.pop())\n",
        "    return a,b\n",
        "def rrr(a,b):\n",
        "    rra(a,b)\n",
        "    rrb(a,b)\n",
        "    return a,b"
      ],
      "metadata": {
        "id": "4d6wz9qo4e22"
      },
      "execution_count": 1,
      "outputs": []
    },
    {
      "cell_type": "code",
      "source": [
        "!pip install openpyxl"
      ],
      "metadata": {
        "colab": {
          "base_uri": "https://localhost:8080/"
        },
        "id": "K63Z_qrE4yW8",
        "outputId": "eaec0061-9451-442e-b329-ab454b76a471"
      },
      "execution_count": null,
      "outputs": [
        {
          "output_type": "stream",
          "name": "stdout",
          "text": [
            "Looking in indexes: https://pypi.org/simple, https://us-python.pkg.dev/colab-wheels/public/simple/\n",
            "Requirement already satisfied: openpyxl in /usr/local/lib/python3.8/dist-packages (3.0.10)\n",
            "Requirement already satisfied: et-xmlfile in /usr/local/lib/python3.8/dist-packages (from openpyxl) (1.1.0)\n"
          ]
        }
      ]
    },
    {
      "cell_type": "code",
      "source": [
        "import openpyxl                # importamos la librería openpyxl\n",
        "\n",
        "wb = openpyxl.Workbook()       # para crear por primera vez un libro\n",
        "ws = wb.active                 # estas dos lineas crean el libro, aún sin nombre\n",
        "\n",
        "wb.save('arbol.xlsx')          # grabamos el fichero por primera vez"
      ],
      "metadata": {
        "id": "0JjKGTof45Sh"
      },
      "execution_count": null,
      "outputs": []
    },
    {
      "cell_type": "markdown",
      "source": [
        "* Se mide el nivel del diccionario (inicilamente es cero)\n",
        "* La variable nivel calcula el máximo nivel del diccionario en ese momento\n",
        " - Estando atacando el nuevo_nivel añado todas las instrucciones\n",
        " - [\"sa\",\"sb\",\"pa\",\"pb\",\"ra\",\"rb\",\"rra\",\"rrb\",\"ss\",\"rr\",\"rrr\"]\n",
        " - se las agrego al final de todas las tuplas cuyo nivel es nivel\n",
        " - Solo se añaden al diccionario los casos con nueva pareja\n",
        " - Terminado el proceso de añadir todas las instrucciones (hasta rrb)\n",
        "* Se repite todo el proceso.\t"
      ],
      "metadata": {
        "id": "5fT-p8U9dTJ9"
      }
    },
    {
      "cell_type": "code",
      "source": [
        "def checkSorted(stackA, stackB):\n",
        "    if len(stackB) > 0:\n",
        "        return False\n",
        "    for i in range(len(stackA)-1):\n",
        "        if stackA[i] > stackA[i+1]:\n",
        "            return False\n",
        "    return True\n",
        "\n",
        "def separa_valor(v):\n",
        "    posicion = v.find('|')\n",
        "    a = v[:posicion]\n",
        "    b = v[posicion+1:]\n",
        "    a = [x for x in a]\n",
        "    b = [y for y in b]\n",
        "    return a, b\n",
        "\n",
        "def agrega(k, instruccion, aCopy, bCopy):\n",
        "    pareja = ''.join([x for x in aCopy]) + \"|\" + ''.join([x for x in bCopy])\n",
        "    tupla = tuple([str(instruccion)])\n",
        "    if pareja not in d.values():\n",
        "        d[k+tupla] = pareja\n",
        "\n",
        "def busca(a,b):\n",
        "    print(\"Estas son a y b:\", a, b)\n",
        "    while checkSorted(a, b):   # mientras la lista ordenada no esté en el diccionario\n",
        "        nivel = max([len(k) for k in d.keys()])   # el nivel del árbol es igual a la máxima longitud de las tuplas que van como clave en el diccionario. Inicialmente el nivel=0\n",
        "        print(\"nivel:\", nivel)\n",
        "        d_nivel = {}\n",
        "        for k,v in d.items():\n",
        "            if len(k)==nivel:\n",
        "                d_nivel[k] = v\n",
        "        for k,v in d_nivel.items():                \n",
        "            a, b = separa_valor(v)\n",
        "            print(\"a:\", a)\n",
        "            print(\"b:\", b)\n",
        "\n",
        "            for i in moves:\n",
        "                if (i == \"sa\"): aCopy, bCopy = sa(a[:], b[:])\n",
        "                elif (i == \"sb\"): aCopy, bCopy = sb(a[:], b[:])\n",
        "                #elif (i == \"ss\"): aCopy, bCopy = ss(a[:], b[:])\n",
        "                elif (i == \"pa\"): aCopy, bCopy = pa(a[:], b[:])\n",
        "                elif (i == \"pb\"): aCopy, bCopy = pb(a[:], b[:])\n",
        "                elif (i == \"ra\"): aCopy, bCopy = ra(a[:], b[:])\n",
        "                elif (i == \"rb\"): aCopy, bCopy = rb(a[:], b[:])\n",
        "                #elif (i == \"rr\"): aCopy, bCopy = rr(a[:], b[:])\n",
        "                elif (i == \"rra\"): aCopy, bCopy = rra(a[:], b[:])\n",
        "                elif (i == \"rrb\"): aCopy, bCopy = rrb(a[:], b[:])\n",
        "                #elif (i == \"rrr\"): aCopy, bCopy = rrr(a[:], b[:])\n",
        "                agrega(k, i, aCopy, bCopy)\n",
        "\n",
        "if __name__ == \"__main__\":\n",
        "    a_string = \"4 3 2 1\"\n",
        "    a = a_string.split()\n",
        "    b = []\n",
        "    d = {():a_string+\"|\"}   # diccionario. Ejemplo: {():'4321|', ('sa',):'3421|', ('pb',):'321|4', ('ra',):'3214|', ('rra',):'1432|', ('pb', 'sa'):'231|4', ('pb', 'pb'):'21|34'}\n",
        "    moves = [\"sa\",\"sb\",\"pa\",\"pb\",\"ra\",\"rb\",\"rra\",\"rrb\"]   #,\"ss\",\"rr\",\"rrr\"]\n",
        "    busca(a,b)\n",
        "    print(\"Diccionario :\", d)\n"
      ],
      "metadata": {
        "colab": {
          "base_uri": "https://localhost:8080/"
        },
        "id": "7gsSuWyf5LYM",
        "outputId": "56f25070-9a23-48ab-af22-29dbd2fe15da"
      },
      "execution_count": 8,
      "outputs": [
        {
          "output_type": "stream",
          "name": "stdout",
          "text": [
            "Estas son a y b: ['4', '3', '2', '1'] []\n",
            "Diccionario : {(): '4 3 2 1|'}\n"
          ]
        }
      ]
    },
    {
      "cell_type": "code",
      "source": [
        "# Cuando ya sebemos que queremos trabajar con el archivo arbol.xlsx\n",
        "wb = openpyxl.load_workbook('arbol.xlsx')"
      ],
      "metadata": {
        "id": "mvYTCFDxZcxR"
      },
      "execution_count": null,
      "outputs": []
    },
    {
      "cell_type": "code",
      "source": [
        "d = {(): '4321|', ('sa',): '3421|', ('pb',): '321|4', ('ra',): '3214|', ('rra',): '1432|'}\n",
        "\n",
        "max([len(k) for k in d.keys()])"
      ],
      "metadata": {
        "colab": {
          "base_uri": "https://localhost:8080/"
        },
        "id": "HT_mx7qOKQtc",
        "outputId": "abab123c-4c84-4e83-d4fb-c651cd96ff8a"
      },
      "execution_count": null,
      "outputs": [
        {
          "output_type": "execute_result",
          "data": {
            "text/plain": [
              "1"
            ]
          },
          "metadata": {},
          "execution_count": 36
        }
      ]
    },
    {
      "cell_type": "code",
      "source": [
        "a_string = \"4321\"\n",
        "a_ordenado = list(range(1,len(a_string)+1))\n",
        "print(a_ordenado)\n",
        "b = []\n",
        "d = {(): '4321|', ('sa',): '3421|', ('pb',): '321|4', ('ra',): '3214|', ('rra',): '1234|'}\n",
        "''.join([str(x) for x in range(1,len(a_string)+1)])+'|' in d.values()"
      ],
      "metadata": {
        "colab": {
          "base_uri": "https://localhost:8080/"
        },
        "id": "h_czBichL_JN",
        "outputId": "52770f6e-b93f-4b72-dfe6-2a3f31c9120e"
      },
      "execution_count": null,
      "outputs": [
        {
          "output_type": "stream",
          "name": "stdout",
          "text": [
            "[1, 2, 3, 4]\n"
          ]
        },
        {
          "output_type": "execute_result",
          "data": {
            "text/plain": [
              "True"
            ]
          },
          "metadata": {},
          "execution_count": 62
        }
      ]
    },
    {
      "cell_type": "code",
      "source": [
        "tupla = ()\n",
        "print(type(tupla))\n",
        "tupla = tupla + (1,)\n",
        "print(tupla)\n",
        "tupla += (2,)\n",
        "tupla"
      ],
      "metadata": {
        "colab": {
          "base_uri": "https://localhost:8080/"
        },
        "id": "T1qxtXjLfhGQ",
        "outputId": "7f4c2639-8106-40ce-aa2e-ab1ccaff0a90"
      },
      "execution_count": null,
      "outputs": [
        {
          "output_type": "stream",
          "name": "stdout",
          "text": [
            "<class 'tuple'>\n",
            "(1,)\n"
          ]
        },
        {
          "output_type": "execute_result",
          "data": {
            "text/plain": [
              "(1, 2)"
            ]
          },
          "metadata": {},
          "execution_count": 12
        }
      ]
    },
    {
      "cell_type": "code",
      "source": [
        "# imprimir del diccionario solo las 'clave:valor' de nivel máximo\n",
        "\n",
        "d = {():'4321|', ('sa',):'3421|', ('pb',):'321|4', ('ra',):'3214|', ('rra',):'1432|', ('pb', 'sa'):'231|4', ('pb', 'pb'):'21|34'}\n",
        "nivel = max([len(k) for k in d.keys()])\n",
        "for k,v in d.items():\n",
        "    if len(k)==nivel:\n",
        "        print(k,v)\n"
      ],
      "metadata": {
        "colab": {
          "base_uri": "https://localhost:8080/"
        },
        "id": "skS5oDObhFkb",
        "outputId": "c8870361-e448-413d-e530-5223ea12ccc7"
      },
      "execution_count": null,
      "outputs": [
        {
          "output_type": "stream",
          "name": "stdout",
          "text": [
            "('pb', 'sa') 231|4\n",
            "('pb', 'pb') 21|34\n"
          ]
        }
      ]
    },
    {
      "cell_type": "code",
      "source": [
        "def separa_valor(v):\n",
        "    posicion = v.find('|')\n",
        "    if posicion != -1:\n",
        "        a = v[:posicion]\n",
        "        b = v[posicion+1:]\n",
        "        a = [int(x) for x in a]\n",
        "        b = [int(y) for y in b]\n",
        "        return a, b\n",
        "\n",
        "a, b = separa_valor('21|34')\n",
        "\n",
        "print(\"a:\", a)\n",
        "print(\"b:\", b)"
      ],
      "metadata": {
        "id": "fLpmRoCvP-8a",
        "outputId": "13d57433-b20b-4368-8200-52c9ef131c6e",
        "colab": {
          "base_uri": "https://localhost:8080/"
        }
      },
      "execution_count": null,
      "outputs": [
        {
          "output_type": "stream",
          "name": "stdout",
          "text": [
            "a: [2, 1]\n",
            "b: [3, 4]\n"
          ]
        }
      ]
    },
    {
      "cell_type": "code",
      "source": [
        "d = {():'4321|', ('sa',):'3421|', ('pb',):'321|4', ('ra',):'3214|', ('rra',):'1432|', ('pb', 'sa'):'231|4', ('pb', 'pb'):'21|34'}\n",
        "d_new = {}\n",
        "\n",
        "nivel = max([len(k) for k in d.keys()])\n",
        "print(\"nivel:\", nivel)\n",
        "\n",
        "for k,v in d.items():\n",
        "    if len(k)==nivel:\n",
        "        #d_new(k) = v\n",
        "        print(k, v)\n",
        "\n",
        "d_new"
      ],
      "metadata": {
        "id": "buWrnGGWXPVY",
        "outputId": "62b3bebb-cffe-458e-f12b-4e18015f3cdf",
        "colab": {
          "base_uri": "https://localhost:8080/"
        }
      },
      "execution_count": null,
      "outputs": [
        {
          "output_type": "stream",
          "name": "stdout",
          "text": [
            "nivel: 2\n",
            "('pb', 'sa') 231|4\n",
            "('pb', 'pb') 21|34\n"
          ]
        },
        {
          "output_type": "execute_result",
          "data": {
            "text/plain": [
              "{}"
            ]
          },
          "metadata": {},
          "execution_count": 36
        }
      ]
    }
  ]
}