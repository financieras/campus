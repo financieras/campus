{
  "nbformat": 4,
  "nbformat_minor": 0,
  "metadata": {
    "colab": {
      "provenance": [],
      "authorship_tag": "ABX9TyMVA31KDRjs1Lse0cbvR+7+",
      "include_colab_link": true
    },
    "kernelspec": {
      "name": "python3",
      "display_name": "Python 3"
    },
    "language_info": {
      "name": "python"
    }
  },
  "cells": [
    {
      "cell_type": "markdown",
      "metadata": {
        "id": "view-in-github",
        "colab_type": "text"
      },
      "source": [
        "<a href=\"https://colab.research.google.com/github/financieras/campus/blob/main/pilas/pilas19.ipynb\" target=\"_parent\"><img src=\"https://colab.research.google.com/assets/colab-badge.svg\" alt=\"Open In Colab\"/></a>"
      ]
    },
    {
      "cell_type": "markdown",
      "source": [
        "# Árbol\n"
      ],
      "metadata": {
        "id": "uramGAIr4NqX"
      }
    },
    {
      "cell_type": "code",
      "source": [
        "# FUNCIONES\n",
        "def sa(a,b):\n",
        "    if len(a) > 1: a[0],a[1] = a[1],a[0]\n",
        "    return a,b\n",
        "def sb(a,b):\n",
        "    if len(b) > 1: b[0],b[1] = b[1],b[0]\n",
        "    return a,b\n",
        "def ss(a,b):\n",
        "    sa(a,b)\n",
        "    sb(a,b)\n",
        "    return a,b\n",
        "def pa(a,b):\n",
        "    if len(b) > 0:\n",
        "        a.insert(0, b[0])\n",
        "        b.pop(0)\n",
        "    return a,b\n",
        "def pb(a,b):\n",
        "    if len(a) > 0:\n",
        "        b.insert(0, a[0])\n",
        "        a.pop(0)\n",
        "    return a,b\n",
        "def ra(a,b):\n",
        "    if len(a) > 1: a.append(a.pop(0))\n",
        "    return a,b\n",
        "def rb(a,b):\n",
        "    if len(b) > 1: b.append(b.pop(0))\n",
        "    return a,b\n",
        "def rr(a,b):\n",
        "    ra(a,b)\n",
        "    rb(a,b)\n",
        "    return a,b\n",
        "def rra(a,b):\n",
        "    if len(a) > 1: a.insert(0, a.pop())\n",
        "    return a,b\n",
        "def rrb(a,b):\n",
        "    if len(b) > 1: b.insert(0, b.pop())\n",
        "    return a,b\n",
        "def rrr(a,b):\n",
        "    rra(a,b)\n",
        "    rrb(a,b)\n",
        "    return a,b"
      ],
      "metadata": {
        "id": "4d6wz9qo4e22"
      },
      "execution_count": 1,
      "outputs": []
    },
    {
      "cell_type": "code",
      "source": [
        "!pip install openpyxl"
      ],
      "metadata": {
        "colab": {
          "base_uri": "https://localhost:8080/"
        },
        "id": "K63Z_qrE4yW8",
        "outputId": "eaec0061-9451-442e-b329-ab454b76a471"
      },
      "execution_count": 2,
      "outputs": [
        {
          "output_type": "stream",
          "name": "stdout",
          "text": [
            "Looking in indexes: https://pypi.org/simple, https://us-python.pkg.dev/colab-wheels/public/simple/\n",
            "Requirement already satisfied: openpyxl in /usr/local/lib/python3.8/dist-packages (3.0.10)\n",
            "Requirement already satisfied: et-xmlfile in /usr/local/lib/python3.8/dist-packages (from openpyxl) (1.1.0)\n"
          ]
        }
      ]
    },
    {
      "cell_type": "code",
      "source": [
        "import openpyxl                # importamos la librería openpyxl\n",
        "\n",
        "wb = openpyxl.Workbook()       # para crear por primera vez un libro\n",
        "ws = wb.active                 # estas dos lineas crean el libro, aún sin nombre\n",
        "\n",
        "wb.save('arbol.xlsx')          # grabamos el fichero por primera vez"
      ],
      "metadata": {
        "id": "0JjKGTof45Sh"
      },
      "execution_count": 3,
      "outputs": []
    },
    {
      "cell_type": "markdown",
      "source": [
        "* Se mide el nivel del diccionario (inicilamente es cero)\t\n",
        "* nuevo_nivel = nivel +1\t\n",
        " - Estando atacando el nuevo_nivel añado todas las instrucciones\n",
        " - [\"sa\",\"sb\",\"pa\",\"pb\",\"ra\",\"rb\",\"rra\",\"rrb\",\"ss\",\"rr\",\"rrr\"]\n",
        " - se las agrego al final de todas las tuplas cuyo nivel es nivel\n",
        " - Solo se añaden al diccionario los casos con nueva pareja\n",
        " - Terminado el proceso de añadir todas las instrucciones (hasta rrb)\n",
        "* Se repite todo el proceso.\t"
      ],
      "metadata": {
        "id": "5fT-p8U9dTJ9"
      }
    },
    {
      "cell_type": "code",
      "source": [
        "\n",
        "def agrega(instruccion, aCopy, bCopy):\n",
        "    pareja = ''.join([x for x in aCopy]) + \"|\" + ''.join([x for x in bCopy])\n",
        "    tupla = tuple([str(instruccion)])\n",
        "    if pareja not in d.values():\n",
        "        d[tupla] = pareja\n",
        "\n",
        "def busca(a,b):\n",
        "    nivel = max([len(k) for k in d.keys()])   # el nivel del árbol es igual a la máxima longitud de las tuplas que van como clave en el diccionario. Inicialmente el nivel=0\n",
        "    while nivel < 3 or ''.join([str(x) for x in range(1,len(a_string)+1)])+'|' in d.values():   # mientras el nivel sea menor de 3 o mientras la lista ordenada no esté en el diccionario\n",
        "        nivel = max([len(k) for k in d.keys()])\n",
        "        print(\"nivel:\", nivel)\n",
        "        for i in moves:\n",
        "            if (i == \"sa\"): aCopy, bCopy = sa(a[:], b[:]); agrega('sa', aCopy, bCopy)\n",
        "            elif (i == \"sb\"): aCopy, bCopy = sb(a[:], b[:]); agrega('sb', aCopy, bCopy)\n",
        "            #elif (i == \"ss\"): aCopy, bCopy = ss(a[:], b[:]); agrega('ss', aCopy, bCopy)\n",
        "            elif (i == \"pa\"): aCopy, bCopy = pa(a[:], b[:]); agrega('pa', aCopy, bCopy)\n",
        "            elif (i == \"pb\"): aCopy, bCopy = pb(a[:], b[:]); agrega('pb', aCopy, bCopy)\n",
        "            elif (i == \"ra\"): aCopy, bCopy = ra(a[:], b[:]); agrega('ra', aCopy, bCopy)\n",
        "            elif (i == \"rb\"): aCopy, bCopy = rb(a[:], b[:]); agrega('rb', aCopy, bCopy)\n",
        "            #elif (i == \"rr\"): aCopy, bCopy = rr(a[:], b[:]); agrega('rr', aCopy, bCopy)\n",
        "            elif (i == \"rra\"): aCopy, bCopy = rra(a[:], b[:]); agrega('rra', aCopy, bCopy)\n",
        "            elif (i == \"rrb\"): aCopy, bCopy = rrb(a[:], b[:]); agrega('rrb', aCopy, bCopy)\n",
        "            #elif (i == \"rrr\"): aCopy, bCopy = rrr(a[:], b[:]); agrega('rrr', aCopy, bCopy)\n",
        "\n",
        "\n",
        "if __name__ == \"__main__\":\n",
        "    a_string = \"4321\"\n",
        "    a = list(a_string)\n",
        "    b = []\n",
        "    d = {():a_string+\"|\"}   # diccionario. Ejemplo: {():'4321|', ('sa',):'3421|', ('pb',):'321|4', ('ra',):'3214|', ('rra',):'1432|', ('pb', 'sa'):'231|4', ('pb', 'pb'):'21|34'}\n",
        "    moves = [\"sa\",\"sb\",\"pa\",\"pb\",\"ra\",\"rb\",\"rra\",\"rrb\"]   #,\"ss\",\"rr\",\"rrr\"]\n",
        "    busca(a,b)\n",
        "    print(\"Diccionario :\", d)\n"
      ],
      "metadata": {
        "colab": {
          "base_uri": "https://localhost:8080/",
          "height": 357
        },
        "id": "7gsSuWyf5LYM",
        "outputId": "2250a6d8-584e-479a-85a8-b323aee14410"
      },
      "execution_count": 4,
      "outputs": [
        {
          "output_type": "stream",
          "name": "stdout",
          "text": [
            "nivel: 0\n"
          ]
        },
        {
          "output_type": "error",
          "ename": "KeyboardInterrupt",
          "evalue": "ignored",
          "traceback": [
            "\u001b[0;31m---------------------------------------------------------------------------\u001b[0m",
            "\u001b[0;31mKeyboardInterrupt\u001b[0m                         Traceback (most recent call last)",
            "\u001b[0;32m<ipython-input-4-062ddeb78c54>\u001b[0m in \u001b[0;36m<module>\u001b[0;34m\u001b[0m\n\u001b[1;32m     29\u001b[0m     \u001b[0md\u001b[0m \u001b[0;34m=\u001b[0m \u001b[0;34m{\u001b[0m\u001b[0;34m(\u001b[0m\u001b[0;34m)\u001b[0m\u001b[0;34m:\u001b[0m\u001b[0ma_string\u001b[0m\u001b[0;34m+\u001b[0m\u001b[0;34m\"|\"\u001b[0m\u001b[0;34m}\u001b[0m   \u001b[0;31m# diccionario. Ejemplo: {():'4321|', ('pb',):'321|4', ('pb', 'sa'):'231|4'}\u001b[0m\u001b[0;34m\u001b[0m\u001b[0;34m\u001b[0m\u001b[0m\n\u001b[1;32m     30\u001b[0m     \u001b[0mmoves\u001b[0m \u001b[0;34m=\u001b[0m \u001b[0;34m[\u001b[0m\u001b[0;34m\"sa\"\u001b[0m\u001b[0;34m,\u001b[0m\u001b[0;34m\"sb\"\u001b[0m\u001b[0;34m,\u001b[0m\u001b[0;34m\"pa\"\u001b[0m\u001b[0;34m,\u001b[0m\u001b[0;34m\"pb\"\u001b[0m\u001b[0;34m,\u001b[0m\u001b[0;34m\"ra\"\u001b[0m\u001b[0;34m,\u001b[0m\u001b[0;34m\"rb\"\u001b[0m\u001b[0;34m,\u001b[0m\u001b[0;34m\"rra\"\u001b[0m\u001b[0;34m,\u001b[0m\u001b[0;34m\"rrb\"\u001b[0m\u001b[0;34m]\u001b[0m   \u001b[0;31m#,\"ss\",\"rr\",\"rrr\"]\u001b[0m\u001b[0;34m\u001b[0m\u001b[0;34m\u001b[0m\u001b[0m\n\u001b[0;32m---> 31\u001b[0;31m     \u001b[0mbusca\u001b[0m\u001b[0;34m(\u001b[0m\u001b[0ma\u001b[0m\u001b[0;34m,\u001b[0m\u001b[0mb\u001b[0m\u001b[0;34m)\u001b[0m\u001b[0;34m\u001b[0m\u001b[0;34m\u001b[0m\u001b[0m\n\u001b[0m\u001b[1;32m     32\u001b[0m     \u001b[0mprint\u001b[0m\u001b[0;34m(\u001b[0m\u001b[0;34m\"Diccionario :\"\u001b[0m\u001b[0;34m,\u001b[0m \u001b[0md\u001b[0m\u001b[0;34m)\u001b[0m\u001b[0;34m\u001b[0m\u001b[0;34m\u001b[0m\u001b[0m\n",
            "\u001b[0;32m<ipython-input-4-062ddeb78c54>\u001b[0m in \u001b[0;36mbusca\u001b[0;34m(a, b)\u001b[0m\n\u001b[1;32m     13\u001b[0m             \u001b[0;32melif\u001b[0m \u001b[0;34m(\u001b[0m\u001b[0mi\u001b[0m \u001b[0;34m==\u001b[0m \u001b[0;34m\"sb\"\u001b[0m\u001b[0;34m)\u001b[0m\u001b[0;34m:\u001b[0m \u001b[0maCopy\u001b[0m\u001b[0;34m,\u001b[0m \u001b[0mbCopy\u001b[0m \u001b[0;34m=\u001b[0m \u001b[0msb\u001b[0m\u001b[0;34m(\u001b[0m\u001b[0ma\u001b[0m\u001b[0;34m[\u001b[0m\u001b[0;34m:\u001b[0m\u001b[0;34m]\u001b[0m\u001b[0;34m,\u001b[0m \u001b[0mb\u001b[0m\u001b[0;34m[\u001b[0m\u001b[0;34m:\u001b[0m\u001b[0;34m]\u001b[0m\u001b[0;34m)\u001b[0m\u001b[0;34m;\u001b[0m \u001b[0magrega\u001b[0m\u001b[0;34m(\u001b[0m\u001b[0;34m'sb'\u001b[0m\u001b[0;34m,\u001b[0m \u001b[0maCopy\u001b[0m\u001b[0;34m,\u001b[0m \u001b[0mbCopy\u001b[0m\u001b[0;34m)\u001b[0m\u001b[0;34m\u001b[0m\u001b[0;34m\u001b[0m\u001b[0m\n\u001b[1;32m     14\u001b[0m             \u001b[0;31m#elif (i == \"ss\"): aCopy, bCopy = ss(a[:], b[:]); agrega('ss', aCopy, bCopy)\u001b[0m\u001b[0;34m\u001b[0m\u001b[0;34m\u001b[0m\u001b[0;34m\u001b[0m\u001b[0m\n\u001b[0;32m---> 15\u001b[0;31m             \u001b[0;32melif\u001b[0m \u001b[0;34m(\u001b[0m\u001b[0mi\u001b[0m \u001b[0;34m==\u001b[0m \u001b[0;34m\"pa\"\u001b[0m\u001b[0;34m)\u001b[0m\u001b[0;34m:\u001b[0m \u001b[0maCopy\u001b[0m\u001b[0;34m,\u001b[0m \u001b[0mbCopy\u001b[0m \u001b[0;34m=\u001b[0m \u001b[0mpa\u001b[0m\u001b[0;34m(\u001b[0m\u001b[0ma\u001b[0m\u001b[0;34m[\u001b[0m\u001b[0;34m:\u001b[0m\u001b[0;34m]\u001b[0m\u001b[0;34m,\u001b[0m \u001b[0mb\u001b[0m\u001b[0;34m[\u001b[0m\u001b[0;34m:\u001b[0m\u001b[0;34m]\u001b[0m\u001b[0;34m)\u001b[0m\u001b[0;34m;\u001b[0m \u001b[0magrega\u001b[0m\u001b[0;34m(\u001b[0m\u001b[0;34m'pa'\u001b[0m\u001b[0;34m,\u001b[0m \u001b[0maCopy\u001b[0m\u001b[0;34m,\u001b[0m \u001b[0mbCopy\u001b[0m\u001b[0;34m)\u001b[0m\u001b[0;34m\u001b[0m\u001b[0;34m\u001b[0m\u001b[0m\n\u001b[0m\u001b[1;32m     16\u001b[0m             \u001b[0;32melif\u001b[0m \u001b[0;34m(\u001b[0m\u001b[0mi\u001b[0m \u001b[0;34m==\u001b[0m \u001b[0;34m\"pb\"\u001b[0m\u001b[0;34m)\u001b[0m\u001b[0;34m:\u001b[0m \u001b[0maCopy\u001b[0m\u001b[0;34m,\u001b[0m \u001b[0mbCopy\u001b[0m \u001b[0;34m=\u001b[0m \u001b[0mpb\u001b[0m\u001b[0;34m(\u001b[0m\u001b[0ma\u001b[0m\u001b[0;34m[\u001b[0m\u001b[0;34m:\u001b[0m\u001b[0;34m]\u001b[0m\u001b[0;34m,\u001b[0m \u001b[0mb\u001b[0m\u001b[0;34m[\u001b[0m\u001b[0;34m:\u001b[0m\u001b[0;34m]\u001b[0m\u001b[0;34m)\u001b[0m\u001b[0;34m;\u001b[0m \u001b[0magrega\u001b[0m\u001b[0;34m(\u001b[0m\u001b[0;34m'pb'\u001b[0m\u001b[0;34m,\u001b[0m \u001b[0maCopy\u001b[0m\u001b[0;34m,\u001b[0m \u001b[0mbCopy\u001b[0m\u001b[0;34m)\u001b[0m\u001b[0;34m\u001b[0m\u001b[0;34m\u001b[0m\u001b[0m\n\u001b[1;32m     17\u001b[0m             \u001b[0;32melif\u001b[0m \u001b[0;34m(\u001b[0m\u001b[0mi\u001b[0m \u001b[0;34m==\u001b[0m \u001b[0;34m\"ra\"\u001b[0m\u001b[0;34m)\u001b[0m\u001b[0;34m:\u001b[0m \u001b[0maCopy\u001b[0m\u001b[0;34m,\u001b[0m \u001b[0mbCopy\u001b[0m \u001b[0;34m=\u001b[0m \u001b[0mra\u001b[0m\u001b[0;34m(\u001b[0m\u001b[0ma\u001b[0m\u001b[0;34m[\u001b[0m\u001b[0;34m:\u001b[0m\u001b[0;34m]\u001b[0m\u001b[0;34m,\u001b[0m \u001b[0mb\u001b[0m\u001b[0;34m[\u001b[0m\u001b[0;34m:\u001b[0m\u001b[0;34m]\u001b[0m\u001b[0;34m)\u001b[0m\u001b[0;34m;\u001b[0m \u001b[0magrega\u001b[0m\u001b[0;34m(\u001b[0m\u001b[0;34m'ra'\u001b[0m\u001b[0;34m,\u001b[0m \u001b[0maCopy\u001b[0m\u001b[0;34m,\u001b[0m \u001b[0mbCopy\u001b[0m\u001b[0;34m)\u001b[0m\u001b[0;34m\u001b[0m\u001b[0;34m\u001b[0m\u001b[0m\n",
            "\u001b[0;31mKeyboardInterrupt\u001b[0m: "
          ]
        }
      ]
    },
    {
      "cell_type": "code",
      "source": [
        "d"
      ],
      "metadata": {
        "colab": {
          "base_uri": "https://localhost:8080/"
        },
        "id": "aFeWH5c_ZmeQ",
        "outputId": "32f92442-5bce-49a7-9a0b-a944688b3c96"
      },
      "execution_count": 5,
      "outputs": [
        {
          "output_type": "execute_result",
          "data": {
            "text/plain": [
              "{(): '4321|',\n",
              " ('sa',): '3421|',\n",
              " ('pb',): '321|4',\n",
              " ('ra',): '3214|',\n",
              " ('rra',): '1432|'}"
            ]
          },
          "metadata": {},
          "execution_count": 5
        }
      ]
    },
    {
      "cell_type": "code",
      "source": [
        "# Cuando ya sebemos que queremos trabajar con el archivo arbol.xlsx\n",
        "wb = openpyxl.load_workbook('arbol.xlsx')\n",
        "\n",
        "\n"
      ],
      "metadata": {
        "id": "mvYTCFDxZcxR"
      },
      "execution_count": null,
      "outputs": []
    },
    {
      "cell_type": "code",
      "source": [
        "d = {(): '4321|', ('sa',): '3421|', ('pb',): '321|4', ('ra',): '3214|', ('rra',): '1432|'}\n",
        "\n",
        "max([len(k) for k in d.keys()])"
      ],
      "metadata": {
        "colab": {
          "base_uri": "https://localhost:8080/"
        },
        "id": "HT_mx7qOKQtc",
        "outputId": "abab123c-4c84-4e83-d4fb-c651cd96ff8a"
      },
      "execution_count": 36,
      "outputs": [
        {
          "output_type": "execute_result",
          "data": {
            "text/plain": [
              "1"
            ]
          },
          "metadata": {},
          "execution_count": 36
        }
      ]
    },
    {
      "cell_type": "code",
      "source": [
        "a_string = \"4321\"\n",
        "a_ordenado = list(range(1,len(a_string)+1))\n",
        "print(a_ordenado)\n",
        "b = []\n",
        "d = {(): '4321|', ('sa',): '3421|', ('pb',): '321|4', ('ra',): '3214|', ('rra',): '1234|'}\n",
        "''.join([str(x) for x in range(1,len(a_string)+1)])+'|' in d.values()"
      ],
      "metadata": {
        "colab": {
          "base_uri": "https://localhost:8080/"
        },
        "id": "h_czBichL_JN",
        "outputId": "52770f6e-b93f-4b72-dfe6-2a3f31c9120e"
      },
      "execution_count": 62,
      "outputs": [
        {
          "output_type": "stream",
          "name": "stdout",
          "text": [
            "[1, 2, 3, 4]\n"
          ]
        },
        {
          "output_type": "execute_result",
          "data": {
            "text/plain": [
              "True"
            ]
          },
          "metadata": {},
          "execution_count": 62
        }
      ]
    },
    {
      "cell_type": "code",
      "source": [
        "tupla = ()\n",
        "print(type(tupla))\n",
        "tupla = tupla + (1,)\n",
        "print(tupla)\n",
        "tupla += (2,)\n",
        "tupla"
      ],
      "metadata": {
        "colab": {
          "base_uri": "https://localhost:8080/"
        },
        "id": "T1qxtXjLfhGQ",
        "outputId": "7f4c2639-8106-40ce-aa2e-ab1ccaff0a90"
      },
      "execution_count": 12,
      "outputs": [
        {
          "output_type": "stream",
          "name": "stdout",
          "text": [
            "<class 'tuple'>\n",
            "(1,)\n"
          ]
        },
        {
          "output_type": "execute_result",
          "data": {
            "text/plain": [
              "(1, 2)"
            ]
          },
          "metadata": {},
          "execution_count": 12
        }
      ]
    },
    {
      "cell_type": "code",
      "source": [
        "# imprimir del diccionario solo las 'clave:valor' de nivel máximo\n",
        "\n",
        "d = {():'4321|', ('sa',):'3421|', ('pb',):'321|4', ('ra',):'3214|', ('rra',):'1432|', ('pb', 'sa'):'231|4', ('pb', 'pb'):'21|34'}\n",
        "nivel = max([len(k) for k in d.keys()])\n",
        "for k,v in d.items():\n",
        "    if len(k)==nivel:\n",
        "        print(k,v)\n"
      ],
      "metadata": {
        "colab": {
          "base_uri": "https://localhost:8080/"
        },
        "id": "skS5oDObhFkb",
        "outputId": "c8870361-e448-413d-e530-5223ea12ccc7"
      },
      "execution_count": 16,
      "outputs": [
        {
          "output_type": "stream",
          "name": "stdout",
          "text": [
            "('pb', 'sa') 231|4\n",
            "('pb', 'pb') 21|34\n"
          ]
        }
      ]
    }
  ]
}