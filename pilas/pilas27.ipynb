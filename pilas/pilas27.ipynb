{
  "nbformat": 4,
  "nbformat_minor": 0,
  "metadata": {
    "colab": {
      "provenance": [],
      "authorship_tag": "ABX9TyNyJb2OqZQzq07bIEl5zo7J",
      "include_colab_link": true
    },
    "kernelspec": {
      "name": "python3",
      "display_name": "Python 3"
    },
    "language_info": {
      "name": "python"
    }
  },
  "cells": [
    {
      "cell_type": "markdown",
      "metadata": {
        "id": "view-in-github",
        "colab_type": "text"
      },
      "source": [
        "<a href=\"https://colab.research.google.com/github/financieras/campus/blob/main/pilas/pilas27.ipynb\" target=\"_parent\"><img src=\"https://colab.research.google.com/assets/colab-badge.svg\" alt=\"Open In Colab\"/></a>"
      ]
    },
    {
      "cell_type": "markdown",
      "source": [
        "# Algoritmo Deep Moder Times bajando un trio ordenado\n",
        "Los tres primeros números de A se pasan a B y se ordenan para que queden en B de forma decreciente circularmente.\n",
        "\n",
        "Objetivo conseguir que el número de pasos quede por debajo del límite.\n",
        "* para n=100 el límite es <700\n",
        "* para n=500 el límite es <5500"
      ],
      "metadata": {
        "id": "ZUAyju3U8GhF"
      }
    },
    {
      "cell_type": "markdown",
      "source": [
        "# Comenzando con tres ordenados en B\n",
        "\n",
        "\n",
        "1. Generamos aleatoriamente o nos dan la pila A. \n",
        "2. La pila B inicialmente está vacía.\n",
        "3. Pasamos tres elementos de A a B con el mínimo número de pasos posible y de forma que en B queden ordenados decrecientemente\n",
        "\n",
        "- Ejemplo 1: Pila B: 78 34 12\n",
        "- Ejemplo 2: Pila B: 3 2 1\n",
        "- Ejemplo 3: Pila B: 1 3 2 &nbsp; &nbsp; &nbsp;  Esto también estaría ordenado de forma decreciente\n",
        "- Ejemplo 4: Pila B: 2 1 3 &nbsp; &nbsp; &nbsp;  ya que se puede ver de forma circular\n",
        "\n",
        "Objetivos correctos en B\n",
        "* 3 2 1\n",
        "* 1 3 2\n",
        "* 2 1 3\n",
        "\n",
        " &nbsp; casos A &nbsp; &nbsp; &nbsp; &nbsp; &nbsp; &nbsp; Resultado  \n",
        "- 1 2 3 ... pb pb pb &nbsp; &nbsp; &nbsp; &nbsp; 3 2 1  \n",
        "- 1 3 2 ... pb sa pb pb &nbsp; 3 2 1  \n",
        "- 2 1 3 ... sa pb pb pb &nbsp; 3 2 1  \n",
        "- 2 3 1 ... pb pb pb &nbsp; &nbsp; &nbsp; &nbsp; 1 3 2  \n",
        "- 3 1 2 ... pb pb pb &nbsp; &nbsp; &nbsp; &nbsp; 2 1 3  \n",
        "- 3 2 1 ... pb pb pb sb &nbsp; 2 1 3"
      ],
      "metadata": {
        "id": "Z_B2p5UqA5_8"
      }
    },
    {
      "cell_type": "code",
      "source": [
        "# FUNCIONES\n",
        "def sa(a,b):\n",
        "    if len(a) > 1: a[0],a[1] = a[1],a[0]\n",
        "    return a,b\n",
        "def sb(a,b):\n",
        "    if len(b) > 1: b[0],b[1] = b[1],b[0]\n",
        "    return a,b\n",
        "def ss(a,b):\n",
        "    sa(a,b)\n",
        "    sb(a,b)\n",
        "    return a,b\n",
        "def pa(a,b):\n",
        "    if len(b) > 0:\n",
        "        a.insert(0, b[0])\n",
        "        b.pop(0)\n",
        "    return a,b\n",
        "def pb(a,b):\n",
        "    if len(a) > 0:\n",
        "        b.insert(0, a[0])\n",
        "        a.pop(0)\n",
        "    return a,b\n",
        "def ra(a,b):\n",
        "    if len(a) > 1: a.append(a.pop(0))\n",
        "    return a,b\n",
        "def rb(a,b):\n",
        "    if len(b) > 1: b.append(b.pop(0))\n",
        "    return a,b\n",
        "def rr(a,b):\n",
        "    ra(a,b)\n",
        "    rb(a,b)\n",
        "    return a,b\n",
        "def rra(a,b):\n",
        "    if len(a) > 1: a.insert(0, a.pop())\n",
        "    return a,b\n",
        "def rrb(a,b):\n",
        "    if len(b) > 1: b.insert(0, b.pop())\n",
        "    return a,b\n",
        "def rrr(a,b):\n",
        "    rra(a,b)\n",
        "    rrb(a,b)\n",
        "    return a,b"
      ],
      "metadata": {
        "id": "NnOxqobnuRzl"
      },
      "execution_count": 1,
      "outputs": []
    },
    {
      "cell_type": "code",
      "source": [
        "# Generación de la pila A\n",
        "from random import sample, seed\n",
        "seed()\n",
        "\n",
        "def generaPilaA(n):        \n",
        "    return sample(range(1, n+1), n)"
      ],
      "metadata": {
        "id": "s5qIkf_cBsWU"
      },
      "execution_count": 2,
      "outputs": []
    },
    {
      "cell_type": "code",
      "source": [
        "def bajar_tres(a,b):   # se usa en la función tres_decrecientes para el caso habitual en el que hacemos pb pb pb\n",
        "    global contador\n",
        "    pb(a,b); contador += 1\n",
        "    pb(a,b); contador += 1\n",
        "    pb(a,b); contador += 1\n",
        "    \n",
        "def tres_decrecientes(a,b):   # bajamos los tres primeros números de A a B, y los hacemos decrecientes de forma circular\n",
        "    global contador\n",
        "    if a[0] < a[1] < a[2]:                          # caso: 1 2 3\n",
        "        bajar_tres(a,b)\n",
        "        print(\"caso: 1 2 3\")\n",
        "    elif a[0] < a[1] > a[2] and a[0] < a[2]:        # caso: 1 3 2\n",
        "        pb(a,b); contador += 1\n",
        "        sa(a,b); contador += 1\n",
        "        pb(a,b); contador += 1\n",
        "        pb(a,b); contador += 1\n",
        "        print(\"caso: 1 3 2\")\n",
        "    elif a[0] > a[1] < a[2] and a[0] < a[2]:        # caso: 2 1 3\n",
        "        sa(a,b); contador += 1\n",
        "        bajar_tres(a,b)\n",
        "        print(\"caso: 2 1 3\")\n",
        "    elif a[0] < a[1] > a[2] and a[0] > a[2]:        # caso: 2 3 1\n",
        "        bajar_tres(a,b)\n",
        "        print(\"caso: 2 3 1\")\n",
        "    elif a[0] > a[1] < a[2] and a[0] > a[2]:        # caso: 3 1 2\n",
        "        bajar_tres(a,b)\n",
        "        print(\"caso: 3 1 2\")\n",
        "    elif a[0] > a[1] > a[2]:                        # caso: 3 2 1\n",
        "        bajar_tres(a,b)\n",
        "        sb(a,b); contador += 1\n",
        "        print(\"caso: 3 2 1\")"
      ],
      "metadata": {
        "id": "H1XwAwswq0QY"
      },
      "execution_count": 3,
      "outputs": []
    },
    {
      "cell_type": "code",
      "source": [
        "if __name__ == \"__main__\":    \n",
        "    n = 48   # número de elementos de la pila\n",
        "    a = generaPilaA(n)\n",
        "    b = []\n",
        "    print('a: ', a, \"\\nb: \", b)\n",
        "    a_original = a[:]\n",
        "    n = len(a)\n",
        "    contador = 0\n",
        "    tres_decrecientes(a,b)\n",
        "\n",
        "    while len(a)>3:    ####################### REVISAR ESTA CONDICIÓN a != sorted(a) and len(a)>3:\n",
        "        index_minimosPasos = calculaIndexPasosMinimos()\n",
        "        giraPilas(a,b,index_minimosPasos)\n",
        "        pb(a,b); contador += 1 # lo pasa de A a B haciendo pb\n",
        "    situarMax_en_B()\n",
        "    #print(\"a: \", a)\n",
        "    #print(\"b: \", b)\n",
        "    subirTodo_a_A()\n",
        "\n",
        "\n",
        "    print('a: ', a, \"\\nb: \", b)\n",
        "    print(\"contador: \", contador)"
      ],
      "metadata": {
        "colab": {
          "base_uri": "https://localhost:8080/"
        },
        "id": "vn2wuHAXBtih",
        "outputId": "e04cf5b0-5851-4246-a721-5239a4d4a94e"
      },
      "execution_count": 4,
      "outputs": [
        {
          "output_type": "stream",
          "name": "stdout",
          "text": [
            "a:  [28, 34, 26, 25, 15, 16, 2, 32, 47, 8, 24, 45, 17, 31, 7, 10, 37, 27, 41, 4, 48, 46, 5, 33, 39, 1, 30, 22, 44, 23, 13, 35, 18, 36, 19, 11, 42, 3, 6, 43, 20, 9, 12, 21, 14, 29, 40, 38] \n",
            "b:  []\n",
            "caso: 2 3 1\n",
            "a:  [25, 15, 16, 2, 32, 47, 8, 24, 45, 17, 31, 7, 10, 37, 27, 41, 4, 48, 46, 5, 33, 39, 1, 30, 22, 44, 23, 13, 35, 18, 36, 19, 11, 42, 3, 6, 43, 20, 9, 12, 21, 14, 29, 40, 38] \n",
            "b:  [26, 34, 28]\n",
            "contador:  3\n"
          ]
        }
      ]
    }
  ]
}