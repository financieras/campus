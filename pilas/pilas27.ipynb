{
  "nbformat": 4,
  "nbformat_minor": 0,
  "metadata": {
    "colab": {
      "provenance": [],
      "authorship_tag": "ABX9TyPM0YmSPluDK3UuA6slcmlX",
      "include_colab_link": true
    },
    "kernelspec": {
      "name": "python3",
      "display_name": "Python 3"
    },
    "language_info": {
      "name": "python"
    }
  },
  "cells": [
    {
      "cell_type": "markdown",
      "metadata": {
        "id": "view-in-github",
        "colab_type": "text"
      },
      "source": [
        "<a href=\"https://colab.research.google.com/github/financieras/campus/blob/main/pilas/pilas27.ipynb\" target=\"_parent\"><img src=\"https://colab.research.google.com/assets/colab-badge.svg\" alt=\"Open In Colab\"/></a>"
      ]
    },
    {
      "cell_type": "markdown",
      "source": [
        "# Comenzando con tres ordenados en B\n",
        "\n",
        "\n",
        "1. Generamos aleatoriamente o nos dan la pila A. \n",
        "2. La pila B inicialmente está vacía.\n",
        "3. Pasamos tres elementos de A a B con el mínimo número de pasos posible y de forma que en B queden ordenados decrecientemente\n",
        "\n",
        "- Ejemplo: Pila B: 78 34 12"
      ],
      "metadata": {
        "id": "Z_B2p5UqA5_8"
      }
    },
    {
      "cell_type": "code",
      "source": [
        "# FUNCIONES\n",
        "def sa(a,b):\n",
        "    if len(a) > 1: a[0],a[1] = a[1],a[0]\n",
        "    return a,b\n",
        "def sb(a,b):\n",
        "    if len(b) > 1: b[0],b[1] = b[1],b[0]\n",
        "    return a,b\n",
        "def ss(a,b):\n",
        "    sa(a,b)\n",
        "    sb(a,b)\n",
        "    return a,b\n",
        "def pa(a,b):\n",
        "    if len(b) > 0:\n",
        "        a.insert(0, b[0])\n",
        "        b.pop(0)\n",
        "    return a,b\n",
        "def pb(a,b):\n",
        "    if len(a) > 0:\n",
        "        b.insert(0, a[0])\n",
        "        a.pop(0)\n",
        "    return a,b\n",
        "def ra(a,b):\n",
        "    if len(a) > 1: a.append(a.pop(0))\n",
        "    return a,b\n",
        "def rb(a,b):\n",
        "    if len(b) > 1: b.append(b.pop(0))\n",
        "    return a,b\n",
        "def rr(a,b):\n",
        "    ra(a,b)\n",
        "    rb(a,b)\n",
        "    return a,b\n",
        "def rra(a,b):\n",
        "    if len(a) > 1: a.insert(0, a.pop())\n",
        "    return a,b\n",
        "def rrb(a,b):\n",
        "    if len(b) > 1: b.insert(0, b.pop())\n",
        "    return a,b\n",
        "def rrr(a,b):\n",
        "    rra(a,b)\n",
        "    rrb(a,b)\n",
        "    return a,b"
      ],
      "metadata": {
        "id": "NnOxqobnuRzl"
      },
      "execution_count": null,
      "outputs": []
    },
    {
      "cell_type": "code",
      "source": [
        "# Generación de la pila A\n",
        "from random import sample, seed\n",
        "seed()\n",
        "\n",
        "def generaPilaA(n):\n",
        "    return sample(range(1, n+1), n)"
      ],
      "metadata": {
        "id": "s5qIkf_cBsWU"
      },
      "execution_count": null,
      "outputs": []
    },
    {
      "cell_type": "code",
      "source": [
        "if __name__ == \"__main__\":    \n",
        "    n = 32   # número de elementos de la pila\n",
        "    a = generaPilaA(n)\n",
        "    b = []\n",
        "    print('a: ', a, \"\\nb: \", b)\n",
        "    a_original = a[:]\n",
        "    n = len(a)"
      ],
      "metadata": {
        "colab": {
          "base_uri": "https://localhost:8080/"
        },
        "id": "vn2wuHAXBtih",
        "outputId": "8f0689a3-91c5-4475-d3d0-2e297f9bc97f"
      },
      "execution_count": null,
      "outputs": [
        {
          "output_type": "stream",
          "name": "stdout",
          "text": [
            "a:  [4, 13, 23, 31, 30, 28, 3, 18, 20, 26, 29, 8, 21, 24, 10, 25, 2, 6, 22, 17, 15, 9, 16, 7, 14, 5, 1, 27, 12, 32, 19, 11] \n",
            "b:  []\n"
          ]
        }
      ]
    }
  ]
}