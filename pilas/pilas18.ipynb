{
  "nbformat": 4,
  "nbformat_minor": 0,
  "metadata": {
    "colab": {
      "provenance": [],
      "authorship_tag": "ABX9TyN75IyC+bi528h/Jc5H5tQ1",
      "include_colab_link": true
    },
    "kernelspec": {
      "name": "python3",
      "display_name": "Python 3"
    },
    "language_info": {
      "name": "python"
    }
  },
  "cells": [
    {
      "cell_type": "markdown",
      "metadata": {
        "id": "view-in-github",
        "colab_type": "text"
      },
      "source": [
        "<a href=\"https://colab.research.google.com/github/financieras/campus/blob/main/pilas/pilas18.ipynb\" target=\"_parent\"><img src=\"https://colab.research.google.com/assets/colab-badge.svg\" alt=\"Open In Colab\"/></a>"
      ]
    },
    {
      "cell_type": "code",
      "source": [
        "# FUNCIONES\n",
        "def sa(a,b):\n",
        "    if len(a) > 1: a[0],a[1] = a[1],a[0]\n",
        "    return a,b\n",
        "def sb(a,b):\n",
        "    if len(b) > 1: b[0],b[1] = b[1],b[0]\n",
        "    return a,b\n",
        "def ss(a,b):\n",
        "    sa(a,b)\n",
        "    sb(a,b)\n",
        "    return a,b\n",
        "def pa(a,b):\n",
        "    if len(b) > 0:\n",
        "        a.insert(0, b[0])\n",
        "        b.pop(0)\n",
        "    return a,b\n",
        "def pb(a,b):\n",
        "    if len(a) > 0:\n",
        "        b.insert(0, a[0])\n",
        "        a.pop(0)\n",
        "    return a,b\n",
        "def ra(a,b):\n",
        "    if len(a) > 1: a.append(a.pop(0))\n",
        "    return a,b\n",
        "def rb(a,b):\n",
        "    if len(b) > 1: b.append(b.pop(0))\n",
        "    return a,b\n",
        "def rr(a,b):\n",
        "    ra(a,b)\n",
        "    rb(a,b)\n",
        "    return a,b\n",
        "def rra(a,b):\n",
        "    if len(a) > 1: a.insert(0, a.pop())\n",
        "    return a,b\n",
        "def rrb(a,b):\n",
        "    if len(b) > 1: b.insert(0, b.pop())\n",
        "    return a,b\n",
        "def rrr(a,b):\n",
        "    rra(a,b)\n",
        "    rrb(a,b)\n",
        "    return a,b"
      ],
      "metadata": {
        "id": "kVJ8gIWk9G-1"
      },
      "execution_count": 1,
      "outputs": []
    },
    {
      "cell_type": "code",
      "execution_count": 2,
      "metadata": {
        "colab": {
          "base_uri": "https://localhost:8080/"
        },
        "id": "W3DpIyfzbZua",
        "outputId": "eb138794-379f-459f-c1fa-fbe4f40ecf32"
      },
      "outputs": [
        {
          "output_type": "stream",
          "name": "stdout",
          "text": [
            "Looking in indexes: https://pypi.org/simple, https://us-python.pkg.dev/colab-wheels/public/simple/\n",
            "Requirement already satisfied: openpyxl in /usr/local/lib/python3.8/dist-packages (3.0.10)\n",
            "Requirement already satisfied: et-xmlfile in /usr/local/lib/python3.8/dist-packages (from openpyxl) (1.1.0)\n"
          ]
        }
      ],
      "source": [
        "!pip install openpyxl"
      ]
    },
    {
      "cell_type": "code",
      "source": [
        "import openpyxl                # importamos la librería openpyxl\n",
        "\n",
        "wb = openpyxl.Workbook()       # para crear por primera vez un libro\n",
        "ws = wb.active                 # estas dos lineas crean el libro, aún sin nombre\n",
        "\n",
        "wb.save('arbol.xlsx')          # grabamos el fichero por primera vez"
      ],
      "metadata": {
        "id": "5-ZY4yFtbhtz"
      },
      "execution_count": 3,
      "outputs": []
    },
    {
      "cell_type": "code",
      "source": [
        "# Cuando ya sebemos que queremos trabajar con el archivo arbol.xlsx\n",
        "wb = openpyxl.load_workbook('arbol.xlsx')\n",
        "\n",
        "a_string = \"1432\"   #\"531642\"\n",
        "a_original = list(int(x) for x in a_string)   # pila A en forma de lista\n",
        "\n",
        "ws = wb[\"Sheet\"]         # accediendo a la hoja Sheet\n",
        "ws['C5'] = \"Origen\"\n",
        "ws['D5'] = a_string\n",
        "ws['D4'] = \"A\"\n",
        "ws['E4'] = \"B\"\n",
        "fila = 0\n",
        "\n",
        "catalogo = [\"sa\",\"sb\",\"pa\",\"pb\",\"ra\",\"rb\",\"rra\",\"rrb\",\"ss\",\"rr\",\"rrr\"]\n",
        "d = {}   # diccionario. clave= \"324 | 1\"  valor= \"pb ra\"\n",
        "\n",
        "for nivel in range(2,5):\n",
        "    \n",
        "\n",
        "\n",
        "\n",
        "for cont, instruccion in enumerate(catalogo):\n",
        "    print(f\"cont {cont}: instrucción {instruccion}\\t\", end=\"\")\n",
        "    a = a_original[:]\n",
        "    b = []\n",
        "    print(a,b)\n",
        "    \n",
        "    if instruccion == \"sa\": sa(a,b)\n",
        "    elif instruccion == \"sb\": sb(a,b)\n",
        "    elif instruccion == \"ss\": ss(a,b)\n",
        "    elif instruccion == \"pa\": pa(a,b)\n",
        "    elif instruccion == \"pb\": pb(a,b)\n",
        "    elif instruccion == \"ra\": ra(a,b)\n",
        "    elif instruccion == \"rb\": rb(a,b)\n",
        "    elif instruccion == \"rr\": rr(a,b)\n",
        "    elif instruccion == \"rra\": rra(a,b)\n",
        "    elif instruccion == \"rrb\": rrb(a,b)\n",
        "    elif instruccion == \"rrr\": rrr(a,b)\n",
        "    print(\"lista a:\", a, \"a_original:\", a_original)\n",
        "    if a != a_original or b != []:\n",
        "        ws.cell(row=fila+6, column=3).value = instruccion\n",
        "        ws.cell(row=fila+6, column=4).value = ''.join(str(x) for x in a)   # pila A\n",
        "        ws.cell(row=fila+6, column=5).value = ''.join(str(x) for x in b)   # pila B\n",
        "        fila += 1\n",
        "\n",
        "\n",
        "wb.save('arbol.xlsx')\n",
        "wb.close()"
      ],
      "metadata": {
        "colab": {
          "base_uri": "https://localhost:8080/"
        },
        "id": "HtaOWqia6Ods",
        "outputId": "f961fc38-6b37-4e17-b1bd-4314e42de196"
      },
      "execution_count": null,
      "outputs": [
        {
          "output_type": "stream",
          "name": "stdout",
          "text": [
            "a_string: 531642\n",
            "a_original: [5, 3, 1, 6, 4, 2]\n",
            "cont 0: instrucción sa\t[5, 3, 1, 6, 4, 2] []\n",
            "lista a: [3, 5, 1, 6, 4, 2] a_original: [5, 3, 1, 6, 4, 2]\n",
            "cont 1: instrucción sb\t[5, 3, 1, 6, 4, 2] []\n",
            "lista a: [5, 3, 1, 6, 4, 2] a_original: [5, 3, 1, 6, 4, 2]\n",
            "cont 2: instrucción pa\t[5, 3, 1, 6, 4, 2] []\n",
            "lista a: [5, 3, 1, 6, 4, 2] a_original: [5, 3, 1, 6, 4, 2]\n",
            "cont 3: instrucción pb\t[5, 3, 1, 6, 4, 2] []\n",
            "lista a: [3, 1, 6, 4, 2] a_original: [5, 3, 1, 6, 4, 2]\n",
            "cont 4: instrucción ra\t[5, 3, 1, 6, 4, 2] []\n",
            "lista a: [3, 1, 6, 4, 2, 5] a_original: [5, 3, 1, 6, 4, 2]\n",
            "cont 5: instrucción rb\t[5, 3, 1, 6, 4, 2] []\n",
            "lista a: [5, 3, 1, 6, 4, 2] a_original: [5, 3, 1, 6, 4, 2]\n",
            "cont 6: instrucción rra\t[5, 3, 1, 6, 4, 2] []\n",
            "lista a: [2, 5, 3, 1, 6, 4] a_original: [5, 3, 1, 6, 4, 2]\n",
            "cont 7: instrucción rrb\t[5, 3, 1, 6, 4, 2] []\n",
            "lista a: [5, 3, 1, 6, 4, 2] a_original: [5, 3, 1, 6, 4, 2]\n",
            "cont 8: instrucción ss\t[5, 3, 1, 6, 4, 2] []\n",
            "lista a: [3, 5, 1, 6, 4, 2] a_original: [5, 3, 1, 6, 4, 2]\n",
            "cont 9: instrucción rr\t[5, 3, 1, 6, 4, 2] []\n",
            "lista a: [3, 1, 6, 4, 2, 5] a_original: [5, 3, 1, 6, 4, 2]\n",
            "cont 10: instrucción rrr\t[5, 3, 1, 6, 4, 2] []\n",
            "lista a: [2, 5, 3, 1, 6, 4] a_original: [5, 3, 1, 6, 4, 2]\n"
          ]
        }
      ]
    },
    {
      "cell_type": "code",
      "source": [
        "a = [5, 3, 1, 6, 4, 2]\n",
        "resultado = ''.join(str(x) for x in a)\n",
        "print(type(resultado))\n",
        "resultado"
      ],
      "metadata": {
        "colab": {
          "base_uri": "https://localhost:8080/",
          "height": 53
        },
        "id": "9_GZhan-_trV",
        "outputId": "935eceb1-6889-43de-e772-bd671781471e"
      },
      "execution_count": null,
      "outputs": [
        {
          "output_type": "stream",
          "name": "stdout",
          "text": [
            "<class 'str'>\n"
          ]
        },
        {
          "output_type": "execute_result",
          "data": {
            "text/plain": [
              "'531642'"
            ],
            "application/vnd.google.colaboratory.intrinsic+json": {
              "type": "string"
            }
          },
          "metadata": {},
          "execution_count": 5
        }
      ]
    },
    {
      "cell_type": "code",
      "source": [
        "a_string = \"531642\"\n",
        "list(int(x) for x in a_string)"
      ],
      "metadata": {
        "colab": {
          "base_uri": "https://localhost:8080/"
        },
        "id": "cw1xrQ5pGxor",
        "outputId": "ca7339e7-75f3-4a69-c827-b3d8f906ad2c"
      },
      "execution_count": null,
      "outputs": [
        {
          "output_type": "execute_result",
          "data": {
            "text/plain": [
              "[5, 3, 1, 6, 4, 2]"
            ]
          },
          "metadata": {},
          "execution_count": 12
        }
      ]
    },
    {
      "cell_type": "code",
      "source": [
        "a = [1,6,4,2]\n",
        "b = [3,5]\n",
        "a_string = ','.join(str(x) for x in a)\n",
        "b_string = ','.join(str(x) for x in b)\n",
        "ab_string = a_string + \" | \" + b_string\n",
        "d = {ab_string : \"pb pb\"}\n",
        "d"
      ],
      "metadata": {
        "id": "yVmB5I7EhICP",
        "outputId": "f9a0f572-247a-4b1b-9131-97781b85f8af",
        "colab": {
          "base_uri": "https://localhost:8080/"
        }
      },
      "execution_count": null,
      "outputs": [
        {
          "output_type": "execute_result",
          "data": {
            "text/plain": [
              "{'1,6,4,2 | 3,5': 'pb pb'}"
            ]
          },
          "metadata": {},
          "execution_count": 16
        }
      ]
    },
    {
      "cell_type": "code",
      "source": [
        "palabra = \"abcd\"\n",
        "\n",
        "for j in range(len(palabra)):\n",
        "    print(palabra[j])\n",
        "    for k in range(len(palabra)):\n",
        "        print(palabra[j] + palabra[k])\n"
      ],
      "metadata": {
        "id": "YCKbMYuRss_r",
        "outputId": "60b5d9ec-3dd6-449c-fb85-cf7107626d19",
        "colab": {
          "base_uri": "https://localhost:8080/"
        }
      },
      "execution_count": 5,
      "outputs": [
        {
          "output_type": "stream",
          "name": "stdout",
          "text": [
            "a\n",
            "aa\n",
            "ab\n",
            "ac\n",
            "ad\n",
            "b\n",
            "ba\n",
            "bb\n",
            "bc\n",
            "bd\n",
            "c\n",
            "ca\n",
            "cb\n",
            "cc\n",
            "cd\n",
            "d\n",
            "da\n",
            "db\n",
            "dc\n",
            "dd\n",
            "a\n",
            "aa\n",
            "ab\n",
            "ac\n",
            "ad\n",
            "b\n",
            "ba\n",
            "bb\n",
            "bc\n",
            "bd\n",
            "c\n",
            "ca\n",
            "cb\n",
            "cc\n",
            "cd\n",
            "d\n",
            "da\n",
            "db\n",
            "dc\n",
            "dd\n",
            "a\n",
            "aa\n",
            "ab\n",
            "ac\n",
            "ad\n",
            "b\n",
            "ba\n",
            "bb\n",
            "bc\n",
            "bd\n",
            "c\n",
            "ca\n",
            "cb\n",
            "cc\n",
            "cd\n",
            "d\n",
            "da\n",
            "db\n",
            "dc\n",
            "dd\n",
            "a\n",
            "aa\n",
            "ab\n",
            "ac\n",
            "ad\n",
            "b\n",
            "ba\n",
            "bb\n",
            "bc\n",
            "bd\n",
            "c\n",
            "ca\n",
            "cb\n",
            "cc\n",
            "cd\n",
            "d\n",
            "da\n",
            "db\n",
            "dc\n",
            "dd\n"
          ]
        }
      ]
    },
    {
      "cell_type": "code",
      "source": [
        "import itertools\n",
        "it = itertools.permutations(['a','b','c','d'],2)\n",
        "li = list(it)\n",
        "print(li)\n",
        "\n",
        "print()\n",
        "\n",
        "for i in range(len(li)):\n",
        "    #print(\"Variación\", i+1,\":\", *li[i])\n",
        "    #print(f\"Variación {i+1:2d}:  {li[i]}\")\n",
        "    print(f\"Variación {i+1:2d}: \", *li[i])"
      ],
      "metadata": {
        "id": "TG9UPKHDvVaQ",
        "outputId": "9d3b4244-b050-4705-ed53-e2f9896bb43c",
        "colab": {
          "base_uri": "https://localhost:8080/"
        }
      },
      "execution_count": 8,
      "outputs": [
        {
          "output_type": "stream",
          "name": "stdout",
          "text": [
            "[('a', 'b'), ('a', 'c'), ('a', 'd'), ('b', 'a'), ('b', 'c'), ('b', 'd'), ('c', 'a'), ('c', 'b'), ('c', 'd'), ('d', 'a'), ('d', 'b'), ('d', 'c')]\n",
            "\n",
            "Variación  1:  a b\n",
            "Variación  2:  a c\n",
            "Variación  3:  a d\n",
            "Variación  4:  b a\n",
            "Variación  5:  b c\n",
            "Variación  6:  b d\n",
            "Variación  7:  c a\n",
            "Variación  8:  c b\n",
            "Variación  9:  c d\n",
            "Variación 10:  d a\n",
            "Variación 11:  d b\n",
            "Variación 12:  d c\n"
          ]
        }
      ]
    },
    {
      "cell_type": "code",
      "source": [
        "import itertools\n",
        "\n",
        "def perm(seq, n):\n",
        "    for p in itertools.product(seq, repeat=n):\n",
        "        print(p)\n",
        "\n",
        "perm(\"abc\", 2)"
      ],
      "metadata": {
        "id": "DvARYDTMxfhd",
        "outputId": "b540f516-dfc7-4d9a-e95a-672c365433c7",
        "colab": {
          "base_uri": "https://localhost:8080/"
        }
      },
      "execution_count": 2,
      "outputs": [
        {
          "output_type": "stream",
          "name": "stdout",
          "text": [
            "('a', 'a')\n",
            "('a', 'b')\n",
            "('a', 'c')\n",
            "('b', 'a')\n",
            "('b', 'b')\n",
            "('b', 'c')\n",
            "('c', 'a')\n",
            "('c', 'b')\n",
            "('c', 'c')\n"
          ]
        }
      ]
    },
    {
      "cell_type": "code",
      "source": [
        "import itertools\n",
        "\n",
        "d = {}   # diccionario. clave= \"324 | 1\"  valor= \"pb ra\"\n",
        "\n",
        "a_string = \"1432\"   #\"531642\"\n",
        "a_original = list(int(x) for x in a_string)   # pila A en forma de lista\n",
        "\n",
        "def clave(p):\n",
        "    a = a_original\n",
        "    b = []\n",
        "    for instruccion in p:\n",
        "        \n",
        "\n",
        "\n",
        "def permuta(seq, n):\n",
        "    for p in itertools.product(seq, repeat=n):\n",
        "        clave = pilas(p)\n",
        "        print(p)\n",
        "        valor = ' '.join(p)\n",
        "        #print(valor)\n",
        "\n",
        "catalogo = [\"sa\",\"sb\",\"pa\",\"pb\",\"ra\",\"rb\",\"rra\",\"rrb\",\"ss\",\"rr\",\"rrr\"]\n",
        "permuta(catalogo, 2)"
      ],
      "metadata": {
        "id": "33j2-PT5JchG",
        "outputId": "1fa404f3-a5e0-4436-e84a-f969f361ab3b",
        "colab": {
          "base_uri": "https://localhost:8080/"
        }
      },
      "execution_count": 15,
      "outputs": [
        {
          "output_type": "stream",
          "name": "stdout",
          "text": [
            "('sa', 'sa')\n",
            "('sa', 'sb')\n",
            "('sa', 'pa')\n",
            "('sa', 'pb')\n",
            "('sa', 'ra')\n",
            "('sa', 'rb')\n",
            "('sa', 'rra')\n",
            "('sa', 'rrb')\n",
            "('sa', 'ss')\n",
            "('sa', 'rr')\n",
            "('sa', 'rrr')\n",
            "('sb', 'sa')\n",
            "('sb', 'sb')\n",
            "('sb', 'pa')\n",
            "('sb', 'pb')\n",
            "('sb', 'ra')\n",
            "('sb', 'rb')\n",
            "('sb', 'rra')\n",
            "('sb', 'rrb')\n",
            "('sb', 'ss')\n",
            "('sb', 'rr')\n",
            "('sb', 'rrr')\n",
            "('pa', 'sa')\n",
            "('pa', 'sb')\n",
            "('pa', 'pa')\n",
            "('pa', 'pb')\n",
            "('pa', 'ra')\n",
            "('pa', 'rb')\n",
            "('pa', 'rra')\n",
            "('pa', 'rrb')\n",
            "('pa', 'ss')\n",
            "('pa', 'rr')\n",
            "('pa', 'rrr')\n",
            "('pb', 'sa')\n",
            "('pb', 'sb')\n",
            "('pb', 'pa')\n",
            "('pb', 'pb')\n",
            "('pb', 'ra')\n",
            "('pb', 'rb')\n",
            "('pb', 'rra')\n",
            "('pb', 'rrb')\n",
            "('pb', 'ss')\n",
            "('pb', 'rr')\n",
            "('pb', 'rrr')\n",
            "('ra', 'sa')\n",
            "('ra', 'sb')\n",
            "('ra', 'pa')\n",
            "('ra', 'pb')\n",
            "('ra', 'ra')\n",
            "('ra', 'rb')\n",
            "('ra', 'rra')\n",
            "('ra', 'rrb')\n",
            "('ra', 'ss')\n",
            "('ra', 'rr')\n",
            "('ra', 'rrr')\n",
            "('rb', 'sa')\n",
            "('rb', 'sb')\n",
            "('rb', 'pa')\n",
            "('rb', 'pb')\n",
            "('rb', 'ra')\n",
            "('rb', 'rb')\n",
            "('rb', 'rra')\n",
            "('rb', 'rrb')\n",
            "('rb', 'ss')\n",
            "('rb', 'rr')\n",
            "('rb', 'rrr')\n",
            "('rra', 'sa')\n",
            "('rra', 'sb')\n",
            "('rra', 'pa')\n",
            "('rra', 'pb')\n",
            "('rra', 'ra')\n",
            "('rra', 'rb')\n",
            "('rra', 'rra')\n",
            "('rra', 'rrb')\n",
            "('rra', 'ss')\n",
            "('rra', 'rr')\n",
            "('rra', 'rrr')\n",
            "('rrb', 'sa')\n",
            "('rrb', 'sb')\n",
            "('rrb', 'pa')\n",
            "('rrb', 'pb')\n",
            "('rrb', 'ra')\n",
            "('rrb', 'rb')\n",
            "('rrb', 'rra')\n",
            "('rrb', 'rrb')\n",
            "('rrb', 'ss')\n",
            "('rrb', 'rr')\n",
            "('rrb', 'rrr')\n",
            "('ss', 'sa')\n",
            "('ss', 'sb')\n",
            "('ss', 'pa')\n",
            "('ss', 'pb')\n",
            "('ss', 'ra')\n",
            "('ss', 'rb')\n",
            "('ss', 'rra')\n",
            "('ss', 'rrb')\n",
            "('ss', 'ss')\n",
            "('ss', 'rr')\n",
            "('ss', 'rrr')\n",
            "('rr', 'sa')\n",
            "('rr', 'sb')\n",
            "('rr', 'pa')\n",
            "('rr', 'pb')\n",
            "('rr', 'ra')\n",
            "('rr', 'rb')\n",
            "('rr', 'rra')\n",
            "('rr', 'rrb')\n",
            "('rr', 'ss')\n",
            "('rr', 'rr')\n",
            "('rr', 'rrr')\n",
            "('rrr', 'sa')\n",
            "('rrr', 'sb')\n",
            "('rrr', 'pa')\n",
            "('rrr', 'pb')\n",
            "('rrr', 'ra')\n",
            "('rrr', 'rb')\n",
            "('rrr', 'rra')\n",
            "('rrr', 'rrb')\n",
            "('rrr', 'ss')\n",
            "('rrr', 'rr')\n",
            "('rrr', 'rrr')\n"
          ]
        }
      ]
    }
  ]
}