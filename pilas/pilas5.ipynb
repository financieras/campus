{
  "nbformat": 4,
  "nbformat_minor": 0,
  "metadata": {
    "colab": {
      "provenance": [],
      "authorship_tag": "ABX9TyOuqUnEX9Ij7MxseXbdIKJM",
      "include_colab_link": true
    },
    "kernelspec": {
      "name": "python3",
      "display_name": "Python 3"
    },
    "language_info": {
      "name": "python"
    }
  },
  "cells": [
    {
      "cell_type": "markdown",
      "metadata": {
        "id": "view-in-github",
        "colab_type": "text"
      },
      "source": [
        "<a href=\"https://colab.research.google.com/github/financieras/campus/blob/main/pilas/pilas5.ipynb\" target=\"_parent\"><img src=\"https://colab.research.google.com/assets/colab-badge.svg\" alt=\"Open In Colab\"/></a>"
      ]
    },
    {
      "cell_type": "markdown",
      "source": [
        "# Ordenar pilas: procedimiento mejorado"
      ],
      "metadata": {
        "id": "VGUGLaUVkv-3"
      }
    },
    {
      "cell_type": "code",
      "execution_count": 3,
      "metadata": {
        "colab": {
          "base_uri": "https://localhost:8080/"
        },
        "id": "wbgz82X8ktxS",
        "outputId": "c3efb535-78b9-41ea-a0e8-84b298b9dabf"
      },
      "outputs": [
        {
          "output_type": "stream",
          "name": "stdout",
          "text": [
            "contador: 2801\n",
            "[62, 13, 19, 82, 25, 10, 81, 67, 74, 87, 40, 5, 98, 51, 8, 2, 4, 37, 32, 73, 90, 94, 45, 65, 21, 52, 76, 53, 58, 33, 42, 44, 99, 30, 28, 91, 11, 61, 69, 20, 95, 50, 14, 22, 9, 66, 77, 3, 59, 35, 75, 39, 70, 85, 29, 49, 83, 47, 92, 12, 84, 48, 96, 16, 34, 31, 57, 18, 27, 55, 43, 24, 97, 79, 78, 38, 71, 7, 100, 68, 88, 54, 89, 93, 72, 86, 15, 64, 36, 80, 6, 56, 26, 23, 63, 1, 60, 46, 17, 41] []\n",
            "contador: 1515\n"
          ]
        }
      ],
      "source": [
        "from random import sample, seed\n",
        "seed()\n",
        "\n",
        "def lista_ordenada(lis):\n",
        "    estaordenada = False\n",
        "    aux = lis[:]\n",
        "    aux.sort()\n",
        "    if aux == lis:\n",
        "        estaordenada = True\n",
        "    return estaordenada\n",
        "\n",
        "def sa(a,b):\n",
        "    if len(a) > 1: a[0],a[1] = a[1],a[0]\n",
        "    return a,b\n",
        "def sb(a,b):\n",
        "    if len(b) > 1: b[0],b[1] = b[1],b[0]\n",
        "    return a,b\n",
        "def ss(a,b):\n",
        "    sa(a,b)\n",
        "    sb(a,b)\n",
        "    return a,b\n",
        "def pa(a,b):\n",
        "    if len(b) > 0:\n",
        "        a.insert(0, b[0])\n",
        "        b.pop(0)\n",
        "    return a,b\n",
        "def pb(a,b):\n",
        "    if len(a) > 0:\n",
        "        b.insert(0, a[0])\n",
        "        a.pop(0)\n",
        "    return a,b\n",
        "def ra(a,b):\n",
        "    if len(a) > 1: a.append(a.pop(0))\n",
        "    return a,b\n",
        "def rb(a,b):\n",
        "    if len(b) > 1: b.append(b.pop(0))\n",
        "    return a,b\n",
        "def rr(a,b):\n",
        "    ra(a,b)\n",
        "    rb(a,b)\n",
        "    return a,b\n",
        "def rra(a,b):\n",
        "    if len(a) > 1: a.insert(0, a.pop())\n",
        "    return a,b\n",
        "def rrb(a,b):\n",
        "    if len(b) > 1: b.insert(0, b.pop())\n",
        "    return a,b\n",
        "def rrr(a,b):\n",
        "    rra(a,b)\n",
        "    rrb(a,b)\n",
        "    return a,b\n",
        "\n",
        "if __name__ == \"__main__\":\n",
        "    # Generación de la pila a\n",
        "    n = 100   # número de elementos de la pila\n",
        "    a = sample(range(1, n+1), n)\n",
        "    #a = [17, 5, 13, 20, 6, 12, 4, 3, 7, 18, 1, 14, 8, 10, 16, 2, 11, 15, 19, 9]   # valores de ejemplo\n",
        "    ### PROCEDIMIENTO NORMAL\n",
        "    a_original = a[:]\n",
        "    b = []\n",
        "    ##print('a:', a)\n",
        "    contador = 0\n",
        "    while len(a) > 1:   # se repite hasta que solo quede un elemento en la pila a\n",
        "        # buscamos el mínimo y vamos haciendo ra hasta que el mínimo esté el primero\n",
        "        while min(a) != a[0]:\n",
        "            ra(a,b); contador += 1\n",
        "        pb(a,b); contador += 1 # luego hacemos pb\n",
        "    # luego se hace pa pa pa pa hasta que no quede nadie en la pila b\n",
        "    while len(b) > 0:\n",
        "        pa(a,b); contador += 1\n",
        "    \n",
        "    #print('a:', a)\n",
        "    #print('b:', b)\n",
        "    print(\"contador:\", contador)\n",
        "\n",
        "    ### PROCEDIMIENTO MEJORADO\n",
        "    contador = 0\n",
        "    a = a_original[:]\n",
        "    print(a,b)\n",
        "    while len(a) > 1 and not lista_ordenada(a):   # se repite hasta que solo quede un elemento en la pila a\n",
        "        # buscamos el mínimo y vamos haciendo ra o rra hasta que el mínimo esté el primero\n",
        "        while min(a) != a[0]:\n",
        "            #print(\"min(a)=\", min(a))\n",
        "            if a.index(min(a)) <= int(len(a)/2):\n",
        "                #print(min(a))\n",
        "                #print(\"index del min y mitad:\", a.index(min(a)), int(len(a)/2))\n",
        "                ra(a,b)\n",
        "            else:\n",
        "                rra(a,b)\n",
        "            contador += 1\n",
        "            ##print(a,b)\n",
        "        if not lista_ordenada(a):\n",
        "            pb(a,b); contador += 1; ##print(a,b) # luego hacemos pb\n",
        "    # luego se hace pa pa pa pa hasta que no quede nadie en la pila b\n",
        "    while len(b) > 0:\n",
        "        pa(a,b); contador += 1; ##print(a,b)\n",
        "    print(\"contador:\", contador)\n"
      ]
    }
  ]
}