{
  "nbformat": 4,
  "nbformat_minor": 0,
  "metadata": {
    "colab": {
      "provenance": [],
      "authorship_tag": "ABX9TyOjgveR+IvOzQ1kb5n6vJ3L",
      "include_colab_link": true
    },
    "kernelspec": {
      "name": "python3",
      "display_name": "Python 3"
    },
    "language_info": {
      "name": "python"
    }
  },
  "cells": [
    {
      "cell_type": "markdown",
      "metadata": {
        "id": "view-in-github",
        "colab_type": "text"
      },
      "source": [
        "<a href=\"https://colab.research.google.com/github/financieras/test/blob/main/pilas5.ipynb\" target=\"_parent\"><img src=\"https://colab.research.google.com/assets/colab-badge.svg\" alt=\"Open In Colab\"/></a>"
      ]
    },
    {
      "cell_type": "markdown",
      "source": [
        "# Ordenar pilas: procedimiento mejorado"
      ],
      "metadata": {
        "id": "VGUGLaUVkv-3"
      }
    },
    {
      "cell_type": "code",
      "execution_count": 4,
      "metadata": {
        "colab": {
          "base_uri": "https://localhost:8080/"
        },
        "id": "wbgz82X8ktxS",
        "outputId": "cc962cbc-3e9d-4bd4-a377-2675d00e97a8"
      },
      "outputs": [
        {
          "output_type": "stream",
          "name": "stdout",
          "text": [
            "contador: 9\n",
            "[4, 1, 3, 2]\n",
            "[1, 3, 2, 4] []\n",
            "[3, 2, 4] [1]\n",
            "[2, 4, 3] [1]\n",
            "[4, 3] [2, 1]\n",
            "[3, 4] [2, 1]\n",
            "[2, 3, 4] [1]\n",
            "[1, 2, 3, 4] []\n",
            "contador: 7\n"
          ]
        }
      ],
      "source": [
        "from random import sample, seed\n",
        "seed()\n",
        "\n",
        "def lista_ordenada(l):\n",
        "    estaordenada = False\n",
        "    aux = l[:]\n",
        "    aux.sort()\n",
        "    if (aux == l):\n",
        "        estaordenada = True\n",
        "    return estaordenada\n",
        "\n",
        "def sa(a,b):\n",
        "    if len(a) > 1: a[0],a[1] = a[1],a[0]\n",
        "    return a,b\n",
        "def sb(a,b):\n",
        "    if len(b) > 1: b[0],b[1] = b[1],b[0]\n",
        "    return a,b\n",
        "def ss(a,b):\n",
        "    sa(a,b)\n",
        "    sb(a,b)\n",
        "    return a,b\n",
        "def pa(a,b):\n",
        "    if len(b) > 0:\n",
        "        a.insert(0, b[0])\n",
        "        b.pop(0)\n",
        "    return a,b\n",
        "def pb(a,b):\n",
        "    if len(a) > 0:\n",
        "        b.insert(0, a[0])\n",
        "        a.pop(0)\n",
        "    return a,b\n",
        "def ra(a,b):\n",
        "    if len(a) > 1: a.append(a.pop(0))\n",
        "    return a,b\n",
        "def rb(a,b):\n",
        "    if len(b) > 1: b.append(b.pop(0))\n",
        "    return a,b\n",
        "def rr(a,b):\n",
        "    ra(a,b)\n",
        "    rb(a,b)\n",
        "    return a,b\n",
        "def rra(a,b):\n",
        "    if len(a) > 1: a.insert(0, a.pop())\n",
        "    return a,b\n",
        "def rrb(a,b):\n",
        "    if len(b) > 1: b.insert(0, b.pop())\n",
        "    return a,b\n",
        "def rrr(a,b):\n",
        "    rra(a,b)\n",
        "    rrb(a,b)\n",
        "    return a,b\n",
        "\n",
        "if __name__ == \"__main__\":\n",
        "    # Generación de la pila a\n",
        "    n = 4   # número de elementos de la pila\n",
        "    a = sample(range(1, n+1), n)\n",
        "    #a = [17, 5, 13, 20, 6, 12, 4, 3, 7, 18, 1, 14, 8, 10, 16, 2, 11, 15, 19, 9]   # valores de ejemplo\n",
        "    a_original = a[:]\n",
        "    b = []\n",
        "    #print('a:', a)\n",
        "    #print('b:', b)\n",
        "    contador = 0\n",
        "    while len(a)>1:   # se repite hasta que solo quede un elemento en la pila a\n",
        "        # buscamos el mínimo y vamos haciendo ra hasta que el mínimo esté el primero\n",
        "        while min(a) != a[0]:\n",
        "            ra(a,b); contador += 1\n",
        "        pb(a,b); contador += 1 # luego hacemos pb\n",
        "    # luego se hace pa pa pa pa hasta que no quede nadie en la pila b\n",
        "    while len(b)>0:\n",
        "        pa(a,b); contador += 1\n",
        "    \n",
        "    #print('a:', a)\n",
        "    #print('b:', b)\n",
        "    print(\"contador:\", contador)\n",
        "\n",
        "    ### PROCEDIMIENTO MEJORADO\n",
        "    contador = 0\n",
        "    a = a_original[:]\n",
        "    print(a)\n",
        "    while len(a) > 1 and not lista_ordenada(a):   # se repite hasta que solo quede un elemento en la pila a\n",
        "        # buscamos el mínimo y vamos haciendo ra o rra hasta que el mínimo esté el primero\n",
        "        while min(a) != a[0]:\n",
        "            #print(\"min(a)=\", min(a))\n",
        "            if a.index(min(a)) <= int(len(a)/2):\n",
        "                #print(min(a))\n",
        "                #print(\"index del min y mitad:\", a.index(min(a)), int(len(a)/2))\n",
        "                ra(a,b)\n",
        "            else:\n",
        "                rra(a,b)\n",
        "            contador += 1\n",
        "            print(a,b)\n",
        "        if not lista_ordenada(a):\n",
        "            pb(a,b); contador += 1; print(a,b) # luego hacemos pb\n",
        "    # luego se hace pa pa pa pa hasta que no quede nadie en la pila b\n",
        "    while len(b) > 0:\n",
        "        pa(a,b); contador += 1; print(a,b)\n",
        "    print(\"contador:\", contador)\n"
      ]
    }
  ]
}