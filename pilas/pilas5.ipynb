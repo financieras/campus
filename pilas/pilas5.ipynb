{
  "nbformat": 4,
  "nbformat_minor": 0,
  "metadata": {
    "colab": {
      "provenance": [],
      "authorship_tag": "ABX9TyMgdYSOWh43a8A4PnyngEc8",
      "include_colab_link": true
    },
    "kernelspec": {
      "name": "python3",
      "display_name": "Python 3"
    },
    "language_info": {
      "name": "python"
    }
  },
  "cells": [
    {
      "cell_type": "markdown",
      "metadata": {
        "id": "view-in-github",
        "colab_type": "text"
      },
      "source": [
        "<a href=\"https://colab.research.google.com/github/financieras/campus/blob/main/pilas/pilas5.ipynb\" target=\"_parent\"><img src=\"https://colab.research.google.com/assets/colab-badge.svg\" alt=\"Open In Colab\"/></a>"
      ]
    },
    {
      "cell_type": "markdown",
      "source": [
        "# Ordenar pilas: procedimiento mejorado"
      ],
      "metadata": {
        "id": "VGUGLaUVkv-3"
      }
    },
    {
      "cell_type": "code",
      "execution_count": 3,
      "metadata": {
        "colab": {
          "base_uri": "https://localhost:8080/"
        },
        "id": "wbgz82X8ktxS",
        "outputId": "f58ec327-4b7a-4aed-9c2e-b0124039a6cf"
      },
      "outputs": [
        {
          "output_type": "stream",
          "name": "stdout",
          "text": [
            "contador: 2559\n",
            "[82, 14, 53, 81, 34, 40, 25, 52, 22, 91, 93, 80, 79, 5, 8, 17, 99, 96, 16, 65, 72, 18, 94, 66, 43, 44, 2, 3, 97, 86, 6, 32, 77, 35, 68, 61, 45, 63, 24, 83, 37, 48, 28, 95, 39, 60, 64, 85, 56, 12, 89, 92, 26, 70, 78, 55, 19, 98, 29, 88, 1, 69, 47, 71, 4, 10, 30, 59, 11, 15, 31, 75, 33, 7, 90, 27, 62, 36, 42, 58, 13, 41, 50, 23, 20, 38, 49, 76, 73, 57, 84, 100, 54, 21, 51, 87, 9, 46, 67, 74] []\n",
            "contador: 1492\n"
          ]
        }
      ],
      "source": [
        "from random import sample, seed\n",
        "seed()\n",
        "\n",
        "def lista_ordenada(lis):\n",
        "    estaordenada = False\n",
        "    aux = lis[:]\n",
        "    aux.sort()\n",
        "    if aux == lis:\n",
        "        estaordenada = True\n",
        "    return estaordenada\n",
        "\n",
        "def sa(a,b):\n",
        "    if len(a) > 1: a[0],a[1] = a[1],a[0]\n",
        "    return a,b\n",
        "def sb(a,b):\n",
        "    if len(b) > 1: b[0],b[1] = b[1],b[0]\n",
        "    return a,b\n",
        "def ss(a,b):\n",
        "    sa(a,b)\n",
        "    sb(a,b)\n",
        "    return a,b\n",
        "def pa(a,b):\n",
        "    if len(b) > 0:\n",
        "        a.insert(0, b[0])\n",
        "        b.pop(0)\n",
        "    return a,b\n",
        "def pb(a,b):\n",
        "    if len(a) > 0:\n",
        "        b.insert(0, a[0])\n",
        "        a.pop(0)\n",
        "    return a,b\n",
        "def ra(a,b):\n",
        "    if len(a) > 1: a.append(a.pop(0))\n",
        "    return a,b\n",
        "def rb(a,b):\n",
        "    if len(b) > 1: b.append(b.pop(0))\n",
        "    return a,b\n",
        "def rr(a,b):\n",
        "    ra(a,b)\n",
        "    rb(a,b)\n",
        "    return a,b\n",
        "def rra(a,b):\n",
        "    if len(a) > 1: a.insert(0, a.pop())\n",
        "    return a,b\n",
        "def rrb(a,b):\n",
        "    if len(b) > 1: b.insert(0, b.pop())\n",
        "    return a,b\n",
        "def rrr(a,b):\n",
        "    rra(a,b)\n",
        "    rrb(a,b)\n",
        "    return a,b\n",
        "\n",
        "if __name__ == \"__main__\":\n",
        "    # Generación de la pila a\n",
        "    n = 100   # número de elementos de la pila\n",
        "    #a = sample(range(1, n+1), n)\n",
        "    a = [82, 14, 53, 81, 34, 40, 25, 52, 22, 91, 93, 80, 79, 5, 8, 17, 99, 96, 16, 65, 72, 18, 94, 66, 43, 44, 2, 3, 97, 86, 6, 32, 77, 35, 68, 61, 45, 63, 24, 83, 37, 48, 28, 95, 39, 60, 64, 85, 56, 12, 89, 92, 26, 70, 78, 55, 19, 98, 29, 88, 1, 69, 47, 71, 4, 10, 30, 59, 11, 15, 31, 75, 33, 7, 90, 27, 62, 36, 42, 58, 13, 41, 50, 23, 20, 38, 49, 76, 73, 57, 84, 100, 54, 21, 51, 87, 9, 46, 67, 74]\n",
        "    ### PROCEDIMIENTO NORMAL\n",
        "    a_original = a[:]\n",
        "    n = len(a)\n",
        "    b = []\n",
        "    ##print('a:', a)\n",
        "    contador = 0\n",
        "    while len(a) > 1:   # se repite hasta que solo quede un elemento en la pila a\n",
        "        # buscamos el mínimo y vamos haciendo ra hasta que el mínimo esté el primero\n",
        "        while min(a) != a[0]:\n",
        "            ra(a,b); contador += 1\n",
        "        pb(a,b); contador += 1 # luego hacemos pb\n",
        "    # luego se hace pa pa pa pa hasta que no quede nadie en la pila b\n",
        "    while len(b) > 0:\n",
        "        pa(a,b); contador += 1\n",
        "    \n",
        "    #print('a:', a)\n",
        "    #print('b:', b)\n",
        "    print(\"contador:\", contador)\n",
        "\n",
        "    ### PROCEDIMIENTO MEJORADO\n",
        "    contador = 0\n",
        "    a = a_original[:]\n",
        "    print(a,b)\n",
        "    while not lista_ordenada(a):   # se repite hasta que A quede ordenada. Si solo queda un elemento en A es que está ordenada\n",
        "        # buscamos el mínimo y vamos haciendo ra o rra hasta que el mínimo esté el primero\n",
        "        while min(a) != a[0]:\n",
        "            #print(\"min(a)=\", min(a))\n",
        "            if a.index(min(a)) <= int(len(a)/2):\n",
        "                #print(min(a))\n",
        "                #print(\"index del min y mitad:\", a.index(min(a)), int(len(a)/2))\n",
        "                ra(a,b)\n",
        "            else:\n",
        "                rra(a,b)\n",
        "            contador += 1\n",
        "            ##print(a,b)\n",
        "        if not lista_ordenada(a):\n",
        "            pb(a,b); contador += 1; ##print(a,b) # luego hacemos pb\n",
        "    # luego se hace pa pa pa pa hasta que no quede nadie en la pila b\n",
        "    while len(b) > 0:\n",
        "        pa(a,b); contador += 1; ##print(a,b)\n",
        "    print(\"contador:\", contador)\n"
      ]
    }
  ]
}