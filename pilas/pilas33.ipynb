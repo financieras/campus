{
  "nbformat": 4,
  "nbformat_minor": 0,
  "metadata": {
    "colab": {
      "provenance": [],
      "authorship_tag": "ABX9TyNnd+RVD0dQJ58kVNBjzQaX",
      "include_colab_link": true
    },
    "kernelspec": {
      "name": "python3",
      "display_name": "Python 3"
    },
    "language_info": {
      "name": "python"
    }
  },
  "cells": [
    {
      "cell_type": "markdown",
      "metadata": {
        "id": "view-in-github",
        "colab_type": "text"
      },
      "source": [
        "<a href=\"https://colab.research.google.com/github/financieras/campus/blob/main/pilas/pilas33.ipynb\" target=\"_parent\"><img src=\"https://colab.research.google.com/assets/colab-badge.svg\" alt=\"Open In Colab\"/></a>"
      ]
    },
    {
      "cell_type": "markdown",
      "source": [
        "# Deep Moder Times con dos niveles de coste\n",
        "* Calculamos pasosA, pasosB y total para el primer nivel y también para el segundo nivel.\n",
        "* El segundo nivel se alcanza haciendo el supuesto de que se hubiera tomado la decisión de bajar (de A a B) uno de los números, que proporciona un cierto coste y luego, en el siguiente número a bajar también se calcula su coste.\n",
        "* Finalmente se baja el que menor coste tenga sumando el total de los dos niveles.\n",
        "* El cálculo del segundo nivel no es necesario hacerlo, salvo que en el primer nivel el de coste más bajo tenga un valor mayor o igual a 10\n",
        " - en ese caso, se analizarían todos los de mayor coste y el siguiente\n",
        " - por ejemplo, los costes del nivel 1 son: 14 20 14 15 15 18 32\n",
        " - podríamos analizar un segundo nivel de los dos de 14 y los dos de 15\n",
        "\n",
        "  \n",
        "* Únicamente se inicia el algoritmo pasando los dos primeros elementos de la pila A a la pila B: ```a[0],a[1]```"
      ],
      "metadata": {
        "id": "v3orFRqdIE-h"
      }
    },
    {
      "cell_type": "code",
      "execution_count": 48,
      "metadata": {
        "id": "7vqmBYUatK3m"
      },
      "outputs": [],
      "source": [
        "# FUNCIONES\n",
        "def sa(a, b, result):   # result es un array que va acumulando los pasos dados. Ejemplo: result = ['pb','ra','sa','rra']\n",
        "    if len(a) > 1: a[0],a[1] = a[1],a[0]; result.append('sa')\n",
        "    return a, b, result\n",
        "def sb(a, b, result):\n",
        "    if len(b) > 1: b[0],b[1] = b[1],b[0]; result.append('sb')\n",
        "    return a, b, result\n",
        "def ss(a, b, result):   # ss no llama a sa y sb ya que en result quedarían anotadas las tres funciones: ss, sa y sb\n",
        "    if len(a) > 1 or len(b) > 1:\n",
        "        result.append('ss')\n",
        "        if len(a) > 1: a[0],a[1] = a[1],a[0]\n",
        "        if len(b) > 1: b[0],b[1] = b[1],b[0]\n",
        "    return a, b, result\n",
        "def pa(a, b, result):\n",
        "    if len(b) > 0:\n",
        "        a.insert(0, b[0])\n",
        "        b.pop(0); result.append('pa')\n",
        "    return a, b, result\n",
        "def pb(a, b, result):\n",
        "    if len(a) > 0:\n",
        "        b.insert(0, a[0])\n",
        "        a.pop(0); result.append('pb')\n",
        "    return a, b, result\n",
        "def ra(a, b, result):\n",
        "    if len(a) > 1: a.append(a.pop(0)); result.append('ra')\n",
        "    return a, b, result\n",
        "def rb(a, b, result):\n",
        "    if len(b) > 1: b.append(b.pop(0)); result.append('rb')\n",
        "    return a, b, result\n",
        "def rr(a, b, result):\n",
        "    if len(a) > 1 or len(b) > 1:\n",
        "        result.append('rr')\n",
        "    if len(a) > 1: a.append(a.pop(0))\n",
        "    if len(b) > 1: b.append(b.pop(0))\n",
        "    return a, b, result\n",
        "def rra(a, b, result):\n",
        "    if len(a) > 1: a.insert(0, a.pop()); result.append('rra')\n",
        "    return a, b, result\n",
        "def rrb(a, b, result):\n",
        "    if len(b) > 1: b.insert(0, b.pop()); result.append('rrb')\n",
        "    return a, b, result\n",
        "def rrr(a, b, result):\n",
        "    if len(a) > 1 or len(b) > 1:\n",
        "        result.append('rrr')\n",
        "    if len(a) > 1: a.insert(0, a.pop())\n",
        "    if len(b) > 1: b.insert(0, b.pop())\n",
        "    return a, b, result"
      ]
    },
    {
      "cell_type": "code",
      "source": [
        "# PASOS NECESARIOS PARA COLOCAR CADA ELEMENTO DE A EN SU SITIO EN B      total = pasosA + pasosB (esta suma es solo una idea, se ha de sumar de una forma peculiar)\n",
        "\n",
        "def necesariosA(a, b):   # array pasosA calcula los pasos necesarios para colocar cada elemento de A como el primero de su pila\n",
        "    for v in a:\n",
        "        if a.index(v) < len(a)/2:\n",
        "            pasosA.append(a.index(v))\n",
        "        else:\n",
        "            pasosA.append(-(len(a)- a.index(v)))\n",
        "\n",
        "def necesariosB(a, b):   # array pasosB calcula los pasos de B necesarios para colocar cada elemento de A dentro de su sitio en B\n",
        "    for i in range(len(a)):    # objetivo_primero es el número que se ha de poner en la primera posición de la pila B\n",
        "        if a[i] < min(b):      # si el elemento de A considerado es menor que el mayor de B entonces\n",
        "            objetivo_primero = max(b)   # el objetivo_primero será el mayor de B\n",
        "        else:   # objetivo_primero en este caso será el maximo de los inferiores en B al valor iésimo de A\n",
        "            objetivo_primero = min(b)   #se inicializa en el valor mínimo de la pila B\n",
        "            for j in range(len(b)):\n",
        "                if b[j] < a[i] and b[j] > objetivo_primero:\n",
        "                        objetivo_primero = b[j]\n",
        "        # el objetivo_primero se ha de situar el primero de la pila B            \n",
        "        if b.index(objetivo_primero) < len(b)/2:\n",
        "            pasosB.append(b.index(objetivo_primero))\n",
        "        else:\n",
        "            pasosB.append(-(len(b)- b.index(objetivo_primero)))\n",
        "\n",
        "def totaliza(a, b):   # totalizar pasos\n",
        "    global total\n",
        "    for i in range(len(pasosA)):\n",
        "        if pasosA[i] * pasosB[i] < 0:   # si son de distinto signo, uno positivo y otro negativo\n",
        "            total.append(abs(pasosA[i]) + abs(pasosB[i]))   # no hay sinergia\n",
        "        else:   # si son de igual signo o alguno cero\n",
        "            total.append(max(abs(pasosA[i]), abs(pasosB[i])))  # si son de igual signo hay sinergia\n",
        "'''\n",
        "def calculaIndexPasosMinimos():\n",
        "    global pasosA, pasosB, total\n",
        "    pasosA = []   # [0,1,2, ...,41,-41,... , -2,-1]  vector donde cada index está asociado con el valor del mismo index en A\n",
        "    pasosB = []   # [-3,2,-5, ..., -5,0]   estos dos arrays se han de recalcular cada vez que realmente se mueva algún elemento de A a B\n",
        "    total = []\n",
        "    necesariosA(a, b)\n",
        "    necesariosB(a, b)\n",
        "    totaliza(a, b)\n",
        "    return total.index(min(total))   # retorna el índice del elemento de la pila A que menos pasos totales necesita\n",
        "'''"
      ],
      "metadata": {
        "id": "Vy8JRVgnNutZ"
      },
      "execution_count": null,
      "outputs": []
    },
    {
      "cell_type": "code",
      "source": [
        "def calculaIndexPasosMinimos():\n",
        "    # Nivel 1\n",
        "    global pasosA, pasosB, total\n",
        "    pasosA = []   # [0,1,2, ...,41,-41,... , -2,-1]  vector donde cada index está asociado con el valor del mismo index en A\n",
        "    pasosB = []   # [-3,2,-5, ..., -5,0]   estos dos arrays se han de recalcular cada vez que realmente se mueva algún elemento de A a B\n",
        "    total = []\n",
        "    necesariosA(a, b)\n",
        "    necesariosB(a, b)\n",
        "    totaliza(a, b)\n",
        "    all_min = [i for i, x in enumerate(total) if x == min(total)]   # da un array con todos los index del valor mínimo\n",
        "    #min1 = all_min[-1]   #min(total)   # mínimo número de pasos totales del Nivel 1\n",
        "    #if min1 >= 0:\n",
        "        #print(\"pasosA\", pasosA)\n",
        "        #print(\"pasosB\", pasosB)\n",
        "        #print(min1, total)\n",
        "    return all_min[-1]   #total.index(min1)   # retorna el índice del elemento de la pila A que menos pasos totales necesita"
      ],
      "metadata": {
        "id": "wQUncmNxzGbW"
      },
      "execution_count": 50,
      "outputs": []
    },
    {
      "cell_type": "code",
      "source": [
        "def giraA(a, b, indice, steps, result):\n",
        "    for i in range(abs(steps)):\n",
        "        if steps > 0:\n",
        "            ra(a, b, result)\n",
        "        elif steps < 0:\n",
        "            rra(a, b, result)\n",
        "\n",
        "def giraB(a, b, indice, steps, result):\n",
        "    for i in range(abs(steps)):\n",
        "        if steps > 0:\n",
        "            rb(a, b, result)\n",
        "        elif steps < 0:\n",
        "            rrb(a, b, result)\n",
        "\n",
        "# girando pilas A y B\n",
        "def giraPilas(a, b, indice, result):   # indice es el index del valor en la pila A que deseamos poner el primero\n",
        "    if pasosA[indice] * pasosB[indice] > 0:   # Existe sinergia, nos podemos ahorrar pasos\n",
        "        pasos_comunes = min(abs(pasosA[indice]), abs(pasosB[indice]))\n",
        "        for i in range(pasos_comunes):\n",
        "            if pasosA[indice] > 0:   # si el signo de ambos es positivo, ya que ambos tienen el mismo signo\n",
        "                rr(a, b, result)\n",
        "            elif pasosA[indice] < 0: # si el signo de ambos es negativo\n",
        "                rrr(a, b, result)\n",
        "        exceso_pasosA = abs(pasosA[indice]) - pasos_comunes\n",
        "        exceso_pasosB = abs(pasosB[indice]) - pasos_comunes\n",
        "        giraA(a, b, indice, ((pasosA[indice] > 0) - (pasosA[indice] < 0)) * exceso_pasosA, result)    # (a > 0) - (a < 0) da el signo de a\n",
        "        giraB(a, b, indice, ((pasosB[indice] > 0) - (pasosB[indice] < 0)) * exceso_pasosB, result)   # Python no tiene función sign\n",
        "    else:   # No existe sinergia\n",
        "        giraA(a ,b, indice, pasosA[indice], result)   # gira A\n",
        "        giraB(a, b, indice, pasosB[indice], result)   # gira B"
      ],
      "metadata": {
        "id": "jp2JPuQKQ6IL"
      },
      "execution_count": 51,
      "outputs": []
    },
    {
      "cell_type": "code",
      "source": [
        "def situarMax_en_B(a, b, result):   # situa el valor máximo de B en la primera posición de B\n",
        "    indice = b.index(max(b))\n",
        "    if indice < len(a)/2:\n",
        "        steps = indice\n",
        "    else:\n",
        "        steps = -(len(b)- indice)\n",
        "    giraB(a, b, indice, steps, result)\n",
        "\n",
        "def crecientesA(a, b, result):   # situa los tres valores de A en forma creciente estricta: Ejemplo: 17, 45, 82\n",
        "    if a[0] < a[1] > a[2] and a[0] < a[2]:        # caso: 1 3 2\n",
        "        ra(a, b, result)\n",
        "        sa(a, b, result)\n",
        "        rra(a, b, result)\n",
        "    elif a[0] > a[1] < a[2] and a[0] < a[2]:        # caso: 2 1 3\n",
        "        sa(a, b, result)\n",
        "    elif a[0] < a[1] > a[2] and a[0] > a[2]:        # caso: 2 3 1\n",
        "        rra(a, b, result)\n",
        "    elif a[0] > a[1] < a[2] and a[0] > a[2]:        # caso: 3 1 2\n",
        "        ra(a, b, result)\n",
        "    elif a[0] > a[1] > a[2]:                        # caso: 3 2 1\n",
        "        sa(a, b, result)\n",
        "        rra(a, b, result)\n",
        "    return                                          # caso: 1 2 3 en este caso no se hace nada pq ya están ordenados"
      ],
      "metadata": {
        "id": "3xu35ZrfTm_4"
      },
      "execution_count": 52,
      "outputs": []
    },
    {
      "cell_type": "code",
      "source": [
        "# Después de ordenar los tres elementos de A en orden creciente estricto con la función crecientesA\n",
        "\n",
        "def cremallera(a, b, result):   # función que va pasando los números de B a A en forma de cremallera, intercalándolos con los que ya hay en A\n",
        "    aux = [a[-3], a[-2], a[-1]] # creamos un array aux con los tres últimos valores de A\n",
        "    while len(aux) > 0:         # Mientras aux tenga elementos\n",
        "        maximo = max(b + aux)   # calcula el maximo entre b y aux\n",
        "        if maximo in b:         # si el maximo está en B hacer pa\n",
        "            pa(a, b, result)\n",
        "        if maximo in aux:       # si el máximo está en aux hacer rra y aux.pop\n",
        "            rra(a, b, result)\n",
        "            aux.pop()\n",
        "    while len(b) > 0:           # ahora aux está vacío y solo queda hacer pa todo el rato\n",
        "        pa(a, b, result)"
      ],
      "metadata": {
        "id": "dLMI_rruYP0f"
      },
      "execution_count": 53,
      "outputs": []
    },
    {
      "cell_type": "code",
      "source": [
        "if __name__ == \"__main__\":\n",
        "    from random import seed, shuffle\n",
        "    seed()\n",
        "    n = 500                             # número de elementos de la pila\n",
        "    a = list(range(1, n+1)); shuffle(a) # generación aleatoria de la pila A\n",
        "    a = [403, 185, 148, 467, 213, 260, 497, 198, 215, 478, 332, 188, 477, 122, 307, 284, 243, 133, 210, 63, 236, 1, 286, 80, 79, 290, 4, 373, 29, 326, 154, 149, 134, 47, 410, 192, 486, 333, 341, 64, 494, 411, 294, 350, 381, 451, 105, 226, 305, 83, 176, 293, 264, 455, 404, 461, 292, 287, 201, 248, 318, 76, 48, 285, 349, 480, 496, 70, 255, 73, 491, 412, 357, 13, 336, 152, 394, 363, 484, 311, 306, 88, 46, 11, 327, 263, 177, 240, 151, 34, 367, 162, 202, 14, 130, 457, 89, 140, 303, 474, 17, 387, 170, 230, 238, 124, 492, 23, 15, 112, 55, 456, 41, 430, 182, 200, 12, 157, 272, 490, 57, 108, 228, 100, 121, 24, 324, 131, 391, 344, 67, 110, 42, 5, 301, 313, 446, 295, 126, 2, 266, 483, 417, 85, 335, 399, 30, 288, 214, 168, 99, 96, 414, 253, 278, 141, 366, 321, 346, 343, 86, 65, 153, 328, 347, 234, 137, 72, 50, 211, 308, 468, 138, 187, 207, 406, 374, 244, 377, 107, 413, 454, 227, 442, 111, 10, 135, 407, 420, 25, 195, 180, 289, 18, 174, 171, 393, 265, 245, 159, 340, 81, 235, 448, 173, 239, 21, 376, 416, 460, 423, 184, 178, 354, 206, 476, 358, 267, 431, 466, 383, 94, 304, 225, 425, 452, 370, 405, 445, 380, 252, 433, 269, 339, 386, 66, 459, 183, 487, 385, 49, 246, 20, 172, 369, 249, 75, 164, 322, 93, 158, 160, 302, 256, 118, 444, 331, 91, 128, 143, 348, 60, 16, 38, 258, 359, 166, 362, 262, 314, 495, 78, 283, 196, 428, 251, 102, 427, 229, 45, 378, 139, 58, 106, 129, 92, 127, 175, 9, 488, 232, 61, 470, 219, 310, 39, 3, 297, 395, 271, 439, 365, 422, 485, 443, 223, 95, 274, 101, 31, 400, 179, 415, 209, 27, 84, 82, 401, 315, 479, 489, 398, 247, 500, 197, 355, 69, 205, 163, 220, 298, 250, 281, 345, 216, 408, 421, 212, 43, 447, 259, 193, 337, 435, 317, 382, 53, 117, 33, 296, 40, 465, 279, 37, 54, 254, 98, 145, 475, 309, 473, 44, 218, 299, 19, 120, 51, 424, 462, 116, 449, 300, 74, 8, 97, 62, 147, 275, 368, 330, 257, 123, 481, 437, 150, 68, 104, 392, 132, 432, 190, 419, 181, 379, 231, 155, 119, 7, 499, 372, 291, 342, 353, 472, 463, 390, 352, 351, 273, 87, 450, 436, 35, 493, 222, 375, 270, 6, 56, 438, 109, 217, 199, 338, 189, 409, 36, 434, 316, 169, 312, 113, 441, 22, 389, 268, 261, 453, 418, 319, 77, 458, 224, 426, 323, 71, 115, 191, 356, 125, 440, 334, 282, 237, 320, 397, 203, 32, 396, 329, 280, 156, 186, 371, 167, 136, 194, 165, 103, 114, 384, 26, 498, 233, 471, 221, 325, 276, 429, 59, 364, 90, 146, 142, 402, 52, 361, 208, 469, 204, 388, 161, 277, 464, 144, 482, 242, 360, 241, 28]\n",
        "    b = []\n",
        "    a_original = a[:]\n",
        "    result = []                         # recoje los pasos dados. Ejemplo: result = ['pb','ra','sa','rra']\n",
        "    pb(a, b, result); pb(a, b, result)  # pasa de A a B la pareja de elementos de A elegidos a[0], a[1]\n",
        "    while len(a) > 3:\n",
        "        index_minimosPasos = calculaIndexPasosMinimos()\n",
        "        giraPilas(a, b, index_minimosPasos, result)\n",
        "        pb(a, b, result)         # lo pasa de A a B haciendo pb\n",
        "    situarMax_en_B(a, b, result) # situa el valor máximo de B en la primera posición de B\n",
        "    crecientesA(a, b, result)    # situa los tres valores de A en forma creciente estricta: Ejemplo: 17, 45, 82\n",
        "    cremallera(a, b, result)     # función que va pasando los números de B a A en forma de cremallera, intercalándolos con los que ya hay en A\n",
        "    print(len(result))\n",
        "    #print(result)"
      ],
      "metadata": {
        "id": "riSVzyEEuJgF",
        "colab": {
          "base_uri": "https://localhost:8080/"
        },
        "outputId": "c1522794-bf58-4bbe-ebda-2b9c78d58bef"
      },
      "execution_count": 54,
      "outputs": [
        {
          "output_type": "stream",
          "name": "stdout",
          "text": [
            "5157\n"
          ]
        }
      ]
    },
    {
      "cell_type": "code",
      "source": [
        "total = [100, 98, 98, 103, 95, 116, 108, 78, 126, 27, 105, 105, 27]\n",
        "all_min = [i for i, x in enumerate(total) if x == min(total)]   # da un array con todos los index del valor mínimo\n",
        "all_min"
      ],
      "metadata": {
        "colab": {
          "base_uri": "https://localhost:8080/"
        },
        "id": "Xay5SSU-tJ0H",
        "outputId": "490c32af-40d8-4165-d9dc-6c7d52791156"
      },
      "execution_count": 55,
      "outputs": [
        {
          "output_type": "execute_result",
          "data": {
            "text/plain": [
              "[9, 12]"
            ]
          },
          "metadata": {},
          "execution_count": 55
        }
      ]
    },
    {
      "cell_type": "code",
      "source": [
        "lista = [10]\n",
        "lista[-1]"
      ],
      "metadata": {
        "colab": {
          "base_uri": "https://localhost:8080/"
        },
        "id": "nAcx3lz4u5ee",
        "outputId": "d667e9b1-d57b-43a4-8b00-81b33dd0cd90"
      },
      "execution_count": 56,
      "outputs": [
        {
          "output_type": "execute_result",
          "data": {
            "text/plain": [
              "10"
            ]
          },
          "metadata": {},
          "execution_count": 56
        }
      ]
    }
  ]
}