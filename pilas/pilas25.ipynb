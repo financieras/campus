{
  "nbformat": 4,
  "nbformat_minor": 0,
  "metadata": {
    "colab": {
      "provenance": [],
      "authorship_tag": "ABX9TyMRUC3+Avu7MZizeQIrC42U",
      "include_colab_link": true
    },
    "kernelspec": {
      "name": "python3",
      "display_name": "Python 3"
    },
    "language_info": {
      "name": "python"
    }
  },
  "cells": [
    {
      "cell_type": "markdown",
      "metadata": {
        "id": "view-in-github",
        "colab_type": "text"
      },
      "source": [
        "<a href=\"https://colab.research.google.com/github/financieras/campus/blob/main/pilas/pilas25.ipynb\" target=\"_parent\"><img src=\"https://colab.research.google.com/assets/colab-badge.svg\" alt=\"Open In Colab\"/></a>"
      ]
    },
    {
      "cell_type": "markdown",
      "source": [
        "# Algoritmo Deep Moder Times explicado"
      ],
      "metadata": {
        "id": "wLGaiaeCuIBR"
      }
    },
    {
      "cell_type": "code",
      "source": [
        "# FUNCIONES\n",
        "def sa(a,b):\n",
        "    if len(a) > 1: a[0],a[1] = a[1],a[0]\n",
        "    return a,b\n",
        "def sb(a,b):\n",
        "    if len(b) > 1: b[0],b[1] = b[1],b[0]\n",
        "    return a,b\n",
        "def ss(a,b):\n",
        "    sa(a,b)\n",
        "    sb(a,b)\n",
        "    return a,b\n",
        "def pa(a,b):\n",
        "    if len(b) > 0:\n",
        "        a.insert(0, b[0])\n",
        "        b.pop(0)\n",
        "    return a,b\n",
        "def pb(a,b):\n",
        "    if len(a) > 0:\n",
        "        b.insert(0, a[0])\n",
        "        a.pop(0)\n",
        "    return a,b\n",
        "def ra(a,b):\n",
        "    if len(a) > 1: a.append(a.pop(0))\n",
        "    return a,b\n",
        "def rb(a,b):\n",
        "    if len(b) > 1: b.append(b.pop(0))\n",
        "    return a,b\n",
        "def rr(a,b):\n",
        "    ra(a,b)\n",
        "    rb(a,b)\n",
        "    return a,b\n",
        "def rra(a,b):\n",
        "    if len(a) > 1: a.insert(0, a.pop())\n",
        "    return a,b\n",
        "def rrb(a,b):\n",
        "    if len(b) > 1: b.insert(0, b.pop())\n",
        "    return a,b\n",
        "def rrr(a,b):\n",
        "    rra(a,b)\n",
        "    rrb(a,b)\n",
        "    return a,b"
      ],
      "metadata": {
        "id": "NnOxqobnuRzl"
      },
      "execution_count": 1,
      "outputs": []
    },
    {
      "cell_type": "code",
      "source": [
        "# Generación de la pila A\n",
        "from random import sample, seed\n",
        "seed()\n",
        "\n",
        "def generaPilaA(n):\n",
        "    return sample(range(1, n+1), n)"
      ],
      "metadata": {
        "id": "spca5pwXubSh"
      },
      "execution_count": 2,
      "outputs": []
    },
    {
      "cell_type": "code",
      "source": [
        "# Llevamos de la pila A hacia la pila B los elementos de la LIS\n",
        "def rotateLIS(lis):\n",
        "    global a\n",
        "    global b\n",
        "    global contador\n",
        "    for vlis in lis:\n",
        "        if a.index(vlis) < len(a)/2:                # movemos el número hacia la izquierda hasta que queda el primero de la pila A\n",
        "            for i in range(a.index(vlis)):\n",
        "                ra(a,b); contador += 1\n",
        "        else:\n",
        "            for i in range(len(a)- a.index(vlis)):  # movemos el número hacia la drecha hasta que queda el primero de la pila A\n",
        "                rra(a,b); contador += 1\n",
        "        pb(a,b); contador += 1   # aqui bajo el numero de la pila A a la B, puesto que ahora ese número ya está el primero de la pila A"
      ],
      "metadata": {
        "id": "8QAC4tTou36V"
      },
      "execution_count": 3,
      "outputs": []
    },
    {
      "cell_type": "code",
      "source": [
        "# PASOS NECESARIOS PARA COLOCAR CADA ELEMENTO DE A EN SU SITIO EN B      total = pasosA + pasosB\n",
        "\n",
        "def necesariosA(a, b):   # array pasosA calcula los pasos necesarios para colocar cada elemento de A como el primero de su pila\n",
        "    for i in a:\n",
        "        if a.index(i) < len(a)/2:\n",
        "            pasosA.append(a.index(i))\n",
        "        else:\n",
        "            pasosA.append(-(len(a)- a.index(i)))\n",
        "\n",
        "def necesariosB(a,b):   # array pasosB calcula los pasos de B necesarios para colocar cada elemento de A dentro de su sitio en B\n",
        "    for v in a:\n",
        "        try:\n",
        "            objetivo_primero = max([x for x in b if x<v])\n",
        "        except:\n",
        "            objetivo_primero = max(b)   # objetivo_primero calcula el número que se ha de poner en la primera posición de B\n",
        "\n",
        "        if b.index(objetivo_primero) < len(b)/2:\n",
        "            pasosB.append(b.index(objetivo_primero))\n",
        "        else:\n",
        "            pasosB.append(-(len(b)- b.index(objetivo_primero)))\n",
        "\n",
        "def totaliza(a,b):   # totalizar pasos\n",
        "    global total\n",
        "    for i in range(len(pasosA)):\n",
        "        if pasosA[i] * pasosB[i] < 0:   # si son de distinto signo\n",
        "            total.append(abs(pasosA[i]) + abs(pasosB[i]))\n",
        "        else:\n",
        "            total.append(max(abs(pasosA[i]), abs(pasosB[i])))\n",
        "\n",
        "def calculaIndexPasosMinimos():\n",
        "    global pasosA\n",
        "    global pasosB\n",
        "    global total\n",
        "    pasosA = []   # [0,1,2, ...,41,-41,... , -2,-1]  vector donde cada index está asociado con el valor del mismo index en A\n",
        "    pasosB = []   # [-3,2,-5, ..., -5,0]   estos dos arrays se han de recalcular cada vez que realmente se mueva algún elemento de A a B\n",
        "    total = []\n",
        "    necesariosA(a, b)\n",
        "    necesariosB(a, b)\n",
        "    totaliza(a,b)\n",
        "    return total.index(min(total))   # retorna el índice del elemento de la pila A que menos pasos totales necesita"
      ],
      "metadata": {
        "id": "ZMoJSTqfu_WV"
      },
      "execution_count": 4,
      "outputs": []
    },
    {
      "cell_type": "code",
      "source": [
        "def giraA(a, b, indice, pasos):\n",
        "    global contador\n",
        "    for i in range(abs(pasos)):\n",
        "        if pasos > 0:\n",
        "            ra(a,b); contador += 1\n",
        "        elif pasos < 0:\n",
        "            rra(a,b); contador += 1\n",
        "\n",
        "def giraB(a, b, indice, pasos):\n",
        "    global contador\n",
        "    for i in range(abs(pasos)):\n",
        "        if pasos > 0:\n",
        "            rb(a,b); contador += 1\n",
        "        elif pasos < 0:\n",
        "            rrb(a,b); contador += 1\n",
        "\n",
        "# girando pilas A y B\n",
        "def giraPilas(a,b,indice):   # indice es el index del valor en la pila A que deseamos poner el primero\n",
        "    global contador\n",
        "    if pasosA[indice] * pasosB[indice] > 0:   # Existe sinergia, nos podemos ahorrar pasos\n",
        "        pasos_comunes = min(abs(pasosA[indice]), abs(pasosB[indice]))\n",
        "        for i in range(pasos_comunes):\n",
        "            if pasosA[indice] > 0:   # si el signo de ambos es positivo, ya que ambos tienen el mismo signo\n",
        "                rr(a,b); contador += 1\n",
        "            elif pasosA[indice] < 0: # si el signo de ambos es negativo\n",
        "                rrr(a,b); contador += 1\n",
        "        exceso_pasosA = abs(pasosA[indice]) - pasos_comunes\n",
        "        exceso_pasosB = abs(pasosB[indice]) - pasos_comunes\n",
        "        giraA(a, b, indice, ((pasosA[indice] > 0) - (pasosA[indice] < 0)) * exceso_pasosA)    # (a > 0) - (a < 0) da el signo de a\n",
        "        giraB(a, b, indice, ((pasosB[indice] > 0) - (pasosB[indice] < 0)) * exceso_pasosB)   # Python no tiene función sign\n",
        "    else:   # No existe sinergia\n",
        "        giraA(a ,b, indice, pasosA[indice])   # gira A\n",
        "        giraB(a, b, indice, pasosB[indice])   # gira B"
      ],
      "metadata": {
        "id": "ycWnQdAMvD4h"
      },
      "execution_count": 5,
      "outputs": []
    },
    {
      "cell_type": "code",
      "source": [
        "def situarMax_en_B():\n",
        "    indice = b.index(max(b))\n",
        "    if indice < len(a)/2:\n",
        "        pasos = indice\n",
        "    else:\n",
        "        pasos = -(len(b)- indice)\n",
        "    giraB(a, b, indice, pasos)\n",
        "\n",
        "def subirTodo_a_A():\n",
        "    global contador\n",
        "    for _ in range(len(b)):\n",
        "        pa(a,b); contador += 1"
      ],
      "metadata": {
        "id": "jEOhAVLnvHKS"
      },
      "execution_count": 6,
      "outputs": []
    },
    {
      "cell_type": "code",
      "source": [
        "def establece_lis(arr):   # esta función solo se debería invocar una vez. Proporciona una matriz con listas de posibles lis\n",
        "    m2 = [[0,1],[0,-1],[0,2],[0,-2],[0,3],[0,-3],[1,-1],[1,2],[1,-2],[1,3],[1,-3],[-1,2],[-1,-2],[-1,3],[-1,-3],[2,-2],[2,3],[2,-3],[-2,3],[-2,-3],[3,-3]]\n",
        "    posibles_lis = []\n",
        "    for pareja in m2:   # m2 tiene 21 parejas\n",
        "        x,y = pareja[0], pareja[1]\n",
        "        lis = [arr[x], arr[y]]\n",
        "        posibles_lis.append(lis)\n",
        "\n",
        "    m3 = [[0,1,-1],[0,1,2],[0,1,-2],[0,1,3],[0,1,-3],[0,-1,2],[0,-1,-2],[0,-1,3],[0,-1,-3],[0,2,-2],[0,2,3],[0,2,-3],[0,-2,3],[0,-2,-3],[0,3,-3],[1,-1,2],[1,-1,-2],[1,-1,3],[1,-1,-3],[1,2,-2],[1,2,3],[1,2,-3],[1,-2,3],[1,-2,-3],[1,3,-3],[-1,2,-2],[-1,2,3],[-1,2,-3],[-1,-2,3],[-1,-2,-3],[-1,3,-3],[2,-2,3],[2,-2,-3],[2,3,-3],[-2,3,-3]]\n",
        "    for trio in m3:   # m3 tiene 35 trios, total len(m2)+len(m3)=21+35=56 casos posibles de lis \n",
        "        x,y,z = trio[0], trio[1], trio[2]\n",
        "        lis = [arr[x], arr[y], arr[z]]\n",
        "        posibles_lis.append(lis)\n",
        "    return posibles_lis   # retorna una matriz [[a[0], a[1]], [a[0], a[-1]], [a[0], a[2]],....]"
      ],
      "metadata": {
        "id": "Jri41wITjp0D"
      },
      "execution_count": 7,
      "outputs": []
    },
    {
      "cell_type": "code",
      "source": [
        "if __name__ == \"__main__\":    \n",
        "    n = 100   # número de elementos de la pila\n",
        "    limite = 700   # para n=100 limite<700, para n=500 limite<5500\n",
        "    pasos_de_cada_intento = [0]*56   # array que contará los pasos de cada intento de tipo cero, uno, dos, tres,....\n",
        "    a = generaPilaA(n)\n",
        "    #print('a:', a, \"\\n\")\n",
        "    b = []\n",
        "    a_original = a[:]\n",
        "    #n = len(a)\n",
        "    posibles_lis = establece_lis(a)   # llama a la función que proporciona una matriz con las posibles lis de dos números de la pila A\n",
        "    #print(\"posibles_lis: \", posibles_lis)\n",
        "    for intento in range(56):   # intentos probando diferentes lis\n",
        "        a = a_original[:]\n",
        "        b = []\n",
        "        lis = posibles_lis[intento]  # establece lis que para el intento cero sería: lis = [a[0], a[1]] para el intento 1 sería: lis = [a[0], a[-1]]\n",
        "        contador = 0    # contador de pasos\n",
        "        rotateLIS(lis)  # Llevamos de la pila A hacia la pila B los elementos de la LIS\n",
        "        b_inicial = b[:]\n",
        "        while len(a) > 0:   # se puede mejorar siendo la condición: \"mientras la A no esté ordenada\". Nota: ver si haciendo un \"sa\" mejora algo\n",
        "            index_minimosPasos = calculaIndexPasosMinimos()\n",
        "            giraPilas(a,b,index_minimosPasos)\n",
        "            pb(a,b); contador += 1 # lo pasa de A a B haciendo pb\n",
        "        situarMax_en_B()\n",
        "        subirTodo_a_A()\n",
        "        print(f\"{intento+1} La pila A {'SI' if sorted(a_original)==a else 'No' } está ordenada. {'pasa' if contador<limite else 'NO pasa'} lis: {b_inicial}\")\n",
        "        pasos_de_cada_intento[intento] = contador\n",
        "    print(\"pasos_de_cada_intento:\\n\", pasos_de_cada_intento)\n",
        "\n",
        "\n",
        "    # IMPORTANTE: si se usan trios \n",
        "    # Es necesario poner en orden decreciente en la pila B inicial los tres números en el caso de elegir trios en la lis"
      ],
      "metadata": {
        "id": "iRAeorGPvLht",
        "colab": {
          "base_uri": "https://localhost:8080/"
        },
        "outputId": "9ccf8179-892b-4cca-a6ad-760de12cb136"
      },
      "execution_count": 9,
      "outputs": [
        {
          "output_type": "stream",
          "name": "stdout",
          "text": [
            "1 La pila A SI está ordenada. pasa lis: [40, 98]\n",
            "2 La pila A SI está ordenada. pasa lis: [29, 98]\n",
            "3 La pila A SI está ordenada. pasa lis: [80, 98]\n",
            "4 La pila A SI está ordenada. pasa lis: [89, 98]\n",
            "5 La pila A SI está ordenada. pasa lis: [85, 98]\n",
            "6 La pila A SI está ordenada. pasa lis: [17, 98]\n",
            "7 La pila A SI está ordenada. pasa lis: [29, 40]\n",
            "8 La pila A SI está ordenada. pasa lis: [80, 40]\n",
            "9 La pila A SI está ordenada. pasa lis: [89, 40]\n",
            "10 La pila A SI está ordenada. pasa lis: [85, 40]\n",
            "11 La pila A SI está ordenada. pasa lis: [17, 40]\n",
            "12 La pila A SI está ordenada. pasa lis: [80, 29]\n",
            "13 La pila A SI está ordenada. pasa lis: [89, 29]\n",
            "14 La pila A SI está ordenada. pasa lis: [85, 29]\n",
            "15 La pila A SI está ordenada. pasa lis: [17, 29]\n",
            "16 La pila A SI está ordenada. pasa lis: [89, 80]\n",
            "17 La pila A SI está ordenada. pasa lis: [85, 80]\n",
            "18 La pila A SI está ordenada. pasa lis: [17, 80]\n",
            "19 La pila A SI está ordenada. pasa lis: [85, 89]\n",
            "20 La pila A SI está ordenada. pasa lis: [17, 89]\n",
            "21 La pila A SI está ordenada. pasa lis: [17, 85]\n",
            "22 La pila A No está ordenada. pasa lis: [29, 40, 98]\n",
            "23 La pila A SI está ordenada. pasa lis: [80, 40, 98]\n",
            "24 La pila A SI está ordenada. pasa lis: [89, 40, 98]\n",
            "25 La pila A SI está ordenada. pasa lis: [85, 40, 98]\n",
            "26 La pila A No está ordenada. pasa lis: [17, 40, 98]\n",
            "27 La pila A SI está ordenada. pasa lis: [80, 29, 98]\n",
            "28 La pila A SI está ordenada. pasa lis: [89, 29, 98]\n",
            "29 La pila A SI está ordenada. pasa lis: [85, 29, 98]\n",
            "30 La pila A No está ordenada. pasa lis: [17, 29, 98]\n",
            "31 La pila A SI está ordenada. pasa lis: [89, 80, 98]\n",
            "32 La pila A SI está ordenada. pasa lis: [85, 80, 98]\n",
            "33 La pila A No está ordenada. pasa lis: [17, 80, 98]\n",
            "34 La pila A No está ordenada. pasa lis: [85, 89, 98]\n",
            "35 La pila A No está ordenada. pasa lis: [17, 89, 98]\n",
            "36 La pila A No está ordenada. pasa lis: [17, 85, 98]\n",
            "37 La pila A No está ordenada. pasa lis: [80, 29, 40]\n",
            "38 La pila A No está ordenada. pasa lis: [89, 29, 40]\n",
            "39 La pila A No está ordenada. pasa lis: [85, 29, 40]\n",
            "40 La pila A No está ordenada. pasa lis: [17, 29, 40]\n",
            "41 La pila A SI está ordenada. pasa lis: [89, 80, 40]\n",
            "42 La pila A SI está ordenada. pasa lis: [85, 80, 40]\n",
            "43 La pila A SI está ordenada. pasa lis: [17, 80, 40]\n",
            "44 La pila A No está ordenada. pasa lis: [85, 89, 40]\n",
            "45 La pila A SI está ordenada. pasa lis: [17, 89, 40]\n",
            "46 La pila A SI está ordenada. pasa lis: [17, 85, 40]\n",
            "47 La pila A SI está ordenada. pasa lis: [89, 80, 29]\n",
            "48 La pila A SI está ordenada. pasa lis: [85, 80, 29]\n",
            "49 La pila A SI está ordenada. pasa lis: [17, 80, 29]\n",
            "50 La pila A No está ordenada. pasa lis: [85, 89, 29]\n",
            "51 La pila A SI está ordenada. pasa lis: [17, 89, 29]\n",
            "52 La pila A SI está ordenada. pasa lis: [17, 85, 29]\n",
            "53 La pila A No está ordenada. pasa lis: [85, 89, 80]\n",
            "54 La pila A SI está ordenada. pasa lis: [17, 89, 80]\n",
            "55 La pila A SI está ordenada. pasa lis: [17, 85, 80]\n",
            "56 La pila A No está ordenada. pasa lis: [17, 85, 89]\n",
            "pasos_de_cada_intento:\n",
            " [637, 624, 631, 595, 625, 575, 628, 573, 579, 639, 579, 653, 595, 655, 577, 601, 650, 652, 636, 577, 654, 583, 637, 596, 657, 606, 648, 595, 646, 592, 598, 631, 593, 638, 559, 659, 630, 635, 634, 592, 582, 573, 636, 612, 577, 651, 600, 653, 582, 571, 577, 585, 584, 650, 652, 609]\n",
            "\n",
            "\n"
          ]
        }
      ]
    }
  ]
}