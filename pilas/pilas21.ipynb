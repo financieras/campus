{
  "nbformat": 4,
  "nbformat_minor": 0,
  "metadata": {
    "colab": {
      "provenance": [],
      "authorship_tag": "ABX9TyPSO2QJv44qhbh2wFACMhi4",
      "include_colab_link": true
    },
    "kernelspec": {
      "name": "python3",
      "display_name": "Python 3"
    },
    "language_info": {
      "name": "python"
    }
  },
  "cells": [
    {
      "cell_type": "markdown",
      "metadata": {
        "id": "view-in-github",
        "colab_type": "text"
      },
      "source": [
        "<a href=\"https://colab.research.google.com/github/financieras/campus/blob/main/pilas/pilas21.ipynb\" target=\"_parent\"><img src=\"https://colab.research.google.com/assets/colab-badge.svg\" alt=\"Open In Colab\"/></a>"
      ]
    },
    {
      "cell_type": "markdown",
      "source": [
        "# Push Swap método \"Modern Times\"\n",
        "En honor a la película de 1936 de Chaplin."
      ],
      "metadata": {
        "id": "chidGUe5WoVU"
      }
    },
    {
      "cell_type": "code",
      "execution_count": 1,
      "metadata": {
        "id": "FJNpcZStWYia"
      },
      "outputs": [],
      "source": [
        "# FUNCIONES\n",
        "def sa(a,b):\n",
        "    if len(a) > 1: a[0],a[1] = a[1],a[0]\n",
        "    return a,b\n",
        "def sb(a,b):\n",
        "    if len(b) > 1: b[0],b[1] = b[1],b[0]\n",
        "    return a,b\n",
        "def ss(a,b):\n",
        "    sa(a,b)\n",
        "    sb(a,b)\n",
        "    return a,b\n",
        "def pa(a,b):\n",
        "    if len(b) > 0:\n",
        "        a.insert(0, b[0])\n",
        "        b.pop(0)\n",
        "    return a,b\n",
        "def pb(a,b):\n",
        "    if len(a) > 0:\n",
        "        b.insert(0, a[0])\n",
        "        a.pop(0)\n",
        "    return a,b\n",
        "def ra(a,b):\n",
        "    if len(a) > 1: a.append(a.pop(0))\n",
        "    return a,b\n",
        "def rb(a,b):\n",
        "    if len(b) > 1: b.append(b.pop(0))\n",
        "    return a,b\n",
        "def rr(a,b):\n",
        "    ra(a,b)\n",
        "    rb(a,b)\n",
        "    return a,b\n",
        "def rra(a,b):\n",
        "    if len(a) > 1: a.insert(0, a.pop())\n",
        "    return a,b\n",
        "def rrb(a,b):\n",
        "    if len(b) > 1: b.insert(0, b.pop())\n",
        "    return a,b\n",
        "def rrr(a,b):\n",
        "    rra(a,b)\n",
        "    rrb(a,b)\n",
        "    return a,b"
      ]
    },
    {
      "cell_type": "code",
      "source": [
        "# Generación de la pila A\n",
        "from random import sample, seed\n",
        "seed()\n",
        "\n",
        "def generaPilaA(n):\n",
        "    return sample(range(1, n+1), n)"
      ],
      "metadata": {
        "id": "nZLaWpTGW8Bu"
      },
      "execution_count": 2,
      "outputs": []
    },
    {
      "cell_type": "code",
      "source": [
        "def algoritmo_LIS(arr):\n",
        "    n = len(arr)\n",
        "    lis = [1]*n\n",
        "    prev = list(range(n))  # una lista con los index\n",
        "    \n",
        "    # Compute optimized LIS values in bottom up manner\n",
        "    for i in range (1, n):\n",
        "        for j in range(i):\n",
        "            if arr[i] > arr[j] and lis[i] < lis[j] + 1:\n",
        "                lis[i] = lis[j]+1\n",
        "                prev[i] = j\n",
        "\n",
        "    # Initialize maximum to 0 to get the maximum of all\n",
        "    # LIS\n",
        "    maximum = 0\n",
        "    idx = 0\n",
        "\n",
        "    # Pick maximum of all LIS values\n",
        "    for i in range(n):\n",
        "        if maximum < lis[i]:\n",
        "            maximum = lis[i]\n",
        "            idx = i\n",
        "\n",
        "    seq = [arr[idx]]\n",
        "    while idx != prev[idx]:\n",
        "        idx = prev[idx]\n",
        "        seq.append(arr[idx])\n",
        "\n",
        "    return list(reversed(seq))"
      ],
      "metadata": {
        "id": "vG4BxbUlIhne"
      },
      "execution_count": 3,
      "outputs": []
    },
    {
      "cell_type": "code",
      "source": [
        "# Llevamos de la pila A hacia la pila B los elementos de la LIS\n",
        "\n",
        "def rotateLIS(lis):\n",
        "    global a\n",
        "    global b\n",
        "    global contador\n",
        "    for vlis in lis:\n",
        "        if a.index(vlis) < len(a)/2:\n",
        "            for i in range(a.index(vlis)):\n",
        "                ra(a,b); contador += 1\n",
        "        else:\n",
        "            for i in range(len(a)- a.index(vlis)):\n",
        "                rra(a,b); contador += 1\n",
        "        pb(a,b); contador += 1"
      ],
      "metadata": {
        "id": "wCS3Dp5i0U5F"
      },
      "execution_count": 4,
      "outputs": []
    },
    {
      "cell_type": "code",
      "source": [
        "# PASOS NECESARIOS PARA COLOCAR CADA ELEMENTO DE A EN SU SITIO EN B\n",
        "# PASOS NECESARIOS = Pasos necesarios A + Pasos necesarios B\n",
        "\n",
        "# Pasos necesarios para situarse como el primer elemento de la pila A\n",
        "\n",
        "def necesariosA(a, b):   # rellena el array pasosA con todos los pasos necesarios para la pila A\n",
        "    for i in a:\n",
        "        if a.index(i) < len(a)/2:\n",
        "            pasosA.append(a.index(i))\n",
        "        else:\n",
        "            pasosA.append(-(len(a)- a.index(i)))\n",
        "\n",
        "def necesariosB(a,b):   # rellena el array pasosB con todos los pasos necesarios para la pila B\n",
        "    for v in a:\n",
        "        try:\n",
        "            objetivo_primero = max([x for x in b if x<v])\n",
        "        except:\n",
        "            objetivo_primero = max(b)   # objetivo_primero calcula el número que se ha de poner en la primera posición de B\n",
        "\n",
        "        if b.index(objetivo_primero) < len(b)/2:\n",
        "            pasosB.append(b.index(objetivo_primero))\n",
        "        else:\n",
        "            pasosB.append(-(len(b)- b.index(objetivo_primero)))\n",
        "\n",
        "def totaliza(a,b):   # totalizar pasos\n",
        "    global total\n",
        "    for i in range(len(pasosA)):\n",
        "        if pasosA[i] * pasosB[i] < 0:   # si son de distinto signo\n",
        "            total.append(abs(pasosA[i]) + abs(pasosB[i]))\n",
        "        else:\n",
        "            total.append(max(abs(pasosA[i]), abs(pasosB[i])))\n",
        "\n",
        "def calculaIndexPasosMinimos():\n",
        "    global pasosA\n",
        "    global pasosB\n",
        "    global total\n",
        "    pasosA = []   # [0,1,2, ...,41,-41,... , -2,-1]  vector donde cada index está asociado con el valor del mismo index en A\n",
        "    pasosB = []   # [-3,2,-5, ..., -5,0]   estos dos arrays se han de recalcular cada vez que realmente se mueva algún elemento de A a B\n",
        "    total = []\n",
        "    necesariosA(a, b)\n",
        "    necesariosB(a, b)\n",
        "    totaliza(a,b)\n",
        "    return total.index(min(total))   # retorna el índice del elemento de la pila A que menos pasos totales necesita"
      ],
      "metadata": {
        "id": "UdlpzXahlsoh"
      },
      "execution_count": 5,
      "outputs": []
    },
    {
      "cell_type": "code",
      "source": [
        "def giraA(a, b, indice, pasos):\n",
        "    global contador\n",
        "    for i in range(abs(pasos)):\n",
        "        if pasos > 0:\n",
        "            ra(a,b); contador += 1\n",
        "        elif pasos < 0:\n",
        "            rra(a,b); contador += 1\n",
        "\n",
        "def giraB(a, b, indice, pasos):\n",
        "    global contador\n",
        "    for i in range(abs(pasos)):\n",
        "        if pasos > 0:\n",
        "            rb(a,b); contador += 1\n",
        "        elif pasos < 0:\n",
        "            rrb(a,b); contador += 1\n",
        "\n",
        "# girando pilas A y B\n",
        "def giraPilas(a,b,indice):   # indice es el index del valor en la pila A que deseamos poner el primero\n",
        "    global contador\n",
        "    if pasosA[indice] * pasosB[indice] > 0:   # Existe sinergia, nos podemos ahorrar pasos\n",
        "        pasos_comunes = min(abs(pasosA[indice]), abs(pasosB[indice]))\n",
        "        for i in range(pasos_comunes):\n",
        "            if pasosA[indice] > 0:   # si el signo de ambos es positivo, ya que ambos tienen el mismo signo\n",
        "                rr(a,b); contador += 1\n",
        "            elif pasosA[indice] < 0: # si el signo de ambos es negativo\n",
        "                rrr(a,b); contador += 1\n",
        "        exceso_pasosA = abs(pasosA[indice]) - pasos_comunes\n",
        "        exceso_pasosB = abs(pasosB[indice]) - pasos_comunes\n",
        "        giraA(a, b, indice, ((pasosA[indice] > 0) - (pasosA[indice] < 0)) * exceso_pasosA)    # (a > 0) - (a < 0) da el signo de a\n",
        "        giraB(a, b, indice, ((pasosB[indice] > 0) - (pasosB[indice] < 0)) * exceso_pasosB)   # Python no tiene función sign\n",
        "    else:   # No existe sinergia\n",
        "        giraA(a ,b, indice, pasosA[indice])   # gira A\n",
        "        giraB(a, b, indice, pasosB[indice])   # gira B"
      ],
      "metadata": {
        "id": "SdM6g1pX70kj"
      },
      "execution_count": 6,
      "outputs": []
    },
    {
      "cell_type": "code",
      "source": [
        "def situarMax_en_B():\n",
        "    indice = b.index(max(b))\n",
        "    if indice < len(a)/2:\n",
        "        pasos = indice\n",
        "    else:\n",
        "        pasos = -(len(b)- indice)\n",
        "    giraB(a, b, indice, pasos)\n",
        "\n",
        "def subirTodo_a_A():\n",
        "    global contador\n",
        "    for _ in range(len(b)):\n",
        "        pa(a,b); contador += 1"
      ],
      "metadata": {
        "id": "rvfYGQeBuU_d"
      },
      "execution_count": 7,
      "outputs": []
    },
    {
      "cell_type": "code",
      "source": [
        "if __name__ == \"__main__\":\n",
        "    for _ in range(10000):\n",
        "        n = 100   # número de elementos de la pila\n",
        "        a = generaPilaA(n)\n",
        "        b = []\n",
        "        a_original = a[:]\n",
        "        n = len(a)\n",
        "        lis = [a[0], a[1]]\n",
        "        contador = 0\n",
        "        rotateLIS(lis)\n",
        "        while len(a) > 0:\n",
        "            index_minimosPasos = calculaIndexPasosMinimos()\n",
        "            giraPilas(a,b,index_minimosPasos)\n",
        "            pb(a,b); contador += 1 # lo pasa de A a B haciendo pb\n",
        "        situarMax_en_B()\n",
        "        subirTodo_a_A()\n",
        "        if sorted(a_original) != a: print(\"ERROR: la pila A no ha quedado ordenada.\")\n",
        "        if contador >= 700:\n",
        "            print(a_original)\n",
        "            print(f\"contador: {contador} sin LIS\")\n",
        "            ##### Usando la LIS  #####    \n",
        "            a = a_original\n",
        "            b = []\n",
        "            a_original = a[:]\n",
        "            n = len(a)\n",
        "            lis = algoritmo_LIS(a)\n",
        "            contador = 0\n",
        "            rotateLIS(lis)\n",
        "            while len(a) > 0:\n",
        "                index_minimosPasos = calculaIndexPasosMinimos()\n",
        "                giraPilas(a,b,index_minimosPasos)\n",
        "                pb(a,b); contador += 1 # lo pasa de A a B haciendo pb\n",
        "            situarMax_en_B()\n",
        "            subirTodo_a_A()\n",
        "            if sorted(a_original) != a: print(\"ERROR: la pila A no ha quedado ordenada usando la LIS.\")\n",
        "            print(f\"contador: {contador} con LIS\")"
      ],
      "metadata": {
        "id": "cLOrT2wnKgKt",
        "outputId": "53b1c116-f44a-4ae5-d90c-61203b6d3945",
        "colab": {
          "base_uri": "https://localhost:8080/"
        }
      },
      "execution_count": 9,
      "outputs": [
        {
          "output_type": "stream",
          "name": "stdout",
          "text": [
            "[49, 77, 62, 73, 75, 74, 19, 60, 52, 39, 96, 97, 21, 20, 9, 72, 34, 66, 99, 38, 68, 36, 86, 18, 84, 15, 100, 57, 59, 76, 25, 26, 10, 53, 41, 30, 37, 47, 98, 90, 78, 6, 51, 58, 88, 83, 27, 95, 46, 22, 2, 91, 69, 1, 3, 70, 48, 8, 94, 35, 50, 24, 55, 64, 45, 33, 4, 54, 28, 71, 44, 79, 31, 43, 5, 13, 14, 81, 89, 29, 61, 7, 40, 67, 56, 65, 85, 92, 63, 23, 80, 17, 42, 12, 87, 11, 82, 16, 32, 93]\n",
            "contador: 700 sin LIS\n",
            "contador: 644 con LIS\n",
            "[67, 35, 84, 14, 88, 13, 5, 83, 34, 9, 1, 54, 2, 48, 57, 89, 98, 40, 63, 71, 55, 49, 77, 8, 10, 58, 24, 46, 94, 73, 38, 76, 52, 15, 91, 39, 70, 16, 36, 21, 25, 22, 72, 62, 68, 28, 61, 78, 26, 80, 81, 50, 69, 53, 99, 92, 44, 32, 96, 85, 64, 86, 60, 42, 93, 82, 3, 30, 100, 45, 56, 27, 90, 23, 31, 19, 29, 87, 97, 20, 4, 79, 74, 12, 7, 11, 51, 95, 37, 43, 33, 41, 6, 59, 17, 75, 65, 47, 18, 66]\n",
            "contador: 707 sin LIS\n",
            "contador: 645 con LIS\n",
            "[22, 61, 78, 59, 50, 25, 77, 99, 86, 18, 46, 83, 43, 51, 33, 5, 73, 88, 49, 37, 1, 95, 41, 58, 11, 20, 56, 47, 64, 54, 69, 6, 90, 76, 32, 72, 8, 19, 15, 23, 65, 96, 28, 66, 17, 14, 60, 21, 94, 82, 42, 10, 93, 16, 62, 87, 70, 75, 34, 45, 24, 55, 91, 67, 39, 98, 40, 84, 92, 26, 3, 4, 71, 12, 74, 80, 97, 30, 35, 7, 85, 27, 68, 89, 44, 31, 52, 38, 79, 100, 9, 63, 48, 29, 13, 57, 53, 81, 2, 36]\n",
            "contador: 702 sin LIS\n",
            "contador: 662 con LIS\n",
            "[63, 50, 6, 70, 29, 86, 79, 60, 44, 53, 25, 32, 74, 17, 13, 14, 18, 11, 9, 92, 4, 91, 80, 42, 26, 62, 34, 10, 19, 31, 22, 69, 96, 16, 20, 71, 75, 45, 100, 39, 15, 23, 90, 61, 77, 98, 12, 68, 37, 82, 93, 88, 97, 33, 1, 48, 40, 64, 27, 76, 89, 21, 65, 83, 52, 54, 72, 55, 58, 2, 87, 56, 78, 5, 8, 46, 49, 7, 67, 81, 59, 94, 3, 24, 84, 41, 66, 30, 36, 57, 28, 85, 95, 99, 47, 51, 38, 35, 73, 43]\n",
            "contador: 717 sin LIS\n",
            "contador: 657 con LIS\n",
            "[25, 86, 14, 85, 65, 90, 17, 79, 26, 89, 40, 29, 99, 46, 4, 34, 61, 39, 5, 44, 27, 74, 83, 30, 68, 38, 41, 69, 62, 54, 87, 100, 15, 16, 98, 22, 59, 28, 1, 20, 94, 42, 31, 64, 49, 6, 19, 57, 7, 48, 91, 72, 80, 23, 96, 52, 84, 71, 60, 9, 8, 58, 24, 77, 11, 51, 45, 10, 67, 93, 63, 70, 13, 73, 55, 92, 35, 21, 81, 53, 2, 3, 32, 88, 12, 82, 18, 37, 43, 75, 33, 50, 78, 56, 66, 97, 95, 47, 36, 76]\n",
            "contador: 702 sin LIS\n",
            "contador: 670 con LIS\n",
            "[97, 13, 67, 22, 90, 76, 65, 80, 1, 38, 14, 53, 96, 58, 79, 68, 83, 19, 89, 2, 40, 94, 66, 91, 49, 12, 52, 63, 69, 81, 16, 33, 34, 46, 7, 36, 99, 5, 88, 72, 87, 35, 61, 31, 77, 43, 50, 85, 11, 62, 6, 42, 64, 48, 8, 26, 82, 70, 93, 10, 75, 3, 51, 24, 18, 78, 84, 95, 25, 57, 92, 56, 4, 39, 86, 17, 41, 73, 21, 60, 100, 29, 23, 27, 74, 30, 54, 20, 59, 47, 15, 37, 45, 71, 32, 28, 44, 55, 9, 98]\n",
            "contador: 704 sin LIS\n",
            "contador: 639 con LIS\n",
            "[10, 52, 90, 53, 67, 89, 42, 18, 59, 100, 15, 63, 3, 98, 87, 57, 19, 97, 34, 28, 58, 32, 11, 92, 77, 20, 4, 25, 14, 80, 16, 68, 5, 43, 39, 70, 12, 6, 26, 60, 7, 86, 61, 49, 35, 75, 30, 45, 88, 69, 78, 13, 93, 96, 8, 21, 46, 55, 36, 64, 9, 83, 2, 85, 17, 72, 76, 48, 50, 74, 51, 79, 1, 22, 33, 29, 44, 94, 62, 56, 73, 37, 71, 81, 95, 24, 23, 40, 66, 47, 27, 41, 82, 91, 38, 31, 54, 99, 65, 84]\n",
            "contador: 712 sin LIS\n",
            "contador: 659 con LIS\n",
            "[18, 45, 11, 48, 37, 71, 8, 61, 14, 98, 77, 57, 64, 23, 56, 39, 19, 29, 86, 41, 44, 31, 93, 94, 70, 52, 100, 58, 85, 40, 76, 24, 50, 28, 87, 30, 35, 13, 74, 90, 38, 55, 96, 51, 4, 42, 65, 79, 43, 69, 59, 2, 89, 33, 27, 88, 17, 81, 73, 82, 49, 12, 6, 5, 83, 66, 16, 36, 97, 91, 63, 26, 84, 53, 7, 47, 34, 15, 25, 99, 20, 80, 10, 3, 62, 67, 92, 46, 72, 9, 95, 22, 78, 68, 21, 54, 75, 32, 1, 60]\n",
            "contador: 718 sin LIS\n",
            "contador: 675 con LIS\n",
            "[85, 93, 86, 62, 9, 52, 75, 60, 26, 4, 33, 14, 74, 21, 7, 5, 25, 70, 38, 30, 89, 20, 24, 98, 46, 49, 13, 94, 19, 90, 65, 28, 44, 17, 15, 81, 40, 72, 11, 96, 73, 92, 35, 69, 8, 51, 34, 56, 47, 83, 64, 41, 78, 100, 68, 79, 27, 54, 63, 97, 71, 31, 48, 3, 32, 77, 10, 23, 88, 42, 95, 6, 99, 61, 55, 80, 2, 43, 18, 53, 84, 22, 29, 45, 12, 16, 82, 76, 91, 37, 1, 59, 58, 87, 67, 57, 66, 39, 50, 36]\n",
            "contador: 714 sin LIS\n",
            "contador: 635 con LIS\n",
            "[7, 86, 95, 75, 41, 48, 22, 4, 67, 63, 40, 88, 49, 8, 92, 96, 64, 68, 80, 55, 36, 18, 89, 17, 57, 61, 29, 100, 42, 87, 46, 37, 73, 15, 93, 32, 78, 47, 2, 38, 72, 27, 50, 54, 81, 76, 65, 3, 13, 97, 23, 90, 62, 5, 98, 58, 69, 99, 28, 74, 66, 31, 60, 6, 35, 56, 91, 34, 71, 16, 20, 82, 10, 24, 84, 43, 11, 70, 45, 59, 25, 85, 39, 30, 33, 26, 51, 79, 94, 44, 77, 14, 52, 1, 19, 83, 12, 53, 21, 9]\n",
            "contador: 712 sin LIS\n",
            "contador: 704 con LIS\n",
            "[17, 65, 15, 49, 79, 71, 41, 27, 7, 30, 93, 75, 36, 9, 91, 19, 69, 68, 94, 82, 96, 66, 99, 6, 42, 51, 31, 52, 59, 98, 39, 89, 56, 47, 32, 23, 64, 28, 85, 35, 18, 97, 46, 8, 81, 67, 21, 77, 14, 73, 87, 33, 50, 60, 70, 100, 86, 62, 90, 10, 38, 48, 43, 20, 76, 72, 44, 24, 55, 29, 13, 78, 40, 58, 4, 80, 1, 26, 63, 95, 54, 84, 2, 53, 74, 5, 92, 22, 88, 25, 61, 16, 83, 3, 34, 37, 45, 12, 11, 57]\n",
            "contador: 715 sin LIS\n",
            "contador: 625 con LIS\n",
            "[84, 44, 52, 38, 16, 90, 23, 56, 27, 30, 13, 81, 53, 9, 42, 15, 80, 6, 21, 25, 62, 82, 88, 94, 64, 89, 93, 40, 43, 19, 97, 78, 50, 74, 11, 32, 83, 8, 39, 37, 36, 20, 5, 67, 57, 35, 69, 46, 31, 12, 100, 91, 4, 68, 41, 66, 49, 72, 18, 76, 85, 17, 55, 99, 71, 7, 14, 96, 75, 59, 61, 63, 1, 26, 60, 54, 33, 2, 87, 34, 58, 10, 47, 79, 3, 98, 65, 22, 70, 28, 95, 24, 73, 45, 48, 51, 77, 86, 92, 29]\n",
            "contador: 700 sin LIS\n",
            "contador: 679 con LIS\n",
            "[46, 66, 3, 21, 78, 95, 55, 39, 65, 5, 88, 10, 32, 84, 54, 76, 29, 9, 20, 81, 44, 49, 30, 57, 16, 38, 69, 99, 43, 100, 14, 75, 58, 7, 1, 94, 40, 93, 64, 35, 51, 18, 8, 97, 37, 72, 80, 15, 48, 56, 70, 36, 47, 13, 50, 85, 91, 53, 77, 41, 19, 92, 26, 52, 96, 86, 11, 42, 62, 90, 23, 98, 34, 22, 12, 2, 24, 73, 31, 63, 59, 83, 45, 4, 67, 87, 74, 61, 71, 89, 6, 17, 82, 79, 25, 28, 68, 27, 60, 33]\n",
            "contador: 726 sin LIS\n",
            "contador: 655 con LIS\n",
            "[28, 98, 81, 39, 73, 13, 35, 86, 70, 52, 62, 46, 77, 1, 71, 84, 87, 18, 100, 75, 10, 25, 20, 48, 69, 36, 21, 91, 38, 3, 74, 29, 58, 44, 53, 63, 72, 78, 12, 92, 54, 88, 17, 31, 37, 42, 8, 34, 79, 41, 97, 76, 82, 4, 65, 30, 83, 59, 61, 6, 50, 9, 11, 90, 23, 5, 94, 45, 14, 56, 66, 33, 80, 96, 32, 40, 51, 60, 64, 2, 68, 57, 24, 22, 99, 26, 93, 55, 85, 15, 7, 16, 67, 19, 89, 43, 95, 49, 27, 47]\n",
            "contador: 700 sin LIS\n",
            "contador: 672 con LIS\n",
            "[62, 50, 28, 70, 19, 41, 84, 2, 89, 61, 68, 6, 15, 43, 82, 98, 11, 87, 23, 21, 71, 51, 78, 37, 99, 54, 88, 44, 97, 36, 72, 26, 91, 4, 52, 58, 86, 93, 94, 74, 30, 14, 59, 66, 96, 24, 17, 1, 47, 49, 67, 16, 65, 38, 63, 55, 9, 48, 20, 7, 8, 75, 80, 29, 33, 22, 18, 3, 60, 31, 53, 45, 34, 39, 25, 56, 12, 100, 69, 57, 85, 79, 13, 95, 73, 77, 35, 32, 46, 92, 27, 40, 81, 76, 64, 10, 42, 5, 90, 83]\n",
            "contador: 701 sin LIS\n",
            "contador: 654 con LIS\n",
            "[67, 11, 85, 29, 61, 53, 94, 32, 51, 45, 22, 23, 1, 52, 14, 49, 57, 62, 87, 54, 56, 64, 98, 74, 9, 26, 77, 3, 93, 84, 19, 48, 70, 5, 42, 46, 34, 41, 24, 7, 25, 39, 47, 13, 10, 78, 20, 91, 81, 4, 60, 79, 12, 86, 100, 33, 2, 69, 66, 63, 88, 18, 75, 44, 92, 8, 82, 71, 43, 16, 76, 96, 99, 95, 83, 27, 73, 89, 21, 80, 72, 30, 6, 28, 37, 90, 36, 97, 17, 31, 59, 15, 58, 38, 68, 55, 50, 40, 65, 35]\n",
            "contador: 703 sin LIS\n",
            "contador: 634 con LIS\n",
            "[33, 81, 34, 87, 76, 49, 19, 57, 99, 41, 90, 32, 46, 61, 24, 95, 27, 79, 18, 53, 74, 62, 73, 50, 75, 7, 98, 3, 51, 59, 85, 25, 28, 20, 84, 15, 4, 80, 71, 70, 54, 29, 97, 52, 65, 11, 94, 67, 21, 2, 40, 8, 60, 31, 89, 91, 23, 55, 92, 1, 88, 26, 10, 43, 13, 14, 56, 5, 37, 83, 36, 17, 44, 68, 12, 22, 58, 30, 82, 39, 86, 72, 100, 63, 78, 38, 9, 6, 16, 96, 42, 45, 69, 64, 77, 35, 48, 66, 47, 93]\n",
            "contador: 702 sin LIS\n",
            "contador: 692 con LIS\n",
            "[10, 22, 15, 84, 68, 83, 35, 64, 66, 38, 93, 89, 67, 69, 13, 31, 92, 82, 36, 97, 54, 55, 20, 34, 24, 60, 58, 44, 63, 72, 4, 96, 25, 39, 49, 48, 90, 30, 43, 95, 76, 19, 37, 11, 18, 78, 88, 16, 98, 57, 6, 14, 85, 2, 7, 70, 46, 81, 99, 17, 8, 100, 52, 62, 26, 47, 51, 94, 45, 73, 65, 71, 33, 59, 74, 87, 50, 29, 3, 9, 79, 56, 40, 61, 1, 23, 21, 53, 80, 28, 42, 41, 27, 91, 5, 86, 75, 77, 32, 12]\n",
            "contador: 703 sin LIS\n",
            "contador: 683 con LIS\n"
          ]
        }
      ]
    }
  ]
}