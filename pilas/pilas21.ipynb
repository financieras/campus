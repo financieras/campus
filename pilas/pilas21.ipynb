{
  "nbformat": 4,
  "nbformat_minor": 0,
  "metadata": {
    "colab": {
      "provenance": [],
      "authorship_tag": "ABX9TyPhHWv9/TFvklp4gVlb1jtp",
      "include_colab_link": true
    },
    "kernelspec": {
      "name": "python3",
      "display_name": "Python 3"
    },
    "language_info": {
      "name": "python"
    }
  },
  "cells": [
    {
      "cell_type": "markdown",
      "metadata": {
        "id": "view-in-github",
        "colab_type": "text"
      },
      "source": [
        "<a href=\"https://colab.research.google.com/github/financieras/campus/blob/main/pilas/pilas21.ipynb\" target=\"_parent\"><img src=\"https://colab.research.google.com/assets/colab-badge.svg\" alt=\"Open In Colab\"/></a>"
      ]
    },
    {
      "cell_type": "markdown",
      "source": [
        "# Push Swap método \"Modern Times\"\n",
        "En honor a la película de 1936 de Chaplin."
      ],
      "metadata": {
        "id": "chidGUe5WoVU"
      }
    },
    {
      "cell_type": "code",
      "execution_count": 1,
      "metadata": {
        "id": "FJNpcZStWYia"
      },
      "outputs": [],
      "source": [
        "# FUNCIONES\n",
        "\n",
        "def lista_ordenada(lis, orden_inverso=False): # la función da True si ponemos lista_ordenada([4,3,2,1], orden_inverso=True)\n",
        "    ordenada = False\n",
        "    aux = lis[:]\n",
        "    aux.sort(reverse=orden_inverso)\n",
        "    if aux == lis:\n",
        "        ordenada = True\n",
        "    return ordenada\n",
        "\n",
        "def sa(a,b):\n",
        "    if len(a) > 1: a[0],a[1] = a[1],a[0]\n",
        "    return a,b\n",
        "def sb(a,b):\n",
        "    if len(b) > 1: b[0],b[1] = b[1],b[0]\n",
        "    return a,b\n",
        "def ss(a,b):\n",
        "    sa(a,b)\n",
        "    sb(a,b)\n",
        "    return a,b\n",
        "def pa(a,b):\n",
        "    if len(b) > 0:\n",
        "        a.insert(0, b[0])\n",
        "        b.pop(0)\n",
        "    return a,b\n",
        "def pb(a,b):\n",
        "    if len(a) > 0:\n",
        "        b.insert(0, a[0])\n",
        "        a.pop(0)\n",
        "    return a,b\n",
        "def ra(a,b):\n",
        "    if len(a) > 1: a.append(a.pop(0))\n",
        "    return a,b\n",
        "def rb(a,b):\n",
        "    if len(b) > 1: b.append(b.pop(0))\n",
        "    return a,b\n",
        "def rr(a,b):\n",
        "    ra(a,b)\n",
        "    rb(a,b)\n",
        "    return a,b\n",
        "def rra(a,b):\n",
        "    if len(a) > 1: a.insert(0, a.pop())\n",
        "    return a,b\n",
        "def rrb(a,b):\n",
        "    if len(b) > 1: b.insert(0, b.pop())\n",
        "    return a,b\n",
        "def rrr(a,b):\n",
        "    rra(a,b)\n",
        "    rrb(a,b)\n",
        "    return a,b"
      ]
    },
    {
      "cell_type": "code",
      "source": [
        "# Generación de la pila A\n",
        "from random import sample, seed\n",
        "seed()\n",
        "n = 100   # número de elementos de la pila\n",
        "#a = sample(range(1, n+1), n)\n",
        "a = [35, 90, 6, 15, 7, 40, 85, 63, 50, 13, 45, 8, 76, 33, 25, 27, 42, 20, 94, 48, 91, 29, 95, 77, 82, 98, 86, 69, 60, 58, 79, 55, 24, 12, 28, 93, 73, 54, 84, 44, 10, 75, 3, 32, 89, 52, 51, 16, 56, 70, 22, 11, 59, 68, 100, 96, 71, 21, 26, 38, 1, 46, 92, 36, 88, 31, 66, 34, 74, 23, 5, 9, 43, 49, 37, 80, 18, 17, 67, 83, 78, 61, 47, 57, 64, 81, 97, 53, 65, 30, 2, 99, 14, 87, 39, 19, 72, 4, 62, 41]\n",
        "print('a:', a)\n",
        "b = []\n",
        "a_original = a[:]\n",
        "n = len(a)"
      ],
      "metadata": {
        "id": "nZLaWpTGW8Bu",
        "outputId": "02bffcb5-8642-4413-fe5e-4e39808fcd26",
        "colab": {
          "base_uri": "https://localhost:8080/"
        }
      },
      "execution_count": 2,
      "outputs": [
        {
          "output_type": "stream",
          "name": "stdout",
          "text": [
            "a: [35, 90, 6, 15, 7, 40, 85, 63, 50, 13, 45, 8, 76, 33, 25, 27, 42, 20, 94, 48, 91, 29, 95, 77, 82, 98, 86, 69, 60, 58, 79, 55, 24, 12, 28, 93, 73, 54, 84, 44, 10, 75, 3, 32, 89, 52, 51, 16, 56, 70, 22, 11, 59, 68, 100, 96, 71, 21, 26, 38, 1, 46, 92, 36, 88, 31, 66, 34, 74, 23, 5, 9, 43, 49, 37, 80, 18, 17, 67, 83, 78, 61, 47, 57, 64, 81, 97, 53, 65, 30, 2, 99, 14, 87, 39, 19, 72, 4, 62, 41]\n"
          ]
        }
      ]
    },
    {
      "cell_type": "code",
      "source": [
        "def algoritmo_LIS(arr):\n",
        "    n = len(arr)\n",
        "    lis = [1]*n\n",
        "    prev = list(range(n))  # una lista con los index\n",
        "    \n",
        "    # Compute optimized LIS values in bottom up manner\n",
        "    for i in range (1, n):\n",
        "        for j in range(i):\n",
        "            if arr[i] > arr[j] and lis[i] < lis[j] + 1:\n",
        "                lis[i] = lis[j]+1\n",
        "                prev[i] = j\n",
        "\n",
        "    # Initialize maximum to 0 to get the maximum of all\n",
        "    # LIS\n",
        "    maximum = 0\n",
        "    idx = 0\n",
        "\n",
        "    # Pick maximum of all LIS values\n",
        "    for i in range(n):\n",
        "        if maximum < lis[i]:\n",
        "            maximum = lis[i]\n",
        "            idx = i\n",
        "\n",
        "    seq = [arr[idx]]\n",
        "    while idx != prev[idx]:\n",
        "        idx = prev[idx]\n",
        "        seq.append(arr[idx])\n",
        "\n",
        "    return (maximum, list(reversed(seq)))\n",
        "\n",
        "(nlis, lis) = algoritmo_LIS(a)   #nlist es el número de elementos de la lista lis\n",
        "print(f\"a_original:\\n{a_original}\")\n",
        "print(\"nlis:\", nlis)\n",
        "print(f\"LIS:\\n{lis}\")"
      ],
      "metadata": {
        "id": "WAFm1lcJXV0B",
        "outputId": "0006cedc-dfd7-4d1b-dc69-f3f890c219f6",
        "colab": {
          "base_uri": "https://localhost:8080/"
        }
      },
      "execution_count": 3,
      "outputs": [
        {
          "output_type": "stream",
          "name": "stdout",
          "text": [
            "a_original:\n",
            "[35, 90, 6, 15, 7, 40, 85, 63, 50, 13, 45, 8, 76, 33, 25, 27, 42, 20, 94, 48, 91, 29, 95, 77, 82, 98, 86, 69, 60, 58, 79, 55, 24, 12, 28, 93, 73, 54, 84, 44, 10, 75, 3, 32, 89, 52, 51, 16, 56, 70, 22, 11, 59, 68, 100, 96, 71, 21, 26, 38, 1, 46, 92, 36, 88, 31, 66, 34, 74, 23, 5, 9, 43, 49, 37, 80, 18, 17, 67, 83, 78, 61, 47, 57, 64, 81, 97, 53, 65, 30, 2, 99, 14, 87, 39, 19, 72, 4, 62, 41]\n",
            "nlis: 17\n",
            "LIS:\n",
            "[6, 7, 13, 25, 27, 42, 48, 55, 56, 59, 68, 71, 74, 80, 83, 97, 99]\n"
          ]
        }
      ]
    },
    {
      "cell_type": "code",
      "source": [
        "# Llevamos de la pila A a la B los elementos de la LIS\n",
        "contador = 0\n",
        "for vlis in lis:\n",
        "    if a.index(vlis) < len(a)/2:\n",
        "        for i in range(a.index(vlis)):\n",
        "            ra(a,b); contador += 1\n",
        "    else:\n",
        "        for i in range(len(a)- a.index(vlis)):\n",
        "            rra(a,b); contador += 1\n",
        "    pb(a,b); contador += 1\n",
        "print(a)\n",
        "print(b)\n",
        "print(contador)"
      ],
      "metadata": {
        "id": "wCS3Dp5i0U5F",
        "outputId": "d82a9c4e-abf5-46a5-eb25-a78c5d7baf89",
        "colab": {
          "base_uri": "https://localhost:8080/"
        }
      },
      "execution_count": 4,
      "outputs": [
        {
          "output_type": "stream",
          "name": "stdout",
          "text": [
            "[14, 87, 39, 19, 72, 4, 62, 41, 35, 90, 15, 40, 85, 63, 50, 45, 8, 76, 33, 20, 94, 91, 29, 95, 77, 82, 98, 86, 69, 60, 58, 79, 24, 12, 28, 93, 73, 54, 84, 44, 10, 75, 3, 32, 89, 52, 51, 16, 70, 22, 11, 100, 96, 21, 26, 38, 1, 46, 92, 36, 88, 31, 66, 34, 23, 5, 9, 43, 49, 37, 18, 17, 67, 78, 61, 47, 57, 64, 81, 53, 65, 30, 2]\n",
            "[99, 97, 83, 80, 74, 71, 68, 59, 56, 55, 48, 42, 27, 25, 13, 7, 6]\n",
            "92\n"
          ]
        }
      ]
    },
    {
      "cell_type": "code",
      "source": [
        "# PASOS NECESARIOS PARA COLOCAR CADA ELEMENTO DE A EN SU SITIO DE B\n",
        "# PASOS NECESARIOS = Pasos necesarios A + Pasos necesarios B\n",
        "\n",
        "# Pasos necesarios para situarse como el primer elemento de la pila A\n",
        "pasosA = []   # [0,1,2, ...,41,-41,... , -2,-1]  vector donde cada index está asociado con el valor del mismo index en A\n",
        "pasosB = []   # [-3,2,-5, ..., -5,0]   estos dos arrays se han de recalcular cada vez que realmente se mueva algún elemento de A a B\n",
        "total_pasos = []\n",
        "\n",
        "def getValorA(a, b):\n",
        "    pasosA = []\n",
        "    for i in a:\n",
        "        if a.index(i) < len(a)/2:\n",
        "            pasosA.append(a.index(i))\n",
        "        else:\n",
        "            pasosA.append(-(len(a)- a.index(i)))\n",
        "    return pasosA\n",
        "\n",
        "def getValorB(a,b):\n",
        "    pasosB = []\n",
        "    for v in a:\n",
        "        try:\n",
        "            objetivo_primero = max([x for x in b if x<v])\n",
        "        except:\n",
        "            objetivo_primero = max(b)   # objetivo_primero calcula el número que se ha de poner en la primera posición de B\n",
        "\n",
        "        if b.index(objetivo_primero) < len(b)/2:\n",
        "            pasosB.append(b.index(objetivo_primero))\n",
        "        else:\n",
        "            pasosB.append(-(len(b)- b.index(objetivo_primero)))\n",
        "    return pasosB\n",
        "\n",
        "pasosA = getValorA(a, b)\n",
        "pasosB = getValorB(a, b)\n",
        "\n",
        "# totalizar pasos\n",
        "total = []\n",
        "for i in range(len(pasosA)):\n",
        "    if pasosA[i] * pasosB[i] < 0:   # si son de distinto signo\n",
        "        total.append(abs(pasosA[i]) + abs(pasosB[i]))\n",
        "    else:\n",
        "        total.append(max(abs(pasosA[i]), abs(pasosB[i])))\n",
        "\n",
        "print(pasosA)\n",
        "print(pasosB)\n",
        "print(total)\n",
        "print(f\"Pasos mínimos: {min(total)}. El valor es: {a[total.index(min(total))]} que está en la pila A en el index: {total.index(min(total))}.\")"
      ],
      "metadata": {
        "id": "UdlpzXahlsoh",
        "outputId": "5b098d6a-6146-4611-f8ba-763ee5e5cd88",
        "colab": {
          "base_uri": "https://localhost:8080/"
        }
      },
      "execution_count": 5,
      "outputs": [
        {
          "output_type": "stream",
          "name": "stdout",
          "text": [
            "[0, 1, 2, 3, 4, 5, 6, 7, 8, 9, 10, 11, 12, 13, 14, 15, 16, 17, 18, 19, 20, 21, 22, 23, 24, 25, 26, 27, 28, 29, 30, 31, 32, 33, 34, 35, 36, 37, 38, 39, 40, 41, -41, -40, -39, -38, -37, -36, -35, -34, -33, -32, -31, -30, -29, -28, -27, -26, -25, -24, -23, -22, -21, -20, -19, -18, -17, -16, -15, -14, -13, -12, -11, -10, -9, -8, -7, -6, -5, -4, -3, -2, -1]\n",
            "[-3, 2, -5, -3, 5, 0, 7, -5, -5, 2, -3, -5, 2, 7, -7, -6, -2, 4, -5, -3, 2, 2, -5, 2, 4, 3, 1, 2, 6, 7, 8, 4, -3, -2, -5, 2, 5, -7, 2, -6, -2, 4, 0, -5, 2, -7, -7, -3, 6, -3, -2, 0, 2, -3, -4, -5, 0, -6, 2, -5, 2, -5, 7, -5, -3, 0, -2, -6, -7, -5, -3, -3, 7, 4, 7, -6, 8, 7, 3, -7, 7, -5, 0]\n",
            "[3, 2, 7, 6, 5, 5, 7, 12, 13, 9, 13, 16, 12, 13, 21, 21, 18, 17, 23, 22, 20, 21, 27, 23, 24, 25, 26, 27, 28, 29, 30, 31, 35, 35, 39, 35, 36, 44, 38, 45, 42, 41, 41, 40, 41, 38, 37, 36, 41, 34, 33, 32, 33, 30, 29, 28, 27, 26, 27, 24, 25, 22, 28, 20, 19, 18, 17, 16, 15, 14, 13, 12, 18, 14, 16, 8, 15, 13, 8, 7, 10, 5, 1]\n",
            "Pasos mínimos: 1. El valor es: 2 que está en la pila A en el index: 82.\n"
          ]
        }
      ]
    },
    {
      "cell_type": "code",
      "source": [
        "# girando pilas A y B\n",
        "def girandoAB(a,b,indice):   # indice es el index del valor en la pila A que deseamos poner el primero\n",
        "    pass"
      ],
      "metadata": {
        "id": "SdM6g1pX70kj"
      },
      "execution_count": 6,
      "outputs": []
    }
  ]
}