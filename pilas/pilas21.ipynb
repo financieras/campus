{
  "nbformat": 4,
  "nbformat_minor": 0,
  "metadata": {
    "colab": {
      "provenance": [],
      "authorship_tag": "ABX9TyOsyX9VgjCBjlGMTo2rdiMH",
      "include_colab_link": true
    },
    "kernelspec": {
      "name": "python3",
      "display_name": "Python 3"
    },
    "language_info": {
      "name": "python"
    }
  },
  "cells": [
    {
      "cell_type": "markdown",
      "metadata": {
        "id": "view-in-github",
        "colab_type": "text"
      },
      "source": [
        "<a href=\"https://colab.research.google.com/github/financieras/campus/blob/main/pilas/pilas21.ipynb\" target=\"_parent\"><img src=\"https://colab.research.google.com/assets/colab-badge.svg\" alt=\"Open In Colab\"/></a>"
      ]
    },
    {
      "cell_type": "markdown",
      "source": [
        "# Push Swap método \"Modern Times\"\n",
        "En honor a la película de 1936 de Chaplin."
      ],
      "metadata": {
        "id": "chidGUe5WoVU"
      }
    },
    {
      "cell_type": "code",
      "execution_count": null,
      "metadata": {
        "id": "FJNpcZStWYia"
      },
      "outputs": [],
      "source": [
        "# FUNCIONES\n",
        "\n",
        "def lista_ordenada(lis, orden_inverso=False): # la función da True si ponemos lista_ordenada([4,3,2,1], orden_inverso=True)\n",
        "    ordenada = False\n",
        "    aux = lis[:]\n",
        "    aux.sort(reverse=orden_inverso)\n",
        "    if aux == lis:\n",
        "        ordenada = True\n",
        "    return ordenada\n",
        "\n",
        "def sa(a,b):\n",
        "    if len(a) > 1: a[0],a[1] = a[1],a[0]\n",
        "    return a,b\n",
        "def sb(a,b):\n",
        "    if len(b) > 1: b[0],b[1] = b[1],b[0]\n",
        "    return a,b\n",
        "def ss(a,b):\n",
        "    sa(a,b)\n",
        "    sb(a,b)\n",
        "    return a,b\n",
        "def pa(a,b):\n",
        "    if len(b) > 0:\n",
        "        a.insert(0, b[0])\n",
        "        b.pop(0)\n",
        "    return a,b\n",
        "def pb(a,b):\n",
        "    if len(a) > 0:\n",
        "        b.insert(0, a[0])\n",
        "        a.pop(0)\n",
        "    return a,b\n",
        "def ra(a,b):\n",
        "    if len(a) > 1: a.append(a.pop(0))\n",
        "    return a,b\n",
        "def rb(a,b):\n",
        "    if len(b) > 1: b.append(b.pop(0))\n",
        "    return a,b\n",
        "def rr(a,b):\n",
        "    ra(a,b)\n",
        "    rb(a,b)\n",
        "    return a,b\n",
        "def rra(a,b):\n",
        "    if len(a) > 1: a.insert(0, a.pop())\n",
        "    return a,b\n",
        "def rrb(a,b):\n",
        "    if len(b) > 1: b.insert(0, b.pop())\n",
        "    return a,b\n",
        "def rrr(a,b):\n",
        "    rra(a,b)\n",
        "    rrb(a,b)\n",
        "    return a,b"
      ]
    },
    {
      "cell_type": "code",
      "source": [
        "# Generación de la pila A\n",
        "from random import sample, seed\n",
        "seed()\n",
        "n = 100   # número de elementos de la pila\n",
        "#a = sample(range(1, n+1), n)\n",
        "a = [35, 90, 6, 15, 7, 40, 85, 63, 50, 13, 45, 8, 76, 33, 25, 27, 42, 20, 94, 48, 91, 29, 95, 77, 82, 98, 86, 69, 60, 58, 79, 55, 24, 12, 28, 93, 73, 54, 84, 44, 10, 75, 3, 32, 89, 52, 51, 16, 56, 70, 22, 11, 59, 68, 100, 96, 71, 21, 26, 38, 1, 46, 92, 36, 88, 31, 66, 34, 74, 23, 5, 9, 43, 49, 37, 80, 18, 17, 67, 83, 78, 61, 47, 57, 64, 81, 97, 53, 65, 30, 2, 99, 14, 87, 39, 19, 72, 4, 62, 41]\n",
        "print('a:', a)\n",
        "b = []\n",
        "a_original = a[:]\n",
        "n = len(a)"
      ],
      "metadata": {
        "id": "nZLaWpTGW8Bu"
      },
      "execution_count": null,
      "outputs": []
    },
    {
      "cell_type": "code",
      "source": [
        "def algoritmo_LIS(arr):\n",
        "    n = len(arr)\n",
        "    lis = [1]*n\n",
        "    prev = list(range(n))  # una lista con los index\n",
        "    \n",
        "    # Compute optimized LIS values in bottom up manner\n",
        "    for i in range (1, n):\n",
        "        for j in range(i):\n",
        "            if arr[i] > arr[j] and lis[i] < lis[j] + 1:\n",
        "                lis[i] = lis[j]+1\n",
        "                prev[i] = j\n",
        "\n",
        "    # Initialize maximum to 0 to get the maximum of all\n",
        "    # LIS\n",
        "    maximum = 0\n",
        "    idx = 0\n",
        "\n",
        "    # Pick maximum of all LIS values\n",
        "    for i in range(n):\n",
        "        if maximum < lis[i]:\n",
        "            maximum = lis[i]\n",
        "            idx = i\n",
        "\n",
        "    seq = [arr[idx]]\n",
        "    while idx != prev[idx]:\n",
        "        idx = prev[idx]\n",
        "        seq.append(arr[idx])\n",
        "\n",
        "    return (maximum, list(reversed(seq)))\n",
        "\n",
        "(nlis, lis) = algoritmo_LIS(a)   #nlist es el número de elementos de la lista lis\n",
        "print(f\"a_original:\\n{a_original}\")\n",
        "print(\"nlis:\", nlis)\n",
        "print(f\"LIS:\\n{lis}\")"
      ],
      "metadata": {
        "id": "WAFm1lcJXV0B"
      },
      "execution_count": null,
      "outputs": []
    },
    {
      "cell_type": "code",
      "source": [
        "# Llevamos de la pila A a la B los elementos de la LIS\n",
        "contador = 0\n",
        "for vlis in lis:\n",
        "    if a.index(vlis) < len(a)/2:\n",
        "        for i in range(a.index(vlis)):\n",
        "            ra(a,b); contador += 1\n",
        "    else:\n",
        "        for i in range(len(a)- a.index(vlis)):\n",
        "            rra(a,b); contador += 1\n",
        "    pb(a,b); contador += 1\n",
        "print(a)\n",
        "print(b)\n",
        "print(contador)"
      ],
      "metadata": {
        "id": "wCS3Dp5i0U5F"
      },
      "execution_count": null,
      "outputs": []
    },
    {
      "cell_type": "code",
      "source": [
        "# PASOS NECESARIOS PARA COLOCAR CADA ELEMENTO DE A EN SU SITIO DE B\n",
        "# PASOS NECESARIOS = Pasos necesarios A + Pasos necesarios B\n",
        "\n",
        "# Pasos necesarios para situarse como el primer elemento de la pila A\n",
        "pasosA = []   # [0,1,2, ...,41,-41,... , -2,-1]  vector donde cada index está asociado con el valor del mismo index en A\n",
        "pasosB = []   # [-3,2,-5, ..., -5,0]   estos dos arrays se han de recalcular cada vez que realmente se mueva algún elemento de A a B\n",
        "total_pasos = []\n",
        "\n",
        "def getValorA(a, b):\n",
        "    pasosA = []\n",
        "    for i in a:\n",
        "        if a.index(i) < len(a)/2:\n",
        "            pasosA.append(a.index(i))\n",
        "        else:\n",
        "            pasosA.append(-(len(a)- a.index(i)))\n",
        "    return pasosA\n",
        "\n",
        "def getValorB(a,b):\n",
        "    pasosB = []\n",
        "    for v in a:\n",
        "        try:\n",
        "            objetivo_primero = max([x for x in b if x<v])\n",
        "        except:\n",
        "            objetivo_primero = max(b)   # objetivo_primero calcula el número que se ha de poner en la primera posición de B\n",
        "\n",
        "        if b.index(objetivo_primero) < len(b)/2:\n",
        "            pasosB.append(b.index(objetivo_primero))\n",
        "        else:\n",
        "            pasosB.append(-(len(b)- b.index(objetivo_primero)))\n",
        "    return pasosB\n",
        "\n",
        "print(getValorA(a,b))\n",
        "print(getValorB(a,b))"
      ],
      "metadata": {
        "id": "UdlpzXahlsoh"
      },
      "execution_count": null,
      "outputs": []
    },
    {
      "cell_type": "code",
      "source": [
        "# totalizar\n",
        "total = []\n",
        "pasosA = [0,1,2,3,4,5,6,7,8,9,-9,-8,-7,-6,-5,-4,-3,-2,-1]\n",
        "pasosB = [-3,2,-5,3,-9,-5,6,7,-2,1,4,-6,-3,2,-5,-4,3,-2,0]\n",
        "for i in range(len(pasosA)):\n",
        "    if pasosA[i]\n",
        "    total.append(t)"
      ],
      "metadata": {
        "id": "WBBHcT3q0ZKz"
      },
      "execution_count": null,
      "outputs": []
    }
  ]
}