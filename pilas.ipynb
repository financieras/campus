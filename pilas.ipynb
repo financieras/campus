{
  "nbformat": 4,
  "nbformat_minor": 0,
  "metadata": {
    "colab": {
      "provenance": [],
      "authorship_tag": "ABX9TyOldbckvKrX2yajG1DWEFv+",
      "include_colab_link": true
    },
    "kernelspec": {
      "name": "python3",
      "display_name": "Python 3"
    },
    "language_info": {
      "name": "python"
    }
  },
  "cells": [
    {
      "cell_type": "markdown",
      "metadata": {
        "id": "view-in-github",
        "colab_type": "text"
      },
      "source": [
        "<a href=\"https://colab.research.google.com/github/financieras/test/blob/main/pilas.ipynb\" target=\"_parent\"><img src=\"https://colab.research.google.com/assets/colab-badge.svg\" alt=\"Open In Colab\"/></a>"
      ]
    },
    {
      "cell_type": "markdown",
      "source": [
        "# Ordenar pilas"
      ],
      "metadata": {
        "id": "-4NXCJlvqrhQ"
      }
    },
    {
      "cell_type": "code",
      "execution_count": 12,
      "metadata": {
        "colab": {
          "base_uri": "https://localhost:8080/"
        },
        "id": "KpPPQlrZqqbi",
        "outputId": "d306be08-b557-43d3-fff5-039cbf124e6f"
      },
      "outputs": [
        {
          "output_type": "stream",
          "name": "stdout",
          "text": [
            "a: [26, 10, 23, 16, 20, 25, 22, 30, 12, 17]\n",
            "b: []\n"
          ]
        }
      ],
      "source": [
        "# Generación de la pila a\n",
        "from random import sample, seed\n",
        "seed()\n",
        "n = 10   # número de elementos de la pila\n",
        "a = sample(range(10, 2*n+11), n)\n",
        "b = []\n",
        "print('a:', a)\n",
        "print('b:', b)"
      ]
    }
  ]
}