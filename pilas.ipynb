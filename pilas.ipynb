{
  "nbformat": 4,
  "nbformat_minor": 0,
  "metadata": {
    "colab": {
      "provenance": [],
      "authorship_tag": "ABX9TyOSSr8e2l4WicE70QbuSH6z",
      "include_colab_link": true
    },
    "kernelspec": {
      "name": "python3",
      "display_name": "Python 3"
    },
    "language_info": {
      "name": "python"
    }
  },
  "cells": [
    {
      "cell_type": "markdown",
      "metadata": {
        "id": "view-in-github",
        "colab_type": "text"
      },
      "source": [
        "<a href=\"https://colab.research.google.com/github/financieras/test/blob/main/pilas.ipynb\" target=\"_parent\"><img src=\"https://colab.research.google.com/assets/colab-badge.svg\" alt=\"Open In Colab\"/></a>"
      ]
    },
    {
      "cell_type": "markdown",
      "source": [
        "# Ordenar pilas\n",
        "El juego se compone de dos stacks, llamados a y b.\n",
        "* Para empezar:\n",
        " - En a tendrás números positivos y/o negativos, nunca duplicados.\n",
        " - En b no habrá nada.\n",
        "* El objetivo es ordenar los números del stack a en orden ascendente\n",
        "* Operaciones disponibles:\n",
        " - **sa** : swap a - intercambia los dos primeros elementos encima del stack a. No hace nada si hay uno o menos elementos.\n",
        " - **sb** : swap b - intercambia los dos primeros elementos encima del stack b. No hace nada si hay uno o menos elementos.\n",
        " - **ss** : swap a y swap b a la vez.\n",
        " - **pa** : push a - toma el primer elemento del stack b y lo pone encima del stack a. No hace nada si b está vacío.\n",
        " - **pb** : push b - toma el primer elemento del stack a y lo pone encima del stack b. No hace nada si a está vacío.\n",
        " - **ra** : rotate a - desplaza hacia arriba todos los elementos del stack a una posición, de forma que el primer elemento se convierte en el último.\n",
        " - **rb** : rotate b - desplaza hacia arriba todos los elementos del stack b una posición, de forma que el primer elemento se convierte en el último.\n",
        " - **rr** : rotate a y rotate b - desplaza al mismo tiempo todos los elementos del stack a y del stack b una posición hacia arriba, de forma que el primer elemento se convierte en el último.\n",
        " - **rra** : reverse rotate a - desplaza hacia abajo todos los elementos del stack a una posición, de forma que el último elemento se convierte en el primero.\n",
        " - **rrb** : reverse rotate b - desplaza hacia abajo todos los elementos del stack b una posición, de forma que el último elemento se convierte en el primero.\n",
        " - **rrr** : reverse rotate a y reverse rotate b - desplaza al mismo tiempo todos los elementos del stack a y del stack b una posición hacia abajo, de forma que el último elemento se convierte en el primero."
      ],
      "metadata": {
        "id": "-4NXCJlvqrhQ"
      }
    },
    {
      "cell_type": "code",
      "execution_count": 18,
      "metadata": {
        "colab": {
          "base_uri": "https://localhost:8080/"
        },
        "id": "KpPPQlrZqqbi",
        "outputId": "6832ca1d-974c-4027-a9ff-9727ec651578"
      },
      "outputs": [
        {
          "output_type": "stream",
          "name": "stdout",
          "text": [
            "a: [2, 1, 3, 6, 5, 8]\n",
            "b: []\n"
          ]
        }
      ],
      "source": [
        "# Generación de la pila a\n",
        "from random import sample, seed\n",
        "seed()\n",
        "n = 10   # número de elementos de la pila\n",
        "a = sample(range(10, 2*n+11), n)\n",
        "b = []\n",
        "a = [2,1,3,6,5,8]   # valores de ejemplo\n",
        "print('a:', a)\n",
        "print('b:', b)"
      ]
    },
    {
      "cell_type": "code",
      "source": [
        "# sa : swap a - intercambia los dos primeros elementos encima del stack a. No hace nada si hay uno o menos elementos.\n",
        "def sa(a,b):\n",
        "    if len(a)>1:\n",
        "        a[0],a[1] = a[1],a[0]\n",
        "    return a,b\n",
        "\n",
        "a,b = sa(a,b)\n",
        "print(a)\n",
        "print(b)"
      ],
      "metadata": {
        "colab": {
          "base_uri": "https://localhost:8080/"
        },
        "id": "w2hoCQ3C3PWr",
        "outputId": "d4ee4a20-be9f-4e33-d4fd-f66f8b662ecc"
      },
      "execution_count": 19,
      "outputs": [
        {
          "output_type": "stream",
          "name": "stdout",
          "text": [
            "[1, 2, 3, 6, 5, 8]\n",
            "[]\n"
          ]
        }
      ]
    },
    {
      "cell_type": "code",
      "source": [
        "# sb : swap b - intercambia los dos primeros elementos encima del stack b. No hace nada si hay uno o menos elementos.\n",
        "def sb(a,b):\n",
        "    if len(b)>1:\n",
        "        b[0],b[1] = b[1],b[0]\n",
        "    return a,b\n",
        "\n",
        "a,b = sb(a,b)\n",
        "print(a)\n",
        "print(b)"
      ],
      "metadata": {
        "colab": {
          "base_uri": "https://localhost:8080/"
        },
        "id": "iSVEfK_N4y9C",
        "outputId": "b04530d1-e05b-41e8-cac0-d2cd2daec075"
      },
      "execution_count": 20,
      "outputs": [
        {
          "output_type": "stream",
          "name": "stdout",
          "text": [
            "[1, 2, 3, 6, 5, 8]\n",
            "[]\n"
          ]
        }
      ]
    },
    {
      "cell_type": "code",
      "source": [
        "# ss : swap a y swap b a la vez.\n",
        "def ss(a,b):\n",
        "    sa(a,b)\n",
        "    sb(a,b)\n",
        "    return a,b\n",
        "\n",
        "a,b = ss(a,b)\n",
        "print(a)\n",
        "print(b)"
      ],
      "metadata": {
        "id": "T0V6NziL4-Y5"
      },
      "execution_count": null,
      "outputs": []
    },
    {
      "cell_type": "code",
      "source": [
        "# pa : push a - toma el primer elemento del stack b y lo pone encima del stack a. No hace nada si b está vacío.\n",
        "def pa(a,b):\n",
        "    if len(b)>0:\n",
        "        a.insert(0, b[0])\n",
        "        b.pop(0)\n",
        "    return a,b\n",
        "a,b = pa(a,b)\n",
        "print(a)\n",
        "print(b)"
      ],
      "metadata": {
        "colab": {
          "base_uri": "https://localhost:8080/"
        },
        "id": "_zGyZMT15zN9",
        "outputId": "efc90f99-696e-4d5d-a72a-da7d9440dc3a"
      },
      "execution_count": 24,
      "outputs": [
        {
          "output_type": "stream",
          "name": "stdout",
          "text": [
            "[1, 2, 3, 4]\n",
            "[]\n"
          ]
        }
      ]
    },
    {
      "cell_type": "code",
      "source": [
        "# pb : push b - toma el primer elemento del stack a y lo pone encima del stack b. No hace nada si a está vacío.\n",
        "def pb(a,b):\n",
        "    if len(a)>0:\n",
        "        b.insert(0, a[0])\n",
        "        a.pop(0)\n",
        "    return a,b\n",
        "a = []\n",
        "b = [1,2,3,4]\n",
        "a,b = pb(a,b)\n",
        "print(a)\n",
        "print(b)"
      ],
      "metadata": {
        "colab": {
          "base_uri": "https://localhost:8080/"
        },
        "id": "tx-uEEMx8Rgf",
        "outputId": "f85cd1b6-7ac0-4744-ce2a-c732c7f7b5b5"
      },
      "execution_count": 27,
      "outputs": [
        {
          "output_type": "stream",
          "name": "stdout",
          "text": [
            "[]\n",
            "[1, 2, 3, 4]\n"
          ]
        }
      ]
    }
  ]
}