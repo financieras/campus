{
  "nbformat": 4,
  "nbformat_minor": 0,
  "metadata": {
    "colab": {
      "name": "matriz_5x5.ipynb",
      "provenance": [],
      "authorship_tag": "ABX9TyNIaRJWrrLYltqSpoyTqMMZ",
      "include_colab_link": true
    },
    "kernelspec": {
      "name": "python3",
      "display_name": "Python 3"
    },
    "language_info": {
      "name": "python"
    }
  },
  "cells": [
    {
      "cell_type": "markdown",
      "metadata": {
        "id": "view-in-github",
        "colab_type": "text"
      },
      "source": [
        "<a href=\"https://colab.research.google.com/github/financieras/test/blob/main/matriz_5x5.ipynb\" target=\"_parent\"><img src=\"https://colab.research.google.com/assets/colab-badge.svg\" alt=\"Open In Colab\"/></a>"
      ]
    },
    {
      "cell_type": "markdown",
      "source": [
        "# Matriz 5x5"
      ],
      "metadata": {
        "id": "z4fLvnFOYMf0"
      }
    },
    {
      "cell_type": "code",
      "execution_count": 2,
      "metadata": {
        "colab": {
          "base_uri": "https://localhost:8080/"
        },
        "id": "nxBZSbZNRSuP",
        "outputId": "8b40f6cc-0b4e-411f-9669-9cb90e68186b"
      },
      "outputs": [
        {
          "output_type": "stream",
          "name": "stdout",
          "text": [
            "[1, 2, 3, 4, 5]\n",
            "El número de permutaciones posibles de 5 elementos es: 120\n"
          ]
        }
      ],
      "source": [
        "from math import factorial\n",
        "n = 5   # matriz de orden nxn\n",
        "lista = list(range(1,n+1))   # lista con los elementos a permutar\n",
        "print(lista)\n",
        "\n",
        "n = len(lista)   # n es la longitud de la lista\n",
        "\n",
        "print(f\"El número de permutaciones posibles de {n} elementos es: {factorial(n)}\")"
      ]
    },
    {
      "cell_type": "code",
      "source": [
        "import itertools\n",
        "def permutations(elements):\n",
        "    if len(elements) <= 1:\n",
        "        yield elements\n",
        "        return\n",
        "    for perm in permutations(elements[1:]):\n",
        "        for i in range(len(elements)):\n",
        "            # nb elements[0:1] works in both string and list contexts\n",
        "            yield perm[:i] + elements[0:1] + perm[i:]\n",
        "\n",
        "p = list(permutations(lista))\n",
        "np = len(p)   # p contiene todas las permutaciones posibles de la lista\n",
        "print(np)"
      ],
      "metadata": {
        "colab": {
          "base_uri": "https://localhost:8080/"
        },
        "id": "nnDkX9XzSISv",
        "outputId": "4a205fcc-e9c3-409d-911e-e597530ab534"
      },
      "execution_count": 3,
      "outputs": [
        {
          "output_type": "stream",
          "name": "stdout",
          "text": [
            "120\n"
          ]
        }
      ]
    },
    {
      "cell_type": "code",
      "source": [
        "from random import seed, randint, sample\n",
        "seed()\n",
        "\n",
        "def comparalo(l, m):   # compara la lista l con las listas de m\n",
        "    distinto = True\n",
        "    for i in range(len(m)):\n",
        "        for j in range(n):\n",
        "            if l[j]==m[i][j]: distinto = False\n",
        "    return distinto\n",
        "\n",
        "def busca():\n",
        "    m = []\n",
        "    for fila in range(n):   # las cuatro filas de la matriz m\n",
        "        cp = p[:]   # cp es una copia de p\n",
        "        cp = sample(cp, np)  # barajamos cp\n",
        "        if fila == 0:   # primera fila de la matriz m\n",
        "            m.append(cp[0])   # la primera candidata se añade a m seguro\n",
        "        else:\n",
        "            for c in cp:   # lista candidata tomada de cp\n",
        "                if comparalo(c, m):\n",
        "                    m.append(c)\n",
        "                    break\n",
        "    return m        \n",
        "\n",
        "if __name__==\"__main__\":\n",
        "    m = busca()\n",
        "    print(m, \"\\n\")\n",
        "    for i in range(n):\n",
        "        print(*m[i])"
      ],
      "metadata": {
        "colab": {
          "base_uri": "https://localhost:8080/"
        },
        "id": "Fk_UMlI8Wr7v",
        "outputId": "65dfd23e-2e5a-4d45-9070-7e4bb2348fb6"
      },
      "execution_count": 4,
      "outputs": [
        {
          "output_type": "stream",
          "name": "stdout",
          "text": [
            "[[1, 2, 5, 4, 3], [4, 5, 1, 3, 2], [3, 1, 4, 2, 5], [5, 3, 2, 1, 4], [2, 4, 3, 5, 1]] \n",
            "\n",
            "1 2 5 4 3\n",
            "4 5 1 3 2\n",
            "3 1 4 2 5\n",
            "5 3 2 1 4\n",
            "2 4 3 5 1\n"
          ]
        }
      ]
    },
    {
      "cell_type": "code",
      "source": [
        "import time\n",
        "start = time.perf_counter()\n",
        "\n",
        "def calcula_allm():\n",
        "    allm = []\n",
        "    contador = 0\n",
        "    num = np**2   # si n=5 entonces num=14400\n",
        "    while contador < num+100:\n",
        "        candidata = busca()\n",
        "        if candidata not in allm:\n",
        "            allm.append(candidata)\n",
        "            contador += 1\n",
        "    return allm\n",
        "\n",
        "allm = calcula_allm()\n",
        "end = time.perf_counter()\n",
        "print(f\"Time taken is {end - start}\")\n",
        "\n",
        "#print(sorted(allm))\n",
        "print(len(allm))"
      ],
      "metadata": {
        "colab": {
          "base_uri": "https://localhost:8080/"
        },
        "id": "pKc4dCMpXmeo",
        "outputId": "7bee0d4e-ae3b-4c26-b4ed-5362f2caaae5"
      },
      "execution_count": 36,
      "outputs": [
        {
          "output_type": "stream",
          "name": "stdout",
          "text": [
            "Time taken is 18.66813907200003\n",
            "14500\n"
          ]
        }
      ]
    },
    {
      "cell_type": "code",
      "source": [
        "def calcula_allm():\n",
        "    allm = []\n",
        "    contador = 0\n",
        "    num = np**2   # si n=5 entonces num=14400\n",
        "    while contador < 1_000_001:   #num:\n",
        "        candidata = busca()\n",
        "        if candidata not in allm:\n",
        "            allm.append(candidata)\n",
        "            contador += 1\n",
        "            if contador > 159_000: print(contador)\n",
        "    return allm\n",
        "\n",
        "allm = calcula_allm()\n",
        "\n",
        "#print(sorted(allm))\n",
        "print(len(allm))"
      ],
      "metadata": {
        "colab": {
          "base_uri": "https://localhost:8080/",
          "height": 1000
        },
        "id": "7LOyuUsElL4z",
        "outputId": "3915b242-995f-4511-a4a3-9c5f66fbcd10"
      },
      "execution_count": 6,
      "outputs": [
        {
          "output_type": "stream",
          "name": "stdout",
          "text": [
            "101000\n",
            "102000\n",
            "103000\n",
            "104000\n",
            "105000\n",
            "106000\n",
            "107000\n",
            "108000\n",
            "109000\n",
            "110000\n",
            "111000\n",
            "112000\n",
            "113000\n",
            "114000\n",
            "115000\n",
            "116000\n",
            "117000\n",
            "118000\n",
            "119000\n",
            "120000\n",
            "121000\n",
            "122000\n",
            "123000\n",
            "124000\n",
            "125000\n",
            "126000\n",
            "127000\n",
            "128000\n",
            "129000\n",
            "130000\n",
            "131000\n",
            "132000\n",
            "133000\n",
            "134000\n",
            "135000\n",
            "136000\n",
            "137000\n",
            "138000\n",
            "139000\n",
            "140000\n",
            "141000\n",
            "142000\n",
            "143000\n",
            "144000\n",
            "145000\n",
            "146000\n",
            "147000\n",
            "148000\n",
            "149000\n",
            "150000\n",
            "151000\n",
            "152000\n",
            "153000\n",
            "154000\n",
            "155000\n",
            "156000\n",
            "157000\n",
            "158000\n",
            "159000\n"
          ]
        },
        {
          "output_type": "error",
          "ename": "KeyboardInterrupt",
          "evalue": "ignored",
          "traceback": [
            "\u001b[0;31m---------------------------------------------------------------------------\u001b[0m",
            "\u001b[0;31mKeyboardInterrupt\u001b[0m                         Traceback (most recent call last)",
            "\u001b[0;32m<ipython-input-6-e81d1b65c74f>\u001b[0m in \u001b[0;36m<module>\u001b[0;34m()\u001b[0m\n\u001b[1;32m     11\u001b[0m     \u001b[0;32mreturn\u001b[0m \u001b[0mallm\u001b[0m\u001b[0;34m\u001b[0m\u001b[0;34m\u001b[0m\u001b[0m\n\u001b[1;32m     12\u001b[0m \u001b[0;34m\u001b[0m\u001b[0m\n\u001b[0;32m---> 13\u001b[0;31m \u001b[0mallm\u001b[0m \u001b[0;34m=\u001b[0m \u001b[0mcalcula_allm\u001b[0m\u001b[0;34m(\u001b[0m\u001b[0;34m)\u001b[0m\u001b[0;34m\u001b[0m\u001b[0;34m\u001b[0m\u001b[0m\n\u001b[0m\u001b[1;32m     14\u001b[0m \u001b[0;34m\u001b[0m\u001b[0m\n\u001b[1;32m     15\u001b[0m \u001b[0;31m#print(sorted(allm))\u001b[0m\u001b[0;34m\u001b[0m\u001b[0;34m\u001b[0m\u001b[0;34m\u001b[0m\u001b[0m\n",
            "\u001b[0;32m<ipython-input-6-e81d1b65c74f>\u001b[0m in \u001b[0;36mcalcula_allm\u001b[0;34m()\u001b[0m\n\u001b[1;32m      5\u001b[0m     \u001b[0;32mwhile\u001b[0m \u001b[0mcontador\u001b[0m \u001b[0;34m<\u001b[0m \u001b[0;36m1_000_001\u001b[0m\u001b[0;34m:\u001b[0m   \u001b[0;31m#num:\u001b[0m\u001b[0;34m\u001b[0m\u001b[0;34m\u001b[0m\u001b[0m\n\u001b[1;32m      6\u001b[0m         \u001b[0mcandidata\u001b[0m \u001b[0;34m=\u001b[0m \u001b[0mbusca\u001b[0m\u001b[0;34m(\u001b[0m\u001b[0;34m)\u001b[0m\u001b[0;34m\u001b[0m\u001b[0;34m\u001b[0m\u001b[0m\n\u001b[0;32m----> 7\u001b[0;31m         \u001b[0;32mif\u001b[0m \u001b[0mcandidata\u001b[0m \u001b[0;32mnot\u001b[0m \u001b[0;32min\u001b[0m \u001b[0mallm\u001b[0m\u001b[0;34m:\u001b[0m\u001b[0;34m\u001b[0m\u001b[0;34m\u001b[0m\u001b[0m\n\u001b[0m\u001b[1;32m      8\u001b[0m             \u001b[0mallm\u001b[0m\u001b[0;34m.\u001b[0m\u001b[0mappend\u001b[0m\u001b[0;34m(\u001b[0m\u001b[0mcandidata\u001b[0m\u001b[0;34m)\u001b[0m\u001b[0;34m\u001b[0m\u001b[0;34m\u001b[0m\u001b[0m\n\u001b[1;32m      9\u001b[0m             \u001b[0mcontador\u001b[0m \u001b[0;34m+=\u001b[0m \u001b[0;36m1\u001b[0m\u001b[0;34m\u001b[0m\u001b[0;34m\u001b[0m\u001b[0m\n",
            "\u001b[0;31mKeyboardInterrupt\u001b[0m: "
          ]
        }
      ]
    }
  ]
}