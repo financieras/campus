{
  "nbformat": 4,
  "nbformat_minor": 0,
  "metadata": {
    "colab": {
      "name": "test_rush01.ipynb",
      "provenance": [],
      "collapsed_sections": [],
      "authorship_tag": "ABX9TyP5P+FJZBfn0We7vOo3dpyX",
      "include_colab_link": true
    },
    "kernelspec": {
      "name": "python3",
      "display_name": "Python 3"
    },
    "language_info": {
      "name": "python"
    }
  },
  "cells": [
    {
      "cell_type": "markdown",
      "metadata": {
        "id": "view-in-github",
        "colab_type": "text"
      },
      "source": [
        "<a href=\"https://colab.research.google.com/github/financieras/test/blob/main/test_rush01.ipynb\" target=\"_parent\"><img src=\"https://colab.research.google.com/assets/colab-badge.svg\" alt=\"Open In Colab\"/></a>"
      ]
    },
    {
      "cell_type": "code",
      "source": [
        "# Generamos las Permutaciones de 4 elementos que son 4! = 24\n",
        "\n",
        "def perm(a, k=0):    # genera las permutaciones por recursión\n",
        "   if k == len(a):\n",
        "      print(a)\n",
        "   else:\n",
        "      for i in range(k, len(a)):\n",
        "         a[k], a[i] = a[i] ,a[k]\n",
        "         perm(a, k+1)\n",
        "         a[k], a[i] = a[i], a[k]\n",
        "\n",
        "perm([1,2,3,4])"
      ],
      "metadata": {
        "id": "_pR9q9dS-X5g"
      },
      "execution_count": null,
      "outputs": []
    },
    {
      "cell_type": "code",
      "execution_count": null,
      "metadata": {
        "id": "1OA4qoNz5DbI"
      },
      "outputs": [],
      "source": [
        "def visualiza(vector):\n",
        "    permutaciones = [[1, 2, 3, 4],\n",
        "                    [1, 2, 4, 3],\n",
        "                    [1, 3, 2, 4],\n",
        "                    [1, 3, 4, 2],\n",
        "                    [1, 4, 3, 2],\n",
        "                    [1, 4, 2, 3],\n",
        "                    [2, 1, 3, 4],\n",
        "                    [2, 1, 4, 3],\n",
        "                    [2, 3, 1, 4],\n",
        "                    [2, 3, 4, 1],\n",
        "                    [2, 4, 3, 1],\n",
        "                    [2, 4, 1, 3],\n",
        "                    [3, 2, 1, 4],\n",
        "                    [3, 2, 4, 1],\n",
        "                    [3, 1, 2, 4],\n",
        "                    [3, 1, 4, 2],\n",
        "                    [3, 4, 1, 2],\n",
        "                    [3, 4, 2, 1],\n",
        "                    [4, 2, 3, 1],\n",
        "                    [4, 2, 1, 3],\n",
        "                    [4, 3, 2, 1],\n",
        "                    [4, 3, 1, 2],\n",
        "                    [4, 1, 3, 2],\n",
        "                    [4, 1, 2, 3]]\n",
        "    vista = [4,3,3,3,2,2,3,2,3,3,2,2,2,2,2,2,2,2,1,1,1,1,1,1]   # revisado que se corresponde con las permutaciones\n",
        "    for i in range(len(permutaciones)):\n",
        "        if permutaciones[i] == vector:\n",
        "            return vista[i]\n",
        "if __name__ == \"__main__\":\n",
        "    print(visualiza([1, 2, 3, 4]))"
      ]
    },
    {
      "cell_type": "code",
      "source": [
        "# Generando todos los números posibles en toda la matriz\n",
        "contador = 0\n",
        "m = [[0]*4 for _ in range(4)]\n",
        "for i1 in range(1,5):\n",
        "    for j1 in range(1,5):\n",
        "        for k1 in range(1,5):\n",
        "            for l1 in range(1,5):\n",
        "                if i1 != j1 and i1 != k1 and i1 != l1 and j1 != k1 and j1 != l1 and k1 != l1:\n",
        "                    m[0] = [i1, j1, k1, l1]   # primero fila (24 posibilidad: C(24,4))\n",
        "                    #print(m[0])\n",
        "                    for i2 in range(1,5):\n",
        "                        for j2 in range(1,5):\n",
        "                            for k2 in range(1,5):\n",
        "                                for l2 in range(1,5):\n",
        "                                    if i2 != j2 and i2 != k2 and i2 != l2 and j2 != k2 and j2 != l2 and k2 != l2 and i1 != i2 and j1 != j2 and k1 != k2 and l1 != l2:\n",
        "                                        m[1] = [i2, j2, k2, l2]   # segunda fila\n",
        "                                        #print(m[0], m[1])\n",
        "                                        for i3 in range(1,5):\n",
        "                                            for j3 in range(1,5):\n",
        "                                                for k3 in range(1,5):\n",
        "                                                    for l3 in range(1,5):\n",
        "                                                        if i3 != j3 and i3 != k3 and i3 != l3 and j3 != k3 and j3 != l3 and k3 != l3 and i1 != i3 and j1 != j3 and k1 != k3 and l1 != l3 and i2 != i3 and j2 != j3 and k2 != k3 and l2 != l3:\n",
        "                                                            m[2] = [i3, j3, k3, l3]   # tercera fila\n",
        "                                                            #print(m[0], m[1], m[2])\n",
        "                                                            for i4 in range(1,5):\n",
        "                                                                for j4 in range(1,5):\n",
        "                                                                    for k4 in range(1,5):\n",
        "                                                                        for l4 in range(1,5):\n",
        "                                                                            if i4 != j4 and i4 != k4 and i4 != l4 and j4 != k4 and j4 != l4 and k4 != l4 and i1 != i4 and j1 != j4 and k1 != k4 and l1 != l4 and i2 != i4 and j2 != j4 and k2 != k4 and l2 != l4 and i3 != i4 and j3 != j4 and k3 != k4 and l3 != l4:\n",
        "                                                                                m[3] = [i4, j4, k4, l4]   # cuarta fila\n",
        "                                                                                contador += 1\n",
        "                                                                                #print(m[0], m[1], m[2])\n",
        "                                                                                print(m, contador)\n"
      ],
      "metadata": {
        "id": "w-ZB7mTJCfWO"
      },
      "execution_count": null,
      "outputs": []
    },
    {
      "cell_type": "code",
      "source": [
        "# Generando todos los números posibles en toda la matriz\n",
        "allm = []\n",
        "m = [[0]*4 for _ in range(4)]\n",
        "for i1 in range(1,5):\n",
        "    for j1 in range(1,5):\n",
        "        for k1 in range(1,5):\n",
        "            for l1 in range(1,5):\n",
        "                if i1 != j1 and i1 != k1 and i1 != l1 and j1 != k1 and j1 != l1 and k1 != l1:\n",
        "                    m[0] = [i1, j1, k1, l1]   # primero fila (24 posibilidad: C(24,4))\n",
        "                    for i2 in range(1,5):\n",
        "                        for j2 in range(1,5):\n",
        "                            for k2 in range(1,5):\n",
        "                                for l2 in range(1,5):\n",
        "                                    if i2 != j2 and i2 != k2 and i2 != l2 and j2 != k2 and j2 != l2 and k2 != l2 and i1 != i2 and j1 != j2 and k1 != k2 and l1 != l2:\n",
        "                                        m[1] = [i2, j2, k2, l2]   # segunda fila\n",
        "                                        for i3 in range(1,5):\n",
        "                                            for j3 in range(1,5):\n",
        "                                                for k3 in range(1,5):\n",
        "                                                    for l3 in range(1,5):\n",
        "                                                        if i3 != j3 and i3 != k3 and i3 != l3 and j3 != k3 and j3 != l3 and k3 != l3 and i1 != i3 and j1 != j3 and k1 != k3 and l1 != l3 and i2 != i3 and j2 != j3 and k2 != k3 and l2 != l3:\n",
        "                                                            m[2] = [i3, j3, k3, l3]   # tercera fila\n",
        "                                                            for i4 in range(1,5):\n",
        "                                                                for j4 in range(1,5):\n",
        "                                                                    for k4 in range(1,5):\n",
        "                                                                        for l4 in range(1,5):\n",
        "                                                                            if i4 != j4 and i4 != k4 and i4 != l4 and j4 != k4 and j4 != l4 and k4 != l4 and i1 != i4 and j1 != j4 and k1 != k4 and l1 != l4 and i2 != i4 and j2 != j4 and k2 != k4 and l2 != l4 and i3 != i4 and j3 != j4 and k3 != k4 and l3 != l4:\n",
        "                                                                                m[3] = [i4, j4, k4, l4]   # cuarta fila\n",
        "                                                                                #allm.append(m)\n",
        "                                                                                #print(m)\n",
        "                                                                                aux_matrix = m[:] # equivale a una copia profunda que es necesario hacer en Python\n",
        "                                                                                allm.append(aux_matrix)\n",
        "\n",
        "print(\"Matrices que pueden llegar a existir:\", len(allm))\n",
        "print()\n",
        "\n",
        "\n",
        "# Vamos a calcular el array con las 16 vistas de cada matriz en su orden\n",
        "listapistas = []    # lista con las 16 pistas\n",
        "for i in range(len(allm)):\n",
        "    vc = [0]*16   # vector consultado\n",
        "    vc[0] = [allm[i][0][0], allm[i][1][0], allm[i][2][0], allm[i][3][0]]\n",
        "    vc[1] = [allm[i][0][1], allm[i][1][1], allm[i][2][1], allm[i][3][1]]\n",
        "    vc[2] = [allm[i][0][2], allm[i][1][2], allm[i][2][2], allm[i][3][2]]\n",
        "    vc[3] = [allm[i][0][3], allm[i][1][3], allm[i][2][3], allm[i][3][3]]\n",
        "\n",
        "    vc[4] = [allm[i][3][0], allm[i][2][0], allm[i][1][0], allm[i][0][0]]\n",
        "    vc[5] = [allm[i][3][1], allm[i][2][1], allm[i][1][1], allm[i][0][1]]\n",
        "    vc[6] = [allm[i][3][2], allm[i][2][2], allm[i][1][2], allm[i][0][2]]\n",
        "    vc[7] = [allm[i][3][3], allm[i][2][3], allm[i][1][3], allm[i][0][3]]\n",
        "\n",
        "    vc[8] = [allm[i][0][0], allm[i][0][1], allm[i][0][2], allm[i][0][3]]\n",
        "    vc[9] = [allm[i][1][0], allm[i][1][1], allm[i][1][2], allm[i][1][3]]\n",
        "    vc[10] = [allm[i][2][0], allm[i][2][1], allm[i][2][2], allm[i][2][3]]\n",
        "    vc[11] = [allm[i][3][0], allm[i][3][1], allm[i][3][2], allm[i][3][3]]\n",
        "\n",
        "    vc[12] = [allm[i][0][3], allm[i][0][2], allm[i][0][1], allm[i][0][0]]\n",
        "    vc[13] = [allm[i][1][3], allm[i][1][2], allm[i][1][1], allm[i][1][0]]\n",
        "    vc[14] = [allm[i][2][3], allm[i][2][2], allm[i][2][1], allm[i][2][0]]\n",
        "    vc[15] = [allm[i][3][3], allm[i][3][2], allm[i][3][1], allm[i][3][0]]\n",
        "    pistas = \"\"\n",
        "    for j in range(16):\n",
        "        pistas += str(visualiza(vc[j])) + \" \"\n",
        "    pistas = pistas[:-1]\n",
        "    listapistas.append(pistas)\n",
        "    \n",
        "print(listapistas)\n",
        "    \n",
        "\n",
        "\n",
        "#for i in range(len(allm)):\n",
        "#    print(*allm[i])"
      ],
      "metadata": {
        "id": "L2Cju0mwgJFn"
      },
      "execution_count": null,
      "outputs": []
    },
    {
      "cell_type": "code",
      "source": [
        "input = '4 3 2 1 1 2 2 2 4 3 2 1 1 2 2 2'   # es la pista de indice 4 dentro de  listapistas\n",
        "indice_listapistas = listapistas.index(input)\n",
        "print(indice_listapistas)   # si da 4 es que es el index 4 y está correcto para este caso"
      ],
      "metadata": {
        "id": "LWU7-NxR9Ftr"
      },
      "execution_count": null,
      "outputs": []
    },
    {
      "cell_type": "code",
      "source": [
        "print(allm[indice_listapistas])\n",
        "print()\n",
        "\n",
        "for i in range(4):\n",
        "    print(*allm[indice_listapistas][i])\n",
        "\n",
        "# comprobado que las pistas del input coinciden con las pistas de esta matriz obtenidas de forma manual"
      ],
      "metadata": {
        "id": "uBNpxE1l-sFf"
      },
      "execution_count": null,
      "outputs": []
    }
  ]
}