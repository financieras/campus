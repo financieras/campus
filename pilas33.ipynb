{
  "nbformat": 4,
  "nbformat_minor": 0,
  "metadata": {
    "colab": {
      "provenance": [],
      "authorship_tag": "ABX9TyNt/OYL3ANwGprZkz9OJYBf",
      "include_colab_link": true
    },
    "kernelspec": {
      "name": "python3",
      "display_name": "Python 3"
    },
    "language_info": {
      "name": "python"
    }
  },
  "cells": [
    {
      "cell_type": "markdown",
      "metadata": {
        "id": "view-in-github",
        "colab_type": "text"
      },
      "source": [
        "<a href=\"https://colab.research.google.com/github/financieras/campus/blob/main/pilas33.ipynb\" target=\"_parent\"><img src=\"https://colab.research.google.com/assets/colab-badge.svg\" alt=\"Open In Colab\"/></a>"
      ]
    },
    {
      "cell_type": "markdown",
      "source": [
        "# Deep Moder Times con dos niveles de coste\n",
        "* Calculamos pasosA, pasosB y total para el primer nivel y también para el segundo nivel.\n",
        "* El segundo nivel se alcanza haciendo el supuesto de que se hubiera tomado la decisión de bajar (de A a B) uno de los números, que proporciona un cierto coste y luego, en el siguiente número a bajar también se calcula su coste.\n",
        "* Finalmente se baja el que menor coste tenga sumando el total de los dos niveles.\n",
        "* El cálculo del segundo nivel no es necesario hacerlo, salvo que en el primer nivel el de coste más bajo tenga un valor mayor o igual a 10\n",
        " - en ese caso, se analizarían todos los de mayor coste y el siguiente\n",
        " - por ejemplo, los costes del nivel 1 son: 14 20 14 15 15 18 32\n",
        " - podríamos analizar un segundo nivel de los dos de 14 y los dos de 15\n",
        "\n",
        "  \n",
        "* Únicamente se inicia el algoritmo pasando los dos primeros elementos de la pila A a la pila B: ```a[0],a[1]```"
      ],
      "metadata": {
        "id": "v3orFRqdIE-h"
      }
    },
    {
      "cell_type": "code",
      "execution_count": null,
      "metadata": {
        "id": "7vqmBYUatK3m"
      },
      "outputs": [],
      "source": [
        "# FUNCIONES\n",
        "def sa(a, b, result):   # result es un array que va acumulando los pasos dados. Ejemplo: result = ['pb','ra','sa','rra']\n",
        "    if len(a) > 1: a[0],a[1] = a[1],a[0]; result.append('sa')\n",
        "    return a, b, result\n",
        "def sb(a, b, result):\n",
        "    if len(b) > 1: b[0],b[1] = b[1],b[0]; result.append('sb')\n",
        "    return a, b, result\n",
        "def ss(a, b, result):   # ss no llama a sa y sb ya que en result quedarían anotadas las tres funciones: ss, sa y sb\n",
        "    if len(a) > 1 or len(b) > 1:\n",
        "        result.append('ss')\n",
        "        if len(a) > 1: a[0],a[1] = a[1],a[0]\n",
        "        if len(b) > 1: b[0],b[1] = b[1],b[0]\n",
        "    return a, b, result\n",
        "def pa(a, b, result):\n",
        "    if len(b) > 0:\n",
        "        a.insert(0, b[0])\n",
        "        b.pop(0); result.append('pa')\n",
        "    return a, b, result\n",
        "def pb(a, b, result):\n",
        "    if len(a) > 0:\n",
        "        b.insert(0, a[0])\n",
        "        a.pop(0); result.append('pb')\n",
        "    return a, b, result\n",
        "def ra(a, b, result):\n",
        "    if len(a) > 1: a.append(a.pop(0)); result.append('ra')\n",
        "    return a, b, result\n",
        "def rb(a, b, result):\n",
        "    if len(b) > 1: b.append(b.pop(0)); result.append('rb')\n",
        "    return a, b, result\n",
        "def rr(a, b, result):\n",
        "    if len(a) > 1 or len(b) > 1:\n",
        "        result.append('rr')\n",
        "    if len(a) > 1: a.append(a.pop(0))\n",
        "    if len(b) > 1: b.append(b.pop(0))\n",
        "    return a, b, result\n",
        "def rra(a, b, result):\n",
        "    if len(a) > 1: a.insert(0, a.pop()); result.append('rra')\n",
        "    return a, b, result\n",
        "def rrb(a, b, result):\n",
        "    if len(b) > 1: b.insert(0, b.pop()); result.append('rrb')\n",
        "    return a, b, result\n",
        "def rrr(a, b, result):\n",
        "    if len(a) > 1 or len(b) > 1:\n",
        "        result.append('rrr')\n",
        "    if len(a) > 1: a.insert(0, a.pop())\n",
        "    if len(b) > 1: b.insert(0, b.pop())\n",
        "    return a, b, result"
      ]
    },
    {
      "cell_type": "code",
      "source": [
        "# PASOS NECESARIOS PARA COLOCAR CADA ELEMENTO DE A EN SU SITIO EN B      total = pasosA + pasosB (esta suma es solo una idea, se ha de sumar de una forma peculiar)\n",
        "\n",
        "def necesariosA(a, b):   # array pasosA calcula los pasos necesarios para colocar cada elemento de A como el primero de su pila\n",
        "    for v in a:\n",
        "        if a.index(v) < len(a)/2:\n",
        "            pasosA.append(a.index(v))\n",
        "        else:\n",
        "            pasosA.append(-(len(a)- a.index(v)))\n",
        "\n",
        "def necesariosB(a, b):   # array pasosB calcula los pasos de B necesarios para colocar cada elemento de A dentro de su sitio en B\n",
        "    for i in range(len(a)):    # objetivo_primero es el número que se ha de poner en la primera posición de la pila B\n",
        "        if a[i] < min(b):      # si el elemento de A considerado es menor que el mayor de B entonces\n",
        "            objetivo_primero = max(b)   # el objetivo_primero será el mayor de B\n",
        "        else:   # objetivo_primero en este caso será el maximo de los inferiores en B al valor iésimo de A\n",
        "            objetivo_primero = min(b)   #se inicializa en el valor mínimo de la pila B\n",
        "            for j in range(len(b)):\n",
        "                if b[j] < a[i] and b[j] > objetivo_primero:\n",
        "                        objetivo_primero = b[j]\n",
        "        # el objetivo_primero se ha de situar el primero de la pila B            \n",
        "        if b.index(objetivo_primero) < len(b)/2:\n",
        "            pasosB.append(b.index(objetivo_primero))\n",
        "        else:\n",
        "            pasosB.append(-(len(b)- b.index(objetivo_primero)))\n",
        "\n",
        "def totaliza(a, b):   # totalizar pasos\n",
        "    global total\n",
        "    for i in range(len(pasosA)):\n",
        "        if pasosA[i] * pasosB[i] < 0:   # si son de distinto signo, uno positivo y otro negativo\n",
        "            total.append(abs(pasosA[i]) + abs(pasosB[i]))   # no hay sinergia\n",
        "        else:   # si son de igual signo o alguno cero\n",
        "            total.append(max(abs(pasosA[i]), abs(pasosB[i])))  # si son de igual signo hay sinergia\n",
        "'''\n",
        "def calculaIndexPasosMinimos():\n",
        "    global pasosA, pasosB, total\n",
        "    pasosA = []   # [0,1,2, ...,41,-41,... , -2,-1]  vector donde cada index está asociado con el valor del mismo index en A\n",
        "    pasosB = []   # [-3,2,-5, ..., -5,0]   estos dos arrays se han de recalcular cada vez que realmente se mueva algún elemento de A a B\n",
        "    total = []\n",
        "    necesariosA(a, b)\n",
        "    necesariosB(a, b)\n",
        "    totaliza(a, b)\n",
        "    return total.index(min(total))   # retorna el índice del elemento de la pila A que menos pasos totales necesita\n",
        "'''"
      ],
      "metadata": {
        "id": "Vy8JRVgnNutZ"
      },
      "execution_count": null,
      "outputs": []
    },
    {
      "cell_type": "code",
      "source": [
        "def calculaIndexPasosMinimos():\n",
        "    # Nivel 1\n",
        "    global pasosA, pasosB, total\n",
        "    pasosA = []   # [0,1,2, ...,41,-41,... , -2,-1]  vector donde cada index está asociado con el valor del mismo index en A\n",
        "    pasosB = []   # [-3,2,-5, ..., -5,0]   estos dos arrays se han de recalcular cada vez que realmente se mueva algún elemento de A a B\n",
        "    total = []\n",
        "    necesariosA(a, b)\n",
        "    necesariosB(a, b)\n",
        "    totaliza(a, b)\n",
        "    min1 = min(total)   # mínimo número de pasos totales del Nivel 1\n",
        "    if min1 >= 10:\n",
        "        print(\"pasosA\", pasosA)\n",
        "        print(\"pasosB\", pasosB)\n",
        "        print(min1, total)\n",
        "    return total.index(min1)   # retorna el índice del elemento de la pila A que menos pasos totales necesita"
      ],
      "metadata": {
        "id": "wQUncmNxzGbW"
      },
      "execution_count": null,
      "outputs": []
    },
    {
      "cell_type": "code",
      "source": [
        "def giraA(a, b, indice, steps, result):\n",
        "    for i in range(abs(steps)):\n",
        "        if steps > 0:\n",
        "            ra(a, b, result)\n",
        "        elif steps < 0:\n",
        "            rra(a, b, result)\n",
        "\n",
        "def giraB(a, b, indice, steps, result):\n",
        "    for i in range(abs(steps)):\n",
        "        if steps > 0:\n",
        "            rb(a, b, result)\n",
        "        elif steps < 0:\n",
        "            rrb(a, b, result)\n",
        "\n",
        "# girando pilas A y B\n",
        "def giraPilas(a, b, indice, result):   # indice es el index del valor en la pila A que deseamos poner el primero\n",
        "    if pasosA[indice] * pasosB[indice] > 0:   # Existe sinergia, nos podemos ahorrar pasos\n",
        "        pasos_comunes = min(abs(pasosA[indice]), abs(pasosB[indice]))\n",
        "        for i in range(pasos_comunes):\n",
        "            if pasosA[indice] > 0:   # si el signo de ambos es positivo, ya que ambos tienen el mismo signo\n",
        "                rr(a, b, result)\n",
        "            elif pasosA[indice] < 0: # si el signo de ambos es negativo\n",
        "                rrr(a, b, result)\n",
        "        exceso_pasosA = abs(pasosA[indice]) - pasos_comunes\n",
        "        exceso_pasosB = abs(pasosB[indice]) - pasos_comunes\n",
        "        giraA(a, b, indice, ((pasosA[indice] > 0) - (pasosA[indice] < 0)) * exceso_pasosA, result)    # (a > 0) - (a < 0) da el signo de a\n",
        "        giraB(a, b, indice, ((pasosB[indice] > 0) - (pasosB[indice] < 0)) * exceso_pasosB, result)   # Python no tiene función sign\n",
        "    else:   # No existe sinergia\n",
        "        giraA(a ,b, indice, pasosA[indice], result)   # gira A\n",
        "        giraB(a, b, indice, pasosB[indice], result)   # gira B"
      ],
      "metadata": {
        "id": "jp2JPuQKQ6IL"
      },
      "execution_count": null,
      "outputs": []
    },
    {
      "cell_type": "code",
      "source": [
        "def situarMax_en_B(a, b, result):   # situa el valor máximo de B en la primera posición de B\n",
        "    indice = b.index(max(b))\n",
        "    if indice < len(a)/2:\n",
        "        steps = indice\n",
        "    else:\n",
        "        steps = -(len(b)- indice)\n",
        "    giraB(a, b, indice, steps, result)\n",
        "\n",
        "def crecientesA(a, b, result):   # situa los tres valores de A en forma creciente estricta: Ejemplo: 17, 45, 82\n",
        "    if a[0] < a[1] > a[2] and a[0] < a[2]:        # caso: 1 3 2\n",
        "        ra(a, b, result)\n",
        "        sa(a, b, result)\n",
        "        rra(a, b, result)\n",
        "    elif a[0] > a[1] < a[2] and a[0] < a[2]:        # caso: 2 1 3\n",
        "        sa(a, b, result)\n",
        "    elif a[0] < a[1] > a[2] and a[0] > a[2]:        # caso: 2 3 1\n",
        "        rra(a, b, result)\n",
        "    elif a[0] > a[1] < a[2] and a[0] > a[2]:        # caso: 3 1 2\n",
        "        ra(a, b, result)\n",
        "    elif a[0] > a[1] > a[2]:                        # caso: 3 2 1\n",
        "        sa(a, b, result)\n",
        "        rra(a, b, result)\n",
        "    return                                          # caso: 1 2 3 en este caso no se hace nada pq ya están ordenados"
      ],
      "metadata": {
        "id": "3xu35ZrfTm_4"
      },
      "execution_count": null,
      "outputs": []
    },
    {
      "cell_type": "code",
      "source": [
        "# Después de ordenar los tres elementos de A en orden creciente estricto con la función crecientesA\n",
        "\n",
        "def cremallera(a, b, result):   # función que va pasando los números de B a A en forma de cremallera, intercalándolos con los que ya hay en A\n",
        "    aux = [a[-3], a[-2], a[-1]] # creamos un array aux con los tres últimos valores de A\n",
        "    while len(aux) > 0:         # Mientras aux tenga elementos\n",
        "        maximo = max(b + aux)   # calcula el maximo entre b y aux\n",
        "        if maximo in b:         # si el maximo está en B hacer pa\n",
        "            pa(a, b, result)\n",
        "        if maximo in aux:       # si el máximo está en aux hacer rra y aux.pop\n",
        "            rra(a, b, result)\n",
        "            aux.pop()\n",
        "    while len(b) > 0:           # ahora aux está vacío y solo queda hacer pa todo el rato\n",
        "        pa(a, b, result)"
      ],
      "metadata": {
        "id": "dLMI_rruYP0f"
      },
      "execution_count": null,
      "outputs": []
    },
    {
      "cell_type": "code",
      "source": [
        "if __name__ == \"__main__\":\n",
        "    from random import seed, shuffle\n",
        "    seed()\n",
        "    n = 500                             # número de elementos de la pila\n",
        "    a = list(range(1, n+1)); shuffle(a) # generación aleatoria de la pila A\n",
        "    b = []\n",
        "    a_original = a[:]\n",
        "    result = []                         # recoje los pasos dados. Ejemplo: result = ['pb','ra','sa','rra']\n",
        "    pb(a, b, result); pb(a, b, result)  # pasa de A a B la pareja de elementos de A elegidos a[0], a[1]\n",
        "    while len(a) > 3:\n",
        "        index_minimosPasos = calculaIndexPasosMinimos()\n",
        "        giraPilas(a, b, index_minimosPasos, result)\n",
        "        pb(a, b, result)         # lo pasa de A a B haciendo pb\n",
        "    situarMax_en_B(a, b, result) # situa el valor máximo de B en la primera posición de B\n",
        "    crecientesA(a, b, result)    # situa los tres valores de A en forma creciente estricta: Ejemplo: 17, 45, 82\n",
        "    cremallera(a, b, result)     # función que va pasando los números de B a A en forma de cremallera, intercalándolos con los que ya hay en A\n",
        "    print(len(result))\n",
        "    #print(result)"
      ],
      "metadata": {
        "id": "riSVzyEEuJgF",
        "colab": {
          "base_uri": "https://localhost:8080/"
        },
        "outputId": "4534e860-4fb9-4ca6-f513-5097136432be"
      },
      "execution_count": null,
      "outputs": [
        {
          "output_type": "stream",
          "name": "stdout",
          "text": [
            "pasosA [0, 1, 2, 3, 4, 5, 6, 7, 8, 9, 10, 11, 12, 13, 14, 15, 16, 17, 18, 19, 20, 21, 22, 23, 24, 25, 26, 27, 28, 29, 30, 31, 32, 33, 34, 35, 36, 37, 38, 39, 40, 41, 42, 43, 44, 45, 46, 47, 48, 49, 50, 51, 52, 53, 54, 55, 56, 57, 58, 59, 60, 61, 62, 63, 64, 65, 66, 67, 68, 69, 70, 71, 72, 73, 74, 75, 76, 77, 78, 79, 80, 81, 82, 83, 84, 85, 86, 87, 88, 89, 90, 91, 92, 93, 94, 95, 96, 97, 98, 99, 100, 101, 102, 103, 104, 105, 106, 107, 108, 109, 110, 111, 112, 113, -113, -112, -111, -110, -109, -108, -107, -106, -105, -104, -103, -102, -101, -100, -99, -98, -97, -96, -95, -94, -93, -92, -91, -90, -89, -88, -87, -86, -85, -84, -83, -82, -81, -80, -79, -78, -77, -76, -75, -74, -73, -72, -71, -70, -69, -68, -67, -66, -65, -64, -63, -62, -61, -60, -59, -58, -57, -56, -55, -54, -53, -52, -51, -50, -49, -48, -47, -46, -45, -44, -43, -42, -41, -40, -39, -38, -37, -36, -35, -34, -33, -32, -31, -30, -29, -28, -27, -26, -25, -24, -23, -22, -21, -20, -19, -18, -17, -16, -15, -14, -13, -12, -11, -10, -9, -8, -7, -6, -5, -4, -3, -2, -1]\n",
            "pasosB [-117, -97, 68, -99, 79, 74, 71, 79, 70, -111, -119, 79, 70, 70, 83, 84, 74, 68, 75, 110, -135, 79, 122, 114, 110, 60, 67, -128, -110, -120, 100, 53, -136, 58, 103, -118, 71, 130, 88, -129, 125, -119, -75, -123, 75, 88, -102, 110, 104, -114, 75, 26, 26, 99, 88, 79, 10, -111, 9, 104, -119, 90, -61, 95, 4, -125, 133, -70, 82, 114, -122, -111, 103, 79, 79, 119, -95, 108, -101, 126, 81, 103, -31, 101, -95, 103, -12, -128, 86, 115, 111, 62, -7, -33, -116, -45, 58, -115, -86, -85, -103, 68, 108, 27, 26, 132, 104, -67, -56, -12, -115, -128, -110, 125, 104, 124, 118, 56, -95, 70, 117, 103, 63, 103, -123, -74, -126, 107, 128, -126, -12, -114, 126, 133, -82, 104, -88, -70, -56, -84, 94, 97, 66, 17, 46, 98, 15, 18, 22, 106, 103, 79, 109, 9, 7, 80, 111, 26, 104, 4, 60, 135, 1, 88, -11, 28, 109, 53, 38, 70, 65, -7, 22, 133, 97, -1, 17, -2, 55, 51, 103, 80, 80, 23, 68, 133, 81, 99, 126, -100, 92, 53, 44, 133, 46, -96, 89, 32, 80, 38, 89, 38, 90, -88, -136, -126, 79, 32, -108, 110, 133, -119, 75, 119, -102, -70, 82, 75, -128, -82, -123, -92, -103, -113, -105, -105, 58]\n",
            "50 [117, 98, 68, 102, 79, 74, 71, 79, 70, 120, 129, 79, 70, 70, 83, 84, 74, 68, 75, 110, 155, 79, 122, 114, 110, 60, 67, 155, 138, 149, 100, 53, 168, 58, 103, 153, 71, 130, 88, 168, 125, 160, 117, 166, 75, 88, 148, 110, 104, 163, 75, 51, 52, 99, 88, 79, 56, 168, 58, 104, 179, 90, 123, 95, 64, 190, 133, 137, 82, 114, 192, 182, 103, 79, 79, 119, 171, 108, 179, 126, 81, 103, 113, 101, 179, 103, 98, 215, 88, 115, 111, 91, 99, 126, 210, 140, 96, 212, 184, 184, 203, 101, 108, 103, 104, 132, 106, 174, 164, 121, 225, 239, 222, 125, 217, 236, 229, 166, 109, 178, 224, 209, 168, 207, 123, 102, 126, 207, 227, 126, 97, 114, 221, 227, 93, 196, 91, 90, 89, 88, 181, 183, 151, 101, 129, 180, 96, 98, 101, 184, 180, 155, 184, 83, 80, 152, 182, 96, 173, 72, 127, 201, 66, 152, 63, 90, 170, 113, 97, 128, 122, 56, 77, 187, 150, 52, 68, 50, 104, 99, 150, 126, 125, 67, 111, 175, 122, 139, 165, 100, 129, 89, 79, 167, 79, 96, 120, 62, 109, 66, 116, 64, 115, 88, 136, 126, 100, 52, 108, 128, 150, 119, 90, 133, 102, 70, 93, 85, 128, 82, 123, 92, 103, 113, 105, 105, 59]\n",
            "pasosA [0, 1, 2, 3, 4, 5, 6, 7, 8, 9, 10, 11, 12, 13, 14, 15, 16, 17, 18, 19, 20, 21, 22, 23, 24, 25, 26, 27, 28, 29, 30, 31, 32, 33, 34, 35, 36, 37, 38, 39, 40, 41, 42, 43, 44, 45, 46, 47, 48, 49, 50, 51, 52, 53, 54, 55, 56, 57, 58, 59, 60, 61, 62, 63, 64, 65, 66, 67, 68, 69, 70, 71, 72, 73, 74, 75, 76, 77, 78, 79, 80, 81, 82, 83, 84, 85, -86, -85, -84, -83, -82, -81, -80, -79, -78, -77, -76, -75, -74, -73, -72, -71, -70, -69, -68, -67, -66, -65, -64, -63, -62, -61, -60, -59, -58, -57, -56, -55, -54, -53, -52, -51, -50, -49, -48, -47, -46, -45, -44, -43, -42, -41, -40, -39, -38, -37, -36, -35, -34, -33, -32, -31, -30, -29, -28, -27, -26, -25, -24, -23, -22, -21, -20, -19, -18, -17, -16, -15, -14, -13, -12, -11, -10, -9, -8, -7, -6, -5, -4, -3, -2, -1]\n",
            "pasosB [53, 112, 42, 106, 60, 37, -152, 35, 112, 37, -133, 79, 49, 45, -34, -126, -154, 91, 162, -40, 92, 121, 122, 104, -24, 42, -83, -84, 66, 38, 140, 151, -133, 92, 79, 97, 59, 38, 58, 52, -43, 112, -17, 51, 37, -33, 37, 84, 133, 81, 41, 62, 81, -133, 93, 60, 67, 125, 38, 119, 137, 151, 123, 28, 31, -29, -96, -59, 32, -98, -94, -90, 40, 37, 1, 43, 7, 45, -84, 38, -36, 69, 22, -82, 43, -69, 67, 31, 37, 67, 33, 60, 107, 26, 67, 111, 23, 23, 24, 119, 71, 81, 99, 44, 67, 88, 53, 105, 137, 15, 79, 125, 84, 115, 104, 94, 102, 102, 90, 110, 108, 96, 88, 16, 17, -10, -9, 44, 72, 5, 56, 48, 44, 79, 97, 87, 34, 71, 37, 89, 64, 22, 78, 59, 88, 132, 84, 22, 105, 44, 38, 93, -84, -84, 33, 22, -103, 96, -105, 38, 88, 24, 146, 29, -111, 82, 67, 137, 48, 85, 96, 37]\n",
            "35 [53, 112, 42, 106, 60, 37, 158, 35, 112, 37, 143, 79, 49, 45, 48, 141, 170, 91, 162, 59, 92, 121, 122, 104, 48, 42, 109, 111, 66, 38, 140, 151, 165, 92, 79, 97, 59, 38, 58, 52, 83, 112, 59, 51, 44, 78, 46, 84, 133, 81, 50, 62, 81, 186, 93, 60, 67, 125, 58, 119, 137, 151, 123, 63, 64, 94, 162, 126, 68, 167, 164, 161, 72, 73, 74, 75, 76, 77, 162, 79, 116, 81, 82, 165, 84, 154, 153, 116, 121, 150, 115, 141, 187, 105, 145, 188, 99, 98, 98, 192, 143, 152, 169, 113, 135, 155, 119, 170, 201, 78, 141, 186, 144, 174, 162, 151, 158, 157, 144, 163, 160, 147, 138, 65, 65, 47, 46, 89, 116, 48, 98, 89, 84, 118, 135, 124, 70, 106, 71, 122, 96, 53, 108, 88, 116, 159, 110, 47, 129, 67, 60, 114, 84, 84, 51, 39, 103, 111, 105, 51, 100, 35, 156, 38, 111, 89, 73, 142, 52, 88, 98, 38]\n",
            "pasosA [0, 1, 2, 3, 4, 5, 6, 7, 8, 9, 10, 11, 12, 13, 14, 15, 16, 17, 18, 19, 20, 21, 22, 23, -24, -23, -22, -21, -20, -19, -18, -17, -16, -15, -14, -13, -12, -11, -10, -9, -8, -7, -6, -5, -4, -3, -2, -1]\n",
            "pasosB [-179, -142, -181, -177, -173, -167, -165, -152, 132, 138, 150, 118, 128, 174, 158, 145, -167, -167, -186, -188, 92, -194, 83, 88, 217, -216, -209, 215, 203, 152, 153, -166, -167, 53, -216, 77, 43, 41, 32, 31, 85, 82, 48, 82, -216, 106, 44, 58]\n",
            "40 [179, 143, 183, 180, 177, 172, 171, 159, 132, 138, 150, 118, 128, 174, 158, 145, 183, 184, 204, 207, 92, 215, 83, 88, 241, 216, 209, 236, 223, 171, 171, 166, 167, 68, 216, 90, 55, 52, 42, 40, 93, 89, 54, 87, 216, 109, 46, 59]\n",
            "5235\n"
          ]
        }
      ]
    }
  ]
}