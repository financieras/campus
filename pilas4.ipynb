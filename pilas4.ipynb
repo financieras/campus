{
  "nbformat": 4,
  "nbformat_minor": 0,
  "metadata": {
    "colab": {
      "provenance": [],
      "authorship_tag": "ABX9TyMn957sg0k9sDd3cRLpamzP",
      "include_colab_link": true
    },
    "kernelspec": {
      "name": "python3",
      "display_name": "Python 3"
    },
    "language_info": {
      "name": "python"
    }
  },
  "cells": [
    {
      "cell_type": "markdown",
      "metadata": {
        "id": "view-in-github",
        "colab_type": "text"
      },
      "source": [
        "<a href=\"https://colab.research.google.com/github/financieras/test/blob/main/pilas4.ipynb\" target=\"_parent\"><img src=\"https://colab.research.google.com/assets/colab-badge.svg\" alt=\"Open In Colab\"/></a>"
      ]
    },
    {
      "cell_type": "markdown",
      "source": [
        "# Ordenar pilas: procedimiento lento"
      ],
      "metadata": {
        "id": "ONvCQucU7FMg"
      }
    },
    {
      "cell_type": "code",
      "execution_count": 3,
      "metadata": {
        "colab": {
          "base_uri": "https://localhost:8080/"
        },
        "id": "aL8IU9Am7CM6",
        "outputId": "c6923aa3-e8a7-45a2-c531-0a3e217e64f0"
      },
      "outputs": [
        {
          "output_type": "stream",
          "name": "stdout",
          "text": [
            "a: [2, 5, 4, 6, 3, 1]\n",
            "b: []\n"
          ]
        }
      ],
      "source": [
        "from random import sample, seed\n",
        "seed()\n",
        "\n",
        "def sa(a,b):\n",
        "    if len(a) > 1: a[0],a[1] = a[1],a[0]\n",
        "    return a,b\n",
        "def sb(a,b):\n",
        "    if len(b) > 1: b[0],b[1] = b[1],b[0]\n",
        "    return a,b\n",
        "def ss(a,b):\n",
        "    sa(a,b)\n",
        "    sb(a,b)\n",
        "    return a,b\n",
        "def pa(a,b):\n",
        "    if len(b) > 0:\n",
        "        a.insert(0, b[0])\n",
        "        b.pop(0)\n",
        "    return a,b\n",
        "def pb(a,b):\n",
        "    if len(a) > 0:\n",
        "        b.insert(0, a[0])\n",
        "        a.pop(0)\n",
        "    return a,b\n",
        "def ra(a,b):\n",
        "    if len(a) > 1: a.append(a.pop(0))\n",
        "    return a,b\n",
        "def rb(a,b):\n",
        "    if len(b) > 1: b.append(b.pop(0))\n",
        "    return a,b\n",
        "def rr(a,b):\n",
        "    ra(a,b)\n",
        "    rb(a,b)\n",
        "    return a,b\n",
        "def rra(a,b):\n",
        "    if len(a) > 1: a.insert(0, a.pop())\n",
        "    return a,b\n",
        "def rrb(a,b):\n",
        "    if len(b) > 1: b.insert(0, b.pop())\n",
        "    return a,b\n",
        "def rrr(a,b):\n",
        "    rra(a,b)\n",
        "    rrb(a,b)\n",
        "    return a,b\n",
        "\n",
        "if __name__ == \"__main__\":\n",
        "    # Generación de la pila a\n",
        "    n = 6   # número de elementos de la pila\n",
        "    a = sample(range(1, n+1), n)\n",
        "    #a = [2,1,3,6,5,8]   # valores de ejemplo\n",
        "    b = []\n",
        "    print('a:', a)\n",
        "    print('b:', b)\n",
        "    # buscamos el mínimo y vamos haciendo ra hasta que el mínimo esté el primero\n",
        "    # luego hacemos pb\n",
        "    # esto se repite hasta que solo quede un elemento en la pila a\n",
        "    # luego se hace pa pa pa pa hasta que no quede nadie en la pila b"
      ]
    }
  ]
}