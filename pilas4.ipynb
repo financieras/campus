{
  "nbformat": 4,
  "nbformat_minor": 0,
  "metadata": {
    "colab": {
      "provenance": [],
      "authorship_tag": "ABX9TyP44+FSvwO2lp8Fds2FBKUO",
      "include_colab_link": true
    },
    "kernelspec": {
      "name": "python3",
      "display_name": "Python 3"
    },
    "language_info": {
      "name": "python"
    }
  },
  "cells": [
    {
      "cell_type": "markdown",
      "metadata": {
        "id": "view-in-github",
        "colab_type": "text"
      },
      "source": [
        "<a href=\"https://colab.research.google.com/github/financieras/test/blob/main/pilas4.ipynb\" target=\"_parent\"><img src=\"https://colab.research.google.com/assets/colab-badge.svg\" alt=\"Open In Colab\"/></a>"
      ]
    },
    {
      "cell_type": "markdown",
      "source": [
        "# Ordenar pilas: procedimiento lento"
      ],
      "metadata": {
        "id": "ONvCQucU7FMg"
      }
    },
    {
      "cell_type": "code",
      "execution_count": 7,
      "metadata": {
        "colab": {
          "base_uri": "https://localhost:8080/"
        },
        "id": "aL8IU9Am7CM6",
        "outputId": "2eaaf561-3b22-4380-f8eb-6392f21ed897"
      },
      "outputs": [
        {
          "output_type": "stream",
          "name": "stdout",
          "text": [
            "a: [4, 31, 69, 15, 51, 19, 96, 94, 79, 37, 49, 50, 99, 22, 9, 61, 14, 40, 64, 65, 13, 7, 90, 36, 2, 34, 95, 20, 47, 89, 92, 91, 55, 53, 52, 72, 24, 58, 32, 81, 44, 16, 3, 39, 83, 5, 54, 76, 73, 17, 80, 21, 68, 88, 98, 97, 27, 71, 6, 57, 33, 41, 59, 48, 87, 25, 85, 84, 67, 23, 56, 66, 26, 29, 77, 28, 38, 63, 78, 82, 8, 1, 12, 42, 10, 100, 75, 70, 43, 74, 35, 11, 93, 62, 30, 46, 18, 60, 86, 45]\n",
            "b: []\n",
            "a: [1, 2, 3, 4, 5, 6, 7, 8, 9, 10, 11, 12, 13, 14, 15, 16, 17, 18, 19, 20, 21, 22, 23, 24, 25, 26, 27, 28, 29, 30, 31, 32, 33, 34, 35, 36, 37, 38, 39, 40, 41, 42, 43, 44, 45, 46, 47, 48, 49, 50, 51, 52, 53, 54, 55, 56, 57, 58, 59, 60, 61, 62, 63, 64, 65, 66, 67, 68, 69, 70, 71, 72, 73, 74, 75, 76, 77, 78, 79, 80, 81, 82, 83, 84, 85, 86, 87, 88, 89, 90, 91, 92, 93, 94, 95, 96, 97, 98, 99, 100]\n",
            "b: []\n"
          ]
        }
      ],
      "source": [
        "from random import sample, seed\n",
        "seed()\n",
        "\n",
        "def sa(a,b):\n",
        "    if len(a) > 1: a[0],a[1] = a[1],a[0]\n",
        "    return a,b\n",
        "def sb(a,b):\n",
        "    if len(b) > 1: b[0],b[1] = b[1],b[0]\n",
        "    return a,b\n",
        "def ss(a,b):\n",
        "    sa(a,b)\n",
        "    sb(a,b)\n",
        "    return a,b\n",
        "def pa(a,b):\n",
        "    if len(b) > 0:\n",
        "        a.insert(0, b[0])\n",
        "        b.pop(0)\n",
        "    return a,b\n",
        "def pb(a,b):\n",
        "    if len(a) > 0:\n",
        "        b.insert(0, a[0])\n",
        "        a.pop(0)\n",
        "    return a,b\n",
        "def ra(a,b):\n",
        "    if len(a) > 1: a.append(a.pop(0))\n",
        "    return a,b\n",
        "def rb(a,b):\n",
        "    if len(b) > 1: b.append(b.pop(0))\n",
        "    return a,b\n",
        "def rr(a,b):\n",
        "    ra(a,b)\n",
        "    rb(a,b)\n",
        "    return a,b\n",
        "def rra(a,b):\n",
        "    if len(a) > 1: a.insert(0, a.pop())\n",
        "    return a,b\n",
        "def rrb(a,b):\n",
        "    if len(b) > 1: b.insert(0, b.pop())\n",
        "    return a,b\n",
        "def rrr(a,b):\n",
        "    rra(a,b)\n",
        "    rrb(a,b)\n",
        "    return a,b\n",
        "\n",
        "if __name__ == \"__main__\":\n",
        "    # Generación de la pila a\n",
        "    n = 100   # número de elementos de la pila\n",
        "    a = sample(range(1, n+1), n)\n",
        "    #a = [2,1,3,6,5,8]   # valores de ejemplo\n",
        "    b = []\n",
        "    print('a:', a)\n",
        "    print('b:', b)\n",
        "    while len(a)>0:\n",
        "        # buscamos el mínimo y vamos haciendo ra hasta que el mínimo esté el primero\n",
        "        while min(a) != a[0]:\n",
        "            ra(a,b)\n",
        "        pb(a,b) # luego hacemos pb\n",
        "    # esto se repite hasta que solo quede un elemento en la pila a\n",
        "    # luego se hace pa pa pa pa hasta que no quede nadie en la pila b\n",
        "    while len(b)>0:\n",
        "        pa(a,b)\n",
        "    \n",
        "    print('a:', a)\n",
        "    print('b:', b)"
      ]
    }
  ]
}