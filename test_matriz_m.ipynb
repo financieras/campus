{
  "nbformat": 4,
  "nbformat_minor": 0,
  "metadata": {
    "colab": {
      "name": "test_matriz_m.ipynb",
      "provenance": [],
      "authorship_tag": "ABX9TyNTJDX96YLAF06QzoHNhf5s",
      "include_colab_link": true
    },
    "kernelspec": {
      "name": "python3",
      "display_name": "Python 3"
    },
    "language_info": {
      "name": "python"
    }
  },
  "cells": [
    {
      "cell_type": "markdown",
      "metadata": {
        "id": "view-in-github",
        "colab_type": "text"
      },
      "source": [
        "<a href=\"https://colab.research.google.com/github/financieras/test/blob/main/test_matriz_m.ipynb\" target=\"_parent\"><img src=\"https://colab.research.google.com/assets/colab-badge.svg\" alt=\"Open In Colab\"/></a>"
      ]
    },
    {
      "cell_type": "code",
      "execution_count": null,
      "metadata": {
        "colab": {
          "base_uri": "https://localhost:8080/"
        },
        "id": "HPa0yQL-wMFl",
        "outputId": "eed1f95e-1062-4477-c829-1f6a4136a1dd"
      },
      "outputs": [
        {
          "output_type": "stream",
          "name": "stdout",
          "text": [
            "[1, 2, 3, 4]\n",
            "El número de permutaciones posibles de 4 elementos es: 24\n"
          ]
        }
      ],
      "source": [
        "from math import factorial\n",
        "\n",
        "lista = [1,2,3,4]   # lista con los elementos a permutar\n",
        "print(lista)\n",
        "\n",
        "n = len(lista)   # n es la longitud de la lista\n",
        "\n",
        "print(f\"El número de permutaciones posibles de {n} elementos es: {factorial(n)}\")"
      ]
    },
    {
      "cell_type": "code",
      "source": [
        "lista = [1,2,3,4]\n",
        "p = []   # p es la matriz con las 24 permutaciones\n",
        "for i in lista:\n",
        "    for j in lista:\n",
        "        for k in lista:\n",
        "            for l in lista:\n",
        "                if i != j and i != k and i != l and j != k and j != l and k != l:\n",
        "                    p.append([i,j,k,l])\n",
        "p"
      ],
      "metadata": {
        "colab": {
          "base_uri": "https://localhost:8080/"
        },
        "id": "Do_e3CvRwn_B",
        "outputId": "0dba0187-1076-45ae-dc3f-124b701b88d7"
      },
      "execution_count": 2,
      "outputs": [
        {
          "output_type": "execute_result",
          "data": {
            "text/plain": [
              "[[1, 2, 3, 4],\n",
              " [1, 2, 4, 3],\n",
              " [1, 3, 2, 4],\n",
              " [1, 3, 4, 2],\n",
              " [1, 4, 2, 3],\n",
              " [1, 4, 3, 2],\n",
              " [2, 1, 3, 4],\n",
              " [2, 1, 4, 3],\n",
              " [2, 3, 1, 4],\n",
              " [2, 3, 4, 1],\n",
              " [2, 4, 1, 3],\n",
              " [2, 4, 3, 1],\n",
              " [3, 1, 2, 4],\n",
              " [3, 1, 4, 2],\n",
              " [3, 2, 1, 4],\n",
              " [3, 2, 4, 1],\n",
              " [3, 4, 1, 2],\n",
              " [3, 4, 2, 1],\n",
              " [4, 1, 2, 3],\n",
              " [4, 1, 3, 2],\n",
              " [4, 2, 1, 3],\n",
              " [4, 2, 3, 1],\n",
              " [4, 3, 1, 2],\n",
              " [4, 3, 2, 1]]"
            ]
          },
          "metadata": {},
          "execution_count": 2
        }
      ]
    },
    {
      "cell_type": "code",
      "source": [
        "len(p)"
      ],
      "metadata": {
        "colab": {
          "base_uri": "https://localhost:8080/"
        },
        "id": "9WSyIJy_w9AF",
        "outputId": "95772877-f77c-46c0-c815-81eb3831a321"
      },
      "execution_count": 3,
      "outputs": [
        {
          "output_type": "execute_result",
          "data": {
            "text/plain": [
              "24"
            ]
          },
          "metadata": {},
          "execution_count": 3
        }
      ]
    },
    {
      "cell_type": "code",
      "source": [
        "from random import seed, randint, sample\n",
        "\n",
        "def compara(l1, l2):   # compara dos listas, para ver si los elementos de la misma columna son distintos\n",
        "    distinto = True\n",
        "    for i in range(4):\n",
        "        if l1[i]==l2[i]:\n",
        "            distinto = False\n",
        "    return distinto\n",
        "\n",
        "def busca():\n",
        "    m = []\n",
        "    for i in range(len(m)):   # las 4 copias cp a analizar\n",
        "        if i==0:\n",
        "            c = p[randint(1,24)]   # lista candidata\n",
        "            m.append(c)   # la primera candidata se añade a m seguro\n",
        "        else:\n",
        "            cp = p[:]   # cp es una copia de p, sobre la que iremos tachando las permutaciones imposibles\n",
        "            cp = sample(cp, 24)  # barajamos cp\n",
        "            for c in range(24):   # lista candidata tomada de cp\n",
        "                if compara(m[0] ,c):\n",
        "                    m.append(c)\n",
        "                    break\n",
        "        break\n",
        "                \n",
        "\n",
        "if __name__==\"__main__\":\n",
        "    print(m)"
      ],
      "metadata": {
        "colab": {
          "base_uri": "https://localhost:8080/"
        },
        "id": "MRd7XjrDxMm9",
        "outputId": "85472855-8e70-4409-d132-835d67d69bda"
      },
      "execution_count": 13,
      "outputs": [
        {
          "output_type": "stream",
          "name": "stdout",
          "text": [
            "[[3, 1, 2, 4]]\n"
          ]
        }
      ]
    }
  ]
}