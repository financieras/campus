{
  "nbformat": 4,
  "nbformat_minor": 0,
  "metadata": {
    "colab": {
      "name": "test_matriz_m.ipynb",
      "provenance": [],
      "authorship_tag": "ABX9TyPBqmDqamvqJ6+yp0Y7ehOc",
      "include_colab_link": true
    },
    "kernelspec": {
      "name": "python3",
      "display_name": "Python 3"
    },
    "language_info": {
      "name": "python"
    }
  },
  "cells": [
    {
      "cell_type": "markdown",
      "metadata": {
        "id": "view-in-github",
        "colab_type": "text"
      },
      "source": [
        "<a href=\"https://colab.research.google.com/github/financieras/test/blob/main/test_matriz_m.ipynb\" target=\"_parent\"><img src=\"https://colab.research.google.com/assets/colab-badge.svg\" alt=\"Open In Colab\"/></a>"
      ]
    },
    {
      "cell_type": "code",
      "execution_count": 20,
      "metadata": {
        "id": "HPa0yQL-wMFl",
        "outputId": "e8fb831b-f330-4e22-90bf-0d416152faa1",
        "colab": {
          "base_uri": "https://localhost:8080/"
        }
      },
      "outputs": [
        {
          "output_type": "stream",
          "name": "stdout",
          "text": [
            "[1, 2, 3, 4]\n",
            "El número de permutaciones posibles de 4 elementos es: 24\n"
          ]
        }
      ],
      "source": [
        "from math import factorial\n",
        "\n",
        "lista = [1,2,3,4]   # lista con los elementos a permutar\n",
        "print(lista)\n",
        "\n",
        "n = len(lista)   # n es la longitud de la lista\n",
        "\n",
        "print(f\"El número de permutaciones posibles de {n} elementos es: {factorial(n)}\")"
      ]
    },
    {
      "cell_type": "code",
      "source": [
        "lista = [1,2,3,4]\n",
        "p = []   # p es la matriz con las 24 permutaciones\n",
        "for i in lista:\n",
        "    for j in lista:\n",
        "        for k in lista:\n",
        "            for l in lista:\n",
        "                if i != j and i != k and i != l and j != k and j != l and k != l:\n",
        "                    p.append([i,j,k,l])\n",
        "print(p)\n",
        "len(p)"
      ],
      "metadata": {
        "colab": {
          "base_uri": "https://localhost:8080/"
        },
        "id": "Do_e3CvRwn_B",
        "outputId": "62ef3a58-c6ef-44d7-85c9-43dc4f40c619"
      },
      "execution_count": 21,
      "outputs": [
        {
          "output_type": "stream",
          "name": "stdout",
          "text": [
            "[[1, 2, 3, 4], [1, 2, 4, 3], [1, 3, 2, 4], [1, 3, 4, 2], [1, 4, 2, 3], [1, 4, 3, 2], [2, 1, 3, 4], [2, 1, 4, 3], [2, 3, 1, 4], [2, 3, 4, 1], [2, 4, 1, 3], [2, 4, 3, 1], [3, 1, 2, 4], [3, 1, 4, 2], [3, 2, 1, 4], [3, 2, 4, 1], [3, 4, 1, 2], [3, 4, 2, 1], [4, 1, 2, 3], [4, 1, 3, 2], [4, 2, 1, 3], [4, 2, 3, 1], [4, 3, 1, 2], [4, 3, 2, 1]]\n"
          ]
        },
        {
          "output_type": "execute_result",
          "data": {
            "text/plain": [
              "24"
            ]
          },
          "metadata": {},
          "execution_count": 21
        }
      ]
    },
    {
      "cell_type": "code",
      "source": [
        "from random import seed, randint, sample\n",
        "seed()\n",
        "\n",
        "def comparalo(l, m):   # compara la lista l con las listas de m\n",
        "    distinto = True\n",
        "    for i in range(len(m)):\n",
        "        for j in range(4):\n",
        "            if l[j]==m[i][j]: distinto = False\n",
        "    return distinto\n",
        "\n",
        "def busca():\n",
        "    m = []\n",
        "    for fila in range(4):   # las cuatro filas de la matriz m\n",
        "        cp = p[:]   # cp es una copia de p\n",
        "        cp = sample(cp, 24)  # barajamos cp\n",
        "        if fila == 0:   # primera fila de la matriz m\n",
        "            m.append(cp[0])   # la primera candidata se añade a m seguro\n",
        "        else:\n",
        "            for c in cp:   # lista candidata tomada de cp\n",
        "                if comparalo(c, m):\n",
        "                    m.append(c)\n",
        "                    break\n",
        "    return m        \n",
        "\n",
        "if __name__==\"__main__\":\n",
        "    m = busca()\n",
        "    print(m, \"\\n\")\n",
        "    for i in range(4):\n",
        "        print(*m[i])"
      ],
      "metadata": {
        "id": "S4TZcjHq6FH6",
        "outputId": "cb135b2d-7464-4018-b31e-67704d7a1862",
        "colab": {
          "base_uri": "https://localhost:8080/"
        }
      },
      "execution_count": 24,
      "outputs": [
        {
          "output_type": "stream",
          "name": "stdout",
          "text": [
            "[[4, 3, 2, 1], [3, 4, 1, 2], [1, 2, 4, 3], [2, 1, 3, 4]] \n",
            "\n",
            "4 3 2 1\n",
            "3 4 1 2\n",
            "1 2 4 3\n",
            "2 1 3 4\n"
          ]
        }
      ]
    },
    {
      "cell_type": "code",
      "source": [
        "import time\n",
        "\n",
        "def calcula_allm():\n",
        "    allm = []\n",
        "    contador = 0\n",
        "    while contador < 576:\n",
        "        candidata = busca()\n",
        "        if candidata not in allm:\n",
        "            allm.append(candidata)\n",
        "            contador += 1\n",
        "    return allm\n",
        "\n",
        "#allm = calcula_allm()\n",
        "#print(sorted(allm))\n",
        "#print(len(allm))\n",
        "\n",
        "if __name__==\"__main__\":\n",
        "    start = time.perf_counter()\n",
        "    for i in range(10):\n",
        "        calcula_allm()\n",
        "    end = time.perf_counter() \n",
        "    print(f\"Time taken is {end - start}\")"
      ],
      "metadata": {
        "id": "UJFayy2yHom7",
        "outputId": "e288f334-e7cc-47f6-cb61-f8c6a06bdfa4",
        "colab": {
          "base_uri": "https://localhost:8080/"
        }
      },
      "execution_count": 26,
      "outputs": [
        {
          "output_type": "stream",
          "name": "stdout",
          "text": [
            "Time taken is 7.423405810000077\n"
          ]
        }
      ]
    }
  ]
}