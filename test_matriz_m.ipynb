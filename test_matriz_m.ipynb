{
  "nbformat": 4,
  "nbformat_minor": 0,
  "metadata": {
    "colab": {
      "name": "test_matriz_m.ipynb",
      "provenance": [],
      "authorship_tag": "ABX9TyOhixjctoWKeAz+bfncMn7Y",
      "include_colab_link": true
    },
    "kernelspec": {
      "name": "python3",
      "display_name": "Python 3"
    },
    "language_info": {
      "name": "python"
    }
  },
  "cells": [
    {
      "cell_type": "markdown",
      "metadata": {
        "id": "view-in-github",
        "colab_type": "text"
      },
      "source": [
        "<a href=\"https://colab.research.google.com/github/financieras/test/blob/main/test_matriz_m.ipynb\" target=\"_parent\"><img src=\"https://colab.research.google.com/assets/colab-badge.svg\" alt=\"Open In Colab\"/></a>"
      ]
    },
    {
      "cell_type": "code",
      "execution_count": 6,
      "metadata": {
        "colab": {
          "base_uri": "https://localhost:8080/"
        },
        "id": "HPa0yQL-wMFl",
        "outputId": "9c16a080-8816-4f86-fbdb-b9b9ed7105d8"
      },
      "outputs": [
        {
          "output_type": "stream",
          "name": "stdout",
          "text": [
            "[1, 2, 3, 4]\n",
            "El número de permutaciones posibles de 4 elementos es: 24\n"
          ]
        }
      ],
      "source": [
        "from math import factorial\n",
        "\n",
        "lista = [1,2,3,4]   # lista con los elementos a permutar\n",
        "print(lista)\n",
        "\n",
        "n = len(lista)   # n es la longitud de la lista\n",
        "\n",
        "print(f\"El número de permutaciones posibles de {n} elementos es: {factorial(n)}\")"
      ]
    },
    {
      "cell_type": "code",
      "source": [
        "lista = [1,2,3,4]\n",
        "p = []   # p es la matriz con las 24 permutaciones\n",
        "for i in lista:\n",
        "    for j in lista:\n",
        "        for k in lista:\n",
        "            for l in lista:\n",
        "                if i != j and i != k and i != l and j != k and j != l and k != l:\n",
        "                    p.append([i,j,k,l])\n",
        "p"
      ],
      "metadata": {
        "colab": {
          "base_uri": "https://localhost:8080/"
        },
        "id": "Do_e3CvRwn_B",
        "outputId": "ad5d4833-9b16-4afd-fa7c-ecfc74a020fb"
      },
      "execution_count": 4,
      "outputs": [
        {
          "output_type": "execute_result",
          "data": {
            "text/plain": [
              "[[1, 2, 3, 4],\n",
              " [1, 2, 4, 3],\n",
              " [1, 3, 2, 4],\n",
              " [1, 3, 4, 2],\n",
              " [1, 4, 2, 3],\n",
              " [1, 4, 3, 2],\n",
              " [2, 1, 3, 4],\n",
              " [2, 1, 4, 3],\n",
              " [2, 3, 1, 4],\n",
              " [2, 3, 4, 1],\n",
              " [2, 4, 1, 3],\n",
              " [2, 4, 3, 1],\n",
              " [3, 1, 2, 4],\n",
              " [3, 1, 4, 2],\n",
              " [3, 2, 1, 4],\n",
              " [3, 2, 4, 1],\n",
              " [3, 4, 1, 2],\n",
              " [3, 4, 2, 1],\n",
              " [4, 1, 2, 3],\n",
              " [4, 1, 3, 2],\n",
              " [4, 2, 1, 3],\n",
              " [4, 2, 3, 1],\n",
              " [4, 3, 1, 2],\n",
              " [4, 3, 2, 1]]"
            ]
          },
          "metadata": {},
          "execution_count": 4
        }
      ]
    },
    {
      "cell_type": "code",
      "source": [
        "len(p)"
      ],
      "metadata": {
        "colab": {
          "base_uri": "https://localhost:8080/"
        },
        "id": "9WSyIJy_w9AF",
        "outputId": "95772877-f77c-46c0-c815-81eb3831a321"
      },
      "execution_count": null,
      "outputs": [
        {
          "output_type": "execute_result",
          "data": {
            "text/plain": [
              "24"
            ]
          },
          "metadata": {},
          "execution_count": 3
        }
      ]
    },
    {
      "cell_type": "code",
      "source": [
        "from random import seed, randint, sample\n",
        "seed()\n",
        "\n",
        "def comparalo(l, m):   # compara la lista l con las listas de m\n",
        "    distinto = True\n",
        "    for i in range(len(m)):\n",
        "        for j in range(4):\n",
        "            if l[j]==m[i][j]: distinto = False\n",
        "    return distinto\n",
        "\n",
        "def busca():\n",
        "    m = []\n",
        "    for fila in range(4):   # las cuatro filas de la matriz m\n",
        "        cp = p[:]   # cp es una copia de p\n",
        "        cp = sample(cp, 24)  # barajamos cp\n",
        "        if fila == 0:   # primera fila de la matriz m\n",
        "            m.append(cp[0])   # la primera candidata se añade a m seguro\n",
        "        else:\n",
        "            for c in cp:   # lista candidata tomada de cp\n",
        "                if comparalo(c, m):\n",
        "                    m.append(c)\n",
        "                    break\n",
        "    return m\n",
        "                \n",
        "\n",
        "if __name__==\"__main__\":\n",
        "    m = busca()\n",
        "    print(m, \"\\n\")\n",
        "    for i in range(4):\n",
        "        print(*m[i])\n",
        "    "
      ],
      "metadata": {
        "id": "S4TZcjHq6FH6",
        "outputId": "a0716749-db27-429b-e702-2d4925e192d3",
        "colab": {
          "base_uri": "https://localhost:8080/"
        }
      },
      "execution_count": 97,
      "outputs": [
        {
          "output_type": "stream",
          "name": "stdout",
          "text": [
            "[[3, 4, 1, 2], [4, 1, 2, 3], [2, 3, 4, 1], [1, 2, 3, 4]] \n",
            "\n",
            "3 4 1 2\n",
            "4 1 2 3\n",
            "2 3 4 1\n",
            "1 2 3 4\n"
          ]
        }
      ]
    }
  ]
}